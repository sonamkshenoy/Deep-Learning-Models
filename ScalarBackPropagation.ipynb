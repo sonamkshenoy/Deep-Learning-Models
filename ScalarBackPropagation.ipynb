{
  "nbformat": 4,
  "nbformat_minor": 0,
  "metadata": {
    "colab": {
      "name": "ScalarBackPropagation.ipynb",
      "provenance": [],
      "collapsed_sections": [
        "XzSzUhYYutos"
      ],
      "authorship_tag": "ABX9TyO8Elv2091z2qc03mZeqAE2"
    },
    "kernelspec": {
      "name": "python3",
      "display_name": "Python 3"
    },
    "widgets": {
      "application/vnd.jupyter.widget-state+json": {
        "1f13f28c129e4f1db84782b80f25a961": {
          "model_module": "@jupyter-widgets/controls",
          "model_name": "HBoxModel",
          "state": {
            "_view_name": "HBoxView",
            "_dom_classes": [],
            "_model_name": "HBoxModel",
            "_view_module": "@jupyter-widgets/controls",
            "_model_module_version": "1.5.0",
            "_view_count": null,
            "_view_module_version": "1.5.0",
            "box_style": "",
            "layout": "IPY_MODEL_eaec4eb085a5433ca32511517f00342b",
            "_model_module": "@jupyter-widgets/controls",
            "children": [
              "IPY_MODEL_3fbb8b4286a64c888d05c509a213e195",
              "IPY_MODEL_95edbc5b998c47f89fb2cf5ee137cf65"
            ]
          }
        },
        "eaec4eb085a5433ca32511517f00342b": {
          "model_module": "@jupyter-widgets/base",
          "model_name": "LayoutModel",
          "state": {
            "_view_name": "LayoutView",
            "grid_template_rows": null,
            "right": null,
            "justify_content": null,
            "_view_module": "@jupyter-widgets/base",
            "overflow": null,
            "_model_module_version": "1.2.0",
            "_view_count": null,
            "flex_flow": null,
            "width": null,
            "min_width": null,
            "border": null,
            "align_items": null,
            "bottom": null,
            "_model_module": "@jupyter-widgets/base",
            "top": null,
            "grid_column": null,
            "overflow_y": null,
            "overflow_x": null,
            "grid_auto_flow": null,
            "grid_area": null,
            "grid_template_columns": null,
            "flex": null,
            "_model_name": "LayoutModel",
            "justify_items": null,
            "grid_row": null,
            "max_height": null,
            "align_content": null,
            "visibility": null,
            "align_self": null,
            "height": null,
            "min_height": null,
            "padding": null,
            "grid_auto_rows": null,
            "grid_gap": null,
            "max_width": null,
            "order": null,
            "_view_module_version": "1.2.0",
            "grid_template_areas": null,
            "object_position": null,
            "object_fit": null,
            "grid_auto_columns": null,
            "margin": null,
            "display": null,
            "left": null
          }
        },
        "3fbb8b4286a64c888d05c509a213e195": {
          "model_module": "@jupyter-widgets/controls",
          "model_name": "IntProgressModel",
          "state": {
            "_view_name": "ProgressView",
            "style": "IPY_MODEL_82292d239560458a8d0b543ffc00a9ea",
            "_dom_classes": [],
            "description": "100%",
            "_model_name": "IntProgressModel",
            "bar_style": "success",
            "max": 1000,
            "_view_module": "@jupyter-widgets/controls",
            "_model_module_version": "1.5.0",
            "value": 1000,
            "_view_count": null,
            "_view_module_version": "1.5.0",
            "orientation": "horizontal",
            "min": 0,
            "description_tooltip": null,
            "_model_module": "@jupyter-widgets/controls",
            "layout": "IPY_MODEL_31449bc8489440a6b7bebc08bdb76ff9"
          }
        },
        "95edbc5b998c47f89fb2cf5ee137cf65": {
          "model_module": "@jupyter-widgets/controls",
          "model_name": "HTMLModel",
          "state": {
            "_view_name": "HTMLView",
            "style": "IPY_MODEL_c65823e87fa04dc1ad359c47be79c8f3",
            "_dom_classes": [],
            "description": "",
            "_model_name": "HTMLModel",
            "placeholder": "​",
            "_view_module": "@jupyter-widgets/controls",
            "_model_module_version": "1.5.0",
            "value": " 1000/1000 [30:01&lt;00:00,  1.80s/epoch]",
            "_view_count": null,
            "_view_module_version": "1.5.0",
            "description_tooltip": null,
            "_model_module": "@jupyter-widgets/controls",
            "layout": "IPY_MODEL_d03ccff0b66a44e392aa8640f849ec8f"
          }
        },
        "82292d239560458a8d0b543ffc00a9ea": {
          "model_module": "@jupyter-widgets/controls",
          "model_name": "ProgressStyleModel",
          "state": {
            "_view_name": "StyleView",
            "_model_name": "ProgressStyleModel",
            "description_width": "initial",
            "_view_module": "@jupyter-widgets/base",
            "_model_module_version": "1.5.0",
            "_view_count": null,
            "_view_module_version": "1.2.0",
            "bar_color": null,
            "_model_module": "@jupyter-widgets/controls"
          }
        },
        "31449bc8489440a6b7bebc08bdb76ff9": {
          "model_module": "@jupyter-widgets/base",
          "model_name": "LayoutModel",
          "state": {
            "_view_name": "LayoutView",
            "grid_template_rows": null,
            "right": null,
            "justify_content": null,
            "_view_module": "@jupyter-widgets/base",
            "overflow": null,
            "_model_module_version": "1.2.0",
            "_view_count": null,
            "flex_flow": null,
            "width": null,
            "min_width": null,
            "border": null,
            "align_items": null,
            "bottom": null,
            "_model_module": "@jupyter-widgets/base",
            "top": null,
            "grid_column": null,
            "overflow_y": null,
            "overflow_x": null,
            "grid_auto_flow": null,
            "grid_area": null,
            "grid_template_columns": null,
            "flex": null,
            "_model_name": "LayoutModel",
            "justify_items": null,
            "grid_row": null,
            "max_height": null,
            "align_content": null,
            "visibility": null,
            "align_self": null,
            "height": null,
            "min_height": null,
            "padding": null,
            "grid_auto_rows": null,
            "grid_gap": null,
            "max_width": null,
            "order": null,
            "_view_module_version": "1.2.0",
            "grid_template_areas": null,
            "object_position": null,
            "object_fit": null,
            "grid_auto_columns": null,
            "margin": null,
            "display": null,
            "left": null
          }
        },
        "c65823e87fa04dc1ad359c47be79c8f3": {
          "model_module": "@jupyter-widgets/controls",
          "model_name": "DescriptionStyleModel",
          "state": {
            "_view_name": "StyleView",
            "_model_name": "DescriptionStyleModel",
            "description_width": "",
            "_view_module": "@jupyter-widgets/base",
            "_model_module_version": "1.5.0",
            "_view_count": null,
            "_view_module_version": "1.2.0",
            "_model_module": "@jupyter-widgets/controls"
          }
        },
        "d03ccff0b66a44e392aa8640f849ec8f": {
          "model_module": "@jupyter-widgets/base",
          "model_name": "LayoutModel",
          "state": {
            "_view_name": "LayoutView",
            "grid_template_rows": null,
            "right": null,
            "justify_content": null,
            "_view_module": "@jupyter-widgets/base",
            "overflow": null,
            "_model_module_version": "1.2.0",
            "_view_count": null,
            "flex_flow": null,
            "width": null,
            "min_width": null,
            "border": null,
            "align_items": null,
            "bottom": null,
            "_model_module": "@jupyter-widgets/base",
            "top": null,
            "grid_column": null,
            "overflow_y": null,
            "overflow_x": null,
            "grid_auto_flow": null,
            "grid_area": null,
            "grid_template_columns": null,
            "flex": null,
            "_model_name": "LayoutModel",
            "justify_items": null,
            "grid_row": null,
            "max_height": null,
            "align_content": null,
            "visibility": null,
            "align_self": null,
            "height": null,
            "min_height": null,
            "padding": null,
            "grid_auto_rows": null,
            "grid_gap": null,
            "max_width": null,
            "order": null,
            "_view_module_version": "1.2.0",
            "grid_template_areas": null,
            "object_position": null,
            "object_fit": null,
            "grid_auto_columns": null,
            "margin": null,
            "display": null,
            "left": null
          }
        },
        "13345b6db0714de198754af6e46faa9f": {
          "model_module": "@jupyter-widgets/controls",
          "model_name": "HBoxModel",
          "state": {
            "_view_name": "HBoxView",
            "_dom_classes": [],
            "_model_name": "HBoxModel",
            "_view_module": "@jupyter-widgets/controls",
            "_model_module_version": "1.5.0",
            "_view_count": null,
            "_view_module_version": "1.5.0",
            "box_style": "",
            "layout": "IPY_MODEL_7770b47f763d440db85c16ee9e8e8cea",
            "_model_module": "@jupyter-widgets/controls",
            "children": [
              "IPY_MODEL_7d553a880d804e1fb3be71b1b05a73fe",
              "IPY_MODEL_939f7730da074b438c27c066d4f85bbc"
            ]
          }
        },
        "7770b47f763d440db85c16ee9e8e8cea": {
          "model_module": "@jupyter-widgets/base",
          "model_name": "LayoutModel",
          "state": {
            "_view_name": "LayoutView",
            "grid_template_rows": null,
            "right": null,
            "justify_content": null,
            "_view_module": "@jupyter-widgets/base",
            "overflow": null,
            "_model_module_version": "1.2.0",
            "_view_count": null,
            "flex_flow": null,
            "width": null,
            "min_width": null,
            "border": null,
            "align_items": null,
            "bottom": null,
            "_model_module": "@jupyter-widgets/base",
            "top": null,
            "grid_column": null,
            "overflow_y": null,
            "overflow_x": null,
            "grid_auto_flow": null,
            "grid_area": null,
            "grid_template_columns": null,
            "flex": null,
            "_model_name": "LayoutModel",
            "justify_items": null,
            "grid_row": null,
            "max_height": null,
            "align_content": null,
            "visibility": null,
            "align_self": null,
            "height": null,
            "min_height": null,
            "padding": null,
            "grid_auto_rows": null,
            "grid_gap": null,
            "max_width": null,
            "order": null,
            "_view_module_version": "1.2.0",
            "grid_template_areas": null,
            "object_position": null,
            "object_fit": null,
            "grid_auto_columns": null,
            "margin": null,
            "display": null,
            "left": null
          }
        },
        "7d553a880d804e1fb3be71b1b05a73fe": {
          "model_module": "@jupyter-widgets/controls",
          "model_name": "IntProgressModel",
          "state": {
            "_view_name": "ProgressView",
            "style": "IPY_MODEL_e786581f9c53432ebbfb04f64567cd44",
            "_dom_classes": [],
            "description": "100%",
            "_model_name": "IntProgressModel",
            "bar_style": "success",
            "max": 1000,
            "_view_module": "@jupyter-widgets/controls",
            "_model_module_version": "1.5.0",
            "value": 1000,
            "_view_count": null,
            "_view_module_version": "1.5.0",
            "orientation": "horizontal",
            "min": 0,
            "description_tooltip": null,
            "_model_module": "@jupyter-widgets/controls",
            "layout": "IPY_MODEL_c1be95776cc944f0a310abdc500ddf2b"
          }
        },
        "939f7730da074b438c27c066d4f85bbc": {
          "model_module": "@jupyter-widgets/controls",
          "model_name": "HTMLModel",
          "state": {
            "_view_name": "HTMLView",
            "style": "IPY_MODEL_1b6f98ab76e64c1b9eeaf521569a3279",
            "_dom_classes": [],
            "description": "",
            "_model_name": "HTMLModel",
            "placeholder": "​",
            "_view_module": "@jupyter-widgets/controls",
            "_model_module_version": "1.5.0",
            "value": " 1000/1000 [00:26&lt;00:00, 37.42epoch/s]",
            "_view_count": null,
            "_view_module_version": "1.5.0",
            "description_tooltip": null,
            "_model_module": "@jupyter-widgets/controls",
            "layout": "IPY_MODEL_3dceacc46ae1490797a403f775fcb31c"
          }
        },
        "e786581f9c53432ebbfb04f64567cd44": {
          "model_module": "@jupyter-widgets/controls",
          "model_name": "ProgressStyleModel",
          "state": {
            "_view_name": "StyleView",
            "_model_name": "ProgressStyleModel",
            "description_width": "initial",
            "_view_module": "@jupyter-widgets/base",
            "_model_module_version": "1.5.0",
            "_view_count": null,
            "_view_module_version": "1.2.0",
            "bar_color": null,
            "_model_module": "@jupyter-widgets/controls"
          }
        },
        "c1be95776cc944f0a310abdc500ddf2b": {
          "model_module": "@jupyter-widgets/base",
          "model_name": "LayoutModel",
          "state": {
            "_view_name": "LayoutView",
            "grid_template_rows": null,
            "right": null,
            "justify_content": null,
            "_view_module": "@jupyter-widgets/base",
            "overflow": null,
            "_model_module_version": "1.2.0",
            "_view_count": null,
            "flex_flow": null,
            "width": null,
            "min_width": null,
            "border": null,
            "align_items": null,
            "bottom": null,
            "_model_module": "@jupyter-widgets/base",
            "top": null,
            "grid_column": null,
            "overflow_y": null,
            "overflow_x": null,
            "grid_auto_flow": null,
            "grid_area": null,
            "grid_template_columns": null,
            "flex": null,
            "_model_name": "LayoutModel",
            "justify_items": null,
            "grid_row": null,
            "max_height": null,
            "align_content": null,
            "visibility": null,
            "align_self": null,
            "height": null,
            "min_height": null,
            "padding": null,
            "grid_auto_rows": null,
            "grid_gap": null,
            "max_width": null,
            "order": null,
            "_view_module_version": "1.2.0",
            "grid_template_areas": null,
            "object_position": null,
            "object_fit": null,
            "grid_auto_columns": null,
            "margin": null,
            "display": null,
            "left": null
          }
        },
        "1b6f98ab76e64c1b9eeaf521569a3279": {
          "model_module": "@jupyter-widgets/controls",
          "model_name": "DescriptionStyleModel",
          "state": {
            "_view_name": "StyleView",
            "_model_name": "DescriptionStyleModel",
            "description_width": "",
            "_view_module": "@jupyter-widgets/base",
            "_model_module_version": "1.5.0",
            "_view_count": null,
            "_view_module_version": "1.2.0",
            "_model_module": "@jupyter-widgets/controls"
          }
        },
        "3dceacc46ae1490797a403f775fcb31c": {
          "model_module": "@jupyter-widgets/base",
          "model_name": "LayoutModel",
          "state": {
            "_view_name": "LayoutView",
            "grid_template_rows": null,
            "right": null,
            "justify_content": null,
            "_view_module": "@jupyter-widgets/base",
            "overflow": null,
            "_model_module_version": "1.2.0",
            "_view_count": null,
            "flex_flow": null,
            "width": null,
            "min_width": null,
            "border": null,
            "align_items": null,
            "bottom": null,
            "_model_module": "@jupyter-widgets/base",
            "top": null,
            "grid_column": null,
            "overflow_y": null,
            "overflow_x": null,
            "grid_auto_flow": null,
            "grid_area": null,
            "grid_template_columns": null,
            "flex": null,
            "_model_name": "LayoutModel",
            "justify_items": null,
            "grid_row": null,
            "max_height": null,
            "align_content": null,
            "visibility": null,
            "align_self": null,
            "height": null,
            "min_height": null,
            "padding": null,
            "grid_auto_rows": null,
            "grid_gap": null,
            "max_width": null,
            "order": null,
            "_view_module_version": "1.2.0",
            "grid_template_areas": null,
            "object_position": null,
            "object_fit": null,
            "grid_auto_columns": null,
            "margin": null,
            "display": null,
            "left": null
          }
        }
      }
    }
  },
  "cells": [
    {
      "cell_type": "markdown",
      "metadata": {
        "id": "37JQnFs6g4Jq",
        "colab_type": "text"
      },
      "source": [
        "### Outline:\n",
        "1. Use generated data and classes from **FFNN**\n",
        "2. Code the back propagation algorithm for our first FF network - single weight and all weights\n",
        "3. Visualise working of our first FF network\n",
        "4. Code the back propagation algorithm for a larger FF network\n",
        "5. Understand the iterative kernel within the back propagation algorithm\n",
        "6. Exercises"
      ]
    },
    {
      "cell_type": "code",
      "metadata": {
        "id": "SKPKFx9MgnbF",
        "colab_type": "code",
        "colab": {
          "base_uri": "https://localhost:8080/",
          "height": 73
        },
        "outputId": "10af7d07-8a40-4c1b-800f-8be763e56bff"
      },
      "source": [
        "import numpy as np\n",
        "import pandas as pd\n",
        "import matplotlib.pyplot as plt\n",
        "import matplotlib.colors\n",
        "from sklearn.model_selection import train_test_split\n",
        "from sklearn.metrics import accuracy_score, mean_squared_error, log_loss\n",
        "from tqdm import tqdm_notebook\n",
        "import seaborn as sns\n",
        "import imageio\n",
        "from IPython.display import HTML\n",
        "\n",
        "from sklearn.preprocessing import  OneHotEncoder\n",
        "from sklearn.datasets import make_blobs"
      ],
      "execution_count": 2,
      "outputs": [
        {
          "output_type": "stream",
          "text": [
            "/usr/local/lib/python3.6/dist-packages/statsmodels/tools/_testing.py:19: FutureWarning: pandas.util.testing is deprecated. Use the functions in the public API at pandas.testing instead.\n",
            "  import pandas.util.testing as tm\n"
          ],
          "name": "stderr"
        }
      ]
    },
    {
      "cell_type": "code",
      "metadata": {
        "id": "PmsYfXD6UD9L",
        "colab_type": "code",
        "colab": {}
      },
      "source": [
        "my_cmap = matplotlib.colors.LinearSegmentedColormap.from_list(\"\",[\"red\",\"yellow\",\"green\"])\n",
        "# 0 maps to red and 1 maps to green"
      ],
      "execution_count": 0,
      "outputs": []
    },
    {
      "cell_type": "code",
      "metadata": {
        "id": "3ohaJktVjAIX",
        "colab_type": "code",
        "colab": {}
      },
      "source": [
        "np.random.seed(0)"
      ],
      "execution_count": 0,
      "outputs": []
    },
    {
      "cell_type": "code",
      "metadata": {
        "id": "JcXTHdIHjCHZ",
        "colab_type": "code",
        "colab": {}
      },
      "source": [
        ""
      ],
      "execution_count": 0,
      "outputs": []
    },
    {
      "cell_type": "markdown",
      "metadata": {
        "id": "OGNILxsZUXrc",
        "colab_type": "text"
      },
      "source": [
        "# Generate Data"
      ]
    },
    {
      "cell_type": "code",
      "metadata": {
        "id": "qRwQvWCoUZym",
        "colab_type": "code",
        "outputId": "536224c5-498a-4d80-cc30-7c4fad4b9903",
        "colab": {
          "base_uri": "https://localhost:8080/",
          "height": 35
        }
      },
      "source": [
        "data, labels = make_blobs(n_samples = 1000, centers = 4, n_features = 2, random_state=0)\n",
        "\n",
        "print(data.shape, labels.shape)"
      ],
      "execution_count": 5,
      "outputs": [
        {
          "output_type": "stream",
          "text": [
            "(1000, 2) (1000,)\n"
          ],
          "name": "stdout"
        }
      ]
    },
    {
      "cell_type": "code",
      "metadata": {
        "id": "jEmZUi-TVSpo",
        "colab_type": "code",
        "outputId": "a08f4b28-096a-4881-bfb9-fa809abd79ee",
        "colab": {
          "base_uri": "https://localhost:8080/",
          "height": 265
        }
      },
      "source": [
        "plt.scatter(data[:,0], data[:,1], c=labels, cmap = my_cmap)\n",
        "plt.show()"
      ],
      "execution_count": 6,
      "outputs": [
        {
          "output_type": "display_data",
          "data": {
            "image/png": "[encoded data removed]",
            "text/plain": [
              "<Figure size 432x288 with 1 Axes>"
            ]
          },
          "metadata": {
            "tags": [],
            "needs_background": "light"
          }
        }
      ]
    },
    {
      "cell_type": "markdown",
      "metadata": {
        "id": "ZCWbUKNIXak0",
        "colab_type": "text"
      },
      "source": [
        "### We wanted to do binary classification first, but now we have 4 classes (centers)"
      ]
    },
    {
      "cell_type": "markdown",
      "metadata": {
        "id": "jOIyq1pQjenE",
        "colab_type": "text"
      },
      "source": [
        "Methods:\n",
        "1. While splitting only split into 2 (in code cell 5)\n",
        "2. Split the 4 labels into 2 using mod \n",
        "3. Can be other ways too"
      ]
    },
    {
      "cell_type": "code",
      "metadata": {
        "id": "fE71ZW86Xn3q",
        "colab_type": "code",
        "colab": {}
      },
      "source": [
        "labels_orig = labels \n",
        "labels = np.mod(labels_orig,2)"
      ],
      "execution_count": 0,
      "outputs": []
    },
    {
      "cell_type": "code",
      "metadata": {
        "id": "KHSmKFMmX-m4",
        "colab_type": "code",
        "outputId": "b4bd3db7-2813-4a68-baf0-744e297610ff",
        "colab": {
          "base_uri": "https://localhost:8080/",
          "height": 265
        }
      },
      "source": [
        "plt.scatter(data[:,0], data[:,1], c=labels, cmap = my_cmap)\n",
        "plt.show()"
      ],
      "execution_count": 8,
      "outputs": [
        {
          "output_type": "display_data",
          "data": {
            "image/png": "[encoded data removed]",
            "text/plain": [
              "<Figure size 432x288 with 1 Axes>"
            ]
          },
          "metadata": {
            "tags": [],
            "needs_background": "light"
          }
        }
      ]
    },
    {
      "cell_type": "code",
      "metadata": {
        "id": "E6RLKkrnYGi3",
        "colab_type": "code",
        "outputId": "791c09b2-8bc6-43f9-ecc6-7d3bec76d6eb",
        "colab": {
          "base_uri": "https://localhost:8080/",
          "height": 35
        }
      },
      "source": [
        "X_train, X_val, Y_train, Y_val = train_test_split(data, labels, stratify = labels, random_state = 0)\n",
        "print(X_train.shape, X_val.shape)"
      ],
      "execution_count": 9,
      "outputs": [
        {
          "output_type": "stream",
          "text": [
            "(750, 2) (250, 2)\n"
          ],
          "name": "stdout"
        }
      ]
    },
    {
      "cell_type": "code",
      "metadata": {
        "id": "1mzZTeTVYmVn",
        "colab_type": "code",
        "colab": {}
      },
      "source": [
        ""
      ],
      "execution_count": 0,
      "outputs": []
    },
    {
      "cell_type": "markdown",
      "metadata": {
        "id": "rR3glgMgB70p",
        "colab_type": "text"
      },
      "source": [
        "# First Feedforward Neural Network"
      ]
    },
    {
      "cell_type": "markdown",
      "metadata": {
        "id": "XzSzUhYYutos",
        "colab_type": "text"
      },
      "source": [
        "## Backpropagation with single weight update"
      ]
    },
    {
      "cell_type": "markdown",
      "metadata": {
        "id": "x81jn01RCM9F",
        "colab_type": "text"
      },
      "source": [
        "A simple neural network with 3 neurons. Two inputs, two neurons in one hidden layer, and one neuron in output layer."
      ]
    },
    {
      "cell_type": "markdown",
      "metadata": {
        "id": "Hpf-vky7kpYE",
        "colab_type": "text"
      },
      "source": [
        "This time complete the class (was previously left empty for grad function).\n",
        "\n",
        "Aim is to do scalar back propagation i.e. without using vectors, updating each parameter (w,b) separately.\n",
        "\n",
        "I.e. find derivative of loss w.r.t. w1 and update only w1.\n",
        "\n",
        "Again. only w1 changed this time. None of w2 to w6 or b1 to b3 will be touched. Only visualising how w1 is changed."
      ]
    },
    {
      "cell_type": "code",
      "metadata": {
        "id": "NybefiZMCAPn",
        "colab_type": "code",
        "colab": {}
      },
      "source": [
        "class FFNetworkW1:\n",
        "\n",
        "  def __init__(self):\n",
        "    self.w1 = np.random.randn()\n",
        "    self.w2 = np.random.randn()\n",
        "    self.w3 = np.random.randn()\n",
        "    self.w4 = np.random.randn()\n",
        "    self.w5 = np.random.randn()\n",
        "    self.w6 = np.random.randn()\n",
        "    self.b1 = 0\n",
        "    self.b2 = 0\n",
        "    self.b3 = 0\n",
        "\n",
        "  def sigmoid(self,x):\n",
        "    return 1.0/(1.0+np.exp(-x))\n",
        "\n",
        "  def forward_pass(self,x):\n",
        "    self.x1, self.x2 = x; \n",
        "    self.a1 = self.w1 * self.x1 + self.w2 * self.x2 + self.b1\n",
        "    self.h1 = self.sigmoid(self.a1)\n",
        "    self.a2 = self.w3 * self.x1 + self.w4 * self.x2 + self.b2\n",
        "    self.h2 = self.sigmoid(self.a2)\n",
        "    self.a3 = self.w5 * self.h1 + self.w6 * self.h2 + self.b3\n",
        "    self.h3 = self.sigmoid(self.a3)\n",
        "    return self.h3\n",
        "\n",
        "  # What values do we have?\n",
        "  # The particular input x1 and x2 (as x vector) and the ground truth y\n",
        "  # First do forward pass to compute a1, h1, a2, h2, a3, h3\n",
        "  # We also already have weights (even before forward pass) which we initialised randomly\n",
        "  def grad(self, x, y):\n",
        "    self.forward_pass(x)\n",
        "\n",
        "    # Chain rule : \n",
        "    # -(y-y') = -(y-h3) .... squared error so derivative of loss w.r.t. predicted output is this\n",
        "    # y'(1-y') = h3(1-h3) .... derivative of sigmoid function so derivative of activation w.r.t. pre-activation\n",
        "    # w ... derivative of pre-activation w.r.t. activation of previous layer\n",
        "    # Again y'(1-y')\n",
        "    # Finally x1 .... derivative of pre-activation w.r.t. its input (wx+b)\n",
        "    \n",
        "    self.dw1 = (self.h3-y)*self.h3*(1-self.h3)*(self.w5)*self.h1*(1-self.h1)*self.x1\n",
        "\n",
        "  def fit(self, X, Y, epochs = 1, learning_rate = 1, initialise = True, display_loss = True):\n",
        "\n",
        "    if initialise:\n",
        "      self.w1 = np.random.randn()\n",
        "      self.w2 = np.random.randn()\n",
        "      self.w3 = np.random.randn()\n",
        "      self.w4 = np.random.randn()\n",
        "      self.w5 = np.random.randn()\n",
        "      self.w6 = np.random.randn()\n",
        "      self.b1 = 0\n",
        "      self.b2 = 0\n",
        "      self.b3 = 0\n",
        "\n",
        "    if display_loss:\n",
        "      loss = {}\n",
        "      w1 = {}\n",
        "\n",
        "    for i in tqdm_notebook(range(epochs), total = epochs, unit = \"epoch\"):\n",
        "      dw1, dw2, dw3, dw4, dw5, dw6, db1, db2, db3 = [0]*9\n",
        "\n",
        "      for x,y in zip(X,Y):\n",
        "        self.grad(x,y)\n",
        "        # dw1 contains aggregate of partial derivative of loss w.r.t. w1 FOR EACH INPUT\n",
        "        dw1 += self.dw1\n",
        "\n",
        "\n",
        "      m = X.shape[1] \n",
        "\n",
        "      self.w1 -= learning_rate * dw1 / m\n",
        "\n",
        "      if(display_loss):\n",
        "        w1[i] = self.w1 # Change these two lines for prev notebook\n",
        "        Y_pred = self.predict(X)\n",
        "        loss[i] = mean_squared_error(Y, Y_pred)\n",
        "\n",
        "\n",
        "    if display_loss:\n",
        "      plt.tight_layout()\n",
        "\n",
        "      plt.subplot(2,1,1)\n",
        "      # values attribute only for dictionaries\n",
        "      plt.plot(np.array(list(w1.values())))\n",
        "      plt.xlabel(\"Epochs\")\n",
        "      plt.ylabel(\"w1\")\n",
        "\n",
        "      plt.subplot(2,1,2)\n",
        "      plt.plot(np.array(list(loss.values())))\n",
        "      plt.xlabel(\"Epochs\")\n",
        "      plt.ylabel(\"Mean Squared Error\")\n",
        "      plt.show()\n",
        "\n",
        "\n",
        "\n",
        "  def predict(self, X):\n",
        "    Y_pred = []\n",
        "    for x in X: \n",
        "      y_pred = self.forward_pass(x)\n",
        "      Y_pred.append(y_pred)\n",
        "    return np.array(Y_pred)\n",
        "\n",
        "\n"
      ],
      "execution_count": 0,
      "outputs": []
    },
    {
      "cell_type": "markdown",
      "metadata": {
        "id": "FHht4Y8Yo97o",
        "colab_type": "text"
      },
      "source": [
        "Note grad has 3 types of values:\n",
        "1. h3 kind : which we get during the forward pass\n",
        "2. y kind : which we already get readily as input to function\n",
        "3. w3 kind : which we have been estimating or learning with our algorithm. In this case w5 hasn't been changed, remains its initial value. But in typical case, we'll be updating that as well."
      ]
    },
    {
      "cell_type": "code",
      "metadata": {
        "id": "EuPSIyLWH0PO",
        "colab_type": "code",
        "outputId": "2b4c2073-51f3-4cb9-c977-9233a5e26cff",
        "colab": {
          "base_uri": "https://localhost:8080/",
          "height": 366,
          "referenced_widgets": [
            "1f13f28c129e4f1db84782b80f25a961",
            "eaec4eb085a5433ca32511517f00342b",
            "3fbb8b4286a64c888d05c509a213e195",
            "95edbc5b998c47f89fb2cf5ee137cf65",
            "82292d239560458a8d0b543ffc00a9ea",
            "31449bc8489440a6b7bebc08bdb76ff9",
            "c65823e87fa04dc1ad359c47be79c8f3",
            "d03ccff0b66a44e392aa8640f849ec8f"
          ]
        }
      },
      "source": [
        "ffnw1 = FFNetworkW1()\n",
        "ffnw1.fit(X_train, Y_train, epochs = 1000, learning_rate = 0.01, display_loss=True)"
      ],
      "execution_count": 26,
      "outputs": [
        {
          "output_type": "stream",
          "text": [
            "/usr/local/lib/python3.6/dist-packages/ipykernel_launcher.py:60: TqdmDeprecationWarning: This function will be removed in tqdm==5.0.0\n",
            "Please use `tqdm.notebook.tqdm` instead of `tqdm.tqdm_notebook`\n"
          ],
          "name": "stderr"
        },
        {
          "output_type": "display_data",
          "data": {
            "application/vnd.jupyter.widget-view+json": {
              "model_id": "1f13f28c129e4f1db84782b80f25a961",
              "version_minor": 0,
              "version_major": 2
            },
            "text/plain": [
              "HBox(children=(IntProgress(value=0, max=1000), HTML(value='')))"
            ]
          },
          "metadata": {
            "tags": []
          }
        },
        {
          "output_type": "stream",
          "text": [
            "\n"
          ],
          "name": "stdout"
        },
        {
          "output_type": "display_data",
          "data": {
            "image/png": "[encoded data removed]",
            "text/plain": [
              "<Figure size 432x288 with 2 Axes>"
            ]
          },
          "metadata": {
            "tags": [],
            "needs_background": "light"
          }
        }
      ]
    },
    {
      "cell_type": "markdown",
      "metadata": {
        "id": "eMaRGuGetloK",
        "colab_type": "text"
      },
      "source": [
        "Thus,\n",
        "Loss is continuously decreasing => we are correctly updating weights => we are moving in right direction i.e. gradient descent algorithm is working.  \n",
        "In many other scenarios we saw that loss was flickering a lot, but here it is constantly decreasing since we are updating \"only\" one weight. When we update all together, then there we be the unsteady rise and fall of loss.  \n",
        "The loss saturates at one point \"since\" the gradient of a vector flowing in the backpropagation channel is becoming 0 after some time. In other words one of the terms in dw1 calculation (nothing bu the gradient formulat) is becoming (or very close to) zero. Thus the saturation."
      ]
    },
    {
      "cell_type": "code",
      "metadata": {
        "id": "2uE8C5H6uz_E",
        "colab_type": "code",
        "colab": {}
      },
      "source": [
        ""
      ],
      "execution_count": 0,
      "outputs": []
    },
    {
      "cell_type": "markdown",
      "metadata": {
        "colab_type": "text",
        "id": "RqY1-NKUu0q1"
      },
      "source": [
        "## Backpropagation with multiple weights update"
      ]
    },
    {
      "cell_type": "markdown",
      "metadata": {
        "colab_type": "text",
        "id": "N6JM4GLFu0rD"
      },
      "source": [
        "A simple neural network with 3 neurons. Two inputs, two neurons in one hidden layer, and one neuron in output layer."
      ]
    },
    {
      "cell_type": "markdown",
      "metadata": {
        "colab_type": "text",
        "id": "EA57iVd9u0rO"
      },
      "source": [
        "Aim is to do scalar back propagation i.e. without using vectors, updating each parameter (w,b) separately.\n",
        "\n",
        "This time update all weights"
      ]
    },
    {
      "cell_type": "code",
      "metadata": {
        "colab_type": "code",
        "id": "7ZJW2zLlu0rV",
        "colab": {}
      },
      "source": [
        "class FFNetworkWs:\n",
        "\n",
        "  def __init__(self):\n",
        "    self.w1 = np.random.randn()\n",
        "    self.w2 = np.random.randn()\n",
        "    self.w3 = np.random.randn()\n",
        "    self.w4 = np.random.randn()\n",
        "    self.w5 = np.random.randn()\n",
        "    self.w6 = np.random.randn()\n",
        "    self.b1 = 0\n",
        "    self.b2 = 0\n",
        "    self.b3 = 0\n",
        "\n",
        "  def sigmoid(self,x):\n",
        "    return 1.0/(1.0+np.exp(-x))\n",
        "\n",
        "  def forward_pass(self,x):\n",
        "    self.x1, self.x2 = x; \n",
        "    self.a1 = self.w1 * self.x1 + self.w2 * self.x2 + self.b1\n",
        "    self.h1 = self.sigmoid(self.a1)\n",
        "    self.a2 = self.w3 * self.x1 + self.w4 * self.x2 + self.b2\n",
        "    self.h2 = self.sigmoid(self.a2)\n",
        "    self.a3 = self.w5 * self.h1 + self.w6 * self.h2 + self.b3\n",
        "    self.h3 = self.sigmoid(self.a3)\n",
        "    return self.h3\n",
        "\n",
        "  # Compute grad w.r.t. all (9) parameters\n",
        "  def grad(self, x, y):\n",
        "    self.forward_pass(x)\n",
        "\n",
        "    # Update from back (since you are flowing backwards)\n",
        "\n",
        "    # First neuron\n",
        "    self.dw5 = (self.h3-y)*self.h3*(1-self.h3)*self.h1 # x(input) is h1\n",
        "    self.dw6 = (self.h3-y)*self.h3*(1-self.h3)*self.h2\n",
        "    self.db3 = (self.h3-y)*self.h3*(1-self.h3)\n",
        "\n",
        "    # Second neuron\n",
        "    self.dw1 = (self.h3-y)*self.h3*(1-self.h3)*(self.w5)*self.h1*(1-self.h1)*self.x1\n",
        "    self.dw2 = (self.h3-y)*self.h3*(1-self.h3)*(self.w5)*self.h1*(1-self.h1)*self.x2\n",
        "    self.db1 = (self.h3-y)*self.h3*(1-self.h3)*(self.w5)*self.h1*(1-self.h1)\n",
        "\n",
        "    # Third neuron\n",
        "    self.dw3 = (self.h3-y)*self.h3*(1-self.h3)*(self.w6)*self.h2*(1-self.h2)*self.x1\n",
        "    self.dw4 = (self.h3-y)*self.h3*(1-self.h3)*(self.w6)*self.h2*(1-self.h2)*self.x2\n",
        "    self.db2 = (self.h3-y)*self.h3*(1-self.h3)*(self.w5)*self.h2*(1-self.h2)\n",
        "\n",
        "\n",
        "  def fit(self, X, Y, epochs = 1, learning_rate = 1, initialise = True, display_loss = True):\n",
        "\n",
        "    if initialise:\n",
        "      self.w1 = np.random.randn()\n",
        "      self.w2 = np.random.randn()\n",
        "      self.w3 = np.random.randn()\n",
        "      self.w4 = np.random.randn()\n",
        "      self.w5 = np.random.randn()\n",
        "      self.w6 = np.random.randn()\n",
        "      self.b1 = 0\n",
        "      self.b2 = 0\n",
        "      self.b3 = 0\n",
        "\n",
        "    if display_loss:\n",
        "      loss = {}\n",
        "\n",
        "    for i in tqdm_notebook(range(epochs), total = epochs, unit = \"epoch\"):\n",
        "      dw1, dw2, dw3, dw4, dw5, dw6, db1, db2, db3 = [0]*9\n",
        "\n",
        "      for x,y in zip(X,Y):\n",
        "        self.grad(x,y)\n",
        "        # accumulating values for each input, i.e. appending to the list for each value\n",
        "        dw1 += self.dw1\n",
        "        dw2 += self.dw2\n",
        "        dw3 += self.dw3\n",
        "        dw4 += self.dw4\n",
        "        dw5 += self.dw5\n",
        "        dw6 += self.dw6\n",
        "        db1 += self.db1\n",
        "        db2 += self.db2\n",
        "        db3 += self.db3\n",
        "\n",
        "\n",
        "      m = X.shape[1] \n",
        "\n",
        "      self.w1 -= learning_rate * dw1 / m\n",
        "      self.w2 -= learning_rate * dw2 / m\n",
        "      self.w3 -= learning_rate * dw3 / m\n",
        "      self.w4 -= learning_rate * dw4 / m\n",
        "      self.w5 -= learning_rate * dw5 / m\n",
        "      self.w6 -= learning_rate * dw6 / m\n",
        "      self.b1 -= learning_rate * db1 / m\n",
        "      self.b2 -= learning_rate * db2 / m\n",
        "      self.b3 -= learning_rate * db3 / m\n",
        "\n",
        "      if(display_loss):\n",
        "        Y_pred = self.predict(X)\n",
        "        loss[i] = mean_squared_error(Y, Y_pred)\n",
        "\n",
        "\n",
        "    if display_loss:\n",
        "      plt.plot(np.array(list(loss.values())))\n",
        "      plt.xlabel(\"Epochs\")\n",
        "      plt.ylabel(\"Mean Squared Error\")\n",
        "      plt.show()\n",
        "\n",
        "\n",
        "\n",
        "  def predict(self, X):\n",
        "    Y_pred = []\n",
        "    for x in X: \n",
        "      y_pred = self.forward_pass(x)\n",
        "      Y_pred.append(y_pred)\n",
        "    return np.array(Y_pred)\n",
        "\n",
        "\n"
      ],
      "execution_count": 0,
      "outputs": []
    },
    {
      "cell_type": "markdown",
      "metadata": {
        "id": "Mw4kE9_CxftD",
        "colab_type": "text"
      },
      "source": [
        "Just visualise the NN in case of scalar backpropagation to apply the chain rule easily."
      ]
    },
    {
      "cell_type": "code",
      "metadata": {
        "colab_type": "code",
        "outputId": "6f54d33a-7df5-4103-ef04-a600527a508e",
        "id": "0r71jOLAu0sC",
        "colab": {
          "base_uri": "https://localhost:8080/",
          "height": 366,
          "referenced_widgets": [
            "13345b6db0714de198754af6e46faa9f",
            "7770b47f763d440db85c16ee9e8e8cea",
            "7d553a880d804e1fb3be71b1b05a73fe",
            "939f7730da074b438c27c066d4f85bbc",
            "e786581f9c53432ebbfb04f64567cd44",
            "c1be95776cc944f0a310abdc500ddf2b",
            "1b6f98ab76e64c1b9eeaf521569a3279",
            "3dceacc46ae1490797a403f775fcb31c"
          ]
        }
      },
      "source": [
        "ffnws = FFNetworkWs()\n",
        "ffnws.fit(X_train, Y_train, epochs = 1000, learning_rate = 0.01, display_loss=True)"
      ],
      "execution_count": 34,
      "outputs": [
        {
          "output_type": "stream",
          "text": [
            "/usr/local/lib/python3.6/dist-packages/ipykernel_launcher.py:65: TqdmDeprecationWarning: This function will be removed in tqdm==5.0.0\n",
            "Please use `tqdm.notebook.tqdm` instead of `tqdm.tqdm_notebook`\n"
          ],
          "name": "stderr"
        },
        {
          "output_type": "display_data",
          "data": {
            "application/vnd.jupyter.widget-view+json": {
              "model_id": "13345b6db0714de198754af6e46faa9f",
              "version_minor": 0,
              "version_major": 2
            },
            "text/plain": [
              "HBox(children=(IntProgress(value=0, max=1000), HTML(value='')))"
            ]
          },
          "metadata": {
            "tags": []
          }
        },
        {
          "output_type": "stream",
          "text": [
            "\n"
          ],
          "name": "stdout"
        },
        {
          "output_type": "display_data",
          "data": {
            "image/png": "[encoded data removed]",
            "text/plain": [
              "<Figure size 432x288 with 1 Axes>"
            ]
          },
          "metadata": {
            "tags": [],
            "needs_background": "light"
          }
        }
      ]
    },
    {
      "cell_type": "markdown",
      "metadata": {
        "colab_type": "text",
        "id": "TtzKwznsu0sf"
      },
      "source": [
        "Note that now that we are updating all the weights there is rising and falling of loss (not smoothly decreasing).  \n",
        "**But also note that the loss has significantly decreased (approx 0.02).**"
      ]
    },
    {
      "cell_type": "code",
      "metadata": {
        "colab_type": "code",
        "id": "risHXRIYu0sj",
        "colab": {
          "base_uri": "https://localhost:8080/",
          "height": 53
        },
        "outputId": "2df94009-a574-4e67-bb39-e1b8c81e1d01"
      },
      "source": [
        "Y_pred_train = ffnws.predict(X_train) # forward pass\n",
        "Y_pred_binarised_train = (Y_pred_train >= 0.5).astype('int').ravel()\n",
        "\n",
        "Y_pred_val = ffnws.predict(X_val)\n",
        "Y_pred_binarised_val = (Y_pred_val >= 0.5).astype('int').ravel()\n",
        "\n",
        "accuracy_train = accuracy_score(Y_pred_binarised_train, Y_train)\n",
        "accuracy_val = accuracy_score(Y_pred_binarised_val, Y_val)\n",
        "\n",
        "# round to two digits\n",
        "print(\"Training accuracy\", round(accuracy_train,2))\n",
        "print(\"Validation accuracy\", round(accuracy_val, 2))"
      ],
      "execution_count": 35,
      "outputs": [
        {
          "output_type": "stream",
          "text": [
            "Training accuracy 0.98\n",
            "Validation accuracy 0.94\n"
          ],
          "name": "stdout"
        }
      ]
    },
    {
      "cell_type": "code",
      "metadata": {
        "colab_type": "code",
        "id": "Hi9UviK5u0st",
        "colab": {
          "base_uri": "https://localhost:8080/",
          "height": 283
        },
        "outputId": "0a72573c-c239-4899-87df-2fc365133d18"
      },
      "source": [
        "plt.scatter(X_train[:,0], X_train[:,1], c=Y_pred_binarised_train, cmap = my_cmap, s = 15*(np.abs(Y_pred_binarised_train-Y_train)+.2))"
      ],
      "execution_count": 36,
      "outputs": [
        {
          "output_type": "execute_result",
          "data": {
            "text/plain": [
              "<matplotlib.collections.PathCollection at 0x7f93982d3ba8>"
            ]
          },
          "metadata": {
            "tags": []
          },
          "execution_count": 36
        },
        {
          "output_type": "display_data",
          "data": {
            "image/png": "[encoded data removed]",
            "text/plain": [
              "<Figure size 432x288 with 1 Axes>"
            ]
          },
          "metadata": {
            "tags": [],
            "needs_background": "light"
          }
        }
      ]
    },
    {
      "cell_type": "markdown",
      "metadata": {
        "id": "3ZcstMWa1_cc",
        "colab_type": "text"
      },
      "source": [
        "### Note most points are classified correctly"
      ]
    },
    {
      "cell_type": "code",
      "metadata": {
        "colab_type": "code",
        "id": "PfZ2U2XPu0s4",
        "colab": {}
      },
      "source": [
        ""
      ],
      "execution_count": 0,
      "outputs": []
    }
  ]
}