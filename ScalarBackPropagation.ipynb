{
  "nbformat": 4,
  "nbformat_minor": 0,
  "metadata": {
    "colab": {
      "name": "ScalarBackPropagation.ipynb",
      "provenance": [],
      "collapsed_sections": [
        "OGNILxsZUXrc",
        "rR3glgMgB70p",
        "XzSzUhYYutos"
      ],
      "authorship_tag": "ABX9TyPvMeKSfmlzHol3T9ytCx1r"
    },
    "kernelspec": {
      "name": "python3",
      "display_name": "Python 3"
    },
    "widgets": {
      "application/vnd.jupyter.widget-state+json": {
        "5da65b537d7048dc934ee7f91667ed55": {
          "model_module": "@jupyter-widgets/controls",
          "model_name": "HBoxModel",
          "state": {
            "_view_name": "HBoxView",
            "_dom_classes": [],
            "_model_name": "HBoxModel",
            "_view_module": "@jupyter-widgets/controls",
            "_model_module_version": "1.5.0",
            "_view_count": null,
            "_view_module_version": "1.5.0",
            "box_style": "",
            "layout": "IPY_MODEL_6b7a810f645a4d04b539d188af8ba15d",
            "_model_module": "@jupyter-widgets/controls",
            "children": [
              "IPY_MODEL_e0f6e01b7aa540f89de7abb1daa51aa6",
              "IPY_MODEL_df58a7ac04404249974899cc5cceb2e9"
            ]
          }
        },
        "6b7a810f645a4d04b539d188af8ba15d": {
          "model_module": "@jupyter-widgets/base",
          "model_name": "LayoutModel",
          "state": {
            "_view_name": "LayoutView",
            "grid_template_rows": null,
            "right": null,
            "justify_content": null,
            "_view_module": "@jupyter-widgets/base",
            "overflow": null,
            "_model_module_version": "1.2.0",
            "_view_count": null,
            "flex_flow": null,
            "width": null,
            "min_width": null,
            "border": null,
            "align_items": null,
            "bottom": null,
            "_model_module": "@jupyter-widgets/base",
            "top": null,
            "grid_column": null,
            "overflow_y": null,
            "overflow_x": null,
            "grid_auto_flow": null,
            "grid_area": null,
            "grid_template_columns": null,
            "flex": null,
            "_model_name": "LayoutModel",
            "justify_items": null,
            "grid_row": null,
            "max_height": null,
            "align_content": null,
            "visibility": null,
            "align_self": null,
            "height": null,
            "min_height": null,
            "padding": null,
            "grid_auto_rows": null,
            "grid_gap": null,
            "max_width": null,
            "order": null,
            "_view_module_version": "1.2.0",
            "grid_template_areas": null,
            "object_position": null,
            "object_fit": null,
            "grid_auto_columns": null,
            "margin": null,
            "display": null,
            "left": null
          }
        },
        "e0f6e01b7aa540f89de7abb1daa51aa6": {
          "model_module": "@jupyter-widgets/controls",
          "model_name": "IntProgressModel",
          "state": {
            "_view_name": "ProgressView",
            "style": "IPY_MODEL_336fc8401ec645238e5e4628403287cf",
            "_dom_classes": [],
            "description": "100%",
            "_model_name": "IntProgressModel",
            "bar_style": "success",
            "max": 1000,
            "_view_module": "@jupyter-widgets/controls",
            "_model_module_version": "1.5.0",
            "value": 1000,
            "_view_count": null,
            "_view_module_version": "1.5.0",
            "orientation": "horizontal",
            "min": 0,
            "description_tooltip": null,
            "_model_module": "@jupyter-widgets/controls",
            "layout": "IPY_MODEL_4165f97c8c474272933409f6f2e6be6d"
          }
        },
        "df58a7ac04404249974899cc5cceb2e9": {
          "model_module": "@jupyter-widgets/controls",
          "model_name": "HTMLModel",
          "state": {
            "_view_name": "HTMLView",
            "style": "IPY_MODEL_c64ac09229e6476996ac844639987712",
            "_dom_classes": [],
            "description": "",
            "_model_name": "HTMLModel",
            "placeholder": "​",
            "_view_module": "@jupyter-widgets/controls",
            "_model_module_version": "1.5.0",
            "value": " 1000/1000 [00:18&lt;00:00, 54.39epoch/s]",
            "_view_count": null,
            "_view_module_version": "1.5.0",
            "description_tooltip": null,
            "_model_module": "@jupyter-widgets/controls",
            "layout": "IPY_MODEL_6d3ac88b64ae45f786d1f077069e81e4"
          }
        },
        "336fc8401ec645238e5e4628403287cf": {
          "model_module": "@jupyter-widgets/controls",
          "model_name": "ProgressStyleModel",
          "state": {
            "_view_name": "StyleView",
            "_model_name": "ProgressStyleModel",
            "description_width": "initial",
            "_view_module": "@jupyter-widgets/base",
            "_model_module_version": "1.5.0",
            "_view_count": null,
            "_view_module_version": "1.2.0",
            "bar_color": null,
            "_model_module": "@jupyter-widgets/controls"
          }
        },
        "4165f97c8c474272933409f6f2e6be6d": {
          "model_module": "@jupyter-widgets/base",
          "model_name": "LayoutModel",
          "state": {
            "_view_name": "LayoutView",
            "grid_template_rows": null,
            "right": null,
            "justify_content": null,
            "_view_module": "@jupyter-widgets/base",
            "overflow": null,
            "_model_module_version": "1.2.0",
            "_view_count": null,
            "flex_flow": null,
            "width": null,
            "min_width": null,
            "border": null,
            "align_items": null,
            "bottom": null,
            "_model_module": "@jupyter-widgets/base",
            "top": null,
            "grid_column": null,
            "overflow_y": null,
            "overflow_x": null,
            "grid_auto_flow": null,
            "grid_area": null,
            "grid_template_columns": null,
            "flex": null,
            "_model_name": "LayoutModel",
            "justify_items": null,
            "grid_row": null,
            "max_height": null,
            "align_content": null,
            "visibility": null,
            "align_self": null,
            "height": null,
            "min_height": null,
            "padding": null,
            "grid_auto_rows": null,
            "grid_gap": null,
            "max_width": null,
            "order": null,
            "_view_module_version": "1.2.0",
            "grid_template_areas": null,
            "object_position": null,
            "object_fit": null,
            "grid_auto_columns": null,
            "margin": null,
            "display": null,
            "left": null
          }
        },
        "c64ac09229e6476996ac844639987712": {
          "model_module": "@jupyter-widgets/controls",
          "model_name": "DescriptionStyleModel",
          "state": {
            "_view_name": "StyleView",
            "_model_name": "DescriptionStyleModel",
            "description_width": "",
            "_view_module": "@jupyter-widgets/base",
            "_model_module_version": "1.5.0",
            "_view_count": null,
            "_view_module_version": "1.2.0",
            "_model_module": "@jupyter-widgets/controls"
          }
        },
        "6d3ac88b64ae45f786d1f077069e81e4": {
          "model_module": "@jupyter-widgets/base",
          "model_name": "LayoutModel",
          "state": {
            "_view_name": "LayoutView",
            "grid_template_rows": null,
            "right": null,
            "justify_content": null,
            "_view_module": "@jupyter-widgets/base",
            "overflow": null,
            "_model_module_version": "1.2.0",
            "_view_count": null,
            "flex_flow": null,
            "width": null,
            "min_width": null,
            "border": null,
            "align_items": null,
            "bottom": null,
            "_model_module": "@jupyter-widgets/base",
            "top": null,
            "grid_column": null,
            "overflow_y": null,
            "overflow_x": null,
            "grid_auto_flow": null,
            "grid_area": null,
            "grid_template_columns": null,
            "flex": null,
            "_model_name": "LayoutModel",
            "justify_items": null,
            "grid_row": null,
            "max_height": null,
            "align_content": null,
            "visibility": null,
            "align_self": null,
            "height": null,
            "min_height": null,
            "padding": null,
            "grid_auto_rows": null,
            "grid_gap": null,
            "max_width": null,
            "order": null,
            "_view_module_version": "1.2.0",
            "grid_template_areas": null,
            "object_position": null,
            "object_fit": null,
            "grid_auto_columns": null,
            "margin": null,
            "display": null,
            "left": null
          }
        },
        "20bcf54146144acb9dec873bf65b48cc": {
          "model_module": "@jupyter-widgets/controls",
          "model_name": "HBoxModel",
          "state": {
            "_view_name": "HBoxView",
            "_dom_classes": [],
            "_model_name": "HBoxModel",
            "_view_module": "@jupyter-widgets/controls",
            "_model_module_version": "1.5.0",
            "_view_count": null,
            "_view_module_version": "1.5.0",
            "box_style": "",
            "layout": "IPY_MODEL_f0c092dbb0fa4f4f8a729f10ca32da5a",
            "_model_module": "@jupyter-widgets/controls",
            "children": [
              "IPY_MODEL_f3bd2d511197419caac2daae04d23252",
              "IPY_MODEL_b8f51bb9696444b1ad6fd2f3fb593820"
            ]
          }
        },
        "f0c092dbb0fa4f4f8a729f10ca32da5a": {
          "model_module": "@jupyter-widgets/base",
          "model_name": "LayoutModel",
          "state": {
            "_view_name": "LayoutView",
            "grid_template_rows": null,
            "right": null,
            "justify_content": null,
            "_view_module": "@jupyter-widgets/base",
            "overflow": null,
            "_model_module_version": "1.2.0",
            "_view_count": null,
            "flex_flow": null,
            "width": null,
            "min_width": null,
            "border": null,
            "align_items": null,
            "bottom": null,
            "_model_module": "@jupyter-widgets/base",
            "top": null,
            "grid_column": null,
            "overflow_y": null,
            "overflow_x": null,
            "grid_auto_flow": null,
            "grid_area": null,
            "grid_template_columns": null,
            "flex": null,
            "_model_name": "LayoutModel",
            "justify_items": null,
            "grid_row": null,
            "max_height": null,
            "align_content": null,
            "visibility": null,
            "align_self": null,
            "height": null,
            "min_height": null,
            "padding": null,
            "grid_auto_rows": null,
            "grid_gap": null,
            "max_width": null,
            "order": null,
            "_view_module_version": "1.2.0",
            "grid_template_areas": null,
            "object_position": null,
            "object_fit": null,
            "grid_auto_columns": null,
            "margin": null,
            "display": null,
            "left": null
          }
        },
        "f3bd2d511197419caac2daae04d23252": {
          "model_module": "@jupyter-widgets/controls",
          "model_name": "IntProgressModel",
          "state": {
            "_view_name": "ProgressView",
            "style": "IPY_MODEL_004d88c1f0d34acc929ab258973b0a3a",
            "_dom_classes": [],
            "description": "100%",
            "_model_name": "IntProgressModel",
            "bar_style": "success",
            "max": 1000,
            "_view_module": "@jupyter-widgets/controls",
            "_model_module_version": "1.5.0",
            "value": 1000,
            "_view_count": null,
            "_view_module_version": "1.5.0",
            "orientation": "horizontal",
            "min": 0,
            "description_tooltip": null,
            "_model_module": "@jupyter-widgets/controls",
            "layout": "IPY_MODEL_7126049ed5ad4b1c885c41d978aaa8ab"
          }
        },
        "b8f51bb9696444b1ad6fd2f3fb593820": {
          "model_module": "@jupyter-widgets/controls",
          "model_name": "HTMLModel",
          "state": {
            "_view_name": "HTMLView",
            "style": "IPY_MODEL_8f08f593ad014ee2bab1afaea651de2b",
            "_dom_classes": [],
            "description": "",
            "_model_name": "HTMLModel",
            "placeholder": "​",
            "_view_module": "@jupyter-widgets/controls",
            "_model_module_version": "1.5.0",
            "value": " 1000/1000 [00:26&lt;00:00, 37.76epoch/s]",
            "_view_count": null,
            "_view_module_version": "1.5.0",
            "description_tooltip": null,
            "_model_module": "@jupyter-widgets/controls",
            "layout": "IPY_MODEL_bdbfb188089244c395db32c60dffc8ff"
          }
        },
        "004d88c1f0d34acc929ab258973b0a3a": {
          "model_module": "@jupyter-widgets/controls",
          "model_name": "ProgressStyleModel",
          "state": {
            "_view_name": "StyleView",
            "_model_name": "ProgressStyleModel",
            "description_width": "initial",
            "_view_module": "@jupyter-widgets/base",
            "_model_module_version": "1.5.0",
            "_view_count": null,
            "_view_module_version": "1.2.0",
            "bar_color": null,
            "_model_module": "@jupyter-widgets/controls"
          }
        },
        "7126049ed5ad4b1c885c41d978aaa8ab": {
          "model_module": "@jupyter-widgets/base",
          "model_name": "LayoutModel",
          "state": {
            "_view_name": "LayoutView",
            "grid_template_rows": null,
            "right": null,
            "justify_content": null,
            "_view_module": "@jupyter-widgets/base",
            "overflow": null,
            "_model_module_version": "1.2.0",
            "_view_count": null,
            "flex_flow": null,
            "width": null,
            "min_width": null,
            "border": null,
            "align_items": null,
            "bottom": null,
            "_model_module": "@jupyter-widgets/base",
            "top": null,
            "grid_column": null,
            "overflow_y": null,
            "overflow_x": null,
            "grid_auto_flow": null,
            "grid_area": null,
            "grid_template_columns": null,
            "flex": null,
            "_model_name": "LayoutModel",
            "justify_items": null,
            "grid_row": null,
            "max_height": null,
            "align_content": null,
            "visibility": null,
            "align_self": null,
            "height": null,
            "min_height": null,
            "padding": null,
            "grid_auto_rows": null,
            "grid_gap": null,
            "max_width": null,
            "order": null,
            "_view_module_version": "1.2.0",
            "grid_template_areas": null,
            "object_position": null,
            "object_fit": null,
            "grid_auto_columns": null,
            "margin": null,
            "display": null,
            "left": null
          }
        },
        "8f08f593ad014ee2bab1afaea651de2b": {
          "model_module": "@jupyter-widgets/controls",
          "model_name": "DescriptionStyleModel",
          "state": {
            "_view_name": "StyleView",
            "_model_name": "DescriptionStyleModel",
            "description_width": "",
            "_view_module": "@jupyter-widgets/base",
            "_model_module_version": "1.5.0",
            "_view_count": null,
            "_view_module_version": "1.2.0",
            "_model_module": "@jupyter-widgets/controls"
          }
        },
        "bdbfb188089244c395db32c60dffc8ff": {
          "model_module": "@jupyter-widgets/base",
          "model_name": "LayoutModel",
          "state": {
            "_view_name": "LayoutView",
            "grid_template_rows": null,
            "right": null,
            "justify_content": null,
            "_view_module": "@jupyter-widgets/base",
            "overflow": null,
            "_model_module_version": "1.2.0",
            "_view_count": null,
            "flex_flow": null,
            "width": null,
            "min_width": null,
            "border": null,
            "align_items": null,
            "bottom": null,
            "_model_module": "@jupyter-widgets/base",
            "top": null,
            "grid_column": null,
            "overflow_y": null,
            "overflow_x": null,
            "grid_auto_flow": null,
            "grid_area": null,
            "grid_template_columns": null,
            "flex": null,
            "_model_name": "LayoutModel",
            "justify_items": null,
            "grid_row": null,
            "max_height": null,
            "align_content": null,
            "visibility": null,
            "align_self": null,
            "height": null,
            "min_height": null,
            "padding": null,
            "grid_auto_rows": null,
            "grid_gap": null,
            "max_width": null,
            "order": null,
            "_view_module_version": "1.2.0",
            "grid_template_areas": null,
            "object_position": null,
            "object_fit": null,
            "grid_auto_columns": null,
            "margin": null,
            "display": null,
            "left": null
          }
        },
        "7242d215e71f4fc5b539490741056c9e": {
          "model_module": "@jupyter-widgets/controls",
          "model_name": "HBoxModel",
          "state": {
            "_view_name": "HBoxView",
            "_dom_classes": [],
            "_model_name": "HBoxModel",
            "_view_module": "@jupyter-widgets/controls",
            "_model_module_version": "1.5.0",
            "_view_count": null,
            "_view_module_version": "1.5.0",
            "box_style": "",
            "layout": "IPY_MODEL_aea32d3200964262aa9f7a0f426563f9",
            "_model_module": "@jupyter-widgets/controls",
            "children": [
              "IPY_MODEL_d787911a02a44872b20b2be1f525dc46",
              "IPY_MODEL_8c861c30d4284b46b687d7ec0b0e1492"
            ]
          }
        },
        "aea32d3200964262aa9f7a0f426563f9": {
          "model_module": "@jupyter-widgets/base",
          "model_name": "LayoutModel",
          "state": {
            "_view_name": "LayoutView",
            "grid_template_rows": null,
            "right": null,
            "justify_content": null,
            "_view_module": "@jupyter-widgets/base",
            "overflow": null,
            "_model_module_version": "1.2.0",
            "_view_count": null,
            "flex_flow": null,
            "width": null,
            "min_width": null,
            "border": null,
            "align_items": null,
            "bottom": null,
            "_model_module": "@jupyter-widgets/base",
            "top": null,
            "grid_column": null,
            "overflow_y": null,
            "overflow_x": null,
            "grid_auto_flow": null,
            "grid_area": null,
            "grid_template_columns": null,
            "flex": null,
            "_model_name": "LayoutModel",
            "justify_items": null,
            "grid_row": null,
            "max_height": null,
            "align_content": null,
            "visibility": null,
            "align_self": null,
            "height": null,
            "min_height": null,
            "padding": null,
            "grid_auto_rows": null,
            "grid_gap": null,
            "max_width": null,
            "order": null,
            "_view_module_version": "1.2.0",
            "grid_template_areas": null,
            "object_position": null,
            "object_fit": null,
            "grid_auto_columns": null,
            "margin": null,
            "display": null,
            "left": null
          }
        },
        "d787911a02a44872b20b2be1f525dc46": {
          "model_module": "@jupyter-widgets/controls",
          "model_name": "IntProgressModel",
          "state": {
            "_view_name": "ProgressView",
            "style": "IPY_MODEL_61fa9dadb4bb4f5ea6366bae307f334b",
            "_dom_classes": [],
            "description": "100%",
            "_model_name": "IntProgressModel",
            "bar_style": "success",
            "max": 2000,
            "_view_module": "@jupyter-widgets/controls",
            "_model_module_version": "1.5.0",
            "value": 2000,
            "_view_count": null,
            "_view_module_version": "1.5.0",
            "orientation": "horizontal",
            "min": 0,
            "description_tooltip": null,
            "_model_module": "@jupyter-widgets/controls",
            "layout": "IPY_MODEL_291d44c5be3e471b8348d4332bda8d37"
          }
        },
        "8c861c30d4284b46b687d7ec0b0e1492": {
          "model_module": "@jupyter-widgets/controls",
          "model_name": "HTMLModel",
          "state": {
            "_view_name": "HTMLView",
            "style": "IPY_MODEL_9faaeaa6744a482f863632aac1c7eef0",
            "_dom_classes": [],
            "description": "",
            "_model_name": "HTMLModel",
            "placeholder": "​",
            "_view_module": "@jupyter-widgets/controls",
            "_model_module_version": "1.5.0",
            "value": " 2000/2000 [03:21&lt;00:00,  9.92epoch/s]",
            "_view_count": null,
            "_view_module_version": "1.5.0",
            "description_tooltip": null,
            "_model_module": "@jupyter-widgets/controls",
            "layout": "IPY_MODEL_0623599bd1d64c4883994a7c00d3e78d"
          }
        },
        "61fa9dadb4bb4f5ea6366bae307f334b": {
          "model_module": "@jupyter-widgets/controls",
          "model_name": "ProgressStyleModel",
          "state": {
            "_view_name": "StyleView",
            "_model_name": "ProgressStyleModel",
            "description_width": "initial",
            "_view_module": "@jupyter-widgets/base",
            "_model_module_version": "1.5.0",
            "_view_count": null,
            "_view_module_version": "1.2.0",
            "bar_color": null,
            "_model_module": "@jupyter-widgets/controls"
          }
        },
        "291d44c5be3e471b8348d4332bda8d37": {
          "model_module": "@jupyter-widgets/base",
          "model_name": "LayoutModel",
          "state": {
            "_view_name": "LayoutView",
            "grid_template_rows": null,
            "right": null,
            "justify_content": null,
            "_view_module": "@jupyter-widgets/base",
            "overflow": null,
            "_model_module_version": "1.2.0",
            "_view_count": null,
            "flex_flow": null,
            "width": null,
            "min_width": null,
            "border": null,
            "align_items": null,
            "bottom": null,
            "_model_module": "@jupyter-widgets/base",
            "top": null,
            "grid_column": null,
            "overflow_y": null,
            "overflow_x": null,
            "grid_auto_flow": null,
            "grid_area": null,
            "grid_template_columns": null,
            "flex": null,
            "_model_name": "LayoutModel",
            "justify_items": null,
            "grid_row": null,
            "max_height": null,
            "align_content": null,
            "visibility": null,
            "align_self": null,
            "height": null,
            "min_height": null,
            "padding": null,
            "grid_auto_rows": null,
            "grid_gap": null,
            "max_width": null,
            "order": null,
            "_view_module_version": "1.2.0",
            "grid_template_areas": null,
            "object_position": null,
            "object_fit": null,
            "grid_auto_columns": null,
            "margin": null,
            "display": null,
            "left": null
          }
        },
        "9faaeaa6744a482f863632aac1c7eef0": {
          "model_module": "@jupyter-widgets/controls",
          "model_name": "DescriptionStyleModel",
          "state": {
            "_view_name": "StyleView",
            "_model_name": "DescriptionStyleModel",
            "description_width": "",
            "_view_module": "@jupyter-widgets/base",
            "_model_module_version": "1.5.0",
            "_view_count": null,
            "_view_module_version": "1.2.0",
            "_model_module": "@jupyter-widgets/controls"
          }
        },
        "0623599bd1d64c4883994a7c00d3e78d": {
          "model_module": "@jupyter-widgets/base",
          "model_name": "LayoutModel",
          "state": {
            "_view_name": "LayoutView",
            "grid_template_rows": null,
            "right": null,
            "justify_content": null,
            "_view_module": "@jupyter-widgets/base",
            "overflow": null,
            "_model_module_version": "1.2.0",
            "_view_count": null,
            "flex_flow": null,
            "width": null,
            "min_width": null,
            "border": null,
            "align_items": null,
            "bottom": null,
            "_model_module": "@jupyter-widgets/base",
            "top": null,
            "grid_column": null,
            "overflow_y": null,
            "overflow_x": null,
            "grid_auto_flow": null,
            "grid_area": null,
            "grid_template_columns": null,
            "flex": null,
            "_model_name": "LayoutModel",
            "justify_items": null,
            "grid_row": null,
            "max_height": null,
            "align_content": null,
            "visibility": null,
            "align_self": null,
            "height": null,
            "min_height": null,
            "padding": null,
            "grid_auto_rows": null,
            "grid_gap": null,
            "max_width": null,
            "order": null,
            "_view_module_version": "1.2.0",
            "grid_template_areas": null,
            "object_position": null,
            "object_fit": null,
            "grid_auto_columns": null,
            "margin": null,
            "display": null,
            "left": null
          }
        }
      }
    }
  },
  "cells": [
    {
      "cell_type": "markdown",
      "metadata": {
        "id": "37JQnFs6g4Jq",
        "colab_type": "text"
      },
      "source": [
        "### Outline:\n",
        "1. Use generated data and classes from **FFNN**\n",
        "2. Code the back propagation algorithm for our first FF network - single weight and all weights\n",
        "3. Visualise working of our first FF network\n",
        "4. Code the back propagation algorithm for a larger FF network\n",
        "5. Understand the iterative kernel within the back propagation algorithm\n",
        "6. Exercises"
      ]
    },
    {
      "cell_type": "code",
      "metadata": {
        "id": "SKPKFx9MgnbF",
        "colab_type": "code",
        "colab": {}
      },
      "source": [
        "import numpy as np\n",
        "import pandas as pd\n",
        "import matplotlib.pyplot as plt\n",
        "import matplotlib.colors\n",
        "from sklearn.model_selection import train_test_split\n",
        "from sklearn.metrics import accuracy_score, mean_squared_error, log_loss\n",
        "from tqdm import tqdm_notebook\n",
        "import seaborn as sns\n",
        "import imageio\n",
        "from IPython.display import HTML\n",
        "\n",
        "from sklearn.preprocessing import  OneHotEncoder\n",
        "from sklearn.datasets import make_blobs"
      ],
      "execution_count": 0,
      "outputs": []
    },
    {
      "cell_type": "code",
      "metadata": {
        "id": "PmsYfXD6UD9L",
        "colab_type": "code",
        "colab": {}
      },
      "source": [
        "my_cmap = matplotlib.colors.LinearSegmentedColormap.from_list(\"\",[\"red\",\"yellow\",\"green\"])\n",
        "# 0 maps to red and 1 maps to green"
      ],
      "execution_count": 0,
      "outputs": []
    },
    {
      "cell_type": "code",
      "metadata": {
        "id": "3ohaJktVjAIX",
        "colab_type": "code",
        "colab": {}
      },
      "source": [
        "np.random.seed(0)"
      ],
      "execution_count": 0,
      "outputs": []
    },
    {
      "cell_type": "code",
      "metadata": {
        "id": "JcXTHdIHjCHZ",
        "colab_type": "code",
        "colab": {}
      },
      "source": [
        ""
      ],
      "execution_count": 0,
      "outputs": []
    },
    {
      "cell_type": "markdown",
      "metadata": {
        "id": "OGNILxsZUXrc",
        "colab_type": "text"
      },
      "source": [
        "# Generate Data"
      ]
    },
    {
      "cell_type": "code",
      "metadata": {
        "id": "qRwQvWCoUZym",
        "colab_type": "code",
        "outputId": "26c8c34f-4cc8-41dc-bbdf-4635bea6b565",
        "colab": {
          "base_uri": "https://localhost:8080/",
          "height": 35
        }
      },
      "source": [
        "data, labels = make_blobs(n_samples = 1000, centers = 4, n_features = 2, random_state=0)\n",
        "\n",
        "print(data.shape, labels.shape)"
      ],
      "execution_count": 0,
      "outputs": [
        {
          "output_type": "stream",
          "text": [
            "(1000, 2) (1000,)\n"
          ],
          "name": "stdout"
        }
      ]
    },
    {
      "cell_type": "code",
      "metadata": {
        "id": "jEmZUi-TVSpo",
        "colab_type": "code",
        "outputId": "5b8c3d2d-6c7b-409f-b491-e0bf842efa8b",
        "colab": {
          "base_uri": "https://localhost:8080/",
          "height": 265
        }
      },
      "source": [
        "plt.scatter(data[:,0], data[:,1], c=labels, cmap = my_cmap)\n",
        "plt.show()"
      ],
      "execution_count": 0,
      "outputs": [
        {
          "output_type": "display_data",
          "data": {
            "image/png": "[encoded data removed]",
            "text/plain": [
              "<Figure size 432x288 with 1 Axes>"
            ]
          },
          "metadata": {
            "tags": [],
            "needs_background": "light"
          }
        }
      ]
    },
    {
      "cell_type": "markdown",
      "metadata": {
        "id": "ZCWbUKNIXak0",
        "colab_type": "text"
      },
      "source": [
        "### We wanted to do binary classification first, but now we have 4 classes (centers)"
      ]
    },
    {
      "cell_type": "markdown",
      "metadata": {
        "id": "jOIyq1pQjenE",
        "colab_type": "text"
      },
      "source": [
        "Methods:\n",
        "1. While splitting only split into 2 (in code cell 5)\n",
        "2. Split the 4 labels into 2 using mod \n",
        "3. Can be other ways too"
      ]
    },
    {
      "cell_type": "code",
      "metadata": {
        "id": "fE71ZW86Xn3q",
        "colab_type": "code",
        "colab": {}
      },
      "source": [
        "labels_orig = labels \n",
        "labels = np.mod(labels_orig,2)"
      ],
      "execution_count": 0,
      "outputs": []
    },
    {
      "cell_type": "code",
      "metadata": {
        "id": "KHSmKFMmX-m4",
        "colab_type": "code",
        "outputId": "13fcdacf-5b4c-44bf-fc15-f39b7a677b24",
        "colab": {
          "base_uri": "https://localhost:8080/",
          "height": 265
        }
      },
      "source": [
        "plt.scatter(data[:,0], data[:,1], c=labels, cmap = my_cmap)\n",
        "plt.show()"
      ],
      "execution_count": 0,
      "outputs": [
        {
          "output_type": "display_data",
          "data": {
            "image/png": "[encoded data removed]",
            "text/plain": [
              "<Figure size 432x288 with 1 Axes>"
            ]
          },
          "metadata": {
            "tags": [],
            "needs_background": "light"
          }
        }
      ]
    },
    {
      "cell_type": "code",
      "metadata": {
        "id": "E6RLKkrnYGi3",
        "colab_type": "code",
        "outputId": "4db829ad-002b-4fba-8006-bf0a2c18c563",
        "colab": {
          "base_uri": "https://localhost:8080/",
          "height": 35
        }
      },
      "source": [
        "X_train, X_val, Y_train, Y_val = train_test_split(data, labels, stratify = labels, random_state = 0)\n",
        "print(X_train.shape, X_val.shape)"
      ],
      "execution_count": 0,
      "outputs": [
        {
          "output_type": "stream",
          "text": [
            "(750, 2) (250, 2)\n"
          ],
          "name": "stdout"
        }
      ]
    },
    {
      "cell_type": "code",
      "metadata": {
        "id": "1mzZTeTVYmVn",
        "colab_type": "code",
        "colab": {}
      },
      "source": [
        ""
      ],
      "execution_count": 0,
      "outputs": []
    },
    {
      "cell_type": "markdown",
      "metadata": {
        "id": "rR3glgMgB70p",
        "colab_type": "text"
      },
      "source": [
        "# First Feedforward Neural Network"
      ]
    },
    {
      "cell_type": "markdown",
      "metadata": {
        "id": "XzSzUhYYutos",
        "colab_type": "text"
      },
      "source": [
        "## Backpropagation with single weight update"
      ]
    },
    {
      "cell_type": "markdown",
      "metadata": {
        "id": "x81jn01RCM9F",
        "colab_type": "text"
      },
      "source": [
        "A simple neural network with 3 neurons. Two inputs, two neurons in one hidden layer, and one neuron in output layer."
      ]
    },
    {
      "cell_type": "markdown",
      "metadata": {
        "id": "Hpf-vky7kpYE",
        "colab_type": "text"
      },
      "source": [
        "This time complete the class (was previously left empty for grad function).\n",
        "\n",
        "Aim is to do scalar back propagation i.e. without using vectors, updating each parameter (w,b) separately.\n",
        "\n",
        "I.e. find derivative of loss w.r.t. w1 and update only w1.\n",
        "\n",
        "Again. only w1 changed this time. None of w2 to w6 or b1 to b3 will be touched. Only visualising how w1 is changed."
      ]
    },
    {
      "cell_type": "code",
      "metadata": {
        "id": "NybefiZMCAPn",
        "colab_type": "code",
        "colab": {}
      },
      "source": [
        "class FFNetworkW1:\n",
        "\n",
        "  def __init__(self):\n",
        "    self.w1 = np.random.randn()\n",
        "    self.w2 = np.random.randn()\n",
        "    self.w3 = np.random.randn()\n",
        "    self.w4 = np.random.randn()\n",
        "    self.w5 = np.random.randn()\n",
        "    self.w6 = np.random.randn()\n",
        "    self.b1 = 0\n",
        "    self.b2 = 0\n",
        "    self.b3 = 0\n",
        "\n",
        "  def sigmoid(self,x):\n",
        "    return 1.0/(1.0+np.exp(-x))\n",
        "\n",
        "  def forward_pass(self,x):\n",
        "    self.x1, self.x2 = x; \n",
        "    self.a1 = self.w1 * self.x1 + self.w2 * self.x2 + self.b1\n",
        "    self.h1 = self.sigmoid(self.a1)\n",
        "    self.a2 = self.w3 * self.x1 + self.w4 * self.x2 + self.b2\n",
        "    self.h2 = self.sigmoid(self.a2)\n",
        "    self.a3 = self.w5 * self.h1 + self.w6 * self.h2 + self.b3\n",
        "    self.h3 = self.sigmoid(self.a3)\n",
        "    return self.h3\n",
        "\n",
        "  # What values do we have?\n",
        "  # The particular input x1 and x2 (as x vector) and the ground truth y\n",
        "  # First do forward pass to compute a1, h1, a2, h2, a3, h3\n",
        "  # We also already have weights (even before forward pass) which we initialised randomly\n",
        "  def grad(self, x, y):\n",
        "    self.forward_pass(x)\n",
        "\n",
        "    # Chain rule : \n",
        "    # -(y-y') = -(y-h3) .... squared error so derivative of loss w.r.t. predicted output is this\n",
        "    # y'(1-y') = h3(1-h3) .... derivative of sigmoid function so derivative of activation w.r.t. pre-activation\n",
        "    # w ... derivative of pre-activation w.r.t. activation of previous layer\n",
        "    # Again y'(1-y')\n",
        "    # Finally x1 .... derivative of pre-activation w.r.t. its input (wx+b)\n",
        "    \n",
        "    self.dw1 = (self.h3-y)*self.h3*(1-self.h3)*(self.w5)*self.h1*(1-self.h1)*self.x1\n",
        "\n",
        "  def fit(self, X, Y, epochs = 1, learning_rate = 1, initialise = True, display_loss = True):\n",
        "\n",
        "    if initialise:\n",
        "      self.w1 = np.random.randn()\n",
        "      self.w2 = np.random.randn()\n",
        "      self.w3 = np.random.randn()\n",
        "      self.w4 = np.random.randn()\n",
        "      self.w5 = np.random.randn()\n",
        "      self.w6 = np.random.randn()\n",
        "      self.b1 = 0\n",
        "      self.b2 = 0\n",
        "      self.b3 = 0\n",
        "\n",
        "    if display_loss:\n",
        "      loss = {}\n",
        "      w1 = {}\n",
        "\n",
        "    for i in tqdm_notebook(range(epochs), total = epochs, unit = \"epoch\"):\n",
        "      dw1, dw2, dw3, dw4, dw5, dw6, db1, db2, db3 = [0]*9\n",
        "\n",
        "      for x,y in zip(X,Y):\n",
        "        self.grad(x,y)\n",
        "        # dw1 contains aggregate of partial derivative of loss w.r.t. w1 FOR EACH INPUT\n",
        "        dw1 += self.dw1\n",
        "\n",
        "\n",
        "      m = X.shape[1] \n",
        "\n",
        "      self.w1 -= learning_rate * dw1 / m\n",
        "\n",
        "      if(display_loss):\n",
        "        w1[i] = self.w1 # Change these two lines for prev notebook\n",
        "        Y_pred = self.predict(X)\n",
        "        loss[i] = mean_squared_error(Y, Y_pred)\n",
        "\n",
        "\n",
        "    if display_loss:\n",
        "      plt.tight_layout()\n",
        "\n",
        "      plt.subplot(2,1,1)\n",
        "      # values attribute only for dictionaries\n",
        "      plt.plot(np.array(list(w1.values())))\n",
        "      plt.xlabel(\"Epochs\")\n",
        "      plt.ylabel(\"w1\")\n",
        "\n",
        "      plt.subplot(2,1,2)\n",
        "      plt.plot(np.array(list(loss.values())))\n",
        "      plt.xlabel(\"Epochs\")\n",
        "      plt.ylabel(\"Mean Squared Error\")\n",
        "      plt.show()\n",
        "\n",
        "\n",
        "\n",
        "  def predict(self, X):\n",
        "    Y_pred = []\n",
        "    for x in X: \n",
        "      y_pred = self.forward_pass(x)\n",
        "      Y_pred.append(y_pred)\n",
        "    return np.array(Y_pred)\n",
        "\n",
        "\n"
      ],
      "execution_count": 0,
      "outputs": []
    },
    {
      "cell_type": "markdown",
      "metadata": {
        "id": "FHht4Y8Yo97o",
        "colab_type": "text"
      },
      "source": [
        "Note grad has 3 types of values:\n",
        "1. h3 kind : which we get during the forward pass\n",
        "2. y kind : which we already get readily as input to function\n",
        "3. w3 kind : which we have been estimating or learning with our algorithm. In this case w5 hasn't been changed, remains its initial value. But in typical case, we'll be updating that as well."
      ]
    },
    {
      "cell_type": "code",
      "metadata": {
        "id": "EuPSIyLWH0PO",
        "colab_type": "code",
        "outputId": "3ff85feb-dcbc-40a8-b796-934a376af0b3",
        "colab": {
          "base_uri": "https://localhost:8080/",
          "referenced_widgets": [
            "5da65b537d7048dc934ee7f91667ed55",
            "6b7a810f645a4d04b539d188af8ba15d",
            "e0f6e01b7aa540f89de7abb1daa51aa6",
            "df58a7ac04404249974899cc5cceb2e9",
            "336fc8401ec645238e5e4628403287cf",
            "4165f97c8c474272933409f6f2e6be6d",
            "c64ac09229e6476996ac844639987712",
            "6d3ac88b64ae45f786d1f077069e81e4"
          ]
        }
      },
      "source": [
        "ffnw1 = FFNetworkW1()\n",
        "ffnw1.fit(X_train, Y_train, epochs = 1000, learning_rate = 0.01, display_loss=True)"
      ],
      "execution_count": 0,
      "outputs": [
        {
          "output_type": "stream",
          "text": [
            "/usr/local/lib/python3.6/dist-packages/ipykernel_launcher.py:60: TqdmDeprecationWarning: This function will be removed in tqdm==5.0.0\n",
            "Please use `tqdm.notebook.tqdm` instead of `tqdm.tqdm_notebook`\n"
          ],
          "name": "stderr"
        },
        {
          "output_type": "display_data",
          "data": {
            "application/vnd.jupyter.widget-view+json": {
              "model_id": "5da65b537d7048dc934ee7f91667ed55",
              "version_minor": 0,
              "version_major": 2
            },
            "text/plain": [
              "HBox(children=(IntProgress(value=0, max=1000), HTML(value='')))"
            ]
          },
          "metadata": {
            "tags": []
          }
        },
        {
          "output_type": "stream",
          "text": [
            "\n"
          ],
          "name": "stdout"
        },
        {
          "output_type": "display_data",
          "data": {
            "image/png": "[encoded data removed]",
            "text/plain": [
              "<Figure size 432x288 with 2 Axes>"
            ]
          },
          "metadata": {
            "tags": [],
            "needs_background": "light"
          }
        }
      ]
    },
    {
      "cell_type": "markdown",
      "metadata": {
        "id": "eMaRGuGetloK",
        "colab_type": "text"
      },
      "source": [
        "Thus,\n",
        "Loss is continuously decreasing => we are correctly updating weights => we are moving in right direction i.e. gradient descent algorithm is working.  \n",
        "In many other scenarios we saw that loss was flickering a lot, but here it is constantly decreasing since we are updating \"only\" one weight. When we update all together, then there we be the unsteady rise and fall of loss.  \n",
        "The loss saturates at one point \"since\" the gradient of a vector flowing in the backpropagation channel is becoming 0 after some time. In other words one of the terms in dw1 calculation (nothing bu the gradient formulat) is becoming (or very close to) zero. Thus the saturation."
      ]
    },
    {
      "cell_type": "code",
      "metadata": {
        "id": "2uE8C5H6uz_E",
        "colab_type": "code",
        "colab": {}
      },
      "source": [
        ""
      ],
      "execution_count": 0,
      "outputs": []
    },
    {
      "cell_type": "markdown",
      "metadata": {
        "colab_type": "text",
        "id": "RqY1-NKUu0q1"
      },
      "source": [
        "## Backpropagation with multiple weights update"
      ]
    },
    {
      "cell_type": "markdown",
      "metadata": {
        "colab_type": "text",
        "id": "N6JM4GLFu0rD"
      },
      "source": [
        "A simple neural network with 3 neurons. Two inputs, two neurons in one hidden layer, and one neuron in output layer."
      ]
    },
    {
      "cell_type": "markdown",
      "metadata": {
        "colab_type": "text",
        "id": "EA57iVd9u0rO"
      },
      "source": [
        "Aim is to do scalar back propagation i.e. without using vectors, updating each parameter (w,b) separately.\n",
        "\n",
        "This time update all weights"
      ]
    },
    {
      "cell_type": "code",
      "metadata": {
        "colab_type": "code",
        "id": "7ZJW2zLlu0rV",
        "colab": {}
      },
      "source": [
        "class FFNetworkWs:\n",
        "\n",
        "  def __init__(self):\n",
        "    self.w1 = np.random.randn()\n",
        "    self.w2 = np.random.randn()\n",
        "    self.w3 = np.random.randn()\n",
        "    self.w4 = np.random.randn()\n",
        "    self.w5 = np.random.randn()\n",
        "    self.w6 = np.random.randn()\n",
        "    self.b1 = 0\n",
        "    self.b2 = 0\n",
        "    self.b3 = 0\n",
        "\n",
        "  def sigmoid(self,x):\n",
        "    return 1.0/(1.0+np.exp(-x))\n",
        "\n",
        "  def forward_pass(self,x):\n",
        "    self.x1, self.x2 = x; \n",
        "    self.a1 = self.w1 * self.x1 + self.w2 * self.x2 + self.b1\n",
        "    self.h1 = self.sigmoid(self.a1)\n",
        "    self.a2 = self.w3 * self.x1 + self.w4 * self.x2 + self.b2\n",
        "    self.h2 = self.sigmoid(self.a2)\n",
        "    self.a3 = self.w5 * self.h1 + self.w6 * self.h2 + self.b3\n",
        "    self.h3 = self.sigmoid(self.a3)\n",
        "    return self.h3\n",
        "\n",
        "  # Compute grad w.r.t. all (9) parameters\n",
        "  def grad(self, x, y):\n",
        "    self.forward_pass(x)\n",
        "\n",
        "    # Update from back (since you are flowing backwards)\n",
        "\n",
        "    # Third neuron\n",
        "    self.dw5 = (self.h3-y)*self.h3*(1-self.h3)*self.h1 # x(input) is h1\n",
        "    self.dw6 = (self.h3-y)*self.h3*(1-self.h3)*self.h2\n",
        "    self.db3 = (self.h3-y)*self.h3*(1-self.h3)\n",
        "\n",
        "    # Second neuron\n",
        "    self.dw1 = (self.h3-y)*self.h3*(1-self.h3)*(self.w5)*self.h1*(1-self.h1)*self.x1\n",
        "    self.dw2 = (self.h3-y)*self.h3*(1-self.h3)*(self.w5)*self.h1*(1-self.h1)*self.x2\n",
        "    self.db1 = (self.h3-y)*self.h3*(1-self.h3)*(self.w5)*self.h1*(1-self.h1)\n",
        "\n",
        "    # First neuron\n",
        "    self.dw3 = (self.h3-y)*self.h3*(1-self.h3)*(self.w6)*self.h2*(1-self.h2)*self.x1\n",
        "    self.dw4 = (self.h3-y)*self.h3*(1-self.h3)*(self.w6)*self.h2*(1-self.h2)*self.x2\n",
        "    self.db2 = (self.h3-y)*self.h3*(1-self.h3)*(self.w5)*self.h2*(1-self.h2)\n",
        "\n",
        "\n",
        "  def fit(self, X, Y, epochs = 1, learning_rate = 1, initialise = True, display_loss = True):\n",
        "\n",
        "    if initialise:\n",
        "      self.w1 = np.random.randn()\n",
        "      self.w2 = np.random.randn()\n",
        "      self.w3 = np.random.randn()\n",
        "      self.w4 = np.random.randn()\n",
        "      self.w5 = np.random.randn()\n",
        "      self.w6 = np.random.randn()\n",
        "      self.b1 = 0\n",
        "      self.b2 = 0\n",
        "      self.b3 = 0\n",
        "\n",
        "    if display_loss:\n",
        "      loss = {}\n",
        "\n",
        "    for i in tqdm_notebook(range(epochs), total = epochs, unit = \"epoch\"):\n",
        "      dw1, dw2, dw3, dw4, dw5, dw6, db1, db2, db3 = [0]*9\n",
        "\n",
        "      for x,y in zip(X,Y):\n",
        "        self.grad(x,y)\n",
        "        # accumulating values for each input, i.e. appending to the list for each value\n",
        "        dw1 += self.dw1\n",
        "        dw2 += self.dw2\n",
        "        dw3 += self.dw3\n",
        "        dw4 += self.dw4\n",
        "        dw5 += self.dw5\n",
        "        dw6 += self.dw6\n",
        "        db1 += self.db1\n",
        "        db2 += self.db2\n",
        "        db3 += self.db3\n",
        "\n",
        "\n",
        "      m = X.shape[1] \n",
        "\n",
        "      self.w1 -= learning_rate * dw1 / m\n",
        "      self.w2 -= learning_rate * dw2 / m\n",
        "      self.w3 -= learning_rate * dw3 / m\n",
        "      self.w4 -= learning_rate * dw4 / m\n",
        "      self.w5 -= learning_rate * dw5 / m\n",
        "      self.w6 -= learning_rate * dw6 / m\n",
        "      self.b1 -= learning_rate * db1 / m\n",
        "      self.b2 -= learning_rate * db2 / m\n",
        "      self.b3 -= learning_rate * db3 / m\n",
        "\n",
        "      if(display_loss):\n",
        "        Y_pred = self.predict(X)\n",
        "        loss[i] = mean_squared_error(Y, Y_pred)\n",
        "\n",
        "\n",
        "    if display_loss:\n",
        "      plt.plot(np.array(list(loss.values())))\n",
        "      plt.xlabel(\"Epochs\")\n",
        "      plt.ylabel(\"Mean Squared Error\")\n",
        "      plt.show()\n",
        "\n",
        "\n",
        "\n",
        "  def predict(self, X):\n",
        "    Y_pred = []\n",
        "    for x in X: \n",
        "      y_pred = self.forward_pass(x)\n",
        "      Y_pred.append(y_pred)\n",
        "    return np.array(Y_pred)\n",
        "\n",
        "\n"
      ],
      "execution_count": 0,
      "outputs": []
    },
    {
      "cell_type": "markdown",
      "metadata": {
        "id": "Mw4kE9_CxftD",
        "colab_type": "text"
      },
      "source": [
        "Just visualise the NN in case of scalar backpropagation to apply the chain rule easily."
      ]
    },
    {
      "cell_type": "code",
      "metadata": {
        "colab_type": "code",
        "outputId": "859973cf-1aa6-43d1-9413-10ce121b3978",
        "id": "0r71jOLAu0sC",
        "colab": {
          "base_uri": "https://localhost:8080/",
          "height": 366,
          "referenced_widgets": [
            "20bcf54146144acb9dec873bf65b48cc",
            "f0c092dbb0fa4f4f8a729f10ca32da5a",
            "f3bd2d511197419caac2daae04d23252",
            "b8f51bb9696444b1ad6fd2f3fb593820",
            "004d88c1f0d34acc929ab258973b0a3a",
            "7126049ed5ad4b1c885c41d978aaa8ab",
            "8f08f593ad014ee2bab1afaea651de2b",
            "bdbfb188089244c395db32c60dffc8ff"
          ]
        }
      },
      "source": [
        "ffnws = FFNetworkWs()\n",
        "ffnws.fit(X_train, Y_train, epochs = 1000, learning_rate = 0.01, display_loss=True)"
      ],
      "execution_count": 0,
      "outputs": [
        {
          "output_type": "stream",
          "text": [
            "/usr/local/lib/python3.6/dist-packages/ipykernel_launcher.py:65: TqdmDeprecationWarning: This function will be removed in tqdm==5.0.0\n",
            "Please use `tqdm.notebook.tqdm` instead of `tqdm.tqdm_notebook`\n"
          ],
          "name": "stderr"
        },
        {
          "output_type": "display_data",
          "data": {
            "application/vnd.jupyter.widget-view+json": {
              "model_id": "20bcf54146144acb9dec873bf65b48cc",
              "version_minor": 0,
              "version_major": 2
            },
            "text/plain": [
              "HBox(children=(IntProgress(value=0, max=1000), HTML(value='')))"
            ]
          },
          "metadata": {
            "tags": []
          }
        },
        {
          "output_type": "stream",
          "text": [
            "\n"
          ],
          "name": "stdout"
        },
        {
          "output_type": "display_data",
          "data": {
            "image/png": "[encoded data removed]",
            "text/plain": [
              "<Figure size 432x288 with 1 Axes>"
            ]
          },
          "metadata": {
            "tags": [],
            "needs_background": "light"
          }
        }
      ]
    },
    {
      "cell_type": "markdown",
      "metadata": {
        "colab_type": "text",
        "id": "TtzKwznsu0sf"
      },
      "source": [
        "Note that now that we are updating all the weights there is rising and falling of loss (not smoothly decreasing).  \n",
        "**But also note that the loss has significantly decreased (approx 0.02).**"
      ]
    },
    {
      "cell_type": "code",
      "metadata": {
        "colab_type": "code",
        "id": "risHXRIYu0sj",
        "outputId": "aadac22c-6137-467e-8305-98412e701238",
        "colab": {
          "base_uri": "https://localhost:8080/",
          "height": 53
        }
      },
      "source": [
        "Y_pred_train = ffnws.predict(X_train) # forward pass\n",
        "Y_pred_binarised_train = (Y_pred_train >= 0.5).astype('int').ravel()\n",
        "\n",
        "Y_pred_val = ffnws.predict(X_val)\n",
        "Y_pred_binarised_val = (Y_pred_val >= 0.5).astype('int').ravel()\n",
        "\n",
        "accuracy_train = accuracy_score(Y_pred_binarised_train, Y_train)\n",
        "accuracy_val = accuracy_score(Y_pred_binarised_val, Y_val)\n",
        "\n",
        "# round to two digits\n",
        "print(\"Training accuracy\", round(accuracy_train,2))\n",
        "print(\"Validation accuracy\", round(accuracy_val, 2))"
      ],
      "execution_count": 0,
      "outputs": [
        {
          "output_type": "stream",
          "text": [
            "Training accuracy 0.73\n",
            "Validation accuracy 0.72\n"
          ],
          "name": "stdout"
        }
      ]
    },
    {
      "cell_type": "code",
      "metadata": {
        "colab_type": "code",
        "id": "Hi9UviK5u0st",
        "outputId": "369711cf-42cd-4a19-ff4b-48dcfde325fd",
        "colab": {
          "base_uri": "https://localhost:8080/",
          "height": 283
        }
      },
      "source": [
        "plt.scatter(X_train[:,0], X_train[:,1], c=Y_pred_binarised_train, cmap = my_cmap, s = 15*(np.abs(Y_pred_binarised_train-Y_train)+.2))"
      ],
      "execution_count": 0,
      "outputs": [
        {
          "output_type": "execute_result",
          "data": {
            "text/plain": [
              "<matplotlib.collections.PathCollection at 0x7f49554c4a58>"
            ]
          },
          "metadata": {
            "tags": []
          },
          "execution_count": 14
        },
        {
          "output_type": "display_data",
          "data": {
            "image/png": "[encoded data removed]",
            "text/plain": [
              "<Figure size 432x288 with 1 Axes>"
            ]
          },
          "metadata": {
            "tags": [],
            "needs_background": "light"
          }
        }
      ]
    },
    {
      "cell_type": "markdown",
      "metadata": {
        "id": "3ZcstMWa1_cc",
        "colab_type": "text"
      },
      "source": [
        "### Note most points are classified correctly"
      ]
    },
    {
      "cell_type": "code",
      "metadata": {
        "colab_type": "code",
        "id": "PfZ2U2XPu0s4",
        "colab": {}
      },
      "source": [
        ""
      ],
      "execution_count": 0,
      "outputs": []
    },
    {
      "cell_type": "markdown",
      "metadata": {
        "id": "fxbtC5lu276B",
        "colab_type": "text"
      },
      "source": [
        "# Multi class classification"
      ]
    },
    {
      "cell_type": "code",
      "metadata": {
        "id": "Vzz7WA8_3BpO",
        "colab_type": "code",
        "outputId": "ee3219ba-4d04-411a-a41f-2e5cf15a7c86",
        "colab": {
          "base_uri": "https://localhost:8080/",
          "height": 35
        }
      },
      "source": [
        "# No more binary classification (which as seen in the graph, had 2 colors only)\n",
        "X_train, X_val, Y_train, Y_val = train_test_split(data, labels_orig, stratify = labels_orig, random_state = 0)\n",
        "print(X_train.shape, X_val.shape, labels_orig.shape)"
      ],
      "execution_count": 0,
      "outputs": [
        {
          "output_type": "stream",
          "text": [
            "(750, 2) (250, 2) (1000,)\n"
          ],
          "name": "stdout"
        }
      ]
    },
    {
      "cell_type": "code",
      "metadata": {
        "id": "rsAhQvVM3Za5",
        "colab_type": "code",
        "outputId": "1b6418ea-da6d-48db-ce1a-25c62de089fd",
        "colab": {
          "base_uri": "https://localhost:8080/",
          "height": 35
        }
      },
      "source": [
        "enc = OneHotEncoder()\n",
        "# label 0 -> (1,0,0,0), label 1 -> (0,1,0,0)\n",
        "y_OH_train = enc.fit_transform(np.expand_dims(Y_train,1)).toarray()\n",
        "y_OH_val = enc.fit_transform(np.expand_dims(Y_val,1)).toarray()\n",
        "print(y_OH_train.shape, y_OH_val.shape)"
      ],
      "execution_count": 0,
      "outputs": [
        {
          "output_type": "stream",
          "text": [
            "(750, 4) (250, 4)\n"
          ],
          "name": "stdout"
        }
      ]
    },
    {
      "cell_type": "markdown",
      "metadata": {
        "id": "P2Z-Eu-l3tq1",
        "colab_type": "text"
      },
      "source": [
        "2 inputs and\n",
        "2 layers:  \n",
        "Layer 1 - 2 neurons  \n",
        "Layer 2 (Output layer) - 4 neurons  \n",
        "Thus softmax activation funtion in last layer  \n",
        "Cross Entropy Loss   \n",
        "18 parameters = \n",
        "(2*2 + 2*4 = 12 wts) and 6 b's\n"
      ]
    },
    {
      "cell_type": "code",
      "metadata": {
        "id": "cOS2Ph_53b3t",
        "colab_type": "code",
        "colab": {}
      },
      "source": [
        "class FFSN_MultiClass:\n",
        "  # Using vectors throughout to simplify computations\n",
        "\n",
        "  def __init__(self): # hidden_sizes, comma separated values of number of neurons in each hidden layer\n",
        "\n",
        "    self.w1 = np.random.randn()\n",
        "    self.w2 = np.random.randn()\n",
        "    self.w3 = np.random.randn()\n",
        "    self.w4 = np.random.randn()\n",
        "    self.w5= np.random.randn()\n",
        "    self.w6 = np.random.randn()\n",
        "    self.w7 = np.random.randn()\n",
        "    self.w8 = np.random.randn()\n",
        "    self.w9 = np.random.randn()\n",
        "    self.w10 = np.random.randn()\n",
        "    self.w11 = np.random.randn()\n",
        "    self.w12 = np.random.randn()\n",
        "    self.b1 = 0\n",
        "    self.b2 = 0\n",
        "    self.b3 = 0\n",
        "    self.b4 = 0\n",
        "    self.b5 = 0\n",
        "    self.b6 = 0\n",
        "\n",
        "    \n",
        "  def sigmoid(self,x):\n",
        "      return 1.0/(1.0+np.exp(-x))\n",
        "\n",
        "  def forward_pass(self,x):\n",
        "      # input layer \n",
        "      self.x1, self.x2 = x\n",
        "\n",
        "      # hidden layer\n",
        "      self.a1 = self.w1*self.x1 + self.w2*self.x2 + self.b1\n",
        "      self.h1 = self.sigmoid(self.a1)\n",
        "      self.a2 = self.w3*self.x1 + self.w4*self.x2 + self.b2\n",
        "      self.h2 = self.sigmoid(self.a2)\n",
        "\n",
        "      # output layer\n",
        "      self.a3 = self.w5*self.h1 + self.w6*self.h2 + self.b3\n",
        "      self.a4 = self.w7*self.h1 + self.w8*self.h2 + self.b3\n",
        "      self.a5 = self.w9*self.h1 + self.w10*self.h2 + self.b3\n",
        "      self.a6 = self.w11*self.h1 + self.w12*self.h2 + self.b3\n",
        "\n",
        "      # Softmax\n",
        "      sum_exps = np.sum([np.exp(self.a3),np.exp(self.a4),np.exp(self.a5),np.exp(self.a6)])\n",
        "\n",
        "      self.h3 = np.exp(self.a3)/sum_exps\n",
        "      self.h4 = np.exp(self.a4)/sum_exps\n",
        "      self.h5 = np.exp(self.a5)/sum_exps\n",
        "      self.h6 = np.exp(self.a6)/sum_exps\n",
        "\n",
        "\n",
        "      # return probability(output) corresponding to each label/class\n",
        "      return np.array([self.h3,self.h4,self.h5,self.h6])\n",
        "\n",
        "\n",
        "  def grad(self,x,y):\n",
        "      self.forward_pass(x)\n",
        "      # Splittng the actual output (thus getting the \"one hot encoding\")\n",
        "      self.y1, self.y2, self.y3, self.y4 = np.array(y)\n",
        "\n",
        "      # Using self.dw's since they then belong to the class, don't have to return the array of so many parameters (easy way to return)\n",
        "\n",
        "      # Output layer\n",
        "      # Chain rule when applied to softmax function so just -(y-y') (not sigmoid unlike binary classification where derivative was y'(1-y'))\n",
        "      self.dw5 = (self.h3-self.y1)*self.h1 \n",
        "      self.dw6 = (self.h3-self.y1)*self.h2\n",
        "      self.db3 = (self.h3-self.y1)\n",
        "\n",
        "      self.dw7 = (self.h4-self.y2)*self.h1\n",
        "      self.dw8 = (self.h4-self.y2)*self.h2\n",
        "      self.db4 = (self.h4-self.y2)\n",
        "\n",
        "      self.dw9 = (self.h5-self.y3)*self.h1 # x(input) is h1\n",
        "      self.dw10 = (self.h5-self.y3)*self.h2\n",
        "      self.db5 = (self.h5-self.y3)\n",
        "\n",
        "      self.dw11 = (self.h6-self.y4)*self.h1 # x(input) is h1\n",
        "      self.dw12 = (self.h6-self.y4)*self.h2\n",
        "      self.db6 = (self.h6-self.y4)\n",
        "\n",
        "      # First hidden layer\n",
        "      # This time compute dh1 since h1 depends on many terms (all h3,h4,h5,h6), so apply chain rule to each\n",
        "      self.dh1 = (self.h3-self.y1)*(self.w5) + (self.h4-self.y2)*(self.w7) + (self.h5-self.y3)*(self.w9) + (self.h6-self.y4)*(self.w11)\n",
        "      # use dh1 - easier\n",
        "      self.dw1 = self.dh1*self.h1*(1-self.h1)*self.x1\n",
        "      self.dw2 = self.dh1*self.h1*(1-self.h1)*self.x2\n",
        "      self.db1 = self.dh1*self.h1*(1-self.h1)\n",
        "\n",
        "      self.dh2 = (self.h3-self.y1)*(self.w6) + (self.h4-self.y2)*(self.w8) + (self.h5-self.y3)*(self.w10) + (self.h6-self.y4)*(self.w12)\n",
        "      self.dw3 = self.dh2*self.h2*(1-self.h2)*self.x1\n",
        "      self.dw4 = self.dh2*self.h2*(1-self.h2)*self.x2\n",
        "      self.db2 = self.dh2*self.h2*(1-self.h2)\n",
        "  \n",
        "\n",
        "  def fit(self, X, Y, epochs = 1, learning_rate = 1, initialise = True, display_loss = True):\n",
        "\n",
        "    if display_loss:\n",
        "      loss = {}\n",
        "\n",
        "    for i in tqdm_notebook(range(epochs), total = epochs, unit = \"epoch\"):\n",
        "      dw1, dw2, dw3, dw4, dw5, dw6, dw7, dw8, dw9, dw10, dw11, dw12, db1, db2, db3, db4, db5, db6 = [0]*18\n",
        "\n",
        "      for x,y in zip(X,Y):\n",
        "        self.grad(x,y)\n",
        "        # accumulating values for each input, i.e. appending to the list for each value\n",
        "        dw1 += self.dw1\n",
        "        dw2 += self.dw2\n",
        "        dw3 += self.dw3\n",
        "        dw4 += self.dw4\n",
        "        dw5 += self.dw5\n",
        "        dw6 += self.dw6\n",
        "        dw7 += self.dw7\n",
        "        dw8 += self.dw8\n",
        "        dw9 += self.dw9\n",
        "        dw10 += self.dw10\n",
        "        dw11 += self.dw11\n",
        "        dw12 += self.dw12\n",
        "        db1 += self.db1\n",
        "        db2 += self.db2\n",
        "        db3 += self.db3\n",
        "        db4 += self.db4\n",
        "        db5 += self.db5\n",
        "        db6 += self.db6\n",
        "\n",
        "\n",
        "\n",
        "      m = X.shape[1] \n",
        "\n",
        "      self.w1 -= learning_rate * dw1 / m\n",
        "      self.w2 -= learning_rate * dw2 / m\n",
        "      self.w3 -= learning_rate * dw3 / m\n",
        "      self.w4 -= learning_rate * dw4 / m\n",
        "      self.w5 -= learning_rate * dw5 / m\n",
        "      self.w6 -= learning_rate * dw6 / m\n",
        "      self.w7 -= learning_rate * dw7 / m\n",
        "      self.w8 -= learning_rate * dw8 / m\n",
        "      self.w9 -= learning_rate * dw9 / m\n",
        "      self.w10 -= learning_rate * dw10 / m\n",
        "      self.w11 -= learning_rate * dw11 / m\n",
        "      self.w12 -= learning_rate * dw12 / m\n",
        "      self.b1 -= learning_rate * db1 / m\n",
        "      self.b2 -= learning_rate * db2 / m\n",
        "      self.b3 -= learning_rate * db3 / m\n",
        "      self.b4 -= learning_rate * db4 / m\n",
        "      self.b5 -= learning_rate * db5 / m\n",
        "      self.b6 -= learning_rate * db6 / m\n",
        "\n",
        "      if(display_loss):\n",
        "        Y_pred = self.predict(X)\n",
        "        loss[i] = mean_squared_error(Y, Y_pred)\n",
        "\n",
        "\n",
        "    if display_loss:\n",
        "      plt.plot(np.array(list(loss.values())))\n",
        "      plt.xlabel(\"Epochs\")\n",
        "      plt.ylabel(\"Mean Squared Error\")\n",
        "      plt.show()\n",
        "\n",
        "\n",
        "\n",
        "    # Finally, predict\n",
        "  def predict(self, X):\n",
        "      Y_pred = []\n",
        "      for x in X: \n",
        "        y_pred = self.forward_pass(x) # Predict output on each \"pair\" of inputs (of the two features)\n",
        "        Y_pred.append(y_pred)\n",
        "      return np.array(Y_pred)\n"
      ],
      "execution_count": 0,
      "outputs": []
    },
    {
      "cell_type": "code",
      "metadata": {
        "id": "BKf3t1uZA5NX",
        "colab_type": "code",
        "outputId": "4a68c130-3e60-4398-a803-766f153dc163",
        "colab": {
          "base_uri": "https://localhost:8080/",
          "height": 366,
          "referenced_widgets": [
            "7242d215e71f4fc5b539490741056c9e",
            "aea32d3200964262aa9f7a0f426563f9",
            "d787911a02a44872b20b2be1f525dc46",
            "8c861c30d4284b46b687d7ec0b0e1492",
            "61fa9dadb4bb4f5ea6366bae307f334b",
            "291d44c5be3e471b8348d4332bda8d37",
            "9faaeaa6744a482f863632aac1c7eef0",
            "0623599bd1d64c4883994a7c00d3e78d"
          ]
        }
      },
      "source": [
        "ffsn_multiclass = FFSN_MultiClass()\n",
        "\n",
        "# Was getting a bad error. Realised had passed Y_train instead of y_OH_train\n",
        "# Loss significantly reduced on 1000, 0.1 -> 2000, 0.01 . Also note how loss gradually decreases unlike the irregular rise and fall\n",
        "ffsn_multiclass.fit(X_train, y_OH_train, epochs = 2000, learning_rate = 0.001, display_loss=True)"
      ],
      "execution_count": 0,
      "outputs": [
        {
          "output_type": "stream",
          "text": [
            "/usr/local/lib/python3.6/dist-packages/ipykernel_launcher.py:102: TqdmDeprecationWarning: This function will be removed in tqdm==5.0.0\n",
            "Please use `tqdm.notebook.tqdm` instead of `tqdm.tqdm_notebook`\n"
          ],
          "name": "stderr"
        },
        {
          "output_type": "display_data",
          "data": {
            "application/vnd.jupyter.widget-view+json": {
              "model_id": "7242d215e71f4fc5b539490741056c9e",
              "version_minor": 0,
              "version_major": 2
            },
            "text/plain": [
              "HBox(children=(IntProgress(value=0, max=2000), HTML(value='')))"
            ]
          },
          "metadata": {
            "tags": []
          }
        },
        {
          "output_type": "stream",
          "text": [
            "\n"
          ],
          "name": "stdout"
        },
        {
          "output_type": "display_data",
          "data": {
            "image/png": "[encoded data removed]",
            "text/plain": [
              "<Figure size 432x288 with 1 Axes>"
            ]
          },
          "metadata": {
            "tags": [],
            "needs_background": "light"
          }
        }
      ]
    },
    {
      "cell_type": "code",
      "metadata": {
        "id": "yQfg0CeKBl4W",
        "colab_type": "code",
        "outputId": "ccadbe76-5389-4015-cf5c-2c00e982584a",
        "colab": {
          "base_uri": "https://localhost:8080/",
          "height": 399
        }
      },
      "source": [
        "print(Y_train)"
      ],
      "execution_count": 0,
      "outputs": [
        {
          "output_type": "stream",
          "text": [
            "[0 3 3 2 2 0 3 2 0 1 0 3 1 3 1 2 1 0 2 2 2 1 0 2 2 2 0 3 2 1 3 2 3 2 1 2 0\n",
            " 1 2 2 3 2 1 1 0 3 2 3 3 0 0 2 2 0 0 0 2 3 0 1 0 0 0 1 2 1 0 1 1 0 0 1 0 2\n",
            " 1 3 2 3 3 2 1 3 2 2 2 3 3 2 2 1 0 1 3 0 1 1 1 2 3 0 1 3 3 0 2 0 0 1 1 1 3\n",
            " 0 2 2 1 1 1 2 2 3 1 3 0 0 1 3 0 3 1 3 2 2 0 1 3 3 3 0 2 3 2 3 3 0 0 2 0 0\n",
            " 3 0 3 0 0 3 0 2 0 3 1 0 0 2 0 0 1 3 3 0 0 3 0 3 0 1 2 2 0 1 0 3 2 0 1 1 1\n",
            " 1 2 1 1 0 0 1 0 2 3 2 3 0 1 3 1 2 1 0 0 3 0 3 3 0 1 3 2 1 3 2 1 3 2 1 1 0\n",
            " 1 2 3 0 2 2 0 0 0 1 2 0 3 3 1 0 1 2 3 2 2 2 2 3 0 2 1 2 0 2 1 0 3 2 3 3 2\n",
            " 0 0 3 2 3 2 1 1 0 3 3 1 0 0 3 1 0 2 0 1 3 1 1 1 1 2 1 0 0 1 1 1 2 3 0 0 2\n",
            " 2 2 0 1 1 3 1 0 3 2 2 2 0 1 2 3 1 0 2 0 1 0 2 2 2 2 1 0 3 3 1 2 1 3 0 1 1\n",
            " 1 2 0 3 0 0 0 3 1 0 1 1 1 3 2 3 2 2 3 2 1 0 2 3 1 1 3 3 1 2 1 2 3 3 2 0 1\n",
            " 1 3 2 2 3 1 3 3 1 0 2 2 3 2 2 0 0 0 0 2 3 0 2 3 0 0 2 0 2 0 3 1 3 3 0 2 3\n",
            " 3 1 1 1 3 2 1 0 3 1 2 1 2 1 0 0 3 3 3 1 1 0 1 1 1 1 3 0 2 2 0 1 1 1 3 0 2\n",
            " 2 3 1 2 2 2 1 0 3 0 2 2 3 2 2 3 1 3 2 0 2 2 0 2 2 2 1 2 0 1 1 2 0 2 1 2 2\n",
            " 3 3 0 2 0 2 0 0 1 3 0 1 1 1 2 3 0 1 3 0 1 3 3 3 3 1 3 2 3 2 2 0 3 1 2 2 3\n",
            " 3 1 0 3 1 0 1 1 1 0 1 2 2 3 3 0 1 3 0 0 2 2 0 1 0 3 0 2 2 0 0 1 3 1 2 3 3\n",
            " 3 3 2 0 2 3 2 3 3 0 1 0 0 1 0 1 0 1 3 0 3 0 3 1 0 0 3 1 2 0 0 0 0 2 1 2 2\n",
            " 1 3 3 1 0 2 1 2 3 3 1 1 2 2 1 0 1 2 3 3 3 3 1 3 3 2 2 0 3 0 0 3 3 3 0 1 1\n",
            " 2 0 3 1 0 3 0 3 3 2 3 3 0 0 1 1 1 3 3 1 3 1 1 1 1 2 2 1 2 1 3 1 1 0 0 3 2\n",
            " 0 2 2 0 0 1 0 3 2 1 2 3 3 1 1 2 0 0 2 2 1 3 2 3 1 1 3 3 1 2 0 0 0 2 1 2 3\n",
            " 3 2 1 3 0 3 3 0 3 0 2 0 2 0 0 1 3 3 3 1 0 2 1 0 2 1 2 3 1 3 2 2 3 3 1 3 1\n",
            " 1 0 2 2 3 2 3 2 3 0]\n"
          ],
          "name": "stdout"
        }
      ]
    },
    {
      "cell_type": "code",
      "metadata": {
        "id": "TW_vHhiBmlu6",
        "colab_type": "code",
        "outputId": "f638f7a4-470e-427a-ef05-103fa3681fac",
        "colab": {
          "base_uri": "https://localhost:8080/",
          "height": 144
        }
      },
      "source": [
        "print(y_OH_train)"
      ],
      "execution_count": 0,
      "outputs": [
        {
          "output_type": "stream",
          "text": [
            "[[1. 0. 0. 0.]\n",
            " [0. 0. 0. 1.]\n",
            " [0. 0. 0. 1.]\n",
            " ...\n",
            " [0. 0. 1. 0.]\n",
            " [0. 0. 0. 1.]\n",
            " [1. 0. 0. 0.]]\n"
          ],
          "name": "stdout"
        }
      ]
    },
    {
      "cell_type": "code",
      "metadata": {
        "id": "HctNA7eum2aV",
        "colab_type": "code",
        "outputId": "eaec55d2-1ac7-46b8-fdc4-47bc5766c972",
        "colab": {
          "base_uri": "https://localhost:8080/",
          "height": 53
        }
      },
      "source": [
        "Y_pred_train = ffsn_multiclass.predict(X_train) # forward pass\n",
        "Y_pred_train_value = np.argmax(Y_pred_train,1)\n",
        "\n",
        "Y_pred_val = ffsn_multiclass.predict(X_val)\n",
        "Y_pred_val_value = np.argmax(Y_pred_val,1)\n",
        "                         \n",
        "accuracy_train = accuracy_score(Y_pred_train_value, Y_train)\n",
        "accuracy_val = accuracy_score(Y_pred_val_value, Y_val)\n",
        "\n",
        "# round to two digits\n",
        "print(\"Training accuracy\", round(accuracy_train,2))\n",
        "print(\"Validation accuracy\", round(accuracy_val, 2))"
      ],
      "execution_count": 0,
      "outputs": [
        {
          "output_type": "stream",
          "text": [
            "Training accuracy 0.76\n",
            "Validation accuracy 0.74\n"
          ],
          "name": "stdout"
        }
      ]
    },
    {
      "cell_type": "code",
      "metadata": {
        "id": "OuItIw-vnYU1",
        "colab_type": "code",
        "outputId": "620b40f3-acea-4860-ccfc-68819a3af72e",
        "colab": {
          "base_uri": "https://localhost:8080/",
          "height": 283
        }
      },
      "source": [
        "plt.scatter(X_train[:,0], X_train[:,1], c=Y_pred_train_value, cmap = my_cmap, s = 15*(np.abs(Y_pred_train_value-Y_train)+.2))"
      ],
      "execution_count": 0,
      "outputs": [
        {
          "output_type": "execute_result",
          "data": {
            "text/plain": [
              "<matplotlib.collections.PathCollection at 0x7f4954f15e48>"
            ]
          },
          "metadata": {
            "tags": []
          },
          "execution_count": 67
        },
        {
          "output_type": "display_data",
          "data": {
            "image/png": "[encoded data removed]",
            "text/plain": [
              "<Figure size 432x288 with 1 Axes>"
            ]
          },
          "metadata": {
            "tags": [],
            "needs_background": "light"
          }
        }
      ]
    },
    {
      "cell_type": "code",
      "metadata": {
        "id": "ensngTlWqPYu",
        "colab_type": "code",
        "colab": {}
      },
      "source": [
        ""
      ],
      "execution_count": 0,
      "outputs": []
    }
  ]
}