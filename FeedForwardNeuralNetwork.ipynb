{
  "nbformat": 4,
  "nbformat_minor": 0,
  "metadata": {
    "colab": {
      "name": "FeedForwardNeuralNetwork.ipynb",
      "provenance": [],
      "collapsed_sections": [
        "kDUSzmctY_BY",
        "rR3glgMgB70p",
        "WNNkwtIcNVPN"
      ],
      "authorship_tag": "ABX9TyOrjmoFvDL+8Fm58K/FKvVK"
    },
    "kernelspec": {
      "name": "python3",
      "display_name": "Python 3"
    },
    "widgets": {
      "application/vnd.jupyter.widget-state+json": {
        "5013a4333c724a359d208dfa198b3991": {
          "model_module": "@jupyter-widgets/controls",
          "model_name": "HBoxModel",
          "state": {
            "_view_name": "HBoxView",
            "_dom_classes": [],
            "_model_name": "HBoxModel",
            "_view_module": "@jupyter-widgets/controls",
            "_model_module_version": "1.5.0",
            "_view_count": null,
            "_view_module_version": "1.5.0",
            "box_style": "",
            "layout": "IPY_MODEL_ae8103ff083d4fbdb93ed21723e9c094",
            "_model_module": "@jupyter-widgets/controls",
            "children": [
              "IPY_MODEL_842f573807294b79b51ec62caeb9263b",
              "IPY_MODEL_50649728a03043a0b03b6520bed25abb"
            ]
          }
        },
        "ae8103ff083d4fbdb93ed21723e9c094": {
          "model_module": "@jupyter-widgets/base",
          "model_name": "LayoutModel",
          "state": {
            "_view_name": "LayoutView",
            "grid_template_rows": null,
            "right": null,
            "justify_content": null,
            "_view_module": "@jupyter-widgets/base",
            "overflow": null,
            "_model_module_version": "1.2.0",
            "_view_count": null,
            "flex_flow": null,
            "width": null,
            "min_width": null,
            "border": null,
            "align_items": null,
            "bottom": null,
            "_model_module": "@jupyter-widgets/base",
            "top": null,
            "grid_column": null,
            "overflow_y": null,
            "overflow_x": null,
            "grid_auto_flow": null,
            "grid_area": null,
            "grid_template_columns": null,
            "flex": null,
            "_model_name": "LayoutModel",
            "justify_items": null,
            "grid_row": null,
            "max_height": null,
            "align_content": null,
            "visibility": null,
            "align_self": null,
            "height": null,
            "min_height": null,
            "padding": null,
            "grid_auto_rows": null,
            "grid_gap": null,
            "max_width": null,
            "order": null,
            "_view_module_version": "1.2.0",
            "grid_template_areas": null,
            "object_position": null,
            "object_fit": null,
            "grid_auto_columns": null,
            "margin": null,
            "display": null,
            "left": null
          }
        },
        "842f573807294b79b51ec62caeb9263b": {
          "model_module": "@jupyter-widgets/controls",
          "model_name": "IntProgressModel",
          "state": {
            "_view_name": "ProgressView",
            "style": "IPY_MODEL_39dffac7863643b68fdbd99136fcd51f",
            "_dom_classes": [],
            "description": "100%",
            "_model_name": "IntProgressModel",
            "bar_style": "success",
            "max": 1000,
            "_view_module": "@jupyter-widgets/controls",
            "_model_module_version": "1.5.0",
            "value": 1000,
            "_view_count": null,
            "_view_module_version": "1.5.0",
            "orientation": "horizontal",
            "min": 0,
            "description_tooltip": null,
            "_model_module": "@jupyter-widgets/controls",
            "layout": "IPY_MODEL_89023705459340a9bb09b9b7117887c4"
          }
        },
        "50649728a03043a0b03b6520bed25abb": {
          "model_module": "@jupyter-widgets/controls",
          "model_name": "HTMLModel",
          "state": {
            "_view_name": "HTMLView",
            "style": "IPY_MODEL_6e10642fd5d74d98acfd0498ffcec408",
            "_dom_classes": [],
            "description": "",
            "_model_name": "HTMLModel",
            "placeholder": "​",
            "_view_module": "@jupyter-widgets/controls",
            "_model_module_version": "1.5.0",
            "value": " 1000/1000 [00:37&lt;00:00, 26.69it/s]",
            "_view_count": null,
            "_view_module_version": "1.5.0",
            "description_tooltip": null,
            "_model_module": "@jupyter-widgets/controls",
            "layout": "IPY_MODEL_58cd1bb19ced488589441f5e962f4751"
          }
        },
        "39dffac7863643b68fdbd99136fcd51f": {
          "model_module": "@jupyter-widgets/controls",
          "model_name": "ProgressStyleModel",
          "state": {
            "_view_name": "StyleView",
            "_model_name": "ProgressStyleModel",
            "description_width": "initial",
            "_view_module": "@jupyter-widgets/base",
            "_model_module_version": "1.5.0",
            "_view_count": null,
            "_view_module_version": "1.2.0",
            "bar_color": null,
            "_model_module": "@jupyter-widgets/controls"
          }
        },
        "89023705459340a9bb09b9b7117887c4": {
          "model_module": "@jupyter-widgets/base",
          "model_name": "LayoutModel",
          "state": {
            "_view_name": "LayoutView",
            "grid_template_rows": null,
            "right": null,
            "justify_content": null,
            "_view_module": "@jupyter-widgets/base",
            "overflow": null,
            "_model_module_version": "1.2.0",
            "_view_count": null,
            "flex_flow": null,
            "width": null,
            "min_width": null,
            "border": null,
            "align_items": null,
            "bottom": null,
            "_model_module": "@jupyter-widgets/base",
            "top": null,
            "grid_column": null,
            "overflow_y": null,
            "overflow_x": null,
            "grid_auto_flow": null,
            "grid_area": null,
            "grid_template_columns": null,
            "flex": null,
            "_model_name": "LayoutModel",
            "justify_items": null,
            "grid_row": null,
            "max_height": null,
            "align_content": null,
            "visibility": null,
            "align_self": null,
            "height": null,
            "min_height": null,
            "padding": null,
            "grid_auto_rows": null,
            "grid_gap": null,
            "max_width": null,
            "order": null,
            "_view_module_version": "1.2.0",
            "grid_template_areas": null,
            "object_position": null,
            "object_fit": null,
            "grid_auto_columns": null,
            "margin": null,
            "display": null,
            "left": null
          }
        },
        "6e10642fd5d74d98acfd0498ffcec408": {
          "model_module": "@jupyter-widgets/controls",
          "model_name": "DescriptionStyleModel",
          "state": {
            "_view_name": "StyleView",
            "_model_name": "DescriptionStyleModel",
            "description_width": "",
            "_view_module": "@jupyter-widgets/base",
            "_model_module_version": "1.5.0",
            "_view_count": null,
            "_view_module_version": "1.2.0",
            "_model_module": "@jupyter-widgets/controls"
          }
        },
        "58cd1bb19ced488589441f5e962f4751": {
          "model_module": "@jupyter-widgets/base",
          "model_name": "LayoutModel",
          "state": {
            "_view_name": "LayoutView",
            "grid_template_rows": null,
            "right": null,
            "justify_content": null,
            "_view_module": "@jupyter-widgets/base",
            "overflow": null,
            "_model_module_version": "1.2.0",
            "_view_count": null,
            "flex_flow": null,
            "width": null,
            "min_width": null,
            "border": null,
            "align_items": null,
            "bottom": null,
            "_model_module": "@jupyter-widgets/base",
            "top": null,
            "grid_column": null,
            "overflow_y": null,
            "overflow_x": null,
            "grid_auto_flow": null,
            "grid_area": null,
            "grid_template_columns": null,
            "flex": null,
            "_model_name": "LayoutModel",
            "justify_items": null,
            "grid_row": null,
            "max_height": null,
            "align_content": null,
            "visibility": null,
            "align_self": null,
            "height": null,
            "min_height": null,
            "padding": null,
            "grid_auto_rows": null,
            "grid_gap": null,
            "max_width": null,
            "order": null,
            "_view_module_version": "1.2.0",
            "grid_template_areas": null,
            "object_position": null,
            "object_fit": null,
            "grid_auto_columns": null,
            "margin": null,
            "display": null,
            "left": null
          }
        },
        "3bede4293d48479f819c5a7463e46b62": {
          "model_module": "@jupyter-widgets/controls",
          "model_name": "HBoxModel",
          "state": {
            "_view_name": "HBoxView",
            "_dom_classes": [],
            "_model_name": "HBoxModel",
            "_view_module": "@jupyter-widgets/controls",
            "_model_module_version": "1.5.0",
            "_view_count": null,
            "_view_module_version": "1.5.0",
            "box_style": "",
            "layout": "IPY_MODEL_d91f6eb0ff8241b1a94cb52415c65681",
            "_model_module": "@jupyter-widgets/controls",
            "children": [
              "IPY_MODEL_2609922d69d24b0dab1c0873c3d38049",
              "IPY_MODEL_f590466b09d840f0b576b5eae5de0810"
            ]
          }
        },
        "d91f6eb0ff8241b1a94cb52415c65681": {
          "model_module": "@jupyter-widgets/base",
          "model_name": "LayoutModel",
          "state": {
            "_view_name": "LayoutView",
            "grid_template_rows": null,
            "right": null,
            "justify_content": null,
            "_view_module": "@jupyter-widgets/base",
            "overflow": null,
            "_model_module_version": "1.2.0",
            "_view_count": null,
            "flex_flow": null,
            "width": null,
            "min_width": null,
            "border": null,
            "align_items": null,
            "bottom": null,
            "_model_module": "@jupyter-widgets/base",
            "top": null,
            "grid_column": null,
            "overflow_y": null,
            "overflow_x": null,
            "grid_auto_flow": null,
            "grid_area": null,
            "grid_template_columns": null,
            "flex": null,
            "_model_name": "LayoutModel",
            "justify_items": null,
            "grid_row": null,
            "max_height": null,
            "align_content": null,
            "visibility": null,
            "align_self": null,
            "height": null,
            "min_height": null,
            "padding": null,
            "grid_auto_rows": null,
            "grid_gap": null,
            "max_width": null,
            "order": null,
            "_view_module_version": "1.2.0",
            "grid_template_areas": null,
            "object_position": null,
            "object_fit": null,
            "grid_auto_columns": null,
            "margin": null,
            "display": null,
            "left": null
          }
        },
        "2609922d69d24b0dab1c0873c3d38049": {
          "model_module": "@jupyter-widgets/controls",
          "model_name": "IntProgressModel",
          "state": {
            "_view_name": "ProgressView",
            "style": "IPY_MODEL_6690a8ef915e40b99d15681ebffbb5e2",
            "_dom_classes": [],
            "description": "100%",
            "_model_name": "IntProgressModel",
            "bar_style": "success",
            "max": 1000,
            "_view_module": "@jupyter-widgets/controls",
            "_model_module_version": "1.5.0",
            "value": 1000,
            "_view_count": null,
            "_view_module_version": "1.5.0",
            "orientation": "horizontal",
            "min": 0,
            "description_tooltip": null,
            "_model_module": "@jupyter-widgets/controls",
            "layout": "IPY_MODEL_10618382712046568e2918dd2d6a139c"
          }
        },
        "f590466b09d840f0b576b5eae5de0810": {
          "model_module": "@jupyter-widgets/controls",
          "model_name": "HTMLModel",
          "state": {
            "_view_name": "HTMLView",
            "style": "IPY_MODEL_9893b713d6e54df59d3966d79450503f",
            "_dom_classes": [],
            "description": "",
            "_model_name": "HTMLModel",
            "placeholder": "​",
            "_view_module": "@jupyter-widgets/controls",
            "_model_module_version": "1.5.0",
            "value": " 1000/1000 [00:36&lt;00:00, 27.25it/s]",
            "_view_count": null,
            "_view_module_version": "1.5.0",
            "description_tooltip": null,
            "_model_module": "@jupyter-widgets/controls",
            "layout": "IPY_MODEL_eb15c8c303c04ed4afda644bad72108d"
          }
        },
        "6690a8ef915e40b99d15681ebffbb5e2": {
          "model_module": "@jupyter-widgets/controls",
          "model_name": "ProgressStyleModel",
          "state": {
            "_view_name": "StyleView",
            "_model_name": "ProgressStyleModel",
            "description_width": "initial",
            "_view_module": "@jupyter-widgets/base",
            "_model_module_version": "1.5.0",
            "_view_count": null,
            "_view_module_version": "1.2.0",
            "bar_color": null,
            "_model_module": "@jupyter-widgets/controls"
          }
        },
        "10618382712046568e2918dd2d6a139c": {
          "model_module": "@jupyter-widgets/base",
          "model_name": "LayoutModel",
          "state": {
            "_view_name": "LayoutView",
            "grid_template_rows": null,
            "right": null,
            "justify_content": null,
            "_view_module": "@jupyter-widgets/base",
            "overflow": null,
            "_model_module_version": "1.2.0",
            "_view_count": null,
            "flex_flow": null,
            "width": null,
            "min_width": null,
            "border": null,
            "align_items": null,
            "bottom": null,
            "_model_module": "@jupyter-widgets/base",
            "top": null,
            "grid_column": null,
            "overflow_y": null,
            "overflow_x": null,
            "grid_auto_flow": null,
            "grid_area": null,
            "grid_template_columns": null,
            "flex": null,
            "_model_name": "LayoutModel",
            "justify_items": null,
            "grid_row": null,
            "max_height": null,
            "align_content": null,
            "visibility": null,
            "align_self": null,
            "height": null,
            "min_height": null,
            "padding": null,
            "grid_auto_rows": null,
            "grid_gap": null,
            "max_width": null,
            "order": null,
            "_view_module_version": "1.2.0",
            "grid_template_areas": null,
            "object_position": null,
            "object_fit": null,
            "grid_auto_columns": null,
            "margin": null,
            "display": null,
            "left": null
          }
        },
        "9893b713d6e54df59d3966d79450503f": {
          "model_module": "@jupyter-widgets/controls",
          "model_name": "DescriptionStyleModel",
          "state": {
            "_view_name": "StyleView",
            "_model_name": "DescriptionStyleModel",
            "description_width": "",
            "_view_module": "@jupyter-widgets/base",
            "_model_module_version": "1.5.0",
            "_view_count": null,
            "_view_module_version": "1.2.0",
            "_model_module": "@jupyter-widgets/controls"
          }
        },
        "eb15c8c303c04ed4afda644bad72108d": {
          "model_module": "@jupyter-widgets/base",
          "model_name": "LayoutModel",
          "state": {
            "_view_name": "LayoutView",
            "grid_template_rows": null,
            "right": null,
            "justify_content": null,
            "_view_module": "@jupyter-widgets/base",
            "overflow": null,
            "_model_module_version": "1.2.0",
            "_view_count": null,
            "flex_flow": null,
            "width": null,
            "min_width": null,
            "border": null,
            "align_items": null,
            "bottom": null,
            "_model_module": "@jupyter-widgets/base",
            "top": null,
            "grid_column": null,
            "overflow_y": null,
            "overflow_x": null,
            "grid_auto_flow": null,
            "grid_area": null,
            "grid_template_columns": null,
            "flex": null,
            "_model_name": "LayoutModel",
            "justify_items": null,
            "grid_row": null,
            "max_height": null,
            "align_content": null,
            "visibility": null,
            "align_self": null,
            "height": null,
            "min_height": null,
            "padding": null,
            "grid_auto_rows": null,
            "grid_gap": null,
            "max_width": null,
            "order": null,
            "_view_module_version": "1.2.0",
            "grid_template_areas": null,
            "object_position": null,
            "object_fit": null,
            "grid_auto_columns": null,
            "margin": null,
            "display": null,
            "left": null
          }
        },
        "42ac8fce63d343ae97810620bc4d865e": {
          "model_module": "@jupyter-widgets/controls",
          "model_name": "HBoxModel",
          "state": {
            "_view_name": "HBoxView",
            "_dom_classes": [],
            "_model_name": "HBoxModel",
            "_view_module": "@jupyter-widgets/controls",
            "_model_module_version": "1.5.0",
            "_view_count": null,
            "_view_module_version": "1.5.0",
            "box_style": "",
            "layout": "IPY_MODEL_93bedaecb5de44798828708dbe3e64da",
            "_model_module": "@jupyter-widgets/controls",
            "children": [
              "IPY_MODEL_0bbc3b2eac674eafb37bf74257dd3c65",
              "IPY_MODEL_f4808dbf61ff4fdb88628d758413f724"
            ]
          }
        },
        "93bedaecb5de44798828708dbe3e64da": {
          "model_module": "@jupyter-widgets/base",
          "model_name": "LayoutModel",
          "state": {
            "_view_name": "LayoutView",
            "grid_template_rows": null,
            "right": null,
            "justify_content": null,
            "_view_module": "@jupyter-widgets/base",
            "overflow": null,
            "_model_module_version": "1.2.0",
            "_view_count": null,
            "flex_flow": null,
            "width": null,
            "min_width": null,
            "border": null,
            "align_items": null,
            "bottom": null,
            "_model_module": "@jupyter-widgets/base",
            "top": null,
            "grid_column": null,
            "overflow_y": null,
            "overflow_x": null,
            "grid_auto_flow": null,
            "grid_area": null,
            "grid_template_columns": null,
            "flex": null,
            "_model_name": "LayoutModel",
            "justify_items": null,
            "grid_row": null,
            "max_height": null,
            "align_content": null,
            "visibility": null,
            "align_self": null,
            "height": null,
            "min_height": null,
            "padding": null,
            "grid_auto_rows": null,
            "grid_gap": null,
            "max_width": null,
            "order": null,
            "_view_module_version": "1.2.0",
            "grid_template_areas": null,
            "object_position": null,
            "object_fit": null,
            "grid_auto_columns": null,
            "margin": null,
            "display": null,
            "left": null
          }
        },
        "0bbc3b2eac674eafb37bf74257dd3c65": {
          "model_module": "@jupyter-widgets/controls",
          "model_name": "IntProgressModel",
          "state": {
            "_view_name": "ProgressView",
            "style": "IPY_MODEL_ab45628f62f44413b717d8f686c9fbee",
            "_dom_classes": [],
            "description": "  0%",
            "_model_name": "IntProgressModel",
            "bar_style": "danger",
            "max": 1000,
            "_view_module": "@jupyter-widgets/controls",
            "_model_module_version": "1.5.0",
            "value": 0,
            "_view_count": null,
            "_view_module_version": "1.5.0",
            "orientation": "horizontal",
            "min": 0,
            "description_tooltip": null,
            "_model_module": "@jupyter-widgets/controls",
            "layout": "IPY_MODEL_2a257c9bea0946bb82d88824e734c656"
          }
        },
        "f4808dbf61ff4fdb88628d758413f724": {
          "model_module": "@jupyter-widgets/controls",
          "model_name": "HTMLModel",
          "state": {
            "_view_name": "HTMLView",
            "style": "IPY_MODEL_c1b6b37482be455587d1f73d41ffff03",
            "_dom_classes": [],
            "description": "",
            "_model_name": "HTMLModel",
            "placeholder": "​",
            "_view_module": "@jupyter-widgets/controls",
            "_model_module_version": "1.5.0",
            "value": " 0/1000 [00:00&lt;?, ?epoch/s]",
            "_view_count": null,
            "_view_module_version": "1.5.0",
            "description_tooltip": null,
            "_model_module": "@jupyter-widgets/controls",
            "layout": "IPY_MODEL_3c2682eba38540f4aa903e911d9f62af"
          }
        },
        "ab45628f62f44413b717d8f686c9fbee": {
          "model_module": "@jupyter-widgets/controls",
          "model_name": "ProgressStyleModel",
          "state": {
            "_view_name": "StyleView",
            "_model_name": "ProgressStyleModel",
            "description_width": "initial",
            "_view_module": "@jupyter-widgets/base",
            "_model_module_version": "1.5.0",
            "_view_count": null,
            "_view_module_version": "1.2.0",
            "bar_color": null,
            "_model_module": "@jupyter-widgets/controls"
          }
        },
        "2a257c9bea0946bb82d88824e734c656": {
          "model_module": "@jupyter-widgets/base",
          "model_name": "LayoutModel",
          "state": {
            "_view_name": "LayoutView",
            "grid_template_rows": null,
            "right": null,
            "justify_content": null,
            "_view_module": "@jupyter-widgets/base",
            "overflow": null,
            "_model_module_version": "1.2.0",
            "_view_count": null,
            "flex_flow": null,
            "width": null,
            "min_width": null,
            "border": null,
            "align_items": null,
            "bottom": null,
            "_model_module": "@jupyter-widgets/base",
            "top": null,
            "grid_column": null,
            "overflow_y": null,
            "overflow_x": null,
            "grid_auto_flow": null,
            "grid_area": null,
            "grid_template_columns": null,
            "flex": null,
            "_model_name": "LayoutModel",
            "justify_items": null,
            "grid_row": null,
            "max_height": null,
            "align_content": null,
            "visibility": null,
            "align_self": null,
            "height": null,
            "min_height": null,
            "padding": null,
            "grid_auto_rows": null,
            "grid_gap": null,
            "max_width": null,
            "order": null,
            "_view_module_version": "1.2.0",
            "grid_template_areas": null,
            "object_position": null,
            "object_fit": null,
            "grid_auto_columns": null,
            "margin": null,
            "display": null,
            "left": null
          }
        },
        "c1b6b37482be455587d1f73d41ffff03": {
          "model_module": "@jupyter-widgets/controls",
          "model_name": "DescriptionStyleModel",
          "state": {
            "_view_name": "StyleView",
            "_model_name": "DescriptionStyleModel",
            "description_width": "",
            "_view_module": "@jupyter-widgets/base",
            "_model_module_version": "1.5.0",
            "_view_count": null,
            "_view_module_version": "1.2.0",
            "_model_module": "@jupyter-widgets/controls"
          }
        },
        "3c2682eba38540f4aa903e911d9f62af": {
          "model_module": "@jupyter-widgets/base",
          "model_name": "LayoutModel",
          "state": {
            "_view_name": "LayoutView",
            "grid_template_rows": null,
            "right": null,
            "justify_content": null,
            "_view_module": "@jupyter-widgets/base",
            "overflow": null,
            "_model_module_version": "1.2.0",
            "_view_count": null,
            "flex_flow": null,
            "width": null,
            "min_width": null,
            "border": null,
            "align_items": null,
            "bottom": null,
            "_model_module": "@jupyter-widgets/base",
            "top": null,
            "grid_column": null,
            "overflow_y": null,
            "overflow_x": null,
            "grid_auto_flow": null,
            "grid_area": null,
            "grid_template_columns": null,
            "flex": null,
            "_model_name": "LayoutModel",
            "justify_items": null,
            "grid_row": null,
            "max_height": null,
            "align_content": null,
            "visibility": null,
            "align_self": null,
            "height": null,
            "min_height": null,
            "padding": null,
            "grid_auto_rows": null,
            "grid_gap": null,
            "max_width": null,
            "order": null,
            "_view_module_version": "1.2.0",
            "grid_template_areas": null,
            "object_position": null,
            "object_fit": null,
            "grid_auto_columns": null,
            "margin": null,
            "display": null,
            "left": null
          }
        }
      }
    }
  },
  "cells": [
    {
      "cell_type": "markdown",
      "metadata": {
        "id": "A_s5jK9fKera",
        "colab_type": "text"
      },
      "source": [
        "### Outline\n",
        "\n",
        "\n",
        "1.   Generate data that is not linearly separable\n",
        "2.   Train with Sigmoid Neuron and see performance\n",
        "3.   Write from scratch our first feed forward network\n",
        "4.   Train the FF network on the data compare with SN\n",
        "5.   Write a generic class on binary classification\n",
        "6.   Train a generic class on binary classification\n",
        "7.   Generate data for multi-class  classification\n",
        "8.   Train a FF network for Point 7\n",
        "9.   Use softmax as the output layer and cross-entropy loss function \n",
        "10.  Train with Point 8 for multi-class classification\n",
        "11.  Exercises on other datasets\n",
        "\n"
      ]
    },
    {
      "cell_type": "code",
      "metadata": {
        "id": "KlDHqSt8KQOg",
        "colab_type": "code",
        "colab": {}
      },
      "source": [
        "import numpy as np\n",
        "import matplotlib.pyplot as plt\n",
        "import matplotlib.colors # for custom colors\n",
        "import pandas as pd\n",
        "from sklearn.model_selection import train_test_split\n",
        "from sklearn.metrics import accuracy_score, mean_squared_error\n",
        "from tqdm import tqdm_notebook # to show the progress bar for execution, e.g. when epochs are running\n",
        "\n",
        "from sklearn.preprocessing import OneHotEncoder\n",
        "from sklearn.datasets import make_blobs # to generate data that is not linearly separable and such other tasks. Popularly used in ML tasks to create data."
      ],
      "execution_count": 0,
      "outputs": []
    },
    {
      "cell_type": "code",
      "metadata": {
        "id": "miriTkx7PwoQ",
        "colab_type": "code",
        "colab": {}
      },
      "source": [
        "# For forward pass\n",
        "# Two steps: \n",
        "# Preactivation calculated by perceptron function\n",
        "# Activation computed by applying activation function, i.e. sigmoid function on perceptron's output\n",
        "\n",
        "class SigmoidNeuron:\n",
        "  def __init__(self): # initialise the parameters\n",
        "    self.w=None\n",
        "    self.b=None\n",
        "  \n",
        "  # Computing the sigmoid function - split into 2 steps -> perceptron + sigmoid (which works on top of sigmoid)\n",
        "  def perceptron(self,x): #vectors\n",
        "    return np.dot(x,self.w.T)+self.b\n",
        "\n",
        "  def sigmoid(self,x):\n",
        "    return 1.0/(1.0+np.exp(-x)) # \".0\" to allow floating point numbers\n",
        "\n",
        "  # Below two functions when loss is taken as mean squared error loss\n",
        "  def grad_w_mse(self,x,y):\n",
        "    y_pred = self.sigmoid(self.perceptron(x))\n",
        "    return (y_pred-y)*y_pred*(1-y_pred)*x\n",
        "\n",
        "  def grad_b_mse(self,x,y):\n",
        "    y_pred = self.sigmoid(self.perceptron(x))\n",
        "    return (y_pred-y)*y_pred*(1-y_pred)\n",
        "\n",
        "  # Below two functions when we are considering cross entropy loss\n",
        "  def grad_w_ce(self,x,y):\n",
        "    y_pred = self.sigmoid(self.perceptron(x))\n",
        "    if y==0:\n",
        "      return y_pred*x\n",
        "    elif y==1:\n",
        "      return -1 * (1-y_pred)*x\n",
        "    else:\n",
        "      raise ValueError(\"y should be 0 or 1\")\n",
        "\n",
        "  def grad_b_ce(self,x,y):\n",
        "    y_pred = self.sigmoid(self.perceptron(x))\n",
        "    if y==0:\n",
        "      return y_pred\n",
        "    elif y==1:\n",
        "      return -1 * (1-y_pred)\n",
        "    else:\n",
        "      raise ValueError(\"y should be 0 or 1\")\n",
        "\n",
        "  # Fitting parameters into model\n",
        "  def fit(self, X, Y, epochs = 1, lr = 1, initialise = True, loss_fn = \"mse\", display_loss=False):\n",
        "    # Step 1: initialise w and b\n",
        "    if initialise:\n",
        "      self.w = np.random.randn(1,X.shape[1]) # 1 row and as many weights as parameters (X's shape is (number of experiments,number of parameters = no. of wts))\n",
        "      self.b = 0\n",
        "\n",
        "    if display_loss:\n",
        "      loss = {}\n",
        "          \n",
        "    for i in tqdm_notebook(range(epochs),total=epochs):\n",
        "      dw = 0\n",
        "      db = 0\n",
        "      # Computing gradients\n",
        "      for x,y in zip(X,Y): # X and Y are the actual (x,y)'s\n",
        "        if loss_fn == \"mse\":\n",
        "          dw+=self.grad_w_mse(x,y) # the actual (correct) values of x and y. We find the y_pred in the function (which we are calling) itself.\n",
        "          db+=self.grad_b_mse(x,y)\n",
        "        elif loss_fn == \"ce\":\n",
        "          dw+=self.grad_w_ce(x,y)\n",
        "          db+=self.grad_b_ce(x,y)\n",
        "\n",
        "      m = X.shape[1]\n",
        "      self.w -= lr*dw/m # Divide by m since m data points on which computing gradient. I.e. normalizing it so that don't have to change learning rate depending on how many points in data. /m takes care of it\n",
        "      self.b -= lr*db/m\n",
        "\n",
        "      if(display_loss):\n",
        "        Y_pred = self.sigmoid(self.perceptron(X))\n",
        "        if loss_fn == \"mse\":\n",
        "          loss[i] = mean_squared_error(Y, Y_pred)\n",
        "        elif loss_fn == \"ce\":\n",
        "          loss[i] = log_loss(Y,Y_pred) # Note function for finding cross entropy loss\n",
        "\n",
        "\n",
        "    if display_loss:\n",
        "      plt.plot(np.array(list(loss.values())))\n",
        "      plt.xlabel(\"Epochs\")\n",
        "      if loss_fn == \"mse\":\n",
        "        plt.ylabel(\"Mean Squared Error\") # The accuracy metric for sigmoid neuron\n",
        "      elif loss_fn == \"ce\":\n",
        "        plt.ylabel(\"Log Loss\") # The accuracy metric for sigmoid neuron\n",
        "      plt.show()\n",
        "\n",
        "  def predict(self,X):\n",
        "    # model has been trained already\n",
        "    Y_pred = []\n",
        "    for x in X: \n",
        "      y_pred = self.sigmoid(self.perceptron(x))\n",
        "      Y_pred.append(y_pred)\n",
        "    return np.array(Y_pred)\n",
        "\n",
        "      "
      ],
      "execution_count": 0,
      "outputs": []
    },
    {
      "cell_type": "markdown",
      "metadata": {
        "id": "dDCeQhEhR4_A",
        "colab_type": "text"
      },
      "source": [
        "Thus, class has these basic things:\n",
        "1. Initialises the paramters\n",
        "2. Applying forward pass outputs (preactivation, activation)\n",
        "3. Gradients part\n",
        "4. Fitting/training part (where gradient calculated and using that w and b updated)\n",
        "5. Finally predict function"
      ]
    },
    {
      "cell_type": "code",
      "metadata": {
        "id": "PmsYfXD6UD9L",
        "colab_type": "code",
        "colab": {}
      },
      "source": [
        "my_cmap = matplotlib.colors.LinearSegmentedColormap.from_list(\"\",[\"red\",\"yellow\",\"green\"])\n",
        "# 0 maps to red and 1 maps to green"
      ],
      "execution_count": 0,
      "outputs": []
    },
    {
      "cell_type": "code",
      "metadata": {
        "id": "-evu_L6qUQ1x",
        "colab_type": "code",
        "colab": {}
      },
      "source": [
        ""
      ],
      "execution_count": 0,
      "outputs": []
    },
    {
      "cell_type": "markdown",
      "metadata": {
        "id": "OGNILxsZUXrc",
        "colab_type": "text"
      },
      "source": [
        "# Generate Data"
      ]
    },
    {
      "cell_type": "code",
      "metadata": {
        "id": "qRwQvWCoUZym",
        "colab_type": "code",
        "outputId": "97f103b4-289d-4445-beab-dd1f5dc829ae",
        "colab": {
          "base_uri": "https://localhost:8080/",
          "height": 36
        }
      },
      "source": [
        "data, labels = make_blobs(n_samples = 1000, centers = 4, n_features = 2, random_state=0)\n",
        "# n_samples: number of data items\n",
        "# number of input features (i.e. the x1, x2, x3 that comes before the fist hiddent layer), e.g. screen size, cost, etc\n",
        "# centers: clusters (blob) i.e. number of outputs (4-class classification)\n",
        "\n",
        "print(data.shape, labels.shape)\n",
        "# Data = Input : the feature values ; has 1000 rows with 2 (n_features) columns (i/p features)\n",
        "# Labels + Output : For each of the inputs, belongs to one of the 4 classes (centers/labels = 0,1,2,3), thus 1000 dim"
      ],
      "execution_count": 50,
      "outputs": [
        {
          "output_type": "stream",
          "text": [
            "(1000, 2) (1000,)\n"
          ],
          "name": "stdout"
        }
      ]
    },
    {
      "cell_type": "code",
      "metadata": {
        "id": "jEmZUi-TVSpo",
        "colab_type": "code",
        "outputId": "34686653-3fe3-43c3-f189-3b493bfaf56f",
        "colab": {
          "base_uri": "https://localhost:8080/",
          "height": 265
        }
      },
      "source": [
        "plt.scatter(data[:,0], data[:,1], c=labels, cmap = my_cmap)\n",
        "plt.show()\n",
        "# : => first index which refers to the rows (dim 0) => all rows\n",
        "# 0 => second index which refers to the columns (dim 1) => only first column\n",
        "# X axis: first feature values, Y axis: second feature values\n",
        "\n",
        "# c => color => apply color to the points to identify y-values (New way of plotting output!)\n",
        "# 4 colors for 4 centers (classes)\n",
        "\n",
        "# Remember : Red = minimum (center 0), green = maximum (center 3), yellow (center 2), light green (center 2)"
      ],
      "execution_count": 51,
      "outputs": [
        {
          "output_type": "display_data",
          "data": {
            "image/png": "[encoded data removed]",
            "text/plain": [
              "<Figure size 432x288 with 1 Axes>"
            ]
          },
          "metadata": {
            "tags": [],
            "needs_background": "light"
          }
        }
      ]
    },
    {
      "cell_type": "markdown",
      "metadata": {
        "id": "PYWdT61SXpE2",
        "colab_type": "text"
      },
      "source": [
        "### Note the data is non linearly separable"
      ]
    },
    {
      "cell_type": "markdown",
      "metadata": {
        "id": "YlRo3ekJXHpN",
        "colab_type": "text"
      },
      "source": [
        "Thus scatter plot can be used to represent 3 dimensional data (2 i/ps and 1 o/p)"
      ]
    },
    {
      "cell_type": "code",
      "metadata": {
        "id": "VXMy-v99XQ8_",
        "colab_type": "code",
        "colab": {}
      },
      "source": [
        ""
      ],
      "execution_count": 0,
      "outputs": []
    },
    {
      "cell_type": "markdown",
      "metadata": {
        "id": "ZCWbUKNIXak0",
        "colab_type": "text"
      },
      "source": [
        "### We wanted to do binary classification first, but now we have 4 classes (centers), therefore reduce to 2 centers to get binary classification problem. Yet remains non-linearly separable data."
      ]
    },
    {
      "cell_type": "code",
      "metadata": {
        "id": "fE71ZW86Xn3q",
        "colab_type": "code",
        "colab": {}
      },
      "source": [
        "# Convert Class 0 and 2 to one class and the other two to another class\n",
        "labels_orig = labels # Store the array of labels corresponding to each input safely for the 4 class\n",
        "labels = np.mod(labels_orig,2) # labels_orig not modified"
      ],
      "execution_count": 0,
      "outputs": []
    },
    {
      "cell_type": "code",
      "metadata": {
        "id": "KHSmKFMmX-m4",
        "colab_type": "code",
        "outputId": "efa295c2-2cde-453d-f115-39bf4787465e",
        "colab": {
          "base_uri": "https://localhost:8080/",
          "height": 265
        }
      },
      "source": [
        "plt.scatter(data[:,0], data[:,1], c=labels, cmap = my_cmap)\n",
        "plt.show()\n",
        "# Thus only 2 labels now (but the shape of the points are the same)"
      ],
      "execution_count": 53,
      "outputs": [
        {
          "output_type": "display_data",
          "data": {
            "image/png": "[encoded data removed]",
            "text/plain": [
              "<Figure size 432x288 with 1 Axes>"
            ]
          },
          "metadata": {
            "tags": [],
            "needs_background": "light"
          }
        }
      ]
    },
    {
      "cell_type": "markdown",
      "metadata": {
        "id": "rd7wKEeVYUhw",
        "colab_type": "text"
      },
      "source": [
        "Note non linear decision boundary again"
      ]
    },
    {
      "cell_type": "code",
      "metadata": {
        "id": "E6RLKkrnYGi3",
        "colab_type": "code",
        "outputId": "bde61522-1155-411e-d798-2813ed45b0bc",
        "colab": {
          "base_uri": "https://localhost:8080/",
          "height": 36
        }
      },
      "source": [
        "X_train, X_val, Y_train, Y_val = train_test_split(data, labels, stratify = labels, random_state = 0)\n",
        "print(X_train.shape, X_val.shape)\n",
        "\n",
        "# X_val: val => validation set(what we previously referred to as test set)"
      ],
      "execution_count": 54,
      "outputs": [
        {
          "output_type": "stream",
          "text": [
            "(750, 2) (250, 2)\n"
          ],
          "name": "stdout"
        }
      ]
    },
    {
      "cell_type": "code",
      "metadata": {
        "id": "1mzZTeTVYmVn",
        "colab_type": "code",
        "colab": {}
      },
      "source": [
        ""
      ],
      "execution_count": 0,
      "outputs": []
    },
    {
      "cell_type": "markdown",
      "metadata": {
        "id": "kDUSzmctY_BY",
        "colab_type": "text"
      },
      "source": [
        "# Sigmoid Neuron Classification"
      ]
    },
    {
      "cell_type": "markdown",
      "metadata": {
        "id": "CgVZZ4bA47CZ",
        "colab_type": "text"
      },
      "source": [
        "Training"
      ]
    },
    {
      "cell_type": "code",
      "metadata": {
        "id": "1ZJQp7FnZBVv",
        "colab_type": "code",
        "colab": {
          "base_uri": "https://localhost:8080/",
          "height": 367,
          "referenced_widgets": [
            "5013a4333c724a359d208dfa198b3991",
            "ae8103ff083d4fbdb93ed21723e9c094",
            "842f573807294b79b51ec62caeb9263b",
            "50649728a03043a0b03b6520bed25abb",
            "39dffac7863643b68fdbd99136fcd51f",
            "89023705459340a9bb09b9b7117887c4",
            "6e10642fd5d74d98acfd0498ffcec408",
            "58cd1bb19ced488589441f5e962f4751"
          ]
        },
        "outputId": "da60d69c-cc8b-4b16-8091-16e4fbb37e5c"
      },
      "source": [
        "sn = SigmoidNeuron()\n",
        "sn.fit(X_train, Y_train, epochs = 1000, lr = 1, display_loss=True)"
      ],
      "execution_count": 56,
      "outputs": [
        {
          "output_type": "stream",
          "text": [
            "/usr/local/lib/python3.6/dist-packages/ipykernel_launcher.py:52: TqdmDeprecationWarning: This function will be removed in tqdm==5.0.0\n",
            "Please use `tqdm.notebook.tqdm` instead of `tqdm.tqdm_notebook`\n"
          ],
          "name": "stderr"
        },
        {
          "output_type": "display_data",
          "data": {
            "application/vnd.jupyter.widget-view+json": {
              "model_id": "5013a4333c724a359d208dfa198b3991",
              "version_minor": 0,
              "version_major": 2
            },
            "text/plain": [
              "HBox(children=(IntProgress(value=0, max=1000), HTML(value='')))"
            ]
          },
          "metadata": {
            "tags": []
          }
        },
        {
          "output_type": "stream",
          "text": [
            "\n"
          ],
          "name": "stdout"
        },
        {
          "output_type": "display_data",
          "data": {
            "image/png": "[encoded data removed]",
            "text/plain": [
              "<Figure size 432x288 with 1 Axes>"
            ]
          },
          "metadata": {
            "tags": [],
            "needs_background": "light"
          }
        }
      ]
    },
    {
      "cell_type": "code",
      "metadata": {
        "id": "1JbG7qa05EiU",
        "colab_type": "code",
        "colab": {
          "base_uri": "https://localhost:8080/",
          "height": 367,
          "referenced_widgets": [
            "3bede4293d48479f819c5a7463e46b62",
            "d91f6eb0ff8241b1a94cb52415c65681",
            "2609922d69d24b0dab1c0873c3d38049",
            "f590466b09d840f0b576b5eae5de0810",
            "6690a8ef915e40b99d15681ebffbb5e2",
            "10618382712046568e2918dd2d6a139c",
            "9893b713d6e54df59d3966d79450503f",
            "eb15c8c303c04ed4afda644bad72108d"
          ]
        },
        "outputId": "d4c19c4c-e522-42f7-8e37-7799baac9358"
      },
      "source": [
        "sn = SigmoidNeuron()\n",
        "sn.fit(X_train, Y_train, epochs = 1000, lr = 0.5, display_loss=True)"
      ],
      "execution_count": 57,
      "outputs": [
        {
          "output_type": "stream",
          "text": [
            "/usr/local/lib/python3.6/dist-packages/ipykernel_launcher.py:52: TqdmDeprecationWarning: This function will be removed in tqdm==5.0.0\n",
            "Please use `tqdm.notebook.tqdm` instead of `tqdm.tqdm_notebook`\n"
          ],
          "name": "stderr"
        },
        {
          "output_type": "display_data",
          "data": {
            "application/vnd.jupyter.widget-view+json": {
              "model_id": "3bede4293d48479f819c5a7463e46b62",
              "version_minor": 0,
              "version_major": 2
            },
            "text/plain": [
              "HBox(children=(IntProgress(value=0, max=1000), HTML(value='')))"
            ]
          },
          "metadata": {
            "tags": []
          }
        },
        {
          "output_type": "stream",
          "text": [
            "\n"
          ],
          "name": "stdout"
        },
        {
          "output_type": "display_data",
          "data": {
            "image/png": "[encoded data removed]",
            "text/plain": [
              "<Figure size 432x288 with 1 Axes>"
            ]
          },
          "metadata": {
            "tags": [],
            "needs_background": "light"
          }
        }
      ]
    },
    {
      "cell_type": "markdown",
      "metadata": {
        "id": "6CsQF52rbEX7",
        "colab_type": "text"
      },
      "source": [
        "Smoother curve for smaller learning rate. Hence whenever high variations in loss reduction graph, decrease learning rate"
      ]
    },
    {
      "cell_type": "code",
      "metadata": {
        "id": "lva-Epqx5s2t",
        "colab_type": "code",
        "colab": {
          "base_uri": "https://localhost:8080/",
          "height": 54
        },
        "outputId": "4bcec2fc-5b35-4b56-fb32-567144dadb70"
      },
      "source": [
        "Y_pred_train = sn.predict(X_train) # forward pass\n",
        "Y_pred_binarised_train = (Y_pred_train >= 0.5).astype('int').ravel()\n",
        "\n",
        "Y_pred_val = sn.predict(X_val)\n",
        "Y_pred_binarised_val = (Y_pred_val >= 0.5).astype('int').ravel()\n",
        "\n",
        "accuracy_train = accuracy_score(Y_pred_binarised_train, Y_train)\n",
        "accuracy_val = accuracy_score(Y_pred_binarised_val, Y_val)\n",
        "\n",
        "# round to two digits\n",
        "print(\"Training accuracy\", round(accuracy_train,2))\n",
        "print(\"Validation accuracy\", round(accuracy_val, 2))"
      ],
      "execution_count": 29,
      "outputs": [
        {
          "output_type": "stream",
          "text": [
            "Training accuracy 0.67\n",
            "Validation accuracy 0.66\n"
          ],
          "name": "stdout"
        }
      ]
    },
    {
      "cell_type": "markdown",
      "metadata": {
        "id": "_83ESi1a_eTI",
        "colab_type": "text"
      },
      "source": [
        "For a baseline of 0.5 ( i.e. random classifier => when randomly guesses, then accuracy will be 0.5 expectation - randomly red or green), our model is giving 0.7 accuracy. So fairly good, still not yet."
      ]
    },
    {
      "cell_type": "code",
      "metadata": {
        "id": "w5HG3Tvd-qgF",
        "colab_type": "code",
        "colab": {
          "base_uri": "https://localhost:8080/",
          "height": 284
        },
        "outputId": "b83679af-b21b-49d1-95b6-f346a3485483"
      },
      "source": [
        "# Plot our predicted value along with the points\n",
        "plt.scatter(X_train[:,0], X_train[:,1], c=Y_pred_binarised_train, cmap = my_cmap, s = 15*(np.abs(Y_pred_binarised_train-Y_train)+.2))\n",
        "\n",
        "# If predicted correctly Y_pred_binarised - Y_train = 0 => s = 1.5*.2 = 3\n",
        "# If predicted wrongly Y_pred_binarised - Y_train = 1 (since absolute valule of even a small decimal is 1) => s = 1.5*1.2 = 18"
      ],
      "execution_count": 31,
      "outputs": [
        {
          "output_type": "execute_result",
          "data": {
            "text/plain": [
              "<matplotlib.collections.PathCollection at 0x7f19871ffac8>"
            ]
          },
          "metadata": {
            "tags": []
          },
          "execution_count": 31
        },
        {
          "output_type": "display_data",
          "data": {
            "image/png": "[encoded data removed]",
            "text/plain": [
              "<Figure size 432x288 with 1 Axes>"
            ]
          },
          "metadata": {
            "tags": [],
            "needs_background": "light"
          }
        }
      ]
    },
    {
      "cell_type": "markdown",
      "metadata": {
        "id": "W9SCdH3WAaBa",
        "colab_type": "text"
      },
      "source": [
        "#### Colour represents \"predicted\" values.   \n",
        "Size represents difference between predicted and real value.  \n",
        "Hence, small points (size = 3) represents values correctly predicted, while the large points (size = 18) represents those wrongly predicted"
      ]
    },
    {
      "cell_type": "markdown",
      "metadata": {
        "id": "bADz8WifA7lj",
        "colab_type": "text"
      },
      "source": [
        "#### Hence 4D plot (2 input features, one output feature - predicted value, and finally one more feature representing the correctness of the prediction."
      ]
    },
    {
      "cell_type": "markdown",
      "metadata": {
        "id": "QEVHwPNVBJnk",
        "colab_type": "text"
      },
      "source": [
        "### Hence, as expected it is just impossible for a sigmoid neuron to classify non linearly separated data points.   \n",
        "\n",
        "### Therefore have to move to feed forward neural networks."
      ]
    },
    {
      "cell_type": "code",
      "metadata": {
        "id": "0cwhKlQLAPKN",
        "colab_type": "code",
        "colab": {}
      },
      "source": [
        ""
      ],
      "execution_count": 0,
      "outputs": []
    },
    {
      "cell_type": "markdown",
      "metadata": {
        "id": "rR3glgMgB70p",
        "colab_type": "text"
      },
      "source": [
        "# First Feedforward Neural Network"
      ]
    },
    {
      "cell_type": "markdown",
      "metadata": {
        "id": "x81jn01RCM9F",
        "colab_type": "text"
      },
      "source": [
        "A simple neural network. Two inputs, two neurons in one hidden layer, and one neuron in output layer.\n",
        "\n",
        "Thus 2 x's, 6 weights, 3 biases => 9 parameters with 2 inputs"
      ]
    },
    {
      "cell_type": "code",
      "metadata": {
        "id": "NybefiZMCAPn",
        "colab_type": "code",
        "colab": {}
      },
      "source": [
        "class FirstFFNetwork:\n",
        "\n",
        "  # First initialise\n",
        "  def __init__(self):\n",
        "    self.w1 = np.random.randn()\n",
        "    self.w2 = np.random.randn()\n",
        "    self.w3 = np.random.randn()\n",
        "    self.w4 = np.random.randn()\n",
        "    self.w5 = np.random.randn()\n",
        "    self.w6 = np.random.randn()\n",
        "    self.b1 = 0\n",
        "    self.b2 = 0\n",
        "    self.b3 = 0\n",
        "\n",
        "  # Next, sigmoid\n",
        "  def sigmoid(self,x):\n",
        "    return 1.0/(1.0+np.exp(-x))\n",
        "\n",
        "  def forward_pass(self,x):\n",
        "    self.x1, self.x2 = x; # Splitting the two input columns to the two corresponding two variables\n",
        "    # Hence x1 contains all the values for the first feature and x2 all the second feature values\n",
        "    self.a1 = self.w1 * self.x1 + self.w2 * self.x2 + self.b1\n",
        "    self.h1 = self.sigmoid(self.a1)\n",
        "    self.a2 = self.w3 * self.x1 + self.w4 * self.x2 + self.b2\n",
        "    self.h2 = self.sigmoid(self.a2)\n",
        "    self.a3 = self.w5 * self.h1 + self.w6 * self.h2 + self.b3\n",
        "    self.h3 = self.sigmoid(self.a3)\n",
        "    return self.h3\n",
        "\n",
        "  # Then, grad\n",
        "  def grad(self, x, y):\n",
        "    # given certain values of x and y, computes the changes to be made to the parameters using gradient\n",
        "    self.forward_pass(x)\n",
        "\n",
        "    self.dw5 = (self.h3-y) * self.h3*(1-self.h3) * self.h1\n",
        "    self.dw5 = (self.h3-y) * self.h3*(1-self.h3) * self.h2\n",
        "    self.db3 = (self.h3-y) * (1-self.h3)\n",
        "\n",
        "    self.dw1 = (self.h3-y) * self.h3*(1-self.h3) * self.w5 * self.h1 * (1-self.h1) * \n",
        "\n",
        "  # Then, fit\n",
        "  def fit(self, X, Y, epochs = 1, learning_rate = 1, initialise = True, display_loss = True):\n",
        "\n",
        "    #initialise w,b\n",
        "    if initialise:\n",
        "      self.w1 = np.random.randn()\n",
        "      self.w2 = np.random.randn()\n",
        "      self.w3 = np.random.randn()\n",
        "      self.w4 = np.random.randn()\n",
        "      self.w5 = np.random.randn()\n",
        "      self.w6 = np.random.randn()\n",
        "      self.b1 = 0\n",
        "      self.b2 = 0\n",
        "      self.b3 = 0\n",
        "\n",
        "    for i in tqdm_notebook(range(epochs), total = epochs, unit = \"epoch\"):\n",
        "      dw1, dw2, dw3, dw4, dw5, dw6, db1, db2, db3 = [0]*9 # Broadcasting to 9 zeroes and assigning each zero to one variable\n",
        "\n",
        "      for x,y in zip(X,Y):\n",
        "        self.grad(x,y)\n",
        "        # Difference between self.dw1 and dw1: self.dw1 is the grad for one input, while dw1 is the cumulative gradient\n",
        "        dw1 += self.dw1\n",
        "        dw2 += self.dw2\n",
        "        dw3 += self.dw3\n",
        "        dw4 += self.dw4\n",
        "        dw5 += self.dw5\n",
        "        dw6 += self.dw6\n",
        "        db1 += self.db1\n",
        "        db2 += self.db2\n",
        "        db3 += self.db3\n",
        "\n",
        "      m = X.shape[1] # number of rows\n",
        "\n",
        "      # Subtract the cumulative sums\n",
        "      self.w1 -= learning_rate * dw1 / m\n",
        "      self.w2 -= learning_rate * dw2 / m\n",
        "      self.w3 -= learning_rate * dw3 / m\n",
        "      self.w4 -= learning_rate * dw4 / m\n",
        "      self.w5 -= learning_rate * dw5 / m\n",
        "      self.w6 -= learning_rate * dw6 / m\n",
        "      self.b1 -= learning_rate * db1 / m\n",
        "      self.b2 -= learning_rate * db2 / m\n",
        "      self.b3 -= learning_rate * db3 / m\n",
        "\n",
        "      if(display_loss):\n",
        "        Y_pred = self.sigmoid(self.perceptron(X))\n",
        "        loss[i] = mean_squared_error(Y, Y_pred)\n",
        "\n",
        "\n",
        "    if display_loss:\n",
        "      print(loss.values())\n",
        "      plt.plot(np.array(list(loss.values())))\n",
        "      plt.xlabel(\"Epochs\")\n",
        "      plt.ylabel(\"Mean Squared Error\") # The accuracy metric for sigmoid neuron\n",
        "      plt.show()\n",
        "\n",
        "\n",
        "\n",
        "  # Finally, predict\n",
        "  def predict(self, X):\n",
        "    Y_pred = []\n",
        "    for x in X: \n",
        "      y_pred = self.forward_pass(x) # Predict output on each \"pair\" of inputs (of the two features)\n",
        "      Y_pred.append(y_pred)\n",
        "    return np.array(Y_pred)\n",
        "\n",
        "\n",
        "# Same structure for any  class"
      ],
      "execution_count": 0,
      "outputs": []
    },
    {
      "cell_type": "code",
      "metadata": {
        "id": "EuPSIyLWH0PO",
        "colab_type": "code",
        "colab": {
          "base_uri": "https://localhost:8080/",
          "height": 413,
          "referenced_widgets": [
            "42ac8fce63d343ae97810620bc4d865e",
            "93bedaecb5de44798828708dbe3e64da",
            "0bbc3b2eac674eafb37bf74257dd3c65",
            "f4808dbf61ff4fdb88628d758413f724",
            "ab45628f62f44413b717d8f686c9fbee",
            "2a257c9bea0946bb82d88824e734c656",
            "c1b6b37482be455587d1f73d41ffff03",
            "3c2682eba38540f4aa903e911d9f62af"
          ]
        },
        "outputId": "201ef93c-5c07-4e78-a091-69b5f1fe6d2c"
      },
      "source": [
        "ffn = FirstFFNetwork()\n",
        "ffn.fit(X_train, Y_train, epochs = 1000, learning_rate = 0.01, display_loss=True)"
      ],
      "execution_count": 39,
      "outputs": [
        {
          "output_type": "stream",
          "text": [
            "/usr/local/lib/python3.6/dist-packages/ipykernel_launcher.py:53: TqdmDeprecationWarning: This function will be removed in tqdm==5.0.0\n",
            "Please use `tqdm.notebook.tqdm` instead of `tqdm.tqdm_notebook`\n"
          ],
          "name": "stderr"
        },
        {
          "output_type": "display_data",
          "data": {
            "application/vnd.jupyter.widget-view+json": {
              "model_id": "42ac8fce63d343ae97810620bc4d865e",
              "version_minor": 0,
              "version_major": 2
            },
            "text/plain": [
              "HBox(children=(IntProgress(value=0, max=1000), HTML(value='')))"
            ]
          },
          "metadata": {
            "tags": []
          }
        },
        {
          "output_type": "error",
          "ename": "AttributeError",
          "evalue": "ignored",
          "traceback": [
            "\u001b[0;31m---------------------------------------------------------------------------\u001b[0m",
            "\u001b[0;31mAttributeError\u001b[0m                            Traceback (most recent call last)",
            "\u001b[0;32m<ipython-input-39-e417fdc43f8d>\u001b[0m in \u001b[0;36m<module>\u001b[0;34m()\u001b[0m\n\u001b[1;32m      1\u001b[0m \u001b[0mffn\u001b[0m \u001b[0;34m=\u001b[0m \u001b[0mFirstFFNetwork\u001b[0m\u001b[0;34m(\u001b[0m\u001b[0;34m)\u001b[0m\u001b[0;34m\u001b[0m\u001b[0;34m\u001b[0m\u001b[0m\n\u001b[0;32m----> 2\u001b[0;31m \u001b[0mffn\u001b[0m\u001b[0;34m.\u001b[0m\u001b[0mfit\u001b[0m\u001b[0;34m(\u001b[0m\u001b[0mX_train\u001b[0m\u001b[0;34m,\u001b[0m \u001b[0mY_train\u001b[0m\u001b[0;34m,\u001b[0m \u001b[0mepochs\u001b[0m \u001b[0;34m=\u001b[0m \u001b[0;36m1000\u001b[0m\u001b[0;34m,\u001b[0m \u001b[0mlearning_rate\u001b[0m \u001b[0;34m=\u001b[0m \u001b[0;36m0.01\u001b[0m\u001b[0;34m,\u001b[0m \u001b[0mdisplay_loss\u001b[0m\u001b[0;34m=\u001b[0m\u001b[0;32mTrue\u001b[0m\u001b[0;34m)\u001b[0m\u001b[0;34m\u001b[0m\u001b[0;34m\u001b[0m\u001b[0m\n\u001b[0m",
            "\u001b[0;32m<ipython-input-38-62904fd51c2c>\u001b[0m in \u001b[0;36mfit\u001b[0;34m(self, X, Y, epochs, learning_rate, initialise, display_loss)\u001b[0m\n\u001b[1;32m     57\u001b[0m         \u001b[0mself\u001b[0m\u001b[0;34m.\u001b[0m\u001b[0mgrad\u001b[0m\u001b[0;34m(\u001b[0m\u001b[0mx\u001b[0m\u001b[0;34m,\u001b[0m\u001b[0my\u001b[0m\u001b[0;34m)\u001b[0m\u001b[0;34m\u001b[0m\u001b[0;34m\u001b[0m\u001b[0m\n\u001b[1;32m     58\u001b[0m         \u001b[0;31m# Difference between self.dw1 and dw1: self.dw1 is the grad for one input, while dw1 is the cumulative gradient\u001b[0m\u001b[0;34m\u001b[0m\u001b[0;34m\u001b[0m\u001b[0;34m\u001b[0m\u001b[0m\n\u001b[0;32m---> 59\u001b[0;31m         \u001b[0mdw1\u001b[0m \u001b[0;34m+=\u001b[0m \u001b[0mself\u001b[0m\u001b[0;34m.\u001b[0m\u001b[0mdw1\u001b[0m\u001b[0;34m\u001b[0m\u001b[0;34m\u001b[0m\u001b[0m\n\u001b[0m\u001b[1;32m     60\u001b[0m         \u001b[0mdw2\u001b[0m \u001b[0;34m+=\u001b[0m \u001b[0mself\u001b[0m\u001b[0;34m.\u001b[0m\u001b[0mdw2\u001b[0m\u001b[0;34m\u001b[0m\u001b[0;34m\u001b[0m\u001b[0m\n\u001b[1;32m     61\u001b[0m         \u001b[0mdw3\u001b[0m \u001b[0;34m+=\u001b[0m \u001b[0mself\u001b[0m\u001b[0;34m.\u001b[0m\u001b[0mdw3\u001b[0m\u001b[0;34m\u001b[0m\u001b[0;34m\u001b[0m\u001b[0m\n",
            "\u001b[0;31mAttributeError\u001b[0m: 'FirstFFNetwork' object has no attribute 'dw1'"
          ]
        }
      ]
    },
    {
      "cell_type": "code",
      "metadata": {
        "id": "y_PUMYB9Ic-o",
        "colab_type": "code",
        "colab": {}
      },
      "source": [
        "Y_pred_train = ffn.predict(X_train) # forward pass\n",
        "Y_pred_binarised_train = (Y_pred_train >= 0.5).astype('int').ravel()\n",
        "\n",
        "Y_pred_val = ffn.predict(X_val)\n",
        "Y_pred_binarised_val = (Y_pred_val >= 0.5).astype('int').ravel()\n",
        "\n",
        "accuracy_train = accuracy_score(Y_pred_binarised_train, Y_train)\n",
        "accuracy_val = accuracy_score(Y_pred_binarised_val, Y_val)\n",
        "\n",
        "# round to two digits\n",
        "print(\"Training accuracy\", round(accuracy_train,2))\n",
        "print(\"Validation accuracy\", round(accuracy_val, 2))"
      ],
      "execution_count": 0,
      "outputs": []
    },
    {
      "cell_type": "code",
      "metadata": {
        "id": "BFR5LjT-M-9I",
        "colab_type": "code",
        "colab": {}
      },
      "source": [
        "plt.scatter(X_train[:,0], X_train[:,1], c=Y_pred_binarised_train, cmap = my_cmap, s = 15*(np.abs(Y_pred_binarised_train-Y_train)+.2))"
      ],
      "execution_count": 0,
      "outputs": []
    },
    {
      "cell_type": "markdown",
      "metadata": {
        "id": "RyBhCb4iNAX6",
        "colab_type": "text"
      },
      "source": [
        "### This time all are tiny dots => almost all predicted correctly.  \n",
        "### Those that are wrongly predicted, are fine since there is some confustion at the interface, almost impossible to get a hard core decision boundary"
      ]
    },
    {
      "cell_type": "code",
      "metadata": {
        "id": "4pKDFdHBNUEn",
        "colab_type": "code",
        "colab": {}
      },
      "source": [
        ""
      ],
      "execution_count": 0,
      "outputs": []
    },
    {
      "cell_type": "markdown",
      "metadata": {
        "id": "WNNkwtIcNVPN",
        "colab_type": "text"
      },
      "source": [
        "# Generic Class of Feed Forward Neuron"
      ]
    },
    {
      "cell_type": "code",
      "metadata": {
        "id": "fsYV2p0rNd-y",
        "colab_type": "code",
        "colab": {}
      },
      "source": [
        "class FFSNNetwork:\n",
        "  # Using vectors throughout to simplify computations\n",
        "\n",
        "  def __init__(self, n_inputs, hidden_sizes = [2]): # hidden_sizes, comma separated values of number of neurons in each hidden layer\n",
        "\n",
        "    self.nx = n_inputs # number of inputs\n",
        "    self.ny = 1 # one output since binary classification\n",
        "    self.nh = len(hidden_sizes) # number of hidden layers (length of the list)\n",
        "    self.sizes = [self.nx] + hidden_sizes + [self.ny] # Getting the number of neurons in each layer from input layer through hidden layers to output layer\n",
        "\n",
        "    self.W = {}\n",
        "    self.B = {}\n",
        "\n",
        "    for i in range(self.nh+1):\n",
        "      self.W[i+1] = np.random.randn(self.sizes[i], self.sizes[i+1]) # number of weights for layer i+1 = number of inputs that layer * number of neurons in that layer (since each neuron connected to each input)\n",
        "      # rows = number of inputs, columns = number of neurons\n",
        "      self.B[i+1] = np.random.randn(1, self.sizes[i]) # Only one different bias term to each neuron in layer i+1 ( a vector of size = number of neurons )\n",
        "\n",
        "      # Next, sigmoid\n",
        "    def sigmoid(self,x):\n",
        "      return 1.0/(1.0+np.exp(-x))\n",
        "\n",
        "    def forward_pass(self,x):\n",
        "      self.A = {}\n",
        "      self.H = {}\n",
        "\n",
        "      self.H[0] = x.reshape(1, -1) # Just assigning H0 = input values. Flatteing to 1 row and as many columns as possible\n",
        "      for i in range(self.nh+1): # Looping through all layers\n",
        "        # Matrix mul = Hamadard / element wise ( and not dot prod )\n",
        "        self.A[i+1] = np.matmul(self.H[i],self.W[i+1]+self.B[i+1]) # H from previous layer with W and B of current layer\n",
        "        self.H[i+1] = self.sigmoid(self.A[i+1]) # H of current layer\n",
        "      return self.H[self.nh+1]  # output layer's predicted value\n",
        "\n",
        "\n",
        "    def grad(self,X):\n",
        "      pass\n",
        "\n",
        "    def fit(self, X, Y, epochs = 1, learning_rate = 1, display_loss = True, initialise = True):\n",
        "      #initialise w,b\n",
        "      if initialise:\n",
        "        for i in range(self.nh+1):\n",
        "          self.W[i+1] = np.random.randn(self.sizes[i], self.sizes[i+1]) \n",
        "          self.B[i+1] = np.random.randn(1, self.sizes[i])\n",
        "\n",
        "      if display_loss:\n",
        "        loss = {}\n",
        "\n",
        "      for e in tqdm_notebook(range(epochs), total = epochs, unit = \"epoch\"):\n",
        "        self.W = {}\n",
        "        self.B = {}\n",
        "        for i in range(self.nh+1):\n",
        "          dW[i+1] = np.zeros(self.sizes[i],self.sizes[i+1])\n",
        "          dB[i+1] = np.zeros(1, self.sizes[i+1])\n",
        "\n",
        "        for x,y in zip(X,Y):\n",
        "          self.grad(x,y)\n",
        "          # Difference between self.dw1 and dw1: self.dw1 is the grad for one input, while dw1 is the cumulative gradient\n",
        "          for i in range(self.nh+1):\n",
        "            dW[i+1] += self.dW[i+1]\n",
        "            dB[i+1] += self.dB[i+1]\n",
        "\n",
        "        m = X.shape[1] # number of rows\n",
        "\n",
        "        # Subtract the cumulative sums\n",
        "        for i in range(self.nh+1):\n",
        "            self.W[i+1] -= learning_rate*dW[i+1]/m\n",
        "            self.B[i+1] -= learning_rate*dB[i+1]/m\n",
        "\n",
        "        if(display_loss):\n",
        "          Y_pred = self.sigmoid(self.perceptron(X))\n",
        "          loss[e] = mean_squared_error(Y, Y_pred)\n",
        "\n",
        "\n",
        "      if display_loss:\n",
        "        plt.plot(np.array(list(loss.values())))\n",
        "        plt.xlabel(\"Epochs\")\n",
        "        plt.ylabel(\"Mean Squared Error\") # The accuracy metric for sigmoid neuron\n",
        "        plt.show()\n",
        "\n",
        "\n",
        "\n",
        "    # Finally, predict\n",
        "    def predict(self, X):\n",
        "      Y_pred = []\n",
        "      for x in X: \n",
        "        y_pred = self.forward_pass(x) # Predict output on each \"pair\" of inputs (of the two features)\n",
        "        Y_pred.append(y_pred)\n",
        "      return np.array(Y_pred)\n"
      ],
      "execution_count": 0,
      "outputs": []
    },
    {
      "cell_type": "code",
      "metadata": {
        "id": "LDLhz1MfOlDc",
        "colab_type": "code",
        "colab": {
          "base_uri": "https://localhost:8080/",
          "height": 213
        },
        "outputId": "6e39b4ce-4810-4862-c593-2ed1a296e3f2"
      },
      "source": [
        "ffsnn = FFSNNetwork(2, [2,3])\n",
        "ffsnn.fit(X_train, Y_train, epochs = 1000, learning_rate = 0.001, display_loss = True)"
      ],
      "execution_count": 42,
      "outputs": [
        {
          "output_type": "error",
          "ename": "AttributeError",
          "evalue": "ignored",
          "traceback": [
            "\u001b[0;31m---------------------------------------------------------------------------\u001b[0m",
            "\u001b[0;31mAttributeError\u001b[0m                            Traceback (most recent call last)",
            "\u001b[0;32m<ipython-input-42-74fb505058b9>\u001b[0m in \u001b[0;36m<module>\u001b[0;34m()\u001b[0m\n\u001b[1;32m      1\u001b[0m \u001b[0mffsnn\u001b[0m \u001b[0;34m=\u001b[0m \u001b[0mFFSNNetwork\u001b[0m\u001b[0;34m(\u001b[0m\u001b[0;36m2\u001b[0m\u001b[0;34m,\u001b[0m \u001b[0;34m[\u001b[0m\u001b[0;36m2\u001b[0m\u001b[0;34m,\u001b[0m\u001b[0;36m3\u001b[0m\u001b[0;34m]\u001b[0m\u001b[0;34m)\u001b[0m\u001b[0;34m\u001b[0m\u001b[0;34m\u001b[0m\u001b[0m\n\u001b[0;32m----> 2\u001b[0;31m \u001b[0mffsnn\u001b[0m\u001b[0;34m.\u001b[0m\u001b[0mfit\u001b[0m\u001b[0;34m(\u001b[0m\u001b[0mX_train\u001b[0m\u001b[0;34m,\u001b[0m \u001b[0mY_train\u001b[0m\u001b[0;34m,\u001b[0m \u001b[0mepochs\u001b[0m \u001b[0;34m=\u001b[0m \u001b[0;36m1000\u001b[0m\u001b[0;34m,\u001b[0m \u001b[0mlearning_rate\u001b[0m \u001b[0;34m=\u001b[0m \u001b[0;36m0.001\u001b[0m\u001b[0;34m,\u001b[0m \u001b[0mdisplay_loss\u001b[0m \u001b[0;34m=\u001b[0m \u001b[0;32mTrue\u001b[0m\u001b[0;34m)\u001b[0m\u001b[0;34m\u001b[0m\u001b[0;34m\u001b[0m\u001b[0m\n\u001b[0m",
            "\u001b[0;31mAttributeError\u001b[0m: 'FFSNNetwork' object has no attribute 'fit'"
          ]
        }
      ]
    },
    {
      "cell_type": "code",
      "metadata": {
        "id": "3Zft9o6BUReR",
        "colab_type": "code",
        "colab": {}
      },
      "source": [
        "Y_pred_train = ffsnn.predict(X_train) # forward pass\n",
        "Y_pred_binarised_train = (Y_pred_train >= 0.5).astype('int').ravel()\n",
        "\n",
        "Y_pred_val = ffsnn.predict(X_val)\n",
        "Y_pred_binarised_val = (Y_pred_val >= 0.5).astype('int').ravel()\n",
        "\n",
        "accuracy_train = accuracy_score(Y_pred_binarised_train, Y_train)\n",
        "accuracy_val = accuracy_score(Y_pred_binarised_val, Y_val)\n",
        "\n",
        "# round to two digits\n",
        "print(\"Training accuracy\", round(accuracy_train,2))\n",
        "print(\"Validation accuracy\", round(accuracy_val, 2))"
      ],
      "execution_count": 0,
      "outputs": []
    },
    {
      "cell_type": "code",
      "metadata": {
        "colab_type": "code",
        "id": "H6yTuS5hUcIT",
        "colab": {}
      },
      "source": [
        "plt.scatter(X_train[:,0], X_train[:,1], c=Y_pred_binarised_train, cmap = my_cmap, s = 15*(np.abs(Y_pred_binarised_train-Y_train)+.2))"
      ],
      "execution_count": 0,
      "outputs": []
    },
    {
      "cell_type": "markdown",
      "metadata": {
        "id": "w89RgL6aU1W-",
        "colab_type": "text"
      },
      "source": [
        "# Generic class for Multi Class Classification"
      ]
    },
    {
      "cell_type": "code",
      "metadata": {
        "id": "BpusYQ7rU49b",
        "colab_type": "code",
        "colab": {
          "base_uri": "https://localhost:8080/",
          "height": 36
        },
        "outputId": "d92352ea-ecb5-4a3f-ed31-2cc2bb4e836a"
      },
      "source": [
        "# No more binary classification, hence train-test split again\n",
        "X_train, X_val, Y_train, Y_val = train_test_split(data, labels_orig, stratify = labels_orig, random_state = 0)\n",
        "print(X_train.shape, X_val.shape, labels_orig.shape)"
      ],
      "execution_count": 44,
      "outputs": [
        {
          "output_type": "stream",
          "text": [
            "(750, 2) (250, 2) (1000,)\n"
          ],
          "name": "stdout"
        }
      ]
    },
    {
      "cell_type": "code",
      "metadata": {
        "id": "LxL5oRz4VHfN",
        "colab_type": "code",
        "colab": {
          "base_uri": "https://localhost:8080/",
          "height": 36
        },
        "outputId": "17748a37-26d8-4613-d53a-4971258b9d6b"
      },
      "source": [
        "enc = OneHotEncoder()\n",
        "# label 0 -> (1,0,0,0), label 1 -> (0,1,0,0)\n",
        "y_OH_train = enc.fit_transform(np.expand_dims(Y_train,1)).toarray()\n",
        "y_OH_val = enc.fit_transform(np.expand_dims(Y_val,1)).toarray()\n",
        "print(y_OH_train.shape, y_OH_val.shape)"
      ],
      "execution_count": 45,
      "outputs": [
        {
          "output_type": "stream",
          "text": [
            "(750, 4) (250, 4)\n"
          ],
          "name": "stdout"
        }
      ]
    },
    {
      "cell_type": "code",
      "metadata": {
        "id": "5LfTL1k-Yuc4",
        "colab_type": "code",
        "colab": {}
      },
      "source": [
        "class FFSN_MultiClass:\n",
        "  # Using vectors throughout to simplify computations\n",
        "\n",
        "  def __init__(self, n_inputs, n_outputs, hidden_sizes = [3]): # hidden_sizes, comma separated values of number of neurons in each hidden layer\n",
        "\n",
        "    self.nx = n_inputs # number of inputs\n",
        "    self.ny = n_outputs # one output since binary classification\n",
        "    self.nh = len(hidden_sizes) # number of hidden layers (length of the list)\n",
        "    self.sizes = [self.nx] + hidden_sizes + [self.ny] # Getting the number of neurons in each layer from input layer through hidden layers to output layer\n",
        "\n",
        "    self.W = {}\n",
        "    self.B = {}\n",
        "\n",
        "    for i in range(self.nh+1):\n",
        "      self.W[i+1] = np.random.randn(self.sizes[i], self.sizes[i+1]) # number of weights for layer i+1 = number of inputs that layer * number of neurons in that layer (since each neuron connected to each input)\n",
        "      # rows = number of inputs, columns = number of neurons\n",
        "      self.B[i+1] = np.random.randn(1, self.sizes[i]) # Only one different bias term to each neuron in layer i+1 ( a vector of size = number of neurons )\n",
        "\n",
        "      # Next, sigmoid\n",
        "    def sigmoid(self,x):\n",
        "      return 1.0/(1.0+np.exp(-x))\n",
        "\n",
        "    def forward_pass(self,x):\n",
        "      self.A = {}\n",
        "      self.H = {}\n",
        "\n",
        "      self.H[0] = x.reshape(1, -1) # Just assigning H0 = input values. Flatteing to 1 row and as many columns as possible\n",
        "      for i in range(self.nh+1): # Looping through all layers\n",
        "        # Matrix mul = Hamadard / element wise ( and not dot prod )\n",
        "        self.A[i+1] = np.matmul(self.H[i],self.W[i+1]+self.B[i+1]) # H from previous layer with W and B of current layer\n",
        "        self.H[i+1] = self.sigmoid(self.A[i+1]) # H of current layer\n",
        "      return self.H[self.nh+1]  # output layer's predicted value\n",
        "\n",
        "\n",
        "    def grad(self,X):\n",
        "      pass\n",
        "\n",
        "    def fit(self, X, Y, epochs = 1, learning_rate = 1, display_loss = True, initialise = True):\n",
        "      #initialise w,b\n",
        "      if initialise:\n",
        "        for i in range(self.nh+1):\n",
        "          self.W[i+1] = np.random.randn(self.sizes[i], self.sizes[i+1]) \n",
        "          self.B[i+1] = np.random.randn(1, self.sizes[i])\n",
        "\n",
        "      if display_loss:\n",
        "        loss = {}\n",
        "\n",
        "      for e in tqdm_notebook(range(epochs), total = epochs, unit = \"epoch\"):\n",
        "        self.W = {}\n",
        "        self.B = {}\n",
        "        for i in range(self.nh+1):\n",
        "          dW[i+1] = np.zeros(self.sizes[i],self.sizes[i+1])\n",
        "          dB[i+1] = np.zeros(1, self.sizes[i+1])\n",
        "\n",
        "        for x,y in zip(X,Y):\n",
        "          self.grad(x,y)\n",
        "          # Difference between self.dw1 and dw1: self.dw1 is the grad for one input, while dw1 is the cumulative gradient\n",
        "          for i in range(self.nh+1):\n",
        "            dW[i+1] += self.dW[i+1]\n",
        "            dB[i+1] += self.dB[i+1]\n",
        "\n",
        "        m = X.shape[1] # number of rows\n",
        "\n",
        "        # Subtract the cumulative sums\n",
        "        for i in range(self.nh+1):\n",
        "            self.W[i+1] -= learning_rate*dW[i+1]/m\n",
        "            self.B[i+1] -= learning_rate*dB[i+1]/m\n",
        "\n",
        "        if(display_loss):\n",
        "          Y_pred = self.sigmoid(self.perceptron(X))\n",
        "          loss[e] = mean_squared_error(Y, Y_pred)\n",
        "\n",
        "\n",
        "      if display_loss:\n",
        "        plt.plot(np.array(list(loss.values())))\n",
        "        plt.xlabel(\"Epochs\")\n",
        "        plt.ylabel(\"Mean Squared Error\") # The accuracy metric for sigmoid neuron\n",
        "        plt.show()\n",
        "\n",
        "\n",
        "\n",
        "    # Finally, predict\n",
        "    def predict(self, X):\n",
        "      Y_pred = []\n",
        "      for x in X: \n",
        "        y_pred = self.forward_pass(x) # Predict output on each \"pair\" of inputs (of the two features)\n",
        "        Y_pred.append(y_pred)\n",
        "      return np.array(Y_pred)\n"
      ],
      "execution_count": 0,
      "outputs": []
    },
    {
      "cell_type": "markdown",
      "metadata": {
        "id": "t90Gl6WyWsPo",
        "colab_type": "text"
      },
      "source": [
        "Note 4 columns now"
      ]
    },
    {
      "cell_type": "code",
      "metadata": {
        "id": "tf_hL_NfWOCL",
        "colab_type": "code",
        "colab": {
          "base_uri": "https://localhost:8080/",
          "height": 193
        },
        "outputId": "ed301479-2a7d-4e1e-cf52-563cdb150975"
      },
      "source": [
        "ffsn_multi = FFSN_MultiClass(2,4,[2,3])\n",
        "ffsn_multi.fit(X_train, Y_train, epochs = 2000, display_loss = True, learning_rate = 0.005)"
      ],
      "execution_count": 46,
      "outputs": [
        {
          "output_type": "error",
          "ename": "NameError",
          "evalue": "ignored",
          "traceback": [
            "\u001b[0;31m---------------------------------------------------------------------------\u001b[0m",
            "\u001b[0;31mNameError\u001b[0m                                 Traceback (most recent call last)",
            "\u001b[0;32m<ipython-input-46-cee81c0a4893>\u001b[0m in \u001b[0;36m<module>\u001b[0;34m()\u001b[0m\n\u001b[0;32m----> 1\u001b[0;31m \u001b[0mffsn_multi\u001b[0m \u001b[0;34m=\u001b[0m \u001b[0mFFSN_MultiClass\u001b[0m\u001b[0;34m(\u001b[0m\u001b[0;36m2\u001b[0m\u001b[0;34m,\u001b[0m\u001b[0;36m4\u001b[0m\u001b[0;34m,\u001b[0m\u001b[0;34m[\u001b[0m\u001b[0;36m2\u001b[0m\u001b[0;34m,\u001b[0m\u001b[0;36m3\u001b[0m\u001b[0;34m]\u001b[0m\u001b[0;34m)\u001b[0m\u001b[0;34m\u001b[0m\u001b[0;34m\u001b[0m\u001b[0m\n\u001b[0m\u001b[1;32m      2\u001b[0m \u001b[0mffsn_multi\u001b[0m\u001b[0;34m.\u001b[0m\u001b[0mfit\u001b[0m\u001b[0;34m(\u001b[0m\u001b[0mX_train\u001b[0m\u001b[0;34m,\u001b[0m \u001b[0mY_train\u001b[0m\u001b[0;34m,\u001b[0m \u001b[0mepochs\u001b[0m \u001b[0;34m=\u001b[0m \u001b[0;36m200\u001b[0m\u001b[0;34m,\u001b[0m \u001b[0mdisplay_loss\u001b[0m \u001b[0;34m=\u001b[0m \u001b[0;32mTrue\u001b[0m\u001b[0;34m,\u001b[0m \u001b[0mlearning_rate\u001b[0m \u001b[0;34m=\u001b[0m \u001b[0;36m0.5\u001b[0m\u001b[0;34m)\u001b[0m\u001b[0;34m\u001b[0m\u001b[0;34m\u001b[0m\u001b[0m\n",
            "\u001b[0;31mNameError\u001b[0m: name 'FFSN_MultiClass' is not defined"
          ]
        }
      ]
    },
    {
      "cell_type": "code",
      "metadata": {
        "id": "4htpr4aEXhZg",
        "colab_type": "code",
        "colab": {}
      },
      "source": [
        "Y_pred_train = ffsn_multi.predict(X_train)\n",
        "Y_pred_train = np.argmax(Y_pred_train,1)\n",
        "\n",
        "Y_pred_val = ffsn_multi.predict(X_val)\n",
        "Y_pred_val = np.argmax(Y_pred_val,1)\n",
        "\n",
        "accuracy_train = accuracy_score(Y_pred_train, Y_train)\n",
        "accuracy_val = accuracy_score(Y_pred_val, Y_val)\n",
        "\n",
        "print(\"Training accuracy\", round(accuracy_train,2))\n",
        "print(\"Validation accuracy\", round(accuracy_val, 2))"
      ],
      "execution_count": 0,
      "outputs": []
    },
    {
      "cell_type": "code",
      "metadata": {
        "id": "9TH03BnzXV8x",
        "colab_type": "code",
        "colab": {}
      },
      "source": [
        "plt.scatter(X_train[:,0], X_train[:,1], c=Y_pred_binarised_train, cmap = my_cmap, s = 15*(np.abs(Y_pred_binarised_train-Y_train)+.2))"
      ],
      "execution_count": 0,
      "outputs": []
    }
  ]
}