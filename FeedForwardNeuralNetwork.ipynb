{
  "nbformat": 4,
  "nbformat_minor": 0,
  "metadata": {
    "colab": {
      "name": "FeedForwardNeuralNetwork.ipynb",
      "provenance": [],
      "collapsed_sections": [
        "kDUSzmctY_BY",
        "rR3glgMgB70p",
        "WNNkwtIcNVPN"
      ],
      "authorship_tag": "ABX9TyOHqOpwnp21/L2Q+diVmVJd"
    },
    "kernelspec": {
      "name": "python3",
      "display_name": "Python 3"
    },
    "widgets": {
      "application/vnd.jupyter.widget-state+json": {
        "952e61e1c1524d6491c68a75938f8a5f": {
          "model_module": "@jupyter-widgets/controls",
          "model_name": "HBoxModel",
          "state": {
            "_view_name": "HBoxView",
            "_dom_classes": [],
            "_model_name": "HBoxModel",
            "_view_module": "@jupyter-widgets/controls",
            "_model_module_version": "1.5.0",
            "_view_count": null,
            "_view_module_version": "1.5.0",
            "box_style": "",
            "layout": "IPY_MODEL_a38041b4b9814c8aa3d8f5576c6bed77",
            "_model_module": "@jupyter-widgets/controls",
            "children": [
              "IPY_MODEL_165b7377f150483fb1ad904eb6c5f00e",
              "IPY_MODEL_1833d71fab7644fbaab9dfa731bee26a"
            ]
          }
        },
        "a38041b4b9814c8aa3d8f5576c6bed77": {
          "model_module": "@jupyter-widgets/base",
          "model_name": "LayoutModel",
          "state": {
            "_view_name": "LayoutView",
            "grid_template_rows": null,
            "right": null,
            "justify_content": null,
            "_view_module": "@jupyter-widgets/base",
            "overflow": null,
            "_model_module_version": "1.2.0",
            "_view_count": null,
            "flex_flow": null,
            "width": null,
            "min_width": null,
            "border": null,
            "align_items": null,
            "bottom": null,
            "_model_module": "@jupyter-widgets/base",
            "top": null,
            "grid_column": null,
            "overflow_y": null,
            "overflow_x": null,
            "grid_auto_flow": null,
            "grid_area": null,
            "grid_template_columns": null,
            "flex": null,
            "_model_name": "LayoutModel",
            "justify_items": null,
            "grid_row": null,
            "max_height": null,
            "align_content": null,
            "visibility": null,
            "align_self": null,
            "height": null,
            "min_height": null,
            "padding": null,
            "grid_auto_rows": null,
            "grid_gap": null,
            "max_width": null,
            "order": null,
            "_view_module_version": "1.2.0",
            "grid_template_areas": null,
            "object_position": null,
            "object_fit": null,
            "grid_auto_columns": null,
            "margin": null,
            "display": null,
            "left": null
          }
        },
        "165b7377f150483fb1ad904eb6c5f00e": {
          "model_module": "@jupyter-widgets/controls",
          "model_name": "IntProgressModel",
          "state": {
            "_view_name": "ProgressView",
            "style": "IPY_MODEL_9d6c307e094846cdbbe78224268da144",
            "_dom_classes": [],
            "description": "100%",
            "_model_name": "IntProgressModel",
            "bar_style": "success",
            "max": 1000,
            "_view_module": "@jupyter-widgets/controls",
            "_model_module_version": "1.5.0",
            "value": 1000,
            "_view_count": null,
            "_view_module_version": "1.5.0",
            "orientation": "horizontal",
            "min": 0,
            "description_tooltip": null,
            "_model_module": "@jupyter-widgets/controls",
            "layout": "IPY_MODEL_32d89bfd81e448458bcf026944dc42bf"
          }
        },
        "1833d71fab7644fbaab9dfa731bee26a": {
          "model_module": "@jupyter-widgets/controls",
          "model_name": "HTMLModel",
          "state": {
            "_view_name": "HTMLView",
            "style": "IPY_MODEL_10c65c5fb9624801abb7604dc1510f35",
            "_dom_classes": [],
            "description": "",
            "_model_name": "HTMLModel",
            "placeholder": "​",
            "_view_module": "@jupyter-widgets/controls",
            "_model_module_version": "1.5.0",
            "value": " 1000/1000 [00:38&lt;00:00, 26.19it/s]",
            "_view_count": null,
            "_view_module_version": "1.5.0",
            "description_tooltip": null,
            "_model_module": "@jupyter-widgets/controls",
            "layout": "IPY_MODEL_ed37156eb6204f9fa67de07a810d9a7f"
          }
        },
        "9d6c307e094846cdbbe78224268da144": {
          "model_module": "@jupyter-widgets/controls",
          "model_name": "ProgressStyleModel",
          "state": {
            "_view_name": "StyleView",
            "_model_name": "ProgressStyleModel",
            "description_width": "initial",
            "_view_module": "@jupyter-widgets/base",
            "_model_module_version": "1.5.0",
            "_view_count": null,
            "_view_module_version": "1.2.0",
            "bar_color": null,
            "_model_module": "@jupyter-widgets/controls"
          }
        },
        "32d89bfd81e448458bcf026944dc42bf": {
          "model_module": "@jupyter-widgets/base",
          "model_name": "LayoutModel",
          "state": {
            "_view_name": "LayoutView",
            "grid_template_rows": null,
            "right": null,
            "justify_content": null,
            "_view_module": "@jupyter-widgets/base",
            "overflow": null,
            "_model_module_version": "1.2.0",
            "_view_count": null,
            "flex_flow": null,
            "width": null,
            "min_width": null,
            "border": null,
            "align_items": null,
            "bottom": null,
            "_model_module": "@jupyter-widgets/base",
            "top": null,
            "grid_column": null,
            "overflow_y": null,
            "overflow_x": null,
            "grid_auto_flow": null,
            "grid_area": null,
            "grid_template_columns": null,
            "flex": null,
            "_model_name": "LayoutModel",
            "justify_items": null,
            "grid_row": null,
            "max_height": null,
            "align_content": null,
            "visibility": null,
            "align_self": null,
            "height": null,
            "min_height": null,
            "padding": null,
            "grid_auto_rows": null,
            "grid_gap": null,
            "max_width": null,
            "order": null,
            "_view_module_version": "1.2.0",
            "grid_template_areas": null,
            "object_position": null,
            "object_fit": null,
            "grid_auto_columns": null,
            "margin": null,
            "display": null,
            "left": null
          }
        },
        "10c65c5fb9624801abb7604dc1510f35": {
          "model_module": "@jupyter-widgets/controls",
          "model_name": "DescriptionStyleModel",
          "state": {
            "_view_name": "StyleView",
            "_model_name": "DescriptionStyleModel",
            "description_width": "",
            "_view_module": "@jupyter-widgets/base",
            "_model_module_version": "1.5.0",
            "_view_count": null,
            "_view_module_version": "1.2.0",
            "_model_module": "@jupyter-widgets/controls"
          }
        },
        "ed37156eb6204f9fa67de07a810d9a7f": {
          "model_module": "@jupyter-widgets/base",
          "model_name": "LayoutModel",
          "state": {
            "_view_name": "LayoutView",
            "grid_template_rows": null,
            "right": null,
            "justify_content": null,
            "_view_module": "@jupyter-widgets/base",
            "overflow": null,
            "_model_module_version": "1.2.0",
            "_view_count": null,
            "flex_flow": null,
            "width": null,
            "min_width": null,
            "border": null,
            "align_items": null,
            "bottom": null,
            "_model_module": "@jupyter-widgets/base",
            "top": null,
            "grid_column": null,
            "overflow_y": null,
            "overflow_x": null,
            "grid_auto_flow": null,
            "grid_area": null,
            "grid_template_columns": null,
            "flex": null,
            "_model_name": "LayoutModel",
            "justify_items": null,
            "grid_row": null,
            "max_height": null,
            "align_content": null,
            "visibility": null,
            "align_self": null,
            "height": null,
            "min_height": null,
            "padding": null,
            "grid_auto_rows": null,
            "grid_gap": null,
            "max_width": null,
            "order": null,
            "_view_module_version": "1.2.0",
            "grid_template_areas": null,
            "object_position": null,
            "object_fit": null,
            "grid_auto_columns": null,
            "margin": null,
            "display": null,
            "left": null
          }
        },
        "37b2835a49174d28a48ba833ce44001d": {
          "model_module": "@jupyter-widgets/controls",
          "model_name": "HBoxModel",
          "state": {
            "_view_name": "HBoxView",
            "_dom_classes": [],
            "_model_name": "HBoxModel",
            "_view_module": "@jupyter-widgets/controls",
            "_model_module_version": "1.5.0",
            "_view_count": null,
            "_view_module_version": "1.5.0",
            "box_style": "",
            "layout": "IPY_MODEL_d4a2742439e849c2bf7028d9ffa78fa4",
            "_model_module": "@jupyter-widgets/controls",
            "children": [
              "IPY_MODEL_6a3a6c51fe0c4c10946f62b1c1029bf3",
              "IPY_MODEL_2d652f681464407cabe6341a80297ed6"
            ]
          }
        },
        "d4a2742439e849c2bf7028d9ffa78fa4": {
          "model_module": "@jupyter-widgets/base",
          "model_name": "LayoutModel",
          "state": {
            "_view_name": "LayoutView",
            "grid_template_rows": null,
            "right": null,
            "justify_content": null,
            "_view_module": "@jupyter-widgets/base",
            "overflow": null,
            "_model_module_version": "1.2.0",
            "_view_count": null,
            "flex_flow": null,
            "width": null,
            "min_width": null,
            "border": null,
            "align_items": null,
            "bottom": null,
            "_model_module": "@jupyter-widgets/base",
            "top": null,
            "grid_column": null,
            "overflow_y": null,
            "overflow_x": null,
            "grid_auto_flow": null,
            "grid_area": null,
            "grid_template_columns": null,
            "flex": null,
            "_model_name": "LayoutModel",
            "justify_items": null,
            "grid_row": null,
            "max_height": null,
            "align_content": null,
            "visibility": null,
            "align_self": null,
            "height": null,
            "min_height": null,
            "padding": null,
            "grid_auto_rows": null,
            "grid_gap": null,
            "max_width": null,
            "order": null,
            "_view_module_version": "1.2.0",
            "grid_template_areas": null,
            "object_position": null,
            "object_fit": null,
            "grid_auto_columns": null,
            "margin": null,
            "display": null,
            "left": null
          }
        },
        "6a3a6c51fe0c4c10946f62b1c1029bf3": {
          "model_module": "@jupyter-widgets/controls",
          "model_name": "IntProgressModel",
          "state": {
            "_view_name": "ProgressView",
            "style": "IPY_MODEL_5da2302a15d04519b9c479e311128eac",
            "_dom_classes": [],
            "description": "100%",
            "_model_name": "IntProgressModel",
            "bar_style": "success",
            "max": 1000,
            "_view_module": "@jupyter-widgets/controls",
            "_model_module_version": "1.5.0",
            "value": 1000,
            "_view_count": null,
            "_view_module_version": "1.5.0",
            "orientation": "horizontal",
            "min": 0,
            "description_tooltip": null,
            "_model_module": "@jupyter-widgets/controls",
            "layout": "IPY_MODEL_5f81379f19324cdcbad5c534a9e1e8e4"
          }
        },
        "2d652f681464407cabe6341a80297ed6": {
          "model_module": "@jupyter-widgets/controls",
          "model_name": "HTMLModel",
          "state": {
            "_view_name": "HTMLView",
            "style": "IPY_MODEL_76b2b58331334e6ba41cde4d48165e0e",
            "_dom_classes": [],
            "description": "",
            "_model_name": "HTMLModel",
            "placeholder": "​",
            "_view_module": "@jupyter-widgets/controls",
            "_model_module_version": "1.5.0",
            "value": " 1000/1000 [00:37&lt;00:00, 26.43it/s]",
            "_view_count": null,
            "_view_module_version": "1.5.0",
            "description_tooltip": null,
            "_model_module": "@jupyter-widgets/controls",
            "layout": "IPY_MODEL_0c87e897a1074104997aff51ee586714"
          }
        },
        "5da2302a15d04519b9c479e311128eac": {
          "model_module": "@jupyter-widgets/controls",
          "model_name": "ProgressStyleModel",
          "state": {
            "_view_name": "StyleView",
            "_model_name": "ProgressStyleModel",
            "description_width": "initial",
            "_view_module": "@jupyter-widgets/base",
            "_model_module_version": "1.5.0",
            "_view_count": null,
            "_view_module_version": "1.2.0",
            "bar_color": null,
            "_model_module": "@jupyter-widgets/controls"
          }
        },
        "5f81379f19324cdcbad5c534a9e1e8e4": {
          "model_module": "@jupyter-widgets/base",
          "model_name": "LayoutModel",
          "state": {
            "_view_name": "LayoutView",
            "grid_template_rows": null,
            "right": null,
            "justify_content": null,
            "_view_module": "@jupyter-widgets/base",
            "overflow": null,
            "_model_module_version": "1.2.0",
            "_view_count": null,
            "flex_flow": null,
            "width": null,
            "min_width": null,
            "border": null,
            "align_items": null,
            "bottom": null,
            "_model_module": "@jupyter-widgets/base",
            "top": null,
            "grid_column": null,
            "overflow_y": null,
            "overflow_x": null,
            "grid_auto_flow": null,
            "grid_area": null,
            "grid_template_columns": null,
            "flex": null,
            "_model_name": "LayoutModel",
            "justify_items": null,
            "grid_row": null,
            "max_height": null,
            "align_content": null,
            "visibility": null,
            "align_self": null,
            "height": null,
            "min_height": null,
            "padding": null,
            "grid_auto_rows": null,
            "grid_gap": null,
            "max_width": null,
            "order": null,
            "_view_module_version": "1.2.0",
            "grid_template_areas": null,
            "object_position": null,
            "object_fit": null,
            "grid_auto_columns": null,
            "margin": null,
            "display": null,
            "left": null
          }
        },
        "76b2b58331334e6ba41cde4d48165e0e": {
          "model_module": "@jupyter-widgets/controls",
          "model_name": "DescriptionStyleModel",
          "state": {
            "_view_name": "StyleView",
            "_model_name": "DescriptionStyleModel",
            "description_width": "",
            "_view_module": "@jupyter-widgets/base",
            "_model_module_version": "1.5.0",
            "_view_count": null,
            "_view_module_version": "1.2.0",
            "_model_module": "@jupyter-widgets/controls"
          }
        },
        "0c87e897a1074104997aff51ee586714": {
          "model_module": "@jupyter-widgets/base",
          "model_name": "LayoutModel",
          "state": {
            "_view_name": "LayoutView",
            "grid_template_rows": null,
            "right": null,
            "justify_content": null,
            "_view_module": "@jupyter-widgets/base",
            "overflow": null,
            "_model_module_version": "1.2.0",
            "_view_count": null,
            "flex_flow": null,
            "width": null,
            "min_width": null,
            "border": null,
            "align_items": null,
            "bottom": null,
            "_model_module": "@jupyter-widgets/base",
            "top": null,
            "grid_column": null,
            "overflow_y": null,
            "overflow_x": null,
            "grid_auto_flow": null,
            "grid_area": null,
            "grid_template_columns": null,
            "flex": null,
            "_model_name": "LayoutModel",
            "justify_items": null,
            "grid_row": null,
            "max_height": null,
            "align_content": null,
            "visibility": null,
            "align_self": null,
            "height": null,
            "min_height": null,
            "padding": null,
            "grid_auto_rows": null,
            "grid_gap": null,
            "max_width": null,
            "order": null,
            "_view_module_version": "1.2.0",
            "grid_template_areas": null,
            "object_position": null,
            "object_fit": null,
            "grid_auto_columns": null,
            "margin": null,
            "display": null,
            "left": null
          }
        },
        "42ac8fce63d343ae97810620bc4d865e": {
          "model_module": "@jupyter-widgets/controls",
          "model_name": "HBoxModel",
          "state": {
            "_view_name": "HBoxView",
            "_dom_classes": [],
            "_model_name": "HBoxModel",
            "_view_module": "@jupyter-widgets/controls",
            "_model_module_version": "1.5.0",
            "_view_count": null,
            "_view_module_version": "1.5.0",
            "box_style": "",
            "layout": "IPY_MODEL_93bedaecb5de44798828708dbe3e64da",
            "_model_module": "@jupyter-widgets/controls",
            "children": [
              "IPY_MODEL_0bbc3b2eac674eafb37bf74257dd3c65",
              "IPY_MODEL_f4808dbf61ff4fdb88628d758413f724"
            ]
          }
        },
        "93bedaecb5de44798828708dbe3e64da": {
          "model_module": "@jupyter-widgets/base",
          "model_name": "LayoutModel",
          "state": {
            "_view_name": "LayoutView",
            "grid_template_rows": null,
            "right": null,
            "justify_content": null,
            "_view_module": "@jupyter-widgets/base",
            "overflow": null,
            "_model_module_version": "1.2.0",
            "_view_count": null,
            "flex_flow": null,
            "width": null,
            "min_width": null,
            "border": null,
            "align_items": null,
            "bottom": null,
            "_model_module": "@jupyter-widgets/base",
            "top": null,
            "grid_column": null,
            "overflow_y": null,
            "overflow_x": null,
            "grid_auto_flow": null,
            "grid_area": null,
            "grid_template_columns": null,
            "flex": null,
            "_model_name": "LayoutModel",
            "justify_items": null,
            "grid_row": null,
            "max_height": null,
            "align_content": null,
            "visibility": null,
            "align_self": null,
            "height": null,
            "min_height": null,
            "padding": null,
            "grid_auto_rows": null,
            "grid_gap": null,
            "max_width": null,
            "order": null,
            "_view_module_version": "1.2.0",
            "grid_template_areas": null,
            "object_position": null,
            "object_fit": null,
            "grid_auto_columns": null,
            "margin": null,
            "display": null,
            "left": null
          }
        },
        "0bbc3b2eac674eafb37bf74257dd3c65": {
          "model_module": "@jupyter-widgets/controls",
          "model_name": "IntProgressModel",
          "state": {
            "_view_name": "ProgressView",
            "style": "IPY_MODEL_ab45628f62f44413b717d8f686c9fbee",
            "_dom_classes": [],
            "description": "  0%",
            "_model_name": "IntProgressModel",
            "bar_style": "danger",
            "max": 1000,
            "_view_module": "@jupyter-widgets/controls",
            "_model_module_version": "1.5.0",
            "value": 0,
            "_view_count": null,
            "_view_module_version": "1.5.0",
            "orientation": "horizontal",
            "min": 0,
            "description_tooltip": null,
            "_model_module": "@jupyter-widgets/controls",
            "layout": "IPY_MODEL_2a257c9bea0946bb82d88824e734c656"
          }
        },
        "f4808dbf61ff4fdb88628d758413f724": {
          "model_module": "@jupyter-widgets/controls",
          "model_name": "HTMLModel",
          "state": {
            "_view_name": "HTMLView",
            "style": "IPY_MODEL_c1b6b37482be455587d1f73d41ffff03",
            "_dom_classes": [],
            "description": "",
            "_model_name": "HTMLModel",
            "placeholder": "​",
            "_view_module": "@jupyter-widgets/controls",
            "_model_module_version": "1.5.0",
            "value": " 0/1000 [00:00&lt;?, ?epoch/s]",
            "_view_count": null,
            "_view_module_version": "1.5.0",
            "description_tooltip": null,
            "_model_module": "@jupyter-widgets/controls",
            "layout": "IPY_MODEL_3c2682eba38540f4aa903e911d9f62af"
          }
        },
        "ab45628f62f44413b717d8f686c9fbee": {
          "model_module": "@jupyter-widgets/controls",
          "model_name": "ProgressStyleModel",
          "state": {
            "_view_name": "StyleView",
            "_model_name": "ProgressStyleModel",
            "description_width": "initial",
            "_view_module": "@jupyter-widgets/base",
            "_model_module_version": "1.5.0",
            "_view_count": null,
            "_view_module_version": "1.2.0",
            "bar_color": null,
            "_model_module": "@jupyter-widgets/controls"
          }
        },
        "2a257c9bea0946bb82d88824e734c656": {
          "model_module": "@jupyter-widgets/base",
          "model_name": "LayoutModel",
          "state": {
            "_view_name": "LayoutView",
            "grid_template_rows": null,
            "right": null,
            "justify_content": null,
            "_view_module": "@jupyter-widgets/base",
            "overflow": null,
            "_model_module_version": "1.2.0",
            "_view_count": null,
            "flex_flow": null,
            "width": null,
            "min_width": null,
            "border": null,
            "align_items": null,
            "bottom": null,
            "_model_module": "@jupyter-widgets/base",
            "top": null,
            "grid_column": null,
            "overflow_y": null,
            "overflow_x": null,
            "grid_auto_flow": null,
            "grid_area": null,
            "grid_template_columns": null,
            "flex": null,
            "_model_name": "LayoutModel",
            "justify_items": null,
            "grid_row": null,
            "max_height": null,
            "align_content": null,
            "visibility": null,
            "align_self": null,
            "height": null,
            "min_height": null,
            "padding": null,
            "grid_auto_rows": null,
            "grid_gap": null,
            "max_width": null,
            "order": null,
            "_view_module_version": "1.2.0",
            "grid_template_areas": null,
            "object_position": null,
            "object_fit": null,
            "grid_auto_columns": null,
            "margin": null,
            "display": null,
            "left": null
          }
        },
        "c1b6b37482be455587d1f73d41ffff03": {
          "model_module": "@jupyter-widgets/controls",
          "model_name": "DescriptionStyleModel",
          "state": {
            "_view_name": "StyleView",
            "_model_name": "DescriptionStyleModel",
            "description_width": "",
            "_view_module": "@jupyter-widgets/base",
            "_model_module_version": "1.5.0",
            "_view_count": null,
            "_view_module_version": "1.2.0",
            "_model_module": "@jupyter-widgets/controls"
          }
        },
        "3c2682eba38540f4aa903e911d9f62af": {
          "model_module": "@jupyter-widgets/base",
          "model_name": "LayoutModel",
          "state": {
            "_view_name": "LayoutView",
            "grid_template_rows": null,
            "right": null,
            "justify_content": null,
            "_view_module": "@jupyter-widgets/base",
            "overflow": null,
            "_model_module_version": "1.2.0",
            "_view_count": null,
            "flex_flow": null,
            "width": null,
            "min_width": null,
            "border": null,
            "align_items": null,
            "bottom": null,
            "_model_module": "@jupyter-widgets/base",
            "top": null,
            "grid_column": null,
            "overflow_y": null,
            "overflow_x": null,
            "grid_auto_flow": null,
            "grid_area": null,
            "grid_template_columns": null,
            "flex": null,
            "_model_name": "LayoutModel",
            "justify_items": null,
            "grid_row": null,
            "max_height": null,
            "align_content": null,
            "visibility": null,
            "align_self": null,
            "height": null,
            "min_height": null,
            "padding": null,
            "grid_auto_rows": null,
            "grid_gap": null,
            "max_width": null,
            "order": null,
            "_view_module_version": "1.2.0",
            "grid_template_areas": null,
            "object_position": null,
            "object_fit": null,
            "grid_auto_columns": null,
            "margin": null,
            "display": null,
            "left": null
          }
        }
      }
    }
  },
  "cells": [
    {
      "cell_type": "markdown",
      "metadata": {
        "id": "A_s5jK9fKera",
        "colab_type": "text"
      },
      "source": [
        "### Outline\n",
        "\n",
        "\n",
        "1.   Generate data that is not linearly separable\n",
        "2.   Train with Sigmoid Neuron and see performance\n",
        "3.   Write from scratch our first feed forward network\n",
        "4.   Train the FF network on the data compare with SN\n",
        "5.   Write a generic class on binary classification\n",
        "6.   Train a generic class on binary classification\n",
        "7.   Generate data for multi-class  classification\n",
        "8.   Train a FF network for Point 7\n",
        "9.   Use softmax as the output layer and cross-entropy loss function \n",
        "10.  Train with Point 8 for multi-class classification\n",
        "11.  Exercises on other datasets\n",
        "\n"
      ]
    },
    {
      "cell_type": "code",
      "metadata": {
        "id": "KlDHqSt8KQOg",
        "colab_type": "code",
        "colab": {}
      },
      "source": [
        "import numpy as np\n",
        "import matplotlib.pyplot as plt\n",
        "import matplotlib.colors # for custom colors\n",
        "import pandas as pd\n",
        "from sklearn.model_selection import train_test_split\n",
        "from sklearn.metrics import accuracy_score, mean_squared_error\n",
        "from tqdm import tqdm_notebook # to show the progress bar for execution, e.g. when epochs are running\n",
        "\n",
        "from sklearn.preprocessing import OneHotEncoder\n",
        "from sklearn.datasets import make_blobs # to generate data that is not linearly separable and such other tasks. Popularly used in ML tasks to create data."
      ],
      "execution_count": 0,
      "outputs": []
    },
    {
      "cell_type": "code",
      "metadata": {
        "id": "miriTkx7PwoQ",
        "colab_type": "code",
        "colab": {}
      },
      "source": [
        "# For forward pass\n",
        "# Two steps: \n",
        "# Preactivation calculated by perceptron function\n",
        "# Activation computed by applying activation function, i.e. sigmoid function on perceptron's output\n",
        "\n",
        "class SigmoidNeuron:\n",
        "  def __init__(self): # initialise the parameters\n",
        "    self.w=None\n",
        "    self.b=None\n",
        "  \n",
        "  # Computing the sigmoid function - split into 2 steps -> perceptron + sigmoid (which works on top of sigmoid)\n",
        "  def perceptron(self,x): #vectors\n",
        "    return np.dot(x,self.w.T)+self.b\n",
        "\n",
        "  def sigmoid(self,x):\n",
        "    return 1.0/(1.0+np.exp(-x)) # \".0\" to allow floating point numbers\n",
        "\n",
        "  # Below two functions when loss is taken as mean squared error loss\n",
        "  def grad_w_mse(self,x,y):\n",
        "    y_pred = self.sigmoid(self.perceptron(x))\n",
        "    return (y_pred-y)*y_pred*(1-y_pred)*x\n",
        "\n",
        "  def grad_b_mse(self,x,y):\n",
        "    y_pred = self.sigmoid(self.perceptron(x))\n",
        "    return (y_pred-y)*y_pred*(1-y_pred)\n",
        "\n",
        "  # Below two functions when we are considering cross entropy loss\n",
        "  def grad_w_ce(self,x,y):\n",
        "    y_pred = self.sigmoid(self.perceptron(x))\n",
        "    if y==0:\n",
        "      return y_pred*x\n",
        "    elif y==1:\n",
        "      return -1 * (1-y_pred)*x\n",
        "    else:\n",
        "      raise ValueError(\"y should be 0 or 1\")\n",
        "\n",
        "  def grad_b_ce(self,x,y):\n",
        "    y_pred = self.sigmoid(self.perceptron(x))\n",
        "    if y==0:\n",
        "      return y_pred\n",
        "    elif y==1:\n",
        "      return -1 * (1-y_pred)\n",
        "    else:\n",
        "      raise ValueError(\"y should be 0 or 1\")\n",
        "\n",
        "  # Fitting parameters into model\n",
        "  def fit(self, X, Y, epochs = 1, lr = 1, initialise = True, loss_fn = \"mse\", display_loss=False):\n",
        "    # Step 1: initialise w and b\n",
        "    if initialise:\n",
        "      self.w = np.random.randn(1,X.shape[1]) # 1 row and as many weights as parameters (X's shape is (number of experiments,number of parameters = no. of wts))\n",
        "      self.b = 0\n",
        "\n",
        "    if display_loss:\n",
        "      loss = {}\n",
        "          \n",
        "    for i in tqdm_notebook(range(epochs),total=epochs):\n",
        "      dw = 0\n",
        "      db = 0\n",
        "      # Computing gradients\n",
        "      for x,y in zip(X,Y): # X and Y are the actual (x,y)'s\n",
        "        if loss_fn == \"mse\":\n",
        "          dw+=self.grad_w_mse(x,y) # the actual (correct) values of x and y. We find the y_pred in the function (which we are calling) itself.\n",
        "          db+=self.grad_b_mse(x,y)\n",
        "        elif loss_fn == \"ce\":\n",
        "          dw+=self.grad_w_ce(x,y)\n",
        "          db+=self.grad_b_ce(x,y)\n",
        "\n",
        "      m = X.shape[1]\n",
        "      self.w -= lr*dw/m # Divide by m since m data points on which computing gradient. I.e. normalizing it so that don't have to change learning rate depending on how many points in data. /m takes care of it\n",
        "      self.b -= lr*db/m\n",
        "\n",
        "      if(display_loss):\n",
        "        Y_pred = self.sigmoid(self.perceptron(X))\n",
        "        if loss_fn == \"mse\":\n",
        "          loss[i] = mean_squared_error(Y, Y_pred)\n",
        "        elif loss_fn == \"ce\":\n",
        "          loss[i] = log_loss(Y,Y_pred) # Note function for finding cross entropy loss\n",
        "\n",
        "\n",
        "    if display_loss:\n",
        "      print(loss.values())\n",
        "      plt.plot(np.array(list(loss.values())))\n",
        "      plt.xlabel(\"Epochs\")\n",
        "      if loss_fn == \"mse\":\n",
        "        plt.ylabel(\"Mean Squared Error\") # The accuracy metric for sigmoid neuron\n",
        "      elif loss_fn == \"ce\":\n",
        "        plt.ylabel(\"Log Loss\") # The accuracy metric for sigmoid neuron\n",
        "      plt.show()\n",
        "\n",
        "  def predict(self,X):\n",
        "    # model has been trained already\n",
        "    Y_pred = []\n",
        "    for x in X: \n",
        "      y_pred = self.sigmoid(self.perceptron(x))\n",
        "      Y_pred.append(y_pred)\n",
        "    return np.array(Y_pred)\n",
        "\n",
        "      "
      ],
      "execution_count": 0,
      "outputs": []
    },
    {
      "cell_type": "markdown",
      "metadata": {
        "id": "dDCeQhEhR4_A",
        "colab_type": "text"
      },
      "source": [
        "Thus, class has these basic things:\n",
        "1. Initialises the paramters\n",
        "2. Applying forward pass outputs (preactivation, activation)\n",
        "3. Gradients part\n",
        "4. Fitting/training part (where gradient calculated and using that w and b updated)\n",
        "5. Finally predict function"
      ]
    },
    {
      "cell_type": "code",
      "metadata": {
        "id": "PmsYfXD6UD9L",
        "colab_type": "code",
        "colab": {}
      },
      "source": [
        "my_cmap = matplotlib.colors.LinearSegmentedColormap.from_list(\"\",[\"red\",\"yellow\",\"green\"])\n",
        "# 0 maps to red and 1 maps to green"
      ],
      "execution_count": 0,
      "outputs": []
    },
    {
      "cell_type": "code",
      "metadata": {
        "id": "-evu_L6qUQ1x",
        "colab_type": "code",
        "colab": {}
      },
      "source": [
        ""
      ],
      "execution_count": 0,
      "outputs": []
    },
    {
      "cell_type": "markdown",
      "metadata": {
        "id": "OGNILxsZUXrc",
        "colab_type": "text"
      },
      "source": [
        "# Generate Data"
      ]
    },
    {
      "cell_type": "code",
      "metadata": {
        "id": "qRwQvWCoUZym",
        "colab_type": "code",
        "outputId": "1cccdb26-52ac-41c7-bb33-5ecc353f09fd",
        "colab": {
          "base_uri": "https://localhost:8080/",
          "height": 36
        }
      },
      "source": [
        "data, labels = make_blobs(n_samples = 1000, centers = 4, n_features = 2, random_state=0)\n",
        "# n_samples: number of data items\n",
        "# number of input features (i.e. the x1, x2, x3 that comes before the fist hiddent layer), e.g. screen size, cost, etc\n",
        "# centers: clusters (blob) i.e. number of outputs (4-class classification)\n",
        "\n",
        "print(data.shape, labels.shape)\n",
        "# Data = Input : the feature values ; has 1000 rows with 2 (n_features) columns (i/p features)\n",
        "# Labels + Output : For each of the inputs, belongs to one of the 4 classes (centers/labels = 0,1,2,3), thus 1000 dim"
      ],
      "execution_count": 5,
      "outputs": [
        {
          "output_type": "stream",
          "text": [
            "(1000, 2) (1000,)\n"
          ],
          "name": "stdout"
        }
      ]
    },
    {
      "cell_type": "code",
      "metadata": {
        "id": "jEmZUi-TVSpo",
        "colab_type": "code",
        "outputId": "f0c26407-8334-4ba4-b3f3-f8b5ae49fcf8",
        "colab": {
          "base_uri": "https://localhost:8080/",
          "height": 265
        }
      },
      "source": [
        "plt.scatter(data[:,0], data[:,1], c=labels, cmap = my_cmap)\n",
        "plt.show()\n",
        "# : => first index which refers to the rows (dim 0) => all rows\n",
        "# 0 => second index which refers to the columns (dim 1) => only first column\n",
        "# X axis: first feature values, Y axis: second feature values\n",
        "\n",
        "# c => color => apply color to the points to identify y-values (New way of plotting output!)\n",
        "# 4 colors for 4 centers (classes)\n",
        "\n",
        "# Remember : Red = minimum (center 0), green = maximum (center 3), yellow (center 2), light green (center 2)"
      ],
      "execution_count": 6,
      "outputs": [
        {
          "output_type": "display_data",
          "data": {
            "image/png": "[encoded data removed]",
            "text/plain": [
              "<Figure size 432x288 with 1 Axes>"
            ]
          },
          "metadata": {
            "tags": [],
            "needs_background": "light"
          }
        }
      ]
    },
    {
      "cell_type": "markdown",
      "metadata": {
        "id": "PYWdT61SXpE2",
        "colab_type": "text"
      },
      "source": [
        "### Note the data is non linearly separable"
      ]
    },
    {
      "cell_type": "markdown",
      "metadata": {
        "id": "YlRo3ekJXHpN",
        "colab_type": "text"
      },
      "source": [
        "Thus scatter plot can be used to represent 3 dimensional data (2 i/ps and 1 o/p)"
      ]
    },
    {
      "cell_type": "code",
      "metadata": {
        "id": "VXMy-v99XQ8_",
        "colab_type": "code",
        "colab": {}
      },
      "source": [
        ""
      ],
      "execution_count": 0,
      "outputs": []
    },
    {
      "cell_type": "markdown",
      "metadata": {
        "id": "ZCWbUKNIXak0",
        "colab_type": "text"
      },
      "source": [
        "### We wanted to do binary classification first, but now we have 4 classes (centers), therefore reduce to 2 centers to get binary classification problem. Yet remains non-linearly separable data."
      ]
    },
    {
      "cell_type": "code",
      "metadata": {
        "id": "fE71ZW86Xn3q",
        "colab_type": "code",
        "colab": {}
      },
      "source": [
        "# Convert Class 0 and 2 to one class and the other two to another class\n",
        "labels_orig = labels # Store the array of labels corresponding to each input safely for the 4 class\n",
        "labels = np.mod(labels_orig,2) # labels_orig not modified"
      ],
      "execution_count": 0,
      "outputs": []
    },
    {
      "cell_type": "code",
      "metadata": {
        "id": "KHSmKFMmX-m4",
        "colab_type": "code",
        "outputId": "ed018c8e-dd8b-4216-fa91-411e4026f502",
        "colab": {
          "base_uri": "https://localhost:8080/",
          "height": 265
        }
      },
      "source": [
        "plt.scatter(data[:,0], data[:,1], c=labels, cmap = my_cmap)\n",
        "plt.show()\n",
        "# Thus only 2 labels now (but the shape of the points are the same)"
      ],
      "execution_count": 8,
      "outputs": [
        {
          "output_type": "display_data",
          "data": {
            "image/png": "[encoded data removed]",
            "text/plain": [
              "<Figure size 432x288 with 1 Axes>"
            ]
          },
          "metadata": {
            "tags": [],
            "needs_background": "light"
          }
        }
      ]
    },
    {
      "cell_type": "markdown",
      "metadata": {
        "id": "rd7wKEeVYUhw",
        "colab_type": "text"
      },
      "source": [
        "Note non linear decision boundary again"
      ]
    },
    {
      "cell_type": "code",
      "metadata": {
        "id": "E6RLKkrnYGi3",
        "colab_type": "code",
        "outputId": "72bed323-1840-455a-b1d1-0883b63d4432",
        "colab": {
          "base_uri": "https://localhost:8080/",
          "height": 36
        }
      },
      "source": [
        "X_train, X_val, Y_train, Y_val = train_test_split(data, labels, stratify = labels, random_state = 0)\n",
        "print(X_train.shape, X_val.shape)\n",
        "\n",
        "# X_val: val => validation set(what we previously referred to as test set)"
      ],
      "execution_count": 9,
      "outputs": [
        {
          "output_type": "stream",
          "text": [
            "(750, 2) (250, 2)\n"
          ],
          "name": "stdout"
        }
      ]
    },
    {
      "cell_type": "code",
      "metadata": {
        "id": "1mzZTeTVYmVn",
        "colab_type": "code",
        "colab": {}
      },
      "source": [
        ""
      ],
      "execution_count": 0,
      "outputs": []
    },
    {
      "cell_type": "markdown",
      "metadata": {
        "id": "kDUSzmctY_BY",
        "colab_type": "text"
      },
      "source": [
        "# Sigmoid Neuron Classification"
      ]
    },
    {
      "cell_type": "markdown",
      "metadata": {
        "id": "CgVZZ4bA47CZ",
        "colab_type": "text"
      },
      "source": [
        "Training"
      ]
    },
    {
      "cell_type": "code",
      "metadata": {
        "id": "1ZJQp7FnZBVv",
        "colab_type": "code",
        "colab": {
          "base_uri": "https://localhost:8080/",
          "height": 406,
          "referenced_widgets": [
            "952e61e1c1524d6491c68a75938f8a5f",
            "a38041b4b9814c8aa3d8f5576c6bed77",
            "165b7377f150483fb1ad904eb6c5f00e",
            "1833d71fab7644fbaab9dfa731bee26a",
            "9d6c307e094846cdbbe78224268da144",
            "32d89bfd81e448458bcf026944dc42bf",
            "10c65c5fb9624801abb7604dc1510f35",
            "ed37156eb6204f9fa67de07a810d9a7f"
          ]
        },
        "outputId": "c5ec69e3-1347-48ea-fb58-a1bb2393ad16"
      },
      "source": [
        "sn = SigmoidNeuron()\n",
        "sn.fit(X_train, Y_train, epochs = 1000, lr = 1, display_loss=True)"
      ],
      "execution_count": 23,
      "outputs": [
        {
          "output_type": "stream",
          "text": [
            "/usr/local/lib/python3.6/dist-packages/ipykernel_launcher.py:52: TqdmDeprecationWarning: This function will be removed in tqdm==5.0.0\n",
            "Please use `tqdm.notebook.tqdm` instead of `tqdm.tqdm_notebook`\n"
          ],
          "name": "stderr"
        },
        {
          "output_type": "display_data",
          "data": {
            "application/vnd.jupyter.widget-view+json": {
              "model_id": "952e61e1c1524d6491c68a75938f8a5f",
              "version_minor": 0,
              "version_major": 2
            },
            "text/plain": [
              "HBox(children=(IntProgress(value=0, max=1000), HTML(value='')))"
            ]
          },
          "metadata": {
            "tags": []
          }
        },
        {
          "output_type": "stream",
          "text": [
            "\n",
            "dict_values([0.2880327180743266, 0.2845173259868029, 0.28163668046802076, 0.28089876072193637, 0.2802679560660497, 0.27975754071053577, 0.2796099714598509, 0.2791346761165361, 0.2790465746142454, 0.2782867627689916, 0.27808054196050835, 0.2777845668093552, 0.27706989443635505, 0.2772347185719171, 0.27620885898314473, 0.27672666572700166, 0.2754412984239023, 0.2763468983062092, 0.27466522647280767, 0.2757016861032255, 0.2741209817256439, 0.2751194994070789, 0.27363812141066174, 0.2744157462882099, 0.27326301035769235, 0.2738415213429258, 0.2728774432403739, 0.2731025014271824, 0.27248133074323067, 0.2723429735808113, 0.27197496460665754, 0.271638031308777, 0.27142619333749735, 0.27121610867356066, 0.2710364464447702, 0.2708513496406956, 0.2706613318613604, 0.2704619844772636, 0.27025308041682705, 0.27003196873471186, 0.26980248941474116, 0.26956759633224875, 0.2693747249130098, 0.26927118241349146, 0.26971997516438856, 0.26974168432572077, 0.270999127940536, 0.2703005473692914, 0.2696866673267396, 0.26988070988426893, 0.269054992672538, 0.2700318152290236, 0.26985395541877616, 0.27041823303529283, 0.2705083107879936, 0.2704189917421915, 0.27032727620384406, 0.27060558104850735, 0.26959621646873655, 0.2710427529692841, 0.2682760863787326, 0.27134837508569, 0.2671021765395497, 0.2701601077015923, 0.2675131830721218, 0.2706123532381235, 0.2664699018879632, 0.26807743448265015, 0.26813643966113027, 0.2710172762916398, 0.2658636873777891, 0.26669667664056035, 0.26797063729956827, 0.27037613166709223, 0.26570716058701904, 0.2667505551923731, 0.2671512394676847, 0.2684674278811885, 0.2658423591745802, 0.2669411109050097, 0.2665513668950319, 0.267442334714333, 0.2660683601638211, 0.26711368512003414, 0.2661194077421703, 0.2671675188503594, 0.2659398267910251, 0.2671211406208389, 0.265826153596614, 0.267094690510462, 0.26570752813482895, 0.26704004358390004, 0.2656195162845155, 0.2669737295590797, 0.26555601280994795, 0.266904006661178, 0.2655128633308189, 0.26684074289563314, 0.2654822481052646, 0.2667850429364526, 0.26546100915104237, 0.2667386993223397, 0.26544530882550854, 0.266699620381592, 0.2654342324968646, 0.2666681219217659, 0.2654255728030479, 0.26664160961485744, 0.2654195496833286, 0.2666207576439083, 0.26541440908989233, 0.26660277630918966, 0.26541112287230856, 0.26658922420040454, 0.26540778787627667, 0.2665767722842483, 0.265406150916333, 0.26656826315095244, 0.26540368701209444, 0.26655920853806875, 0.2654032115517584, 0.26655435860989696, 0.2654010128677982, 0.2665471254101925, 0.26540155888131134, 0.26654522731843916, 0.2653991189256284, 0.26653851150622804, 0.26540081186415176, 0.2665394377262819, 0.2653975710093047, 0.26653194769238747, 0.26540081626295514, 0.26653616617408343, 0.2653960161432112, 0.2665263455652918, 0.2654015935669657, 0.26653506350289013, 0.26539409086148386, 0.2665207378068157, 0.2654033444175079, 0.266536213237489, 0.26539133503183593, 0.2665140798563364, 0.26540650019405587, 0.2665401772961795, 0.26538708786425436, 0.26650502098775297, 0.2654118338276888, 0.26654814046346076, 0.26538034566995855, 0.2664915942824395, 0.26542065845605173, 0.2665621774845941, 0.265369565301711, 0.26647076057854974, 0.26543516336672124, 0.2665856623684645, 0.26535242336521553, 0.2664377407091185, 0.2654589460026949, 0.26662375685179823, 0.26532565304140154, 0.2663851877547205, 0.265497690574553, 0.2666835315331703, 0.2652854552707828, 0.2663029249636741, 0.2655592271455591, 0.2667719915163252, 0.26522986472395715, 0.26618147045810275, 0.2656494897726405, 0.26688788752696035, 0.2651647115727031, 0.26602682646048, 0.2657577939519927, 0.2670072463799842, 0.2651079703737804, 0.26588170029848296, 0.26584628764208873, 0.26709025498035716, 0.2650765687722004, 0.26580008036493663, 0.2658902454097867, 0.2671260272891445, 0.26506780217359466, 0.2657817603068025, 0.26590435381979394, 0.26713522560158615, 0.26506899856844546, 0.26579074327972874, 0.265906526067309, 0.26713448094568637, 0.2650726395760109, 0.26580482083954415, 0.2659047492605911, 0.26713049986355747, 0.26507623747820847, 0.26581712410440966, 0.26590194231167147, 0.2671256577247481, 0.2650792050124605, 0.2658264688048533, 0.2658991285870682, 0.26712078859005073, 0.2650815279277403, 0.2658332305443515, 0.26589661496116873, 0.2671161529935709, 0.26508333976881615, 0.2658380799747974, 0.265894436427032, 0.2671117926315476, 0.26508478741791164, 0.26584162220594293, 0.26589253646132255, 0.26710767306830313, 0.26508599156370133, 0.26584431584711155, 0.2658908407143594, 0.26710374245592866, 0.2650870401377912, 0.26584647977865067, 0.2658892841797542, 0.2670999537533806, 0.26508799279025175, 0.26584832360383576, 0.2658878181388069, 0.2670962709492978, 0.2650888879813187, 0.26584997935484816, 0.26588640911066425, 0.2670926688297057, 0.26508974953145686, 0.26585152732108575, 0.2658850353983383, 0.26708913068792645, 0.2650905916948128, 0.26585301482888923, 0.2658836835582919, 0.26708564583850425, 0.26509142273418795, 0.26585446896571585, 0.26588234557143015, 0.26708220758256934, 0.2650922472879372, 0.2658559047760446, 0.2658810168228459, 0.26707881173966763, 0.2650930678668004, 0.2658573303364398, 0.2658796947570053, 0.2670754556644939, 0.2650938857667284, 0.26585874979735125, 0.26587837802546516, 0.2670721376212145, 0.2650947016088107, 0.2658601651552897, 0.26587706596672755, 0.2670688564004218, 0.26509551565008355, 0.2658615772588739, 0.2658757582985592, 0.2670656110918902, 0.26509632795792987, 0.26586298636584144, 0.26587445494096673, 0.26706240095339345, 0.26509713850547567, 0.26586439244365906, 0.26587315591699434, 0.26705922533685383, 0.2650979472223662, 0.265865795327297, 0.26587186129861023, 0.26705608364776534, 0.26509875402095917, 0.2658671947993733, 0.2658705711780523, 0.2670529753234406, 0.26509955880931274, 0.26586859062918966, 0.26586928565319257, 0.26704989982164434, 0.26510036149727506, 0.2658699825906289, 0.26586800482041734, 0.2670468566148124, 0.26510116199908745, 0.2658713704695577, 0.2658667287714184, 0.2670438451871896, 0.2651019602342964, 0.2658727540662541, 0.26586545759194813, 0.26704086503344504, 0.2651027561278913, 0.26587413319562686, 0.2658641913615141, 0.2670379156580034, 0.2651035496101205, 0.26587550768656204, 0.26586293015349294, 0.2670349965747056, 0.26510434061619564, 0.2658768773810012, 0.26586167403540906, 0.2670321073066073, 0.26510512908597766, 0.2658782421330052, 0.2658604230692606, 0.26702924738582784, 0.2651059149636788, 0.26587960180789216, 0.26585917731184333, 0.26702641635341007, 0.26510669819759086, 0.26588095628146813, 0.2658579368150539, 0.2670236137591791, 0.2651074787398402, 0.26588230543934294, 0.26585670162616915, 0.2670208391615929, 0.2651082565461645, 0.26588364917631724, 0.26585547178810287, 0.2670180921275898, 0.2651090315757096, 0.26588498739582667, 0.2658542473396425, 0.2670153722324295, 0.26510980379084076, 0.26588632000943224, 0.26585302831566937, 0.2670126790595337, 0.2651105731569677, 0.2658876469363476, 0.2658518147473644, 0.2670100122003259, 0.26511133964238026, 0.2658889681029993, 0.2658506066624018, 0.2670073712540708, 0.26511210321809436, 0.26589028344261406, 0.2658494040851312, 0.267004755827716, 0.26511286385770577, 0.265891592894831, 0.26584820703675077, 0.26700216553573436, 0.2651136215372533, 0.2658928964053365, 0.26584701553547063, 0.2669995999999693, 0.2651143762350884, 0.26589419392551955, 0.26584582959666814, 0.266997058849482, 0.26511512793175157, 0.26589548541214686, 0.2658446492330354, 0.2669945417204008, 0.26511587660985614, 0.2658967708270556, 0.2658434744547191, 0.26699204825577366, 0.2651166222539776, 0.2658980501368632, 0.2658423052694539, 0.2669895781054224, 0.26511736485054843, 0.26589932331269345, 0.2658411416826888, 0.26698713092580056, 0.2651181043877592, 0.26590059032991736, 0.2658399836977076, 0.26698470637985283, 0.26511884085546383, 0.26590185116790804, 0.2658388313157436, 0.2669823041368779, 0.26511957424509053, 0.26590310580980925, 0.265837684536088, 0.266979923872394, 0.26512030454955704, 0.2659043542423165, 0.265836543356194, 0.2669775652680059, 0.26512103176318974, 0.26590559645547, 0.2658354077717753, 0.2669752280112766, 0.26512175588164805, 0.26590683244245866, 0.2658342777768995, 0.26697291179559945, 0.2651224769018513, 0.2659080621994349, 0.2658331533640784, 0.26697061632007457, 0.2651231948219104, 0.2659092857253397, 0.2658320345243521, 0.26696834128938707, 0.2651239096410623, 0.2659105030217361, 0.2658309212473706, 0.2669660864136878, 0.2651246213596084, 0.2659117140926531, 0.2658298135214706, 0.26696385140847695, 0.2651253299788552, 0.2659129189444366, 0.2658287113337489, 0.26696163599448997, 0.2651260355010589, 0.26591411758560907, 0.2658276146701327, 0.2669594398975861, 0.265126737929372, 0.26591531002673674, 0.26582652351544583, 0.26695726284863874, 0.2651274372677932, 0.26591649628030334, 0.26582543785347246, 0.2669551045834295, 0.2651281335211192, 0.26591767636059116, 0.2658243576670172, 0.2669529648425431, 0.2651288266948994, 0.26591885028356843, 0.26582328293796315, 0.2669508433712655, 0.2651295167953926, 0.2659200180667819, 0.2658222136473264, 0.2669487399194843, 0.2651302038295261, 0.2659211797292563, 0.2658211497753085, 0.26694665424159075, 0.26513088780485655, 0.26592233529139836, 0.2658200913013461, 0.2669445860963848, 0.26513156872953264, 0.2659234847749062, 0.2658190382041584, 0.26694253524698136, 0.26513224661226037, 0.26592462820268337, 0.26581799046179255, 0.26694050146071974, 0.26513292146226897, 0.2659257655987577, 0.2658169480516665, 0.2669384845090743, 0.2651335932892796, 0.26592689698820426, 0.26581591095060997, 0.2669364841675672, 0.2651342621034746, 0.2659280223970727, 0.265814879134904, 0.26693450021568366, 0.2651349279154692, 0.2659291418523178, 0.26581385258031764, 0.26693253243678894, 0.26513559073628373, 0.2659302553817345, 0.2658128312621438, 0.26693058061804664, 0.26513625057731777, 0.2659313630138959, 0.2658118151552329, 0.26692864455033977, 0.2651369074503256, 0.26593246477809473, 0.265810804234025, 0.2669267240281932, 0.26513756136739236, 0.2659335607042879, 0.26580979847258085, 0.2669248188496975, 0.2651382123409123, 0.265934650823044, 0.26580879784461076, 0.26692292881643537, 0.26513886038356665, 0.26593573516549335, 0.2658078023235023, 0.2669210537334091, 0.2651395055083045, 0.26593681376328143, 0.2658068118823475, 0.26691919340896975, 0.2651401477283226, 0.26593788664852397, 0.2658058264939672, 0.26691734765474856, 0.2651407870570478, 0.26593895385376504, 0.26580484613093586, 0.266915516285589, 0.2651414235081194, 0.265940015411937, 0.26580387076560374, 0.2669136991194812, 0.2651420570953729, 0.265941071356323, 0.26580290037011944, 0.26691189597749726, 0.265142687832824, 0.265942121720521, 0.26580193491644993, 0.2669101066837285, 0.265143315734654, 0.2659431665384103, 0.26580097437640066, 0.26690833106522405, 0.2651439408151955, 0.26594420584411954, 0.26580001872163433, 0.26690656895193055, 0.26514456308891915, 0.2659452396719962, 0.2657990679236887, 0.26690482017663353, 0.26514518257042063, 0.2659462680565787, 0.2657981219539934, 0.2669030845749002, 0.2651457992744087, 0.26594729103256903, 0.26579718078388637, 0.2669013619850232, 0.26514641321569343, 0.26594830863480706, 0.26579624438462907, 0.2668996522479658, 0.26514702440917565, 0.265949320898247, 0.2657953127274211, 0.26689795520730863, 0.2651476328698363, 0.2659503278579344, 0.2657943857834139, 0.2668962707091971, 0.26514823861272635, 0.26595132954898465, 0.2657934635237244, 0.2668945986022903, 0.26514884165295793, 0.2659523260065627, 0.26579254591944695, 0.2668929387377113, 0.26514944200569507, 0.26595331726586435, 0.2657916329416656, 0.26689129096899805, 0.2651500396861455, 0.26595430336209763, 0.2657907245614653, 0.26688965515205554, 0.2651506347095523, 0.2659552843304664, 0.26578982074994245, 0.2668880311451096, 0.2651512270911866, 0.2659562602061537, 0.2657889214782153, 0.266886418808661, 0.26515181684634037, 0.26595723102430757, 0.2657880267174334, 0.2668848180054406, 0.26515240399031936, 0.26595819682002586, 0.2657871364387866, 0.2668832286003665, 0.2651529885384369, 0.2659591576283436, 0.2657862506135142, 0.2668816504605008, 0.26515357050600763, 0.2659601134842202, 0.2657853692129123, 0.2668800834550081, 0.2651541499083418, 0.26596106442252776, 0.26578449220834244, 0.2668785274551149, 0.26515472676073953, 0.26596201047803963, 0.26578361957123836, 0.26687698233407015, 0.2651553010784858, 0.26596295168542056, 0.26578275127311296, 0.2668754479671053, 0.2651558728768455, 0.2659638880792165, 0.26578188728556507, 0.2668739242313971, 0.2651564421710589, 0.26596481969384594, 0.26578102758028543, 0.26687241100603043, 0.26515700897633676, 0.2659657465635907, 0.2657801721290626, 0.26687090817196124, 0.2651575733078571, 0.26596666872258845, 0.26577932090378836, 0.26686941561198146, 0.26515813518076026, 0.26596758620482525, 0.26577847387646314, 0.2668679332106842, 0.2651586946101456, 0.2659684990441284, 0.2657776310192003, 0.26686646085442933, 0.26515925161106824, 0.26596940727415974, 0.26577679230423157, 0.2668649984313106, 0.2651598061985357, 0.26597031092841017, 0.26577595770391055, 0.2668635458311228, 0.2651603583875043, 0.26597121004019353, 0.2657751271907171, 0.26686210294533, 0.26516090819287685, 0.26597210464264165, 0.2657743007372612, 0.2668606696670344, 0.2651614556294998, 0.26597299476869957, 0.2657734783162862, 0.2668592458909457, 0.2651620007121602, 0.26597388045112075, 0.26577265990067256, 0.2668578315133514, 0.26516254345558377, 0.26597476172246337, 0.2657718454634404, 0.2668564264320876, 0.2651630838744325, 0.26597563861508616, 0.26577103497775273, 0.2668550305465104, 0.2651636219833025, 0.26597651116114546, 0.265770228416918, 0.2668536437574679, 0.265164157796722, 0.26597737939259125, 0.26576942575439266, 0.26685226596727285, 0.2651646913291493, 0.26597824334116527, 0.26576862696378345, 0.2668508970796762, 0.2651652225949717, 0.26597910303839734, 0.26576783201884935, 0.2668495369998402, 0.265165751608503, 0.2659799585156039, 0.2657670408935038, 0.2668481856343137, 0.26516627838398243, 0.26598080980388517, 0.26576625356181627, 0.26684684289100613, 0.2651668029355736, 0.2659816569341236, 0.265765469998014, 0.26684550867916373, 0.2651673252773625, 0.26598249993698236, 0.2657646901764836, 0.266844182909345, 0.26516784542335686, 0.26598333884290326, 0.2657639140717721, 0.2668428654933971, 0.2651683633874847, 0.265984173682106, 0.2657631416585885, 0.26684155634443324, 0.26516887918359366, 0.2659850044845867, 0.265762372911805, 0.26684025537680994, 0.26516939282544977, 0.2659858312801174, 0.2657616078064573, 0.26683896250610467, 0.26516990432673676, 0.2659866540982445, 0.2657608463177461, 0.26683767764909466, 0.26517041370105515, 0.26598747296828923, 0.2657600884210378, 0.26683640072373527, 0.2651709209619219, 0.2659882879193461, 0.26575933409186486, 0.2668351316491397, 0.2651714261227692, 0.26598909898028306, 0.2657585833059267, 0.2668338703455582, 0.26517192919694466, 0.26598990617974155, 0.26575783603908976, 0.26683261673435876, 0.26517243019771, 0.2659907095461359, 0.26575709226738825, 0.26683137073800695, 0.26517292913824114, 0.2659915091076534, 0.26575635196702435, 0.26683013228004737, 0.2651734260316278, 0.265992304892255, 0.2657556151143683, 0.26682890128508474, 0.2651739208908731, 0.26599309692767503, 0.2657548816859586, 0.26682767767876553, 0.26517441372889294, 0.2659938852414214, 0.2657541516585021, 0.26682646138776006, 0.2651749045585165, 0.26599466986077686, 0.26575342500887394, 0.2668252523397452, 0.2651753933924853, 0.2659954508127983, 0.2657527017141175, 0.26682405046338664, 0.2651758802434536, 0.26599622812431856, 0.2657519817514444, 0.26682285568832226, 0.265176365123988, 0.2659970018219463, 0.2657512650982339, 0.2668216679451458, 0.2651768480465677, 0.26599777193206714, 0.2657505517320331, 0.2668204871653903, 0.265177329023584, 0.26599853848084415, 0.2657498416305564, 0.26681931328151254, 0.26517780806734076, 0.2659993014942192, 0.26574913477168527, 0.2668181462268771, 0.2651782851900543, 0.2660000609979134, 0.2657484311334675, 0.2668169859357415, 0.2651787604038536, 0.26600081701742845, 0.26574773069411733, 0.2668158323432411, 0.26517923372077995, 0.2660015695780475, 0.2657470334320144, 0.2668146853853741, 0.2651797051527877, 0.2660023187048363, 0.2657463393257036, 0.266813544998988, 0.26518017471174427, 0.26600306442264443, 0.2657456483538942, 0.26681241112176457, 0.26518064240943007, 0.2660038067561063, 0.2657449604954595, 0.26681128369220664, 0.2651811082575389, 0.26600454572964244, 0.26574427572943615, 0.2668101626496245, 0.2651815722676783, 0.2660052813674608, 0.26574359403502307, 0.26680904793412225, 0.2651820344513698, 0.26600601369355825, 0.26574291539158146, 0.26680793948658543, 0.26518249482004885, 0.2660067427317213, 0.2657422397786334, 0.26680683724866766, 0.26518295338506576, 0.2660074685055281, 0.2657415671758615, 0.26680574116277844, 0.2651834101576853, 0.2660081910383495, 0.2657408975631079, 0.2668046511720707, 0.2651838651490879, 0.2660089103533504, 0.26574023092037363, 0.266803567220429, 0.26518431837036904, 0.26600962647349136, 0.2657395672278176, 0.2668024892524575, 0.2651847698325404, 0.26601033942153, 0.2657389064657558, 0.2668014172134684, 0.26518521954652996, 0.2660110492200223, 0.26573824861466055, 0.26680035104947075, 0.26518566752318234, 0.26601175589132425, 0.2657375936551594, 0.26679929070715924, 0.2651861137732592, 0.2660124594575934, 0.26573694156803457, 0.2667982361339032, 0.26518655830743987, 0.2660131599407901, 0.2657362923342214, 0.2667971872777357, 0.26518700113632176, 0.2660138573626793, 0.26573564593480825, 0.26679614408734353, 0.2651874422704205, 0.2660145517448319, 0.26573500235103475, 0.2667951065120564, 0.2651878817201708, 0.2660152431086264, 0.2657343615642915, 0.266794074501837, 0.26518831949592664, 0.26601593147525043, 0.2657337235561184, 0.26679304800727127, 0.26518875560796185, 0.2660166168657022, 0.2657330883082044, 0.26679202697955806, 0.26518919006647057, 0.2660172993007921, 0.2657324558023862, 0.2667910113705002, 0.2651896228815678, 0.2660179788011445, 0.2657318260206468, 0.2667900011324947, 0.26519005406328977, 0.2660186553871988, 0.2657311989451154, 0.2667889962185236, 0.2651904836215947, 0.2660193290792117, 0.2657305745580654, 0.2667879965821453, 0.2651909115663628, 0.26601999989725805, 0.2657299528419143, 0.26678700217748497, 0.2651913379073976, 0.26602066786123296, 0.2657293337792219, 0.2667860129592264, 0.2651917626544254, 0.26602133299085307, 0.2657287173526898, 0.26678502888260314, 0.2651921858170969, 0.26602199530565823, 0.2657281035451601, 0.2667840499033903, 0.2651926074049868, 0.266022654825013, 0.26572749233961435, 0.26678307597789613, 0.26519302742759493, 0.2660233115681085, 0.2657268837191726, 0.2667821070629541, 0.2651934458943465, 0.2660239655539634, 0.2657262776670925, 0.2667811431159147, 0.2651938628145928, 0.26602461680142614, 0.26572567416676796, 0.26678018409463794, 0.2651942781976115, 0.2660252653291758, 0.26572507320172817, 0.26677922995748515, 0.2651946920526074, 0.2660259111557245, 0.26572447475563665, 0.2667782806633122, 0.26519510438871285, 0.26602655429941796, 0.2657238788122902, 0.26677733617146143, 0.26519551521498846, 0.26602719477843784, 0.2657232853556178, 0.2667763964417549, 0.26519592454042346, 0.2660278326108028, 0.26572269436967955, 0.26677546143448666, 0.26519633237393625, 0.26602846781437034, 0.2657221058386657, 0.26677453111041627, 0.2651967387243749, 0.2660291004068381, 0.2657215197468954, 0.26677360543076184, 0.265197143600518, 0.2660297304057452, 0.265720936078816, 0.2667726843571931, 0.2651975470110749, 0.26603035782847434, 0.2657203548190015, 0.26677176785182455, 0.26519794896468624, 0.2660309826922527, 0.26571977595215235, 0.26677085587720956, 0.26519834946992477, 0.26603160501415385, 0.26571919946309336, 0.2667699483963334, 0.26519874853529546, 0.26603222481109856, 0.2657186253367735, 0.26676904537260715, 0.26519914616923657, 0.2660328420998573, 0.2657180535582644, 0.26676814676986144, 0.2651995423801196, 0.2660334568970507, 0.2657174841127595, 0.26676725255234063, 0.26519993717625034, 0.2660340692191518, 0.2657169169855732, 0.2667663626846963, 0.26520033056586917, 0.2660346790824866, 0.26571635216213935, 0.2667654771319818, 0.26520072255715155, 0.2660352865032366, 0.26571578962801073, 0.26676459585964657, 0.2652011131582087, 0.2660358914974391, 0.2657152293688578, 0.26676371883353, 0.26520150237708795, 0.2660364940809894])\n"
          ],
          "name": "stdout"
        },
        {
          "output_type": "display_data",
          "data": {
            "image/png": "[encoded data removed]",
            "text/plain": [
              "<Figure size 432x288 with 1 Axes>"
            ]
          },
          "metadata": {
            "tags": [],
            "needs_background": "light"
          }
        }
      ]
    },
    {
      "cell_type": "code",
      "metadata": {
        "id": "1JbG7qa05EiU",
        "colab_type": "code",
        "colab": {
          "base_uri": "https://localhost:8080/",
          "height": 406,
          "referenced_widgets": [
            "37b2835a49174d28a48ba833ce44001d",
            "d4a2742439e849c2bf7028d9ffa78fa4",
            "6a3a6c51fe0c4c10946f62b1c1029bf3",
            "2d652f681464407cabe6341a80297ed6",
            "5da2302a15d04519b9c479e311128eac",
            "5f81379f19324cdcbad5c534a9e1e8e4",
            "76b2b58331334e6ba41cde4d48165e0e",
            "0c87e897a1074104997aff51ee586714"
          ]
        },
        "outputId": "402ab5ae-931e-4ded-d863-b6b75cef57ea"
      },
      "source": [
        "sn = SigmoidNeuron()\n",
        "sn.fit(X_train, Y_train, epochs = 1000, lr = 0.5, display_loss=True)"
      ],
      "execution_count": 27,
      "outputs": [
        {
          "output_type": "stream",
          "text": [
            "/usr/local/lib/python3.6/dist-packages/ipykernel_launcher.py:52: TqdmDeprecationWarning: This function will be removed in tqdm==5.0.0\n",
            "Please use `tqdm.notebook.tqdm` instead of `tqdm.tqdm_notebook`\n"
          ],
          "name": "stderr"
        },
        {
          "output_type": "display_data",
          "data": {
            "application/vnd.jupyter.widget-view+json": {
              "model_id": "37b2835a49174d28a48ba833ce44001d",
              "version_minor": 0,
              "version_major": 2
            },
            "text/plain": [
              "HBox(children=(IntProgress(value=0, max=1000), HTML(value='')))"
            ]
          },
          "metadata": {
            "tags": []
          }
        },
        {
          "output_type": "stream",
          "text": [
            "\n",
            "dict_values([0.515077119543593, 0.514463203909625, 0.5136871567263109, 0.5126496994759756, 0.5114985461380519, 0.5105669963548612, 0.5099588683889076, 0.5095837214224789, 0.5093408728347645, 0.5091683866728637, 0.5090320540942874, 0.5089128092486683, 0.5087990302152979, 0.5086825103539783, 0.5085564691407741, 0.5084146347325885, 0.5082508699531615, 0.5080586609915495, 0.507828618985952, 0.5075387907440644, 0.5071213503994167, 0.5063474637484475, 0.5047381962945049, 0.5030865467004607, 0.50210149129641, 0.5013438707233373, 0.500849155465237, 0.5005904619626753, 0.5004499863852357, 0.5003625673697205, 0.5003016751849862, 0.5002557073484788, 0.5002189347183016, 0.5001882117285174, 0.5001616550786072, 0.5001380529155166, 0.5001165748193069, 0.5000966176514843, 0.5000777176359994, 0.5000594967167757, 0.5000416273884876, 0.500023807598799, 0.5000057408755894, 0.4999871185624361, 0.4999676018246569, 0.49994680129789487, 0.49992425203688245, 0.49989938079539237, 0.49987146154357165, 0.49983955332857977, 0.4998024118391805, 0.4997583620051717, 0.49970511334076056, 0.4996394925042294, 0.4995570592127874, 0.4994515619387386, 0.4993141670780781, 0.49913229351857386, 0.4988874853804073, 0.49855075725399306, 0.4980732463788449, 0.49737119083089676, 0.4962441511959519, 0.49391235983865894, 0.49087951730925244, 0.4897741794671491, 0.4885304537727296, 0.4869602240926914, 0.48453695220379966, 0.4805564400606465, 0.47698539122551886, 0.4681561870780177, 0.4647280460112811, 0.4622409293820267, 0.45818200462590736, 0.4463549862040897, 0.4341204352132227, 0.4193899321296582, 0.39738058726220105, 0.3886584928839517, 0.3754316239635326, 0.3681605744628899, 0.36234069983127376, 0.35811300781610506, 0.355865742264177, 0.35524423027442215, 0.35409998488115285, 0.3533197286104051, 0.35254972171782567, 0.3518233389943777, 0.35111462550293293, 0.3503988264367643, 0.34971859808373906, 0.3490933615764658, 0.34852658057693314, 0.3480935858553697, 0.3475842825636623, 0.3474546227077523, 0.3466064795380482, 0.3462325965967716, 0.34605689706765314, 0.3459687951957203, 0.346884558941569, 0.3496599640466705, 0.34443798863352443, 0.34440294179037195, 0.3445334539935214, 0.3458644837291928, 0.3505996367881459, 0.3430516935730574, 0.3434085006829589, 0.34408589636436687, 0.3452256295480435, 0.34162704454671733, 0.34225063772543174, 0.3406684961958443, 0.3414283852193347, 0.339261691664737, 0.33930580936075877, 0.340165270603337, 0.3412592639721785, 0.34042232685272505, 0.3420802034015034, 0.3429096977268735, 0.3476408337398921, 0.337470408581626, 0.3386318641702615, 0.3371159147786935, 0.3387327972240892, 0.33850353655710896, 0.3407773020018667, 0.3392395325513788, 0.340394442410789, 0.3384485318340461, 0.3396384086320227, 0.3376214246332298, 0.3388934383773878, 0.33672490726563226, 0.33799455797420647, 0.33576986635615164, 0.3368912914743368, 0.334943559405837, 0.3357474959528098, 0.33441593695744154, 0.33448738157640984, 0.3341745661200444, 0.33306943162856856, 0.33385510217329994, 0.3318035575447252, 0.3329892031908418, 0.3303693466805374, 0.33133585663804543, 0.3293522653841448, 0.329777966148564, 0.32917379041325073, 0.3300897555557524, 0.32791123105638653, 0.3278130243781569, 0.3274783920517735, 0.3273258791040932, 0.32714109667106717, 0.32701512109531206, 0.3266910574842855, 0.3264663395032278, 0.32620375883335373, 0.3258876957938004, 0.3254897833225115, 0.32497764078669605, 0.3242846207176414, 0.32331695512276315, 0.3220169304125578, 0.3204052971931596, 0.3185245236965445, 0.3165781699914855, 0.31485581345526426, 0.31349162270192416, 0.31244643557688795, 0.31162859223837, 0.31094725878010127, 0.31032676905878337, 0.3097116857119085, 0.30905144622683506, 0.3083765084757318, 0.30782544160922803, 0.30757490277031174, 0.30980088961488733, 0.32387030347274237, 0.3406875817087189, 0.3187035782121831, 0.3387994443482393, 0.31420004393485057, 0.3314627716694509, 0.3143307236746468, 0.30714745922297676, 0.30766868677011705, 0.3097676117761644, 0.3237040675144732, 0.3087720833944281, 0.3186044647575925, 0.31441918957617726, 0.3375087998168261, 0.31549135310845605, 0.33506426940042455, 0.3074357622514232, 0.3074210489422555, 0.3091854498193667, 0.31938255729072323, 0.3387433441375908, 0.3161284296370752, 0.3341334189499049, 0.31181898292425075, 0.3196094019360687, 0.3356059502580478, 0.3075746205570954, 0.30751897607530204, 0.308713714502681, 0.3143603606231275, 0.33358536231198277, 0.3135389156329233, 0.30792089253493365, 0.3120408138034292, 0.31456097202737016, 0.33467321960377444, 0.308310011982924, 0.31092269705901276, 0.32561727987143374, 0.30827491635916676, 0.3132735994924397, 0.30833783423704136, 0.3143974601507689, 0.3072232141477018, 0.30868989587289863, 0.3133393643016553, 0.3332772631110384, 0.31369884899477796, 0.3073556116479059, 0.3094106502491687, 0.3180316947236396, 0.33750802962167936, 0.3116995379126078, 0.326557666016219, 0.3077337933731506, 0.30984636707237095, 0.31965411030509144, 0.33539266346149726, 0.3076577621042552, 0.3078844513458113, 0.3107870323717497, 0.3198246100408717, 0.3351292767039224, 0.30815888440256056, 0.3090186258650508, 0.31541730905070625, 0.30811890631533595, 0.3126414037297838, 0.3113647828607771, 0.32809083273013273, 0.3071832838798294, 0.3077463671170175, 0.310949479195731, 0.31857072083315663, 0.33591261480508544, 0.30722282194132805, 0.3071236660333609, 0.3070910044053359, 0.3072439527716767, 0.3081491035850178, 0.3093785948562632, 0.319717509909857, 0.3108403823309094, 0.325890552382828, 0.30802577553194077, 0.3122413370703991, 0.3135538170922149, 0.33281768136563655, 0.31529165334524784, 0.3079716614969841, 0.3121246543047243, 0.31407589016523185, 0.333525320673029, 0.3140710736773237, 0.3071432137403014, 0.30773171392881343, 0.3081833423398559, 0.31352952247811966, 0.30769669081629075, 0.31137460680927914, 0.3169616565763727, 0.33704313228766325, 0.30964576344783046, 0.3185318388160856, 0.3132462251728394, 0.33149125991965905, 0.3131715994197004, 0.3094098761625363, 0.3187595058308385, 0.31340991186240696, 0.3320673672050655, 0.3146030448847717, 0.30710393082211956, 0.3073338579411925, 0.30801094628300235, 0.3125147536219339, 0.31181628200500394, 0.3298565220479269, 0.30820183635861464, 0.30974748519615714, 0.3213179400039384, 0.3074040250839181, 0.30907824772558684, 0.31546865834009524, 0.33506469024306207, 0.30794296309066577, 0.30851340651034576, 0.31396739428358866, 0.3071841249172541, 0.30805338617583106, 0.3091378528508771, 0.318794373921847, 0.3141295931855591, 0.3335529183606318, 0.3138535310688131, 0.30729744009679777, 0.3085321063389219, 0.31214937267275594, 0.330530449786698, 0.309401319008098, 0.3177830205387848, 0.33603275850312114, 0.3073276715599165, 0.30746625079802226, 0.3078929188856562, 0.311437625469128, 0.317614255607001, 0.33599572868323163, 0.30726577935808963, 0.3072545514354806, 0.3076824795174038, 0.3102685053169356, 0.3194828113714276, 0.33539992753589615, 0.30766212983682234, 0.30794676784942165, 0.3111770752983254, 0.3187182626333915, 0.33525484481232515, 0.30806286784314096, 0.3085703492715164, 0.31372036069933484, 0.3075640263420992, 0.30961543828270943, 0.3173934396576934, 0.3354917731777578, 0.30766026292315224, 0.3079642456082121, 0.31114054275802494, 0.3187362426878148, 0.33497575115653605, 0.30903484841963136, 0.3141957255168077, 0.33216781322531097, 0.3153432177486788, 0.3074533161181625, 0.30841940061118295, 0.31022981691894663, 0.3222428680308733, 0.30712875171893467, 0.3071230644113961, 0.3073207529131549, 0.3083564166560762, 0.3100299343550267, 0.3223985195356778, 0.3070650449260488, 0.3071922983585905, 0.307861081610977, 0.31178594589126485, 0.3155464137274833, 0.3353072286034369, 0.30762004700740153, 0.30796251802316627, 0.31160494030777053, 0.31698852380944603, 0.335554054544714, 0.30750231944071127, 0.3078731660693145, 0.3107748684119003, 0.3195153113566175, 0.33495974752004415, 0.30886592622185033, 0.3132296284230212, 0.3308733387883471, 0.3109563039847429, 0.31992622367873175, 0.3341452254255661, 0.31374257056702987, 0.30804093692661083, 0.3112324882468052, 0.31846055827144787, 0.3345983864773496, 0.3114261291498204, 0.31894125214802943, 0.3339750052974476, 0.31488712642940575, 0.3073051564262961, 0.3073236067232396, 0.3077883563738481, 0.3081109970782474, 0.31210408958801017, 0.3144807286640462, 0.3332288146717411, 0.31578297242644704, 0.30864904788482744, 0.3143182235286481, 0.30716339668809767, 0.3074506818350171, 0.3081921054194428, 0.31307516976897465, 0.3093409705762308, 0.3194539182799508, 0.3123090914929127, 0.3302830445389254, 0.30894127002547056, 0.31368375287635436, 0.33227974845055136, 0.3150705997561034, 0.30731024731234713, 0.3081032477506787, 0.30887091340787637, 0.3159614122175624, 0.31060502036048154, 0.32459016716946354, 0.3078080859049788, 0.31082802299324364, 0.31887387995012734, 0.3352148787289841, 0.3081936797215474, 0.30904413890138727, 0.31553457136110924, 0.308256007334048, 0.3130864567596534, 0.30934049673295183, 0.3191965641481215, 0.31288950208468336, 0.3313928105826967, 0.31204011266561565, 0.31522066837626117, 0.33381346150780705, 0.31426893874603834, 0.3071697471608053, 0.3073313092615714, 0.30799847852545015, 0.31201713310424767, 0.314678403915864, 0.3338515312015693, 0.31366346763658265, 0.30772841216755575, 0.3104135753348645, 0.3190744223354231, 0.3351619336913028, 0.3083068745983583, 0.30957265034631093, 0.3183163005088753, 0.31393259740064855, 0.3322295111534219, 0.315231463532906, 0.3074010301488129, 0.3083449362435671, 0.30985127102561055, 0.3209390492974247, 0.30786226020967306, 0.3110658748015774, 0.31836718638935374, 0.33520870150953713, 0.3082987914885603, 0.30944453364374824, 0.31749654040652847, 0.3145150136138181, 0.33279895931492093, 0.3166993735622124, 0.3119322804977825, 0.3275222048144783, 0.3072565928732971, 0.3071870348407079, 0.3071461504100004, 0.3071354763391799, 0.30725934791430126, 0.30792413631939963, 0.31166627734141517, 0.3161436686790954, 0.33502635883127335, 0.308689713896959, 0.31194069732154767, 0.32796899781257843, 0.30731260587211706, 0.3076876683047457, 0.30979837567975693, 0.31803355822613383, 0.334916697076256, 0.30945258980278845, 0.31671218128008816, 0.33381468441173107, 0.3152073878211432, 0.3072904971128088, 0.30734101333138175, 0.30785397931710534, 0.310695600632318, 0.31893089209864023, 0.33470324041227417, 0.31066864794850385, 0.31994996869881714, 0.3338488619402283, 0.3152136979766569, 0.3072958714190741, 0.30732689517652445, 0.30778823958286944, 0.3102135860172226, 0.3185809683605666, 0.33458662937994366, 0.31158731948690827, 0.3182178648675283, 0.33400427802147403, 0.31481682632418423, 0.3073064772661318, 0.307346898467593, 0.3078754348589517, 0.3081624341171874, 0.3123149294602028, 0.31343002147189614, 0.33204245836882557, 0.31395585544530286, 0.3073563461576972, 0.30823084702325976, 0.3089944025234791, 0.316466069168188, 0.31254471294042474, 0.3305067968178158, 0.30941805266368155, 0.3162570882906671, 0.3341490820549397, 0.3135576385092918, 0.3083970315036047, 0.3131374460540085, 0.3094121165652101, 0.318806488918828, 0.31376543853642647, 0.3322903080174764, 0.3148980197529502, 0.3071965276719996, 0.30743193828984133, 0.30812534167234334, 0.3125187651934172, 0.31213003914673576, 0.32990847269784496, 0.308456713233748, 0.31035701445355934, 0.322964731459357, 0.30712264162652114, 0.3071138941335074, 0.30727684507693914, 0.3081631966282826, 0.30910948733954396, 0.3178533443159101, 0.31596646630235975, 0.33478624421816444, 0.30940042892940733, 0.31689651175548517, 0.33425271574553106, 0.31307295601138163, 0.31098126891430417, 0.3238972639384529, 0.30735528567596915, 0.30787241377034713, 0.30821368770956203, 0.31273379859303235, 0.3111140217834606, 0.3266252292297574, 0.3075015619485572, 0.3090176981814091, 0.3140118899579145, 0.3328376371894681, 0.31590850843978674, 0.30942153842567927, 0.3183061120987765, 0.3144245755204074, 0.3329265876834688, 0.3164505297679567, 0.3112559289311958, 0.3254241990600964, 0.30805906565859126, 0.3113126916882453, 0.31821495954657586, 0.33458780118483317, 0.31154530233728245, 0.31854678106241524, 0.33398976835959654, 0.314864309750167, 0.3073095384603483, 0.3073418012104041, 0.3078572937256677, 0.30815116326829683, 0.31228455228045976, 0.31357909228441494, 0.33226938709139237, 0.31457631549634874, 0.30715121854256666, 0.30724155465357783, 0.30782116605725773, 0.31093328231917106, 0.31829166423776517, 0.3351961913792409, 0.3084066389156378, 0.3099460373619362, 0.3201442797855263, 0.3091342716628484, 0.31614280090327973, 0.3104362561384009, 0.32295781288718933, 0.30715542842434845, 0.30711962979795965, 0.30709367322880143, 0.3070770405582531, 0.3071017979181618, 0.30739151975393264, 0.30882333151633756, 0.31282782209416493, 0.3317020099126208, 0.31300432717633514, 0.3097191125781461, 0.32108857715574474, 0.3076909327040358, 0.31052597739990007, 0.31911234043194797, 0.3355855698896666, 0.30744481461487844, 0.30786136218399557, 0.3107918633821175, 0.31938987818914466, 0.3350021631811481, 0.30873830116833617, 0.312292471860823, 0.3287100897100776, 0.30772437848226886, 0.3080179304755537, 0.31146727113021694, 0.3176165368304571, 0.3350103375334376, 0.3089762469658612, 0.313704864333174, 0.3315244684178231, 0.3132548270435264, 0.3095250811254535, 0.31829578137994163, 0.3141559961125793, 0.33243788587004897, 0.3157195462837098, 0.3082575958852214, 0.31251141579942326, 0.31259680746291446, 0.33040913514654774, 0.3092977924681269, 0.31537188140072125, 0.3334756023505639, 0.31593582201760395, 0.3087325561240686, 0.3142333210019704, 0.30719616692288887, 0.30747920221724134, 0.30818493995768503, 0.3128441944358638, 0.31046850206796534, 0.32413980027641737, 0.3074372063313478, 0.30872140934046177, 0.31184257961683426, 0.328877728980401, 0.30773301957364546, 0.30808542332832356, 0.31230346862293984, 0.3133099048963539, 0.3322386734041783, 0.3144851886315159, 0.30711255751388633, 0.3073678601695458, 0.3080884762736079, 0.31281854633844397, 0.3103178188434648, 0.3242193901560381, 0.30763120462116106, 0.3102318638961613, 0.3189920990795074, 0.33567415595678113, 0.3073501800559471, 0.30770292620796214, 0.3099806424691409, 0.319062485480494, 0.33511088312720166, 0.30841406299003166, 0.3101434711517578, 0.3208917071069186, 0.3077926532039208, 0.3102973472051422, 0.31938857070414123, 0.33476930494637386, 0.30994258319469237, 0.31909381605608683, 0.33416363786456554, 0.3139226057120886, 0.30772325828818514, 0.3094720744584655, 0.3166158089659476, 0.3341788409300301, 0.31358134792214704, 0.3084044041890685, 0.31306405929406134, 0.3097952495720503, 0.32064652705428115, 0.3084574065888686, 0.3138207756821648, 0.3074779949122223, 0.3089428590889203, 0.31274729153697495, 0.3312021839569936, 0.311148613244399, 0.31850132081711224, 0.3347699796364246, 0.31029740492507935, 0.3197427794410355, 0.3338918772770288, 0.31508643244283213, 0.30728469607218395, 0.3072088471921126, 0.30716295399932947, 0.30713496130540296, 0.3071408620948772, 0.3073386229042754, 0.30833720780541995, 0.30963549958119785, 0.3205415700653931, 0.30867236084168864, 0.31503109763123494, 0.3075395047745865, 0.30961824586473674, 0.31703909786767054, 0.33563025244967865, 0.30745367955320024, 0.3078887230040023, 0.3108684708653518, 0.3191993957798499, 0.33491584736780133, 0.3092066429940574, 0.3154272014801809, 0.3332444436655447, 0.31692142842845006, 0.3121727580751779, 0.32774532718449684, 0.307322831157801, 0.3073817618482365, 0.3080713391631071, 0.30860445788671564, 0.3143357618762744, 0.30714661854521796, 0.30749907820840244, 0.30815958931553245, 0.3130887258225779, 0.30919721620569046, 0.31891253189960134, 0.31422222333425587, 0.33336542601022534, 0.3149221885351173, 0.30723500498479, 0.3079125021950345, 0.30841229948177845, 0.31415625763197447, 0.30715763347067077, 0.3079006490207228, 0.30841351363691166, 0.3146680959251369, 0.30739037859194357, 0.30937170705659955, 0.31661596896622096, 0.33669029864990896, 0.3085445409433309, 0.31359407051443783, 0.3077220762077108, 0.3108648140800905, 0.31893370587949416, 0.33601832039721524, 0.3072581464471506, 0.3073855090902945, 0.3079034770289779, 0.3115431860645428, 0.317062147153159, 0.33580053528795917, 0.3072653698145306, 0.30730626253318016, 0.3080201645584907, 0.30882595844649186, 0.3157816813684204, 0.31008988651959657, 0.32272707651035065, 0.3070554000743945, 0.30723047662402747, 0.3079430023091835, 0.3123588163651349, 0.3125542643607705, 0.3317195499561401, 0.3128710788272723, 0.3100757434877249, 0.3231554030080539, 0.30712342392059355, 0.30777516670712435, 0.30831881377784726, 0.3142587694236416, 0.3071693394209832, 0.30832746731725486, 0.3107918876746477, 0.3272173002803733, 0.30698482327914184, 0.30739315273411855, 0.30796203273396056, 0.3131009410530809, 0.30863218851554863, 0.3171314796530427, 0.3176359425953351, 0.3378679307589987, 0.31338926677780893, 0.3312160441089681, 0.3126342124293465, 0.31296671802454323, 0.3312024535750154, 0.3122297127364104, 0.31475680136036444, 0.33366320454327003, 0.314002320974429, 0.30723478239014285, 0.3079781233081303, 0.3089146315496587, 0.31684510520427533, 0.3153085684642911, 0.33477625723195636, 0.308695372896633, 0.31288138742481464, 0.3308312791123068, 0.3107775696121245, 0.32025375610234613, 0.3346471013747585, 0.31020588985677766, 0.3202379707558007, 0.3341154026256474, 0.31382570722694125, 0.3079282623260371, 0.3106192558277749, 0.319673554912827, 0.33448441650583416, 0.31169491629842877, 0.3181528858524623, 0.3341760709968136, 0.31393728759924183, 0.3076913843197062, 0.3092949433283599, 0.31550908297873326, 0.3335448791743178, 0.3157265022710119, 0.3081196329193901, 0.31162330314641395, 0.31705321562080063, 0.33440145304754365, 0.3126751922001308, 0.3128694139776371, 0.3299665088848392, 0.308935598103574, 0.31279421110246086, 0.3296795592975783, 0.30863386185283503, 0.31074578579244067, 0.3229338790326815, 0.30729180630115815, 0.3074127671322774, 0.3081947440267722, 0.3087737276729422, 0.314890381128891, 0.3072503521963224, 0.30780808094775997, 0.308141519222522, 0.3127186762112627, 0.31104219893526075, 0.3266208138858931, 0.3075060058252001, 0.30905376696344655, 0.31397202635539734, 0.33281609915302246, 0.3158192656571397, 0.3090575719353111, 0.3162788217496715, 0.311500051159273, 0.32745038185368625, 0.3071499489748587, 0.3071289882701728, 0.30723876901253244, 0.30792095043446066, 0.308335748007933, 0.3138244015536228, 0.30738354570557713, 0.3088942153154954, 0.3132183027143657, 0.33247913833839593, 0.3148139056181969, 0.30725362920337834, 0.3082518530945209, 0.3099270020954783, 0.3223541166611634, 0.30703797286936235, 0.3073194073541044, 0.3080022862949706, 0.31285922087341395, 0.30983865487776463, 0.3228805829817791, 0.3070770913133517, 0.30778877682340666, 0.3084381351836478, 0.3151412567236007, 0.30873836067346405, 0.3172744928238624, 0.3172900960764693, 0.33723273552497995, 0.31051081941095876, 0.3220121011530581, 0.3071460917698257, 0.3071504465169218, 0.3075952544464052, 0.3102968464107394, 0.31968591878751346, 0.336094203730973, 0.30739259803547825, 0.30810163911141, 0.3093731826923705, 0.31877279751606835, 0.313337664405974, 0.33215103201930274, 0.31487734601401873, 0.30724490980447605, 0.30816128470546095, 0.30971746903050884, 0.32139795577460345, 0.3073292751035371, 0.3088163313431152, 0.3140883284942496, 0.33368026233730935, 0.3132088781257186, 0.3088764332097378, 0.31648368540540583, 0.31404825143924026, 0.3333863797824533, 0.31435659166059676, 0.30706241645598054, 0.3073813888647878, 0.3079662168963023, 0.31265841544363854, 0.3108155367477061, 0.32717275543955526, 0.30702603937400424, 0.3075022147745123, 0.3080102436492864, 0.3131844052961026, 0.308424183458281, 0.3155589485672172, 0.31101814765531266, 0.3283914748262004, 0.30709361688244363, 0.3077882171769552, 0.31223252913420485, 0.31287971687448524, 0.3328662354950309, 0.3141229693893929, 0.3070849318630932, 0.3081291076441768, 0.310489621657525, 0.326301899795766, 0.30768576252827473, 0.3116041607407865, 0.3163736118546797, 0.337819301809757, 0.3136651894184494, 0.33178366774756696, 0.3146204132989359, 0.307084106948799, 0.30724978567247835, 0.3078274826250243, 0.31201908687341157, 0.3143486398304451, 0.3347560000697584, 0.3079443585313725, 0.30900073332110767, 0.3169926836176434, 0.3156572166252788, 0.33533851067650156, 0.30741908811055474, 0.3077440686644267, 0.31055245625468675, 0.32010850174282324])\n"
          ],
          "name": "stdout"
        },
        {
          "output_type": "display_data",
          "data": {
            "image/png": "[encoded data removed]",
            "text/plain": [
              "<Figure size 432x288 with 1 Axes>"
            ]
          },
          "metadata": {
            "tags": [],
            "needs_background": "light"
          }
        }
      ]
    },
    {
      "cell_type": "code",
      "metadata": {
        "id": "lva-Epqx5s2t",
        "colab_type": "code",
        "colab": {
          "base_uri": "https://localhost:8080/",
          "height": 54
        },
        "outputId": "4bcec2fc-5b35-4b56-fb32-567144dadb70"
      },
      "source": [
        "Y_pred_train = sn.predict(X_train) # forward pass\n",
        "Y_pred_binarised_train = (Y_pred_train >= 0.5).astype('int').ravel()\n",
        "\n",
        "Y_pred_val = sn.predict(X_val)\n",
        "Y_pred_binarised_val = (Y_pred_val >= 0.5).astype('int').ravel()\n",
        "\n",
        "accuracy_train = accuracy_score(Y_pred_binarised_train, Y_train)\n",
        "accuracy_val = accuracy_score(Y_pred_binarised_val, Y_val)\n",
        "\n",
        "# round to two digits\n",
        "print(\"Training accuracy\", round(accuracy_train,2))\n",
        "print(\"Validation accuracy\", round(accuracy_val, 2))"
      ],
      "execution_count": 29,
      "outputs": [
        {
          "output_type": "stream",
          "text": [
            "Training accuracy 0.67\n",
            "Validation accuracy 0.66\n"
          ],
          "name": "stdout"
        }
      ]
    },
    {
      "cell_type": "markdown",
      "metadata": {
        "id": "_83ESi1a_eTI",
        "colab_type": "text"
      },
      "source": [
        "For a baseline of 0.5 ( i.e. random classifier => when randomly guesses, then accuracy will be 0.5 expectation - randomly red or green), our model is giving 0.7 accuracy. So fairly good, still not yet."
      ]
    },
    {
      "cell_type": "code",
      "metadata": {
        "id": "w5HG3Tvd-qgF",
        "colab_type": "code",
        "colab": {
          "base_uri": "https://localhost:8080/",
          "height": 284
        },
        "outputId": "b83679af-b21b-49d1-95b6-f346a3485483"
      },
      "source": [
        "# Plot our predicted value along with the points\n",
        "plt.scatter(X_train[:,0], X_train[:,1], c=Y_pred_binarised_train, cmap = my_cmap, s = 15*(np.abs(Y_pred_binarised_train-Y_train)+.2))\n",
        "\n",
        "# If predicted correctly Y_pred_binarised - Y_train = 0 => s = 1.5*.2 = 3\n",
        "# If predicted wrongly Y_pred_binarised - Y_train = 1 (since absolute valule of even a small decimal is 1) => s = 1.5*1.2 = 18"
      ],
      "execution_count": 31,
      "outputs": [
        {
          "output_type": "execute_result",
          "data": {
            "text/plain": [
              "<matplotlib.collections.PathCollection at 0x7f19871ffac8>"
            ]
          },
          "metadata": {
            "tags": []
          },
          "execution_count": 31
        },
        {
          "output_type": "display_data",
          "data": {
            "image/png": "[encoded data removed]",
            "text/plain": [
              "<Figure size 432x288 with 1 Axes>"
            ]
          },
          "metadata": {
            "tags": [],
            "needs_background": "light"
          }
        }
      ]
    },
    {
      "cell_type": "markdown",
      "metadata": {
        "id": "W9SCdH3WAaBa",
        "colab_type": "text"
      },
      "source": [
        "#### Colour represents \"predicted\" values.   \n",
        "Size represents difference between predicted and real value.  \n",
        "Hence, small points (size = 3) represents values correctly predicted, while the large points (size = 18) represents those wrongly predicted"
      ]
    },
    {
      "cell_type": "markdown",
      "metadata": {
        "id": "bADz8WifA7lj",
        "colab_type": "text"
      },
      "source": [
        "#### Hence 4D plot (2 input features, one output feature - predicted value, and finally one more feature representing the correctness of the prediction."
      ]
    },
    {
      "cell_type": "markdown",
      "metadata": {
        "id": "QEVHwPNVBJnk",
        "colab_type": "text"
      },
      "source": [
        "### Hence, as expected it is just impossible for a sigmoid neuron to classify non linearly separated data points.   \n",
        "\n",
        "### Therefore have to move to feed forward neural networks."
      ]
    },
    {
      "cell_type": "code",
      "metadata": {
        "id": "0cwhKlQLAPKN",
        "colab_type": "code",
        "colab": {}
      },
      "source": [
        ""
      ],
      "execution_count": 0,
      "outputs": []
    },
    {
      "cell_type": "markdown",
      "metadata": {
        "id": "rR3glgMgB70p",
        "colab_type": "text"
      },
      "source": [
        "# First Feedforward Neural Network"
      ]
    },
    {
      "cell_type": "markdown",
      "metadata": {
        "id": "x81jn01RCM9F",
        "colab_type": "text"
      },
      "source": [
        "A simple neural network. Two inputs, two neurons in one hidden layer, and one neuron in output layer.\n",
        "\n",
        "Thus 2 x's, 6 weights, 3 biases => 9 parameters with 2 inputs"
      ]
    },
    {
      "cell_type": "code",
      "metadata": {
        "id": "NybefiZMCAPn",
        "colab_type": "code",
        "colab": {}
      },
      "source": [
        "class FirstFFNetwork:\n",
        "\n",
        "  # First initialise\n",
        "  def __init__(self):\n",
        "    self.w1 = np.random.randn()\n",
        "    self.w2 = np.random.randn()\n",
        "    self.w3 = np.random.randn()\n",
        "    self.w4 = np.random.randn()\n",
        "    self.w5 = np.random.randn()\n",
        "    self.w6 = np.random.randn()\n",
        "    self.b1 = 0\n",
        "    self.b2 = 0\n",
        "    self.b3 = 0\n",
        "\n",
        "  # Next, sigmoid\n",
        "  def sigmoid(self,x):\n",
        "    return 1.0/(1.0+np.exp(-x))\n",
        "\n",
        "  def forward_pass(self,x):\n",
        "    self.x1, self.x2 = x; # Splitting the two input columns to the two corresponding two variables\n",
        "    # Hence x1 contains all the values for the first feature and x2 all the second feature values\n",
        "    self.a1 = self.w1 * self.x1 + self.w2 * self.x2 + self.b1\n",
        "    self.h1 = self.sigmoid(self.a1)\n",
        "    self.a2 = self.w3 * self.x1 + self.w4 * self.x2 + self.b2\n",
        "    self.h2 = self.sigmoid(self.a2)\n",
        "    self.a3 = self.w5 * self.h1 + self.w6 * self.h2 + self.b3\n",
        "    self.h3 = self.sigmoid(self.a3)\n",
        "    return self.h3\n",
        "\n",
        "  # Then, grad\n",
        "  def grad(self, x, y):\n",
        "    # given certain values of x and y, computes the changes to be made to the parameters using gradient\n",
        "    self.forward_pass(x)\n",
        "\n",
        "    self.dw5 = (self.h3-y) * self.h3*(1-self.h3) * self.h1\n",
        "    self.dw5 = (self.h3-y) * self.h3*(1-self.h3) * self.h2\n",
        "    self.db3 = (self.h3-y) * (1-self.h3)\n",
        "\n",
        "    self.dw1 = (self.h3-y) * self.h3*(1-self.h3) * self.w5 * self.h1 * (1-self.h1) * \n",
        "\n",
        "  # Then, fit\n",
        "  def fit(self, X, Y, epochs = 1, learning_rate = 1, initialise = True, display_loss = True):\n",
        "\n",
        "    #initialise w,b\n",
        "    if initialise:\n",
        "      self.w1 = np.random.randn()\n",
        "      self.w2 = np.random.randn()\n",
        "      self.w3 = np.random.randn()\n",
        "      self.w4 = np.random.randn()\n",
        "      self.w5 = np.random.randn()\n",
        "      self.w6 = np.random.randn()\n",
        "      self.b1 = 0\n",
        "      self.b2 = 0\n",
        "      self.b3 = 0\n",
        "\n",
        "    for i in tqdm_notebook(range(epochs), total = epochs, unit = \"epoch\"):\n",
        "      dw1, dw2, dw3, dw4, dw5, dw6, db1, db2, db3 = [0]*9 # Broadcasting to 9 zeroes and assigning each zero to one variable\n",
        "\n",
        "      for x,y in zip(X,Y):\n",
        "        self.grad(x,y)\n",
        "        # Difference between self.dw1 and dw1: self.dw1 is the grad for one input, while dw1 is the cumulative gradient\n",
        "        dw1 += self.dw1\n",
        "        dw2 += self.dw2\n",
        "        dw3 += self.dw3\n",
        "        dw4 += self.dw4\n",
        "        dw5 += self.dw5\n",
        "        dw6 += self.dw6\n",
        "        db1 += self.db1\n",
        "        db2 += self.db2\n",
        "        db3 += self.db3\n",
        "\n",
        "      m = X.shape[1] # number of rows\n",
        "\n",
        "      # Subtract the cumulative sums\n",
        "      self.w1 -= learning_rate * dw1 / m\n",
        "      self.w2 -= learning_rate * dw2 / m\n",
        "      self.w3 -= learning_rate * dw3 / m\n",
        "      self.w4 -= learning_rate * dw4 / m\n",
        "      self.w5 -= learning_rate * dw5 / m\n",
        "      self.w6 -= learning_rate * dw6 / m\n",
        "      self.b1 -= learning_rate * db1 / m\n",
        "      self.b2 -= learning_rate * db2 / m\n",
        "      self.b3 -= learning_rate * db3 / m\n",
        "\n",
        "      if(display_loss):\n",
        "        Y_pred = self.sigmoid(self.perceptron(X))\n",
        "        loss[i] = mean_squared_error(Y, Y_pred)\n",
        "\n",
        "\n",
        "    if display_loss:\n",
        "      print(loss.values())\n",
        "      plt.plot(np.array(list(loss.values())))\n",
        "      plt.xlabel(\"Epochs\")\n",
        "      plt.ylabel(\"Mean Squared Error\") # The accuracy metric for sigmoid neuron\n",
        "      plt.show()\n",
        "\n",
        "\n",
        "\n",
        "  # Finally, predict\n",
        "  def predict(self, X):\n",
        "    Y_pred = []\n",
        "    for x in X: \n",
        "      y_pred = self.forward_pass(x) # Predict output on each \"pair\" of inputs (of the two features)\n",
        "      Y_pred.append(y_pred)\n",
        "    return np.array(Y_pred)\n",
        "\n",
        "\n",
        "# Same structure for any  class"
      ],
      "execution_count": 0,
      "outputs": []
    },
    {
      "cell_type": "code",
      "metadata": {
        "id": "EuPSIyLWH0PO",
        "colab_type": "code",
        "colab": {
          "base_uri": "https://localhost:8080/",
          "height": 413,
          "referenced_widgets": [
            "42ac8fce63d343ae97810620bc4d865e",
            "93bedaecb5de44798828708dbe3e64da",
            "0bbc3b2eac674eafb37bf74257dd3c65",
            "f4808dbf61ff4fdb88628d758413f724",
            "ab45628f62f44413b717d8f686c9fbee",
            "2a257c9bea0946bb82d88824e734c656",
            "c1b6b37482be455587d1f73d41ffff03",
            "3c2682eba38540f4aa903e911d9f62af"
          ]
        },
        "outputId": "201ef93c-5c07-4e78-a091-69b5f1fe6d2c"
      },
      "source": [
        "ffn = FirstFFNetwork()\n",
        "ffn.fit(X_train, Y_train, epochs = 1000, learning_rate = 0.01, display_loss=True)"
      ],
      "execution_count": 39,
      "outputs": [
        {
          "output_type": "stream",
          "text": [
            "/usr/local/lib/python3.6/dist-packages/ipykernel_launcher.py:53: TqdmDeprecationWarning: This function will be removed in tqdm==5.0.0\n",
            "Please use `tqdm.notebook.tqdm` instead of `tqdm.tqdm_notebook`\n"
          ],
          "name": "stderr"
        },
        {
          "output_type": "display_data",
          "data": {
            "application/vnd.jupyter.widget-view+json": {
              "model_id": "42ac8fce63d343ae97810620bc4d865e",
              "version_minor": 0,
              "version_major": 2
            },
            "text/plain": [
              "HBox(children=(IntProgress(value=0, max=1000), HTML(value='')))"
            ]
          },
          "metadata": {
            "tags": []
          }
        },
        {
          "output_type": "error",
          "ename": "AttributeError",
          "evalue": "ignored",
          "traceback": [
            "\u001b[0;31m---------------------------------------------------------------------------\u001b[0m",
            "\u001b[0;31mAttributeError\u001b[0m                            Traceback (most recent call last)",
            "\u001b[0;32m<ipython-input-39-e417fdc43f8d>\u001b[0m in \u001b[0;36m<module>\u001b[0;34m()\u001b[0m\n\u001b[1;32m      1\u001b[0m \u001b[0mffn\u001b[0m \u001b[0;34m=\u001b[0m \u001b[0mFirstFFNetwork\u001b[0m\u001b[0;34m(\u001b[0m\u001b[0;34m)\u001b[0m\u001b[0;34m\u001b[0m\u001b[0;34m\u001b[0m\u001b[0m\n\u001b[0;32m----> 2\u001b[0;31m \u001b[0mffn\u001b[0m\u001b[0;34m.\u001b[0m\u001b[0mfit\u001b[0m\u001b[0;34m(\u001b[0m\u001b[0mX_train\u001b[0m\u001b[0;34m,\u001b[0m \u001b[0mY_train\u001b[0m\u001b[0;34m,\u001b[0m \u001b[0mepochs\u001b[0m \u001b[0;34m=\u001b[0m \u001b[0;36m1000\u001b[0m\u001b[0;34m,\u001b[0m \u001b[0mlearning_rate\u001b[0m \u001b[0;34m=\u001b[0m \u001b[0;36m0.01\u001b[0m\u001b[0;34m,\u001b[0m \u001b[0mdisplay_loss\u001b[0m\u001b[0;34m=\u001b[0m\u001b[0;32mTrue\u001b[0m\u001b[0;34m)\u001b[0m\u001b[0;34m\u001b[0m\u001b[0;34m\u001b[0m\u001b[0m\n\u001b[0m",
            "\u001b[0;32m<ipython-input-38-62904fd51c2c>\u001b[0m in \u001b[0;36mfit\u001b[0;34m(self, X, Y, epochs, learning_rate, initialise, display_loss)\u001b[0m\n\u001b[1;32m     57\u001b[0m         \u001b[0mself\u001b[0m\u001b[0;34m.\u001b[0m\u001b[0mgrad\u001b[0m\u001b[0;34m(\u001b[0m\u001b[0mx\u001b[0m\u001b[0;34m,\u001b[0m\u001b[0my\u001b[0m\u001b[0;34m)\u001b[0m\u001b[0;34m\u001b[0m\u001b[0;34m\u001b[0m\u001b[0m\n\u001b[1;32m     58\u001b[0m         \u001b[0;31m# Difference between self.dw1 and dw1: self.dw1 is the grad for one input, while dw1 is the cumulative gradient\u001b[0m\u001b[0;34m\u001b[0m\u001b[0;34m\u001b[0m\u001b[0;34m\u001b[0m\u001b[0m\n\u001b[0;32m---> 59\u001b[0;31m         \u001b[0mdw1\u001b[0m \u001b[0;34m+=\u001b[0m \u001b[0mself\u001b[0m\u001b[0;34m.\u001b[0m\u001b[0mdw1\u001b[0m\u001b[0;34m\u001b[0m\u001b[0;34m\u001b[0m\u001b[0m\n\u001b[0m\u001b[1;32m     60\u001b[0m         \u001b[0mdw2\u001b[0m \u001b[0;34m+=\u001b[0m \u001b[0mself\u001b[0m\u001b[0;34m.\u001b[0m\u001b[0mdw2\u001b[0m\u001b[0;34m\u001b[0m\u001b[0;34m\u001b[0m\u001b[0m\n\u001b[1;32m     61\u001b[0m         \u001b[0mdw3\u001b[0m \u001b[0;34m+=\u001b[0m \u001b[0mself\u001b[0m\u001b[0;34m.\u001b[0m\u001b[0mdw3\u001b[0m\u001b[0;34m\u001b[0m\u001b[0;34m\u001b[0m\u001b[0m\n",
            "\u001b[0;31mAttributeError\u001b[0m: 'FirstFFNetwork' object has no attribute 'dw1'"
          ]
        }
      ]
    },
    {
      "cell_type": "code",
      "metadata": {
        "id": "y_PUMYB9Ic-o",
        "colab_type": "code",
        "colab": {}
      },
      "source": [
        "Y_pred_train = ffn.predict(X_train) # forward pass\n",
        "Y_pred_binarised_train = (Y_pred_train >= 0.5).astype('int').ravel()\n",
        "\n",
        "Y_pred_val = ffn.predict(X_val)\n",
        "Y_pred_binarised_val = (Y_pred_val >= 0.5).astype('int').ravel()\n",
        "\n",
        "accuracy_train = accuracy_score(Y_pred_binarised_train, Y_train)\n",
        "accuracy_val = accuracy_score(Y_pred_binarised_val, Y_val)\n",
        "\n",
        "# round to two digits\n",
        "print(\"Training accuracy\", round(accuracy_train,2))\n",
        "print(\"Validation accuracy\", round(accuracy_val, 2))"
      ],
      "execution_count": 0,
      "outputs": []
    },
    {
      "cell_type": "code",
      "metadata": {
        "id": "BFR5LjT-M-9I",
        "colab_type": "code",
        "colab": {}
      },
      "source": [
        "plt.scatter(X_train[:,0], X_train[:,1], c=Y_pred_binarised_train, cmap = my_cmap, s = 15*(np.abs(Y_pred_binarised_train-Y_train)+.2))"
      ],
      "execution_count": 0,
      "outputs": []
    },
    {
      "cell_type": "markdown",
      "metadata": {
        "id": "RyBhCb4iNAX6",
        "colab_type": "text"
      },
      "source": [
        "### This time all are tiny dots => almost all predicted correctly.  \n",
        "### Those that are wrongly predicted, are fine since there is some confustion at the interface, almost impossible to get a hard core decision boundary"
      ]
    },
    {
      "cell_type": "code",
      "metadata": {
        "id": "4pKDFdHBNUEn",
        "colab_type": "code",
        "colab": {}
      },
      "source": [
        ""
      ],
      "execution_count": 0,
      "outputs": []
    },
    {
      "cell_type": "markdown",
      "metadata": {
        "id": "WNNkwtIcNVPN",
        "colab_type": "text"
      },
      "source": [
        "# Generic Class of Feed Forward Neuron"
      ]
    },
    {
      "cell_type": "code",
      "metadata": {
        "id": "fsYV2p0rNd-y",
        "colab_type": "code",
        "colab": {}
      },
      "source": [
        "class FFSNNetwork:\n",
        "  # Using vectors throughout to simplify computations\n",
        "\n",
        "  def __init__(self, n_inputs, hidden_sizes = [2]): # hidden_sizes, comma separated values of number of neurons in each hidden layer\n",
        "\n",
        "    self.nx = n_inputs # number of inputs\n",
        "    self.ny = 1 # one output since binary classification\n",
        "    self.nh = len(hidden_sizes) # number of hidden layers (length of the list)\n",
        "    self.sizes = [self.nx] + hidden_sizes + [self.ny] # Getting the number of neurons in each layer from input layer through hidden layers to output layer\n",
        "\n",
        "    self.W = {}\n",
        "    self.B = {}\n",
        "\n",
        "    for i in range(self.nh+1):\n",
        "      self.W[i+1] = np.random.randn(self.sizes[i], self.sizes[i+1]) # number of weights for layer i+1 = number of inputs that layer * number of neurons in that layer (since each neuron connected to each input)\n",
        "      # rows = number of inputs, columns = number of neurons\n",
        "      self.B[i+1] = np.random.randn(1, self.sizes[i]) # Only one different bias term to each neuron in layer i+1 ( a vector of size = number of neurons )\n",
        "\n",
        "      # Next, sigmoid\n",
        "    def sigmoid(self,x):\n",
        "      return 1.0/(1.0+np.exp(-x))\n",
        "\n",
        "    def forward_pass(self,x):\n",
        "      self.A = {}\n",
        "      self.H = {}\n",
        "\n",
        "      self.H[0] = x.reshape(1, -1) # Just assigning H0 = input values. Flatteing to 1 row and as many columns as possible\n",
        "      for i in range(self.nh+1): # Looping through all layers\n",
        "        # Matrix mul = Hamadard / element wise ( and not dot prod )\n",
        "        self.A[i+1] = np.matmul(self.H[i],self.W[i+1]+self.B[i+1]) # H from previous layer with W and B of current layer\n",
        "        self.H[i+1] = self.sigmoid(self.A[i+1]) # H of current layer\n",
        "      return self.H[self.nh+1]  # output layer's predicted value\n",
        "\n",
        "\n",
        "    def grad(self,X):\n",
        "      pass\n",
        "\n",
        "    def fit(self, X, Y, epochs = 1, learning_rate = 1, display_loss = True, initialise = True):\n",
        "      #initialise w,b\n",
        "      if initialise:\n",
        "        for i in range(self.nh+1):\n",
        "          self.W[i+1] = np.random.randn(self.sizes[i], self.sizes[i+1]) \n",
        "          self.B[i+1] = np.random.randn(1, self.sizes[i])\n",
        "\n",
        "      if display_loss:\n",
        "        loss = {}\n",
        "\n",
        "      for e in tqdm_notebook(range(epochs), total = epochs, unit = \"epoch\"):\n",
        "        self.W = {}\n",
        "        self.B = {}\n",
        "        for i in range(self.nh+1):\n",
        "          dW[i+1] = np.zeros(self.sizes[i],self.sizes[i+1])\n",
        "          dB[i+1] = np.zeros(1, self.sizes[i+1])\n",
        "\n",
        "        for x,y in zip(X,Y):\n",
        "          self.grad(x,y)\n",
        "          # Difference between self.dw1 and dw1: self.dw1 is the grad for one input, while dw1 is the cumulative gradient\n",
        "          for i in range(self.nh+1):\n",
        "            dW[i+1] += self.dW[i+1]\n",
        "            dB[i+1] += self.dB[i+1]\n",
        "\n",
        "        m = X.shape[1] # number of rows\n",
        "\n",
        "        # Subtract the cumulative sums\n",
        "        for i in range(self.nh+1):\n",
        "            self.W[i+1] -= learning_rate*dW[i+1]/m\n",
        "            self.B[i+1] -= learning_rate*dB[i+1]/m\n",
        "\n",
        "        if(display_loss):\n",
        "          Y_pred = self.sigmoid(self.perceptron(X))\n",
        "          loss[e] = mean_squared_error(Y, Y_pred)\n",
        "\n",
        "\n",
        "      if display_loss:\n",
        "        plt.plot(np.array(list(loss.values())))\n",
        "        plt.xlabel(\"Epochs\")\n",
        "        plt.ylabel(\"Mean Squared Error\") # The accuracy metric for sigmoid neuron\n",
        "        plt.show()\n",
        "\n",
        "\n",
        "\n",
        "    # Finally, predict\n",
        "    def predict(self, X):\n",
        "      Y_pred = []\n",
        "      for x in X: \n",
        "        y_pred = self.forward_pass(x) # Predict output on each \"pair\" of inputs (of the two features)\n",
        "        Y_pred.append(y_pred)\n",
        "      return np.array(Y_pred)\n"
      ],
      "execution_count": 0,
      "outputs": []
    },
    {
      "cell_type": "code",
      "metadata": {
        "id": "LDLhz1MfOlDc",
        "colab_type": "code",
        "colab": {
          "base_uri": "https://localhost:8080/",
          "height": 213
        },
        "outputId": "6e39b4ce-4810-4862-c593-2ed1a296e3f2"
      },
      "source": [
        "ffsnn = FFSNNetwork(2, [2,3])\n",
        "ffsnn.fit(X_train, Y_train, epochs = 1000, learning_rate = 0.001, display_loss = True)"
      ],
      "execution_count": 42,
      "outputs": [
        {
          "output_type": "error",
          "ename": "AttributeError",
          "evalue": "ignored",
          "traceback": [
            "\u001b[0;31m---------------------------------------------------------------------------\u001b[0m",
            "\u001b[0;31mAttributeError\u001b[0m                            Traceback (most recent call last)",
            "\u001b[0;32m<ipython-input-42-74fb505058b9>\u001b[0m in \u001b[0;36m<module>\u001b[0;34m()\u001b[0m\n\u001b[1;32m      1\u001b[0m \u001b[0mffsnn\u001b[0m \u001b[0;34m=\u001b[0m \u001b[0mFFSNNetwork\u001b[0m\u001b[0;34m(\u001b[0m\u001b[0;36m2\u001b[0m\u001b[0;34m,\u001b[0m \u001b[0;34m[\u001b[0m\u001b[0;36m2\u001b[0m\u001b[0;34m,\u001b[0m\u001b[0;36m3\u001b[0m\u001b[0;34m]\u001b[0m\u001b[0;34m)\u001b[0m\u001b[0;34m\u001b[0m\u001b[0;34m\u001b[0m\u001b[0m\n\u001b[0;32m----> 2\u001b[0;31m \u001b[0mffsnn\u001b[0m\u001b[0;34m.\u001b[0m\u001b[0mfit\u001b[0m\u001b[0;34m(\u001b[0m\u001b[0mX_train\u001b[0m\u001b[0;34m,\u001b[0m \u001b[0mY_train\u001b[0m\u001b[0;34m,\u001b[0m \u001b[0mepochs\u001b[0m \u001b[0;34m=\u001b[0m \u001b[0;36m1000\u001b[0m\u001b[0;34m,\u001b[0m \u001b[0mlearning_rate\u001b[0m \u001b[0;34m=\u001b[0m \u001b[0;36m0.001\u001b[0m\u001b[0;34m,\u001b[0m \u001b[0mdisplay_loss\u001b[0m \u001b[0;34m=\u001b[0m \u001b[0;32mTrue\u001b[0m\u001b[0;34m)\u001b[0m\u001b[0;34m\u001b[0m\u001b[0;34m\u001b[0m\u001b[0m\n\u001b[0m",
            "\u001b[0;31mAttributeError\u001b[0m: 'FFSNNetwork' object has no attribute 'fit'"
          ]
        }
      ]
    },
    {
      "cell_type": "code",
      "metadata": {
        "id": "3Zft9o6BUReR",
        "colab_type": "code",
        "colab": {}
      },
      "source": [
        "Y_pred_train = ffsnn.predict(X_train) # forward pass\n",
        "Y_pred_binarised_train = (Y_pred_train >= 0.5).astype('int').ravel()\n",
        "\n",
        "Y_pred_val = ffsnn.predict(X_val)\n",
        "Y_pred_binarised_val = (Y_pred_val >= 0.5).astype('int').ravel()\n",
        "\n",
        "accuracy_train = accuracy_score(Y_pred_binarised_train, Y_train)\n",
        "accuracy_val = accuracy_score(Y_pred_binarised_val, Y_val)\n",
        "\n",
        "# round to two digits\n",
        "print(\"Training accuracy\", round(accuracy_train,2))\n",
        "print(\"Validation accuracy\", round(accuracy_val, 2))"
      ],
      "execution_count": 0,
      "outputs": []
    },
    {
      "cell_type": "code",
      "metadata": {
        "colab_type": "code",
        "id": "H6yTuS5hUcIT",
        "colab": {}
      },
      "source": [
        "plt.scatter(X_train[:,0], X_train[:,1], c=Y_pred_binarised_train, cmap = my_cmap, s = 15*(np.abs(Y_pred_binarised_train-Y_train)+.2))"
      ],
      "execution_count": 0,
      "outputs": []
    },
    {
      "cell_type": "markdown",
      "metadata": {
        "id": "w89RgL6aU1W-",
        "colab_type": "text"
      },
      "source": [
        "# Generic class for Multi Class Classification"
      ]
    },
    {
      "cell_type": "code",
      "metadata": {
        "id": "BpusYQ7rU49b",
        "colab_type": "code",
        "colab": {
          "base_uri": "https://localhost:8080/",
          "height": 36
        },
        "outputId": "d92352ea-ecb5-4a3f-ed31-2cc2bb4e836a"
      },
      "source": [
        "# No more binary classification, hence train-test split again\n",
        "X_train, X_val, Y_train, Y_val = train_test_split(data, labels_orig, stratify = labels_orig, random_state = 0)\n",
        "print(X_train.shape, X_val.shape, labels_orig.shape)"
      ],
      "execution_count": 44,
      "outputs": [
        {
          "output_type": "stream",
          "text": [
            "(750, 2) (250, 2) (1000,)\n"
          ],
          "name": "stdout"
        }
      ]
    },
    {
      "cell_type": "code",
      "metadata": {
        "id": "LxL5oRz4VHfN",
        "colab_type": "code",
        "colab": {
          "base_uri": "https://localhost:8080/",
          "height": 36
        },
        "outputId": "17748a37-26d8-4613-d53a-4971258b9d6b"
      },
      "source": [
        "enc = OneHotEncoder()\n",
        "# label 0 -> (1,0,0,0), label 1 -> (0,1,0,0)\n",
        "y_OH_train = enc.fit_transform(np.expand_dims(Y_train,1)).toarray()\n",
        "y_OH_val = enc.fit_transform(np.expand_dims(Y_val,1)).toarray()\n",
        "print(y_OH_train.shape, y_OH_val.shape)"
      ],
      "execution_count": 45,
      "outputs": [
        {
          "output_type": "stream",
          "text": [
            "(750, 4) (250, 4)\n"
          ],
          "name": "stdout"
        }
      ]
    },
    {
      "cell_type": "markdown",
      "metadata": {
        "id": "t90Gl6WyWsPo",
        "colab_type": "text"
      },
      "source": [
        "Note 4 columns now"
      ]
    },
    {
      "cell_type": "code",
      "metadata": {
        "id": "tf_hL_NfWOCL",
        "colab_type": "code",
        "colab": {}
      },
      "source": [
        ""
      ],
      "execution_count": 0,
      "outputs": []
    }
  ]
}