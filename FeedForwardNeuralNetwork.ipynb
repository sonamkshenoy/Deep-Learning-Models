{
  "nbformat": 4,
  "nbformat_minor": 0,
  "metadata": {
    "colab": {
      "name": "FeedForwardNeuralNetwork.ipynb",
      "provenance": [],
      "collapsed_sections": [],
      "authorship_tag": "ABX9TyOfCrDPANsI3U+3q3qUfTrc"
    },
    "kernelspec": {
      "name": "python3",
      "display_name": "Python 3"
    }
  },
  "cells": [
    {
      "cell_type": "markdown",
      "metadata": {
        "id": "A_s5jK9fKera",
        "colab_type": "text"
      },
      "source": [
        "### Outline\n",
        "\n",
        "\n",
        "1.   Generate data that is not linearly separable\n",
        "2.   Train with Sigmoid Neuron and see performance\n",
        "3.   Write from scratch our first feed forward network\n",
        "4.   Train the FF network on the data compare with SN\n",
        "5.   Write a generic class on binary classification\n",
        "6.   Train a generic class on binary classification\n",
        "7.   Generate data for multi-class  classification\n",
        "8.   Train a FF network for Point 7\n",
        "9.   Use softmax as the output layer and cross-entropy loss function \n",
        "10.  Train with Point 8 for multi-class classification\n",
        "11.  Exercises on other datasets\n",
        "\n"
      ]
    },
    {
      "cell_type": "code",
      "metadata": {
        "id": "KlDHqSt8KQOg",
        "colab_type": "code",
        "colab": {}
      },
      "source": [
        ""
      ],
      "execution_count": 0,
      "outputs": []
    }
  ]
}