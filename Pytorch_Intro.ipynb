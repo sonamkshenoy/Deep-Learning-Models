{
  "nbformat": 4,
  "nbformat_minor": 0,
  "metadata": {
    "colab": {
      "name": "Pytorch Intro.ipynb",
      "provenance": [],
      "authorship_tag": "ABX9TyO4AlvVYVrgLFFSM+V1a2hQ"
    },
    "kernelspec": {
      "name": "python3",
      "display_name": "Python 3"
    }
  },
  "cells": [
    {
      "cell_type": "markdown",
      "metadata": {
        "id": "pRzGqAfCHJEZ",
        "colab_type": "text"
      },
      "source": [
        "## Outline\n",
        "1. PyTorch\n",
        "2. What are tensors\n",
        "3. Initialising, slicing, reshaping tensors\n",
        "4. Numpy and PyTorch interfacing\n",
        "5. GPU support for PyTorch + Enabling GPUs on Google Colab\n",
        "6. Speed comparisons, NumPy - PyTorch - PyTorch on GPU\n",
        "7. Autograd concepts and application\n",
        "8. Writing basic learning loop using autograd\n",
        "9. Exercises"
      ]
    },
    {
      "cell_type": "code",
      "metadata": {
        "id": "X31EJ8GOHEm0",
        "colab_type": "code",
        "colab": {}
      },
      "source": [
        "import torch\n",
        "import numpy as np\n",
        "import matplotlib.pyplot as plt"
      ],
      "execution_count": 0,
      "outputs": []
    },
    {
      "cell_type": "markdown",
      "metadata": {
        "id": "JXyXBsohKu2R",
        "colab_type": "text"
      },
      "source": [
        "All operations very similar to NumPy"
      ]
    },
    {
      "cell_type": "markdown",
      "metadata": {
        "id": "qA3N0pAnJTnh",
        "colab_type": "text"
      },
      "source": [
        "# Initialise tensors"
      ]
    },
    {
      "cell_type": "markdown",
      "metadata": {
        "id": "kR3BC52dKlbg",
        "colab_type": "text"
      },
      "source": [
        "Initialise using in-built functions"
      ]
    },
    {
      "cell_type": "code",
      "metadata": {
        "id": "AxYWGdEUJRZx",
        "colab_type": "code",
        "colab": {
          "base_uri": "https://localhost:8080/",
          "height": 181
        },
        "outputId": "dcc89174-71aa-45a6-f644-ab5af2288997"
      },
      "source": [
        "x = torch.ones(3,2)\n",
        "print(x)\n",
        "x = torch.zeros(3,2)\n",
        "print(x)\n",
        "x = torch.rand(3,2)\n",
        "print(x)"
      ],
      "execution_count": 3,
      "outputs": [
        {
          "output_type": "stream",
          "text": [
            "tensor([[1., 1.],\n",
            "        [1., 1.],\n",
            "        [1., 1.]])\n",
            "tensor([[0., 0.],\n",
            "        [0., 0.],\n",
            "        [0., 0.]])\n",
            "tensor([[0.9766, 0.0918],\n",
            "        [0.1453, 0.3810],\n",
            "        [0.4336, 0.8751]])\n"
          ],
          "name": "stdout"
        }
      ]
    },
    {
      "cell_type": "code",
      "metadata": {
        "id": "gwZQch3tJq1H",
        "colab_type": "code",
        "colab": {
          "base_uri": "https://localhost:8080/",
          "height": 126
        },
        "outputId": "ba065595-1ce9-4131-a8e4-b8ea64d1a7a6"
      },
      "source": [
        "x = torch.empty(3,2)\n",
        "# Creates space but doesn't initialise values in it. So just has the values which were there initially in memory (could be NaN too)\n",
        "print(x)\n",
        "y = torch.zeros_like(x)\n",
        "print(y)"
      ],
      "execution_count": 7,
      "outputs": [
        {
          "output_type": "stream",
          "text": [
            "tensor([[2.1517e-36, 0.0000e+00],\n",
            "        [3.3631e-44, 0.0000e+00],\n",
            "        [       nan, 0.0000e+00]])\n",
            "tensor([[0., 0.],\n",
            "        [0., 0.],\n",
            "        [0., 0.]])\n"
          ],
          "name": "stdout"
        }
      ]
    },
    {
      "cell_type": "code",
      "metadata": {
        "id": "TcD1WnrEKDND",
        "colab_type": "code",
        "colab": {
          "base_uri": "https://localhost:8080/",
          "height": 35
        },
        "outputId": "75cd2648-d664-47a0-a292-2085677dcbf4"
      },
      "source": [
        "x = torch.linspace(0,1, steps = 5)\n",
        "# Include 0 and 1\n",
        "print(x)"
      ],
      "execution_count": 8,
      "outputs": [
        {
          "output_type": "stream",
          "text": [
            "tensor([0.0000, 0.2500, 0.5000, 0.7500, 1.0000])\n"
          ],
          "name": "stdout"
        }
      ]
    },
    {
      "cell_type": "markdown",
      "metadata": {
        "id": "gS1uJLtEKgf6",
        "colab_type": "text"
      },
      "source": [
        "Initialising manually"
      ]
    },
    {
      "cell_type": "code",
      "metadata": {
        "id": "C3Nv6T15KW1j",
        "colab_type": "code",
        "colab": {
          "base_uri": "https://localhost:8080/",
          "height": 72
        },
        "outputId": "f2af5820-581b-4154-f79d-23cee10f5674"
      },
      "source": [
        "x = torch.tensor([[1,2],\n",
        "                  [3,4],\n",
        "                  [5,6]])\n",
        "print(x)"
      ],
      "execution_count": 10,
      "outputs": [
        {
          "output_type": "stream",
          "text": [
            "tensor([[1, 2],\n",
            "        [3, 4],\n",
            "        [5, 6]])\n"
          ],
          "name": "stdout"
        }
      ]
    },
    {
      "cell_type": "code",
      "metadata": {
        "id": "nCUEn81wKdYn",
        "colab_type": "code",
        "colab": {}
      },
      "source": [
        ""
      ],
      "execution_count": 0,
      "outputs": []
    },
    {
      "cell_type": "markdown",
      "metadata": {
        "id": "hw9edf8bKqjl",
        "colab_type": "text"
      },
      "source": [
        "# Slicing tensors"
      ]
    },
    {
      "cell_type": "code",
      "metadata": {
        "id": "egUJ3ka5KrtD",
        "colab_type": "code",
        "colab": {
          "base_uri": "https://localhost:8080/",
          "height": 72
        },
        "outputId": "a8bb8c51-0adf-4260-a68c-b594ac8fcc7e"
      },
      "source": [
        "print(x.size()) # like x.shape in numpy\n",
        "print(x[:,1])\n",
        "print(x[0,:])"
      ],
      "execution_count": 11,
      "outputs": [
        {
          "output_type": "stream",
          "text": [
            "torch.Size([3, 2])\n",
            "tensor([2, 4, 6])\n",
            "tensor([1, 2])\n"
          ],
          "name": "stdout"
        }
      ]
    },
    {
      "cell_type": "code",
      "metadata": {
        "id": "54yUINKLK5Wr",
        "colab_type": "code",
        "colab": {
          "base_uri": "https://localhost:8080/",
          "height": 53
        },
        "outputId": "1f209329-0152-4baa-d1b4-ab0c9ab013e6"
      },
      "source": [
        "y = x[1,1]\n",
        "print(y) # y is still of type tensor\n",
        "print(y.item()) # To get numerical/scalar value of a tensor"
      ],
      "execution_count": 13,
      "outputs": [
        {
          "output_type": "stream",
          "text": [
            "tensor(4)\n",
            "4\n"
          ],
          "name": "stdout"
        }
      ]
    },
    {
      "cell_type": "code",
      "metadata": {
        "id": "LxexZJNQLDfD",
        "colab_type": "code",
        "colab": {}
      },
      "source": [
        ""
      ],
      "execution_count": 0,
      "outputs": []
    },
    {
      "cell_type": "markdown",
      "metadata": {
        "id": "Fd507UL8LJ9I",
        "colab_type": "text"
      },
      "source": [
        "# Reshaping tensors"
      ]
    },
    {
      "cell_type": "code",
      "metadata": {
        "id": "mwAbrnNRLLTl",
        "colab_type": "code",
        "colab": {
          "base_uri": "https://localhost:8080/",
          "height": 108
        },
        "outputId": "058efd6d-e1b2-4fda-f313-3d8ab88ba747"
      },
      "source": [
        "print(x)\n",
        "y = x.view(2,3) # Similar to numpy.reshape()\n",
        "print(y)"
      ],
      "execution_count": 14,
      "outputs": [
        {
          "output_type": "stream",
          "text": [
            "tensor([[1, 2],\n",
            "        [3, 4],\n",
            "        [5, 6]])\n",
            "tensor([[1, 2, 3],\n",
            "        [4, 5, 6]])\n"
          ],
          "name": "stdout"
        }
      ]
    },
    {
      "cell_type": "code",
      "metadata": {
        "id": "Tbosypq1LQ2R",
        "colab_type": "code",
        "colab": {
          "base_uri": "https://localhost:8080/",
          "height": 126
        },
        "outputId": "8b4ce7e0-ec05-4ea0-d6d3-fccd350cb473"
      },
      "source": [
        "y = x.view(6, -1) # when we want particularly one dimension as we want (6) and it can fix the other dimension suitably to fit all items itself (-1)\n",
        "print(y)"
      ],
      "execution_count": 15,
      "outputs": [
        {
          "output_type": "stream",
          "text": [
            "tensor([[1],\n",
            "        [2],\n",
            "        [3],\n",
            "        [4],\n",
            "        [5],\n",
            "        [6]])\n"
          ],
          "name": "stdout"
        }
      ]
    },
    {
      "cell_type": "markdown",
      "metadata": {
        "id": "yu3MD6DPLny8",
        "colab_type": "text"
      },
      "source": [
        "Mismatch in tensor dimensions biggest bug in tensor-world/DL. And knowing what each axis means (input/batch/weight)"
      ]
    },
    {
      "cell_type": "markdown",
      "metadata": {
        "id": "jFKxG0hTLzSx",
        "colab_type": "text"
      },
      "source": [
        "# Simple Tensor Operations"
      ]
    },
    {
      "cell_type": "code",
      "metadata": {
        "id": "ojsvTBFKLdq7",
        "colab_type": "code",
        "colab": {
          "base_uri": "https://localhost:8080/",
          "height": 181
        },
        "outputId": "91105015-cf0c-4a0f-fb5e-83151ef4a0e8"
      },
      "source": [
        "# Pointwirse Operations\n",
        "x = torch.ones([3,2])\n",
        "y = torch.ones([3,2])\n",
        "z = x + y\n",
        "print(z)\n",
        "z = x-y\n",
        "print(z)\n",
        "z = x*y\n",
        "print(z)"
      ],
      "execution_count": 16,
      "outputs": [
        {
          "output_type": "stream",
          "text": [
            "tensor([[2., 2.],\n",
            "        [2., 2.],\n",
            "        [2., 2.]])\n",
            "tensor([[0., 0.],\n",
            "        [0., 0.],\n",
            "        [0., 0.]])\n",
            "tensor([[1., 1.],\n",
            "        [1., 1.],\n",
            "        [1., 1.]])\n"
          ],
          "name": "stdout"
        }
      ]
    },
    {
      "cell_type": "code",
      "metadata": {
        "id": "Et93hyv1MD_M",
        "colab_type": "code",
        "colab": {
          "base_uri": "https://localhost:8080/",
          "height": 126
        },
        "outputId": "6bcfe41e-61c1-4afd-ed73-c30f40c2ace2"
      },
      "source": [
        "z = y.add(x)\n",
        "print(z)\n",
        "print(y)"
      ],
      "execution_count": 17,
      "outputs": [
        {
          "output_type": "stream",
          "text": [
            "tensor([[2., 2.],\n",
            "        [2., 2.],\n",
            "        [2., 2.]])\n",
            "tensor([[1., 1.],\n",
            "        [1., 1.],\n",
            "        [1., 1.]])\n"
          ],
          "name": "stdout"
        }
      ]
    },
    {
      "cell_type": "code",
      "metadata": {
        "id": "NWrjvvRLMVOW",
        "colab_type": "code",
        "colab": {
          "base_uri": "https://localhost:8080/",
          "height": 126
        },
        "outputId": "146b3253-5073-4274-bd31-834c8e7ea063"
      },
      "source": [
        "z = y.add_(x) # Modifies y too (_ => modify-in-place). Adds x to y. z modified as well\n",
        "print(z)\n",
        "print(y)"
      ],
      "execution_count": 19,
      "outputs": [
        {
          "output_type": "stream",
          "text": [
            "tensor([[2., 2.],\n",
            "        [2., 2.],\n",
            "        [2., 2.]])\n",
            "tensor([[2., 2.],\n",
            "        [2., 2.],\n",
            "        [2., 2.]])\n"
          ],
          "name": "stdout"
        }
      ]
    },
    {
      "cell_type": "markdown",
      "metadata": {
        "id": "UfgZNat0Mh0u",
        "colab_type": "text"
      },
      "source": [
        "Useful if don't want to generate new tensors everytime"
      ]
    }
  ]
}