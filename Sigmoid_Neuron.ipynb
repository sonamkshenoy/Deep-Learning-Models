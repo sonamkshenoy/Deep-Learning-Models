{
  "nbformat": 4,
  "nbformat_minor": 0,
  "metadata": {
    "colab": {
      "name": "Sigmoid Neuron.ipynb",
      "provenance": [],
      "collapsed_sections": [
        "wFTtOsUjxkYn"
      ],
      "authorship_tag": "ABX9TyPsTNZFvMo3Hme1guMlPdm4"
    },
    "kernelspec": {
      "name": "python3",
      "display_name": "Python 3"
    }
  },
  "cells": [
    {
      "cell_type": "markdown",
      "metadata": {
        "id": "KNnIyWA3qxe9",
        "colab_type": "text"
      },
      "source": [
        "# Plotting Sigmoid Function"
      ]
    },
    {
      "cell_type": "markdown",
      "metadata": {
        "id": "wFTtOsUjxkYn",
        "colab_type": "text"
      },
      "source": [
        "### 2D Sigmoid"
      ]
    },
    {
      "cell_type": "code",
      "metadata": {
        "id": "o6ff6bItqwIX",
        "colab_type": "code",
        "colab": {}
      },
      "source": [
        "import numpy as np\n",
        "import matplotlib.pyplot as plt"
      ],
      "execution_count": 0,
      "outputs": []
    },
    {
      "cell_type": "code",
      "metadata": {
        "id": "sv44pjN5q5Mz",
        "colab_type": "code",
        "colab": {}
      },
      "source": [
        "def sigmoid(x,w,b):\n",
        "  return 1/(1+np.exp(-(w*x+b)))"
      ],
      "execution_count": 0,
      "outputs": []
    },
    {
      "cell_type": "code",
      "metadata": {
        "id": "d8ig1X8BrROC",
        "colab_type": "code",
        "outputId": "04aac335-73f8-4d64-adc9-5e35c3a163ac",
        "colab": {
          "base_uri": "https://localhost:8080/",
          "height": 35
        }
      },
      "source": [
        "sigmoid(1,0.5,0)"
      ],
      "execution_count": 0,
      "outputs": [
        {
          "output_type": "execute_result",
          "data": {
            "text/plain": [
              "0.6224593312018546"
            ]
          },
          "metadata": {
            "tags": []
          },
          "execution_count": 4
        }
      ]
    },
    {
      "cell_type": "code",
      "metadata": {
        "id": "ZtVMxODPrUcz",
        "colab_type": "code",
        "colab": {}
      },
      "source": [
        "# Now plot curve\n",
        "\n",
        "w = 0.9\n",
        "b = 0.1\n",
        "X = np.linspace(-10,10,100)\n",
        "Y = sigmoid(X, w, b)"
      ],
      "execution_count": 0,
      "outputs": []
    },
    {
      "cell_type": "code",
      "metadata": {
        "id": "Vz1dwIZcr3yW",
        "colab_type": "code",
        "outputId": "153ceed1-c44d-41f9-aac8-2def2ecade8f",
        "colab": {
          "base_uri": "https://localhost:8080/",
          "height": 53
        }
      },
      "source": [
        "print(\"X type is \",type(X))\n",
        "print(\"Y type is \",type(Y))"
      ],
      "execution_count": 0,
      "outputs": [
        {
          "output_type": "stream",
          "text": [
            "X type is  <class 'numpy.ndarray'>\n",
            "Y type is  <class 'numpy.ndarray'>\n"
          ],
          "name": "stdout"
        }
      ]
    },
    {
      "cell_type": "code",
      "metadata": {
        "id": "yqe_KpQ3r5um",
        "colab_type": "code",
        "outputId": "1b5e7495-d540-430e-bdb0-615d9ba8423b",
        "colab": {
          "base_uri": "https://localhost:8080/",
          "height": 283
        }
      },
      "source": [
        "plt.plot(Y)"
      ],
      "execution_count": 0,
      "outputs": [
        {
          "output_type": "execute_result",
          "data": {
            "text/plain": [
              "[<matplotlib.lines.Line2D at 0x7fb946883358>]"
            ]
          },
          "metadata": {
            "tags": []
          },
          "execution_count": 10
        },
        {
          "output_type": "display_data",
          "data": {
            "image/png": "[encoded data removed]",
            "text/plain": [
              "<Figure size 432x288 with 1 Axes>"
            ]
          },
          "metadata": {
            "tags": []
          }
        }
      ]
    },
    {
      "cell_type": "code",
      "metadata": {
        "id": "J1d3eK7CsDxE",
        "colab_type": "code",
        "outputId": "354a4373-c9da-4d78-e16a-eefb81325479",
        "colab": {
          "base_uri": "https://localhost:8080/",
          "height": 265
        }
      },
      "source": [
        "plt.plot(X,Y)\n",
        "plt.show()"
      ],
      "execution_count": 0,
      "outputs": [
        {
          "output_type": "display_data",
          "data": {
            "image/png": "[encoded data removed]",
            "text/plain": [
              "<Figure size 432x288 with 1 Axes>"
            ]
          },
          "metadata": {
            "tags": []
          }
        }
      ]
    },
    {
      "cell_type": "code",
      "metadata": {
        "id": "cUQMcUxMsP41",
        "colab_type": "code",
        "outputId": "b968357c-8a8c-4b7d-99be-697e586714ed",
        "colab": {
          "base_uri": "https://localhost:8080/",
          "height": 265
        }
      },
      "source": [
        "# Negative weight inverts sigmoid curve\n",
        "\n",
        "w = -0.9\n",
        "b = 0.1\n",
        "X = np.linspace(-10,10,100)\n",
        "Y = sigmoid(X, w, b)\n",
        "plt.plot(X,Y)\n",
        "plt.show()"
      ],
      "execution_count": 0,
      "outputs": [
        {
          "output_type": "display_data",
          "data": {
            "image/png": "[encoded data removed]",
            "text/plain": [
              "<Figure size 432x288 with 1 Axes>"
            ]
          },
          "metadata": {
            "tags": []
          }
        }
      ]
    },
    {
      "cell_type": "code",
      "metadata": {
        "id": "tS-8wd_Lse8W",
        "colab_type": "code",
        "outputId": "489c8352-1513-4152-d60b-003e89ef155a",
        "colab": {
          "base_uri": "https://localhost:8080/",
          "height": 265
        }
      },
      "source": [
        "# Increasing bias (b) shifts curve to the left if w is positive and right if w is negative.\n",
        "\n",
        "w = 2  #@param {type: \"slider\", min: -2, max: 2, step:0.1}\n",
        "b = 3\n",
        "X = np.linspace(-10,10,100)\n",
        "Y = sigmoid(X, w, b)\n",
        "plt.plot(X,Y)\n",
        "plt.show()"
      ],
      "execution_count": 0,
      "outputs": [
        {
          "output_type": "display_data",
          "data": {
            "image/png": "[encoded data removed]",
            "text/plain": [
              "<Figure size 432x288 with 1 Axes>"
            ]
          },
          "metadata": {
            "tags": []
          }
        }
      ]
    },
    {
      "cell_type": "markdown",
      "metadata": {
        "id": "s9DdHpa9t7d3",
        "colab_type": "text"
      },
      "source": [
        "Basically, w decides rate of fall between the extremes.  \n",
        "And b decides the position of the fall with respect to origin."
      ]
    },
    {
      "cell_type": "markdown",
      "metadata": {
        "id": "8qaVSMupxvRU",
        "colab_type": "text"
      },
      "source": [
        "### 3D Sigmoid"
      ]
    },
    {
      "cell_type": "code",
      "metadata": {
        "id": "z4s3RUqy4UpA",
        "colab_type": "code",
        "colab": {}
      },
      "source": [
        "def sigmoid_3d(x1, x2, w1,w2,b):\n",
        "  return 1/(1+np.exp(-(w1*x1+w2*x2+b)))"
      ],
      "execution_count": 0,
      "outputs": []
    },
    {
      "cell_type": "code",
      "metadata": {
        "id": "Lw9dUawasrIT",
        "colab_type": "code",
        "colab": {}
      },
      "source": [
        "X1 = np.linspace(5,10,5)\n",
        "X2=np.linspace(20,30,5)\n",
        "\n",
        "\n",
        "XX1, XX2 = np.meshgrid(X1, X2) # Generates all possible combinations of X1 and X2 "
      ],
      "execution_count": 0,
      "outputs": []
    },
    {
      "cell_type": "code",
      "metadata": {
        "id": "Ifk_3DiT3mY8",
        "colab_type": "code",
        "outputId": "1cfc81ec-b5ec-44d0-bd02-d4615ccb61c1",
        "colab": {
          "base_uri": "https://localhost:8080/",
          "height": 35
        }
      },
      "source": [
        "X1"
      ],
      "execution_count": 0,
      "outputs": [
        {
          "output_type": "execute_result",
          "data": {
            "text/plain": [
              "array([ 5.  ,  6.25,  7.5 ,  8.75, 10.  ])"
            ]
          },
          "metadata": {
            "tags": []
          },
          "execution_count": 40
        }
      ]
    },
    {
      "cell_type": "code",
      "metadata": {
        "id": "OaXFIZjaI5ul",
        "colab_type": "code",
        "outputId": "9955b523-44ba-4cd1-cc4e-7a22f4608df9",
        "colab": {
          "base_uri": "https://localhost:8080/",
          "height": 35
        }
      },
      "source": [
        "X2"
      ],
      "execution_count": 0,
      "outputs": [
        {
          "output_type": "execute_result",
          "data": {
            "text/plain": [
              "array([20. , 22.5, 25. , 27.5, 30. ])"
            ]
          },
          "metadata": {
            "tags": []
          },
          "execution_count": 41
        }
      ]
    },
    {
      "cell_type": "code",
      "metadata": {
        "id": "G54-Mbcr3MA7",
        "colab_type": "code",
        "outputId": "efa11c31-f24b-4fa8-ac86-6a28eb547b1b",
        "colab": {
          "base_uri": "https://localhost:8080/",
          "height": 108
        }
      },
      "source": [
        "XX1"
      ],
      "execution_count": 0,
      "outputs": [
        {
          "output_type": "execute_result",
          "data": {
            "text/plain": [
              "array([[ 5.  ,  6.25,  7.5 ,  8.75, 10.  ],\n",
              "       [ 5.  ,  6.25,  7.5 ,  8.75, 10.  ],\n",
              "       [ 5.  ,  6.25,  7.5 ,  8.75, 10.  ],\n",
              "       [ 5.  ,  6.25,  7.5 ,  8.75, 10.  ],\n",
              "       [ 5.  ,  6.25,  7.5 ,  8.75, 10.  ]])"
            ]
          },
          "metadata": {
            "tags": []
          },
          "execution_count": 42
        }
      ]
    },
    {
      "cell_type": "code",
      "metadata": {
        "id": "gNUGpsal3NNo",
        "colab_type": "code",
        "outputId": "90aa0b57-e11c-4081-cabc-3cde9a103d36",
        "colab": {
          "base_uri": "https://localhost:8080/",
          "height": 108
        }
      },
      "source": [
        "XX2"
      ],
      "execution_count": 0,
      "outputs": [
        {
          "output_type": "execute_result",
          "data": {
            "text/plain": [
              "array([[20. , 20. , 20. , 20. , 20. ],\n",
              "       [22.5, 22.5, 22.5, 22.5, 22.5],\n",
              "       [25. , 25. , 25. , 25. , 25. ],\n",
              "       [27.5, 27.5, 27.5, 27.5, 27.5],\n",
              "       [30. , 30. , 30. , 30. , 30. ]])"
            ]
          },
          "metadata": {
            "tags": []
          },
          "execution_count": 43
        }
      ]
    },
    {
      "cell_type": "code",
      "metadata": {
        "id": "EszqBXMt3VIQ",
        "colab_type": "code",
        "outputId": "61fc86f6-5a6e-45e1-df63-e4fed1489235",
        "colab": {
          "base_uri": "https://localhost:8080/",
          "height": 108
        }
      },
      "source": [
        "w1 = 0.3\n",
        "w2 = 0.5\n",
        "b = 2\n",
        "sigmoid_3d(XX1, XX2, w1, w2, b)\n",
        "\n",
        "# Note : gives output for each input feature a value between 0 and 1 (the predicted value for that particular w1, w2, b)"
      ],
      "execution_count": 0,
      "outputs": [
        {
          "output_type": "execute_result",
          "data": {
            "text/plain": [
              "array([[0.00247262, 0.01098694, 0.04742587, 0.18242552, 0.5       ],\n",
              "       [0.02931223, 0.11920292, 0.37754067, 0.73105858, 0.92414182],\n",
              "       [0.26894142, 0.62245933, 0.88079708, 0.97068777, 0.99330715],\n",
              "       [0.81757448, 0.95257413, 0.98901306, 0.99752738, 0.99944722],\n",
              "       [0.98201379, 0.99592986, 0.99908895, 0.99979657, 0.9999546 ]])"
            ]
          },
          "metadata": {
            "tags": []
          },
          "execution_count": 30
        }
      ]
    },
    {
      "cell_type": "code",
      "metadata": {
        "id": "rDStFbIv4quC",
        "colab_type": "code",
        "colab": {}
      },
      "source": [
        ""
      ],
      "execution_count": 0,
      "outputs": []
    },
    {
      "cell_type": "code",
      "metadata": {
        "id": "VEYp1OdKm1TF",
        "colab_type": "code",
        "colab": {}
      },
      "source": [
        ""
      ],
      "execution_count": 0,
      "outputs": []
    },
    {
      "cell_type": "markdown",
      "metadata": {
        "id": "pk9QZ0EPm2dP",
        "colab_type": "text"
      },
      "source": [
        "# Toy Dataset"
      ]
    },
    {
      "cell_type": "code",
      "metadata": {
        "id": "qS45ccs5m5XA",
        "colab_type": "code",
        "colab": {}
      },
      "source": [
        "class SigmoidNeuron:\n",
        "  def __init__(self):\n",
        "    self.w=None\n",
        "    self.b=None\n",
        "  \n",
        "  def perceptron(self,x): #vectors\n",
        "    return np.dot(x,self.w.T)+self.b\n",
        "\n",
        "  def sigmoid(self,x):\n",
        "    return 1.0/(1.0+np.exp(-x))\n",
        "\n",
        "  def grad_w(self,x,y):\n",
        "    y_pred = self.sigmoid(self.perceptron(x))\n",
        "    return (y_pred-y)*y_pred*(1-y_pred)*x\n",
        "\n",
        "  def grad_b(self,x,y):\n",
        "    y_pred = self.sigmoid(self.perceptron(x))\n",
        "    return (y_pred-y)*y_pred*(1-y_pred)\n",
        "\n",
        "  def fit(self, X, Y, epochs = 1, lr = 1):\n",
        "    self.w = np.random.randn(1,X.shape[1])\n",
        "    self.b = 0\n",
        "\n",
        "    for i in range(epochs):\n",
        "      dw = 0\n",
        "      db = 0\n",
        "      for x,y in zip(X,Y):\n",
        "        dw+=self.grad_w(x,y)\n",
        "        db+=self.grad_b(x,y)\n",
        "      self.w -= lr*dw\n",
        "      self.b -= lr*db"
      ],
      "execution_count": 0,
      "outputs": []
    },
    {
      "cell_type": "code",
      "metadata": {
        "id": "Zhfl-HdLpFi7",
        "colab_type": "code",
        "colab": {}
      },
      "source": [
        "X = np.asarray([[2.5,2.5],[4,-1],[1,-4],[-3,-1.25],[-2,-4],[1,5]])\n",
        "Y = [1,1,1,0,0,0]\n",
        "sn = SigmoidNeuron()"
      ],
      "execution_count": 0,
      "outputs": []
    },
    {
      "cell_type": "code",
      "metadata": {
        "id": "UUWxXCi9qe3-",
        "colab_type": "code",
        "colab": {}
      },
      "source": [
        "import numpy as np\n",
        "import matplotlib.pyplot as plt\n"
      ],
      "execution_count": 0,
      "outputs": []
    },
    {
      "cell_type": "code",
      "metadata": {
        "id": "NuMChRq_qkxs",
        "colab_type": "code",
        "colab": {}
      },
      "source": [
        "sn.fit(X,Y,1,0.25)"
      ],
      "execution_count": 0,
      "outputs": []
    },
    {
      "cell_type": "code",
      "metadata": {
        "id": "s-7ihTarqwlq",
        "colab_type": "code",
        "colab": {}
      },
      "source": [
        "def plot_sn(X,Y,sn):\n",
        "  X1 = np.linspace(-10,10,100)\n",
        "  X2 = np.linspace(-10,10,100)\n",
        "  XX1, XX2 = np.meshgrid(X1, X2)\n",
        "  YY = np.zeros(XX1.shape)\n",
        "  for i in range(X2.size):\n",
        "    for j in range(X1.size):\n",
        "      val = np.asarray(X1[j],X2[j])\n",
        "      YY[i,j] = sn.sigmoid(sn.perceptron(val))"
      ],
      "execution_count": 0,
      "outputs": []
    },
    {
      "cell_type": "code",
      "metadata": {
        "id": "Zm23Zerjr4rc",
        "colab_type": "code",
        "colab": {}
      },
      "source": [
        ""
      ],
      "execution_count": 0,
      "outputs": []
    }
  ]
}