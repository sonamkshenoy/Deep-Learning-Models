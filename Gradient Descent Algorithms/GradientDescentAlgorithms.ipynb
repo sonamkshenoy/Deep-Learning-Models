{
  "nbformat": 4,
  "nbformat_minor": 0,
  "metadata": {
    "colab": {
      "name": "GradientDescentAlgorithms.ipynb",
      "provenance": [],
      "collapsed_sections": [
        "VeWW7QBe716i",
        "8U0fSXizyuvu",
        "7FGS1aM_1VIL",
        "OFqjivzV61qW",
        "arqa5zae8yI4",
        "74VvBRNSAwAg"
      ],
      "authorship_tag": "ABX9TyN3Z5d+oh1XYSXKDV49gDwE"
    },
    "kernelspec": {
      "name": "python3",
      "display_name": "Python 3"
    }
  },
  "cells": [
    {
      "cell_type": "markdown",
      "metadata": {
        "id": "Kh0WgBu7c3NK",
        "colab_type": "text"
      },
      "source": [
        "## Outline\n",
        "1. Modified SN class\n",
        "2. Overall setup - What is the data, model, task\n",
        "3. Plotting functions - 3d, contour\n",
        "4. Individual algorithms and how they perform"
      ]
    },
    {
      "cell_type": "code",
      "metadata": {
        "id": "JQX8NKd_cpX8",
        "colab_type": "code",
        "colab": {}
      },
      "source": [
        "from mpl_toolkits.mplot3d import Axes3D\n",
        "import matplotlib.pyplot as plt\n",
        "\n",
        "from matplotlib import cm\n",
        "import matplotlib.colors\n",
        "\n",
        "from matplotlib import animation, rc\n",
        "from IPython.display import HTML\n",
        "\n",
        "import numpy as np"
      ],
      "execution_count": 0,
      "outputs": []
    },
    {
      "cell_type": "markdown",
      "metadata": {
        "id": "CZqZ2QDheAxS",
        "colab_type": "text"
      },
      "source": [
        "# Modified Sigmoid Class"
      ]
    },
    {
      "cell_type": "code",
      "metadata": {
        "id": "PGDHxot2dgdE",
        "colab_type": "code",
        "colab": {}
      },
      "source": [
        "class SN:\n",
        "\n",
        "  def __init__(self, w_init, b_init, algo): # scalar values (individual x)\n",
        "    # this time not initialising to np.random. Instead use one of the initialisation techniques later (He/Xavier)\n",
        "    self.w = w_init\n",
        "    self.b = b_init\n",
        "    # history variables (to track previous values to see how changing)\n",
        "    self.w_h = []\n",
        "    self.b_h = []\n",
        "    self.e_h = []\n",
        "    # Choose the algo of your choice this time (GD, Momentum GD, NAG, Adagrad, RMSProp, Adam)\n",
        "    self.algo = algo\n",
        "\n",
        "  # First time taking even w and b as input; not only x. Generally sigmoid was calculated at present location only. Now may need to calc. at other points too as in NAG\n",
        "  def sigmoid(self, x, w= None, b = None):\n",
        "    if w is None:\n",
        "      w = self.w\n",
        "    if b is None:\n",
        "      b = self.b\n",
        "    return 1. / (1. + np.exp(-(w*x + b)))\n",
        "\n",
        "  def error(self, X, Y, w = None, b = None):\n",
        "    if w is None:\n",
        "      w = self.w\n",
        "    if b is None:\n",
        "      b = self.b\n",
        "    err = 0\n",
        "    # MSE\n",
        "    for x,y in zip(X,Y):\n",
        "      # Accumulating \n",
        "      err += 0.5 * (self.sigmoid(x,w,b)-y) ** 2\n",
        "    return err\n",
        "\n",
        "  def grad_w(self, x, y, w=None, b=None):\n",
        "    if w is None:\n",
        "      w = self.w\n",
        "    if b is None:\n",
        "      b = self.b\n",
        "    y_pred = self.sigmoid(x, w, b)\n",
        "    return (y_pred-y) * y_pred * (1-y_pred) * x\n",
        "\n",
        "  def grad_b(self, x, y, w=None, b=None):\n",
        "    if w is None:\n",
        "      w = self.w\n",
        "    if b is None:\n",
        "      b = self.b\n",
        "    y_pred = self.sigmoid(x, w, b)\n",
        "    return (y_pred-y) * y_pred * (1-y_pred)\n",
        "\n",
        "  def fit(self, X, Y, epochs = 100, eta = 0.01, gamma = 0.9, mini_batch_size = 100, eps = 1e-8,\n",
        "          beta = 0.9, beta1 = 0.9, beta2 = 0.9\n",
        "          ):\n",
        "    \n",
        "    self.w_h = []\n",
        "    self.b_h = []\n",
        "    self.e_h = []\n",
        "    self.X = X \n",
        "    self.Y = Y\n",
        "\n",
        "    if self.algo == \"GD\":\n",
        "      for i in range(epochs):\n",
        "        dw,db = 0,0\n",
        "        for x,y in zip(X,Y):\n",
        "          dw += self.grad_w(x,y)\n",
        "          db += self.grad_b(x,y)\n",
        "        # Batch GD\n",
        "        self.w -= eta*dw / X.shape[0]\n",
        "        self.b -= eta*db / X.shape[0]\n",
        "        self.append_log()\n",
        "\n",
        "    elif self.algo == \"Momentum\":\n",
        "      # gamma = acceleration/amount of momentum we require\n",
        "      v_w , v_b = 0, 0\n",
        "      for i in range(epochs):\n",
        "        dw,db = 0,0\n",
        "        for x,y in zip(X,Y):\n",
        "          dw += self.grad_w(x,y)\n",
        "          db += self.grad_b(x,y)\n",
        "        # exponentially decaying weighted sum\n",
        "        # The 2 standard formulae for Momentum GD below\n",
        "        v_w = gamma * v_w + eta * dw\n",
        "        v_b = gamma * v_b + eta * db\n",
        "        self.w -= v_w\n",
        "        self.b -= v_b\n",
        "        self.append_log()\n",
        "\n",
        "    elif self.algo == \"NAG\":\n",
        "      v_w , v_b = 0, 0\n",
        "      for i in range(epochs):\n",
        "        dw,db = 0,0\n",
        "        # Update previous values\n",
        "        v_w = gamma * v_w\n",
        "        b_w = gamma * v_b\n",
        "        for x,y in zip(X,Y):\n",
        "          dw += self.grad_w(x,y,self.w-v_w, self.b - v_b) # First move weight by history and then find derivative at new point and again update weight there\n",
        "          db += self.grad_b(x,y,self.w-v_w, self.b - v_b)\n",
        "        v_w += eta*dw\n",
        "        v_b += eta*db\n",
        "        self.w -= v_w\n",
        "        self.b -= v_b\n",
        "        self.append_log()\n",
        "\n",
        "    elif self.algo==\"MiniBatch\":\n",
        "      for i in range(epochs):\n",
        "        dw,db = 0,0\n",
        "        points_seen = 0;\n",
        "        for x,y in zip(X,Y):\n",
        "          dw += self.grad_w(x,y)\n",
        "          db += self.grad_b(x,y)\n",
        "          if(points_seen%mini_batch_size == 0):\n",
        "            self.w -= eta*dw / mini_batch_size\n",
        "            self.b -= eta*db / mini_batch_size\n",
        "            dw, db = 0, 0 # Obiviously start fresh for next mini batch so that can update. If don't make it zero, becomes equivalent to \"Batch GD\"\n",
        "            self.append_log()\n",
        "\n",
        "    elif self.algo == \"AdaGrad\":\n",
        "      v_w , v_b = 0 , 0\n",
        "      for i in range(epochs):\n",
        "        dw,db = 0,0\n",
        "        for x,y in zip(X,Y):\n",
        "          dw += self.grad_w(x,y)\n",
        "          db += self.grad_b(x,y)\n",
        "        v_w += dw**2\n",
        "        v_b += db**2\n",
        "        self.w -= eta / np.sqrt(v_w) + eps * dw\n",
        "        self.b -= eta / np.sqrt(v_b) + eps * db\n",
        "        self.append_log()\n",
        "\n",
        "    elif self.algo == \"RMSProp\":\n",
        "      v_w , v_b = 0 , 0\n",
        "      for i in range(epochs):\n",
        "        dw,db = 0,0\n",
        "        for x,y in zip(X,Y):\n",
        "          dw += self.grad_w(x,y)\n",
        "          db += self.grad_b(x,y)\n",
        "        # To stop denominator from increasing continuously\n",
        "        v_w = beta * v_w + (1-beta) * dw**2\n",
        "        v_b = beta * v_b + (1-beta) * db**2\n",
        "        self.w -= (eta / np.sqrt(v_w) + eps) * dw\n",
        "        self.b -= (eta / np.sqrt(v_b) + eps) * db\n",
        "        self.append_log()\n",
        "\n",
        "    elif self.algo == \"Adam\":\n",
        "      v_w , v_b = 0,0\n",
        "      m_w, m_b = 0,0\n",
        "      num_updates = 0\n",
        "      for i in range(epochs):\n",
        "        dw,db = 0,0\n",
        "        for x,y in zip(X,Y):\n",
        "          dw += self.grad_w(x,y)\n",
        "          db += self.grad_b(x,y)\n",
        "          num_updates += 1\n",
        "          # exponential weighted sum of gradients\n",
        "          m_w = beta * m_w + (1-beta1) * dw\n",
        "          m_b = beta * m_b + (1-beta1) * db\n",
        "          # exponential weighted sum of square of gradients\n",
        "          v_w = beta * v_w + (1-beta2) * dw**2\n",
        "          v_b = beta * v_b + (1-beta2) * db**2\n",
        "          m_w_c = m_w/(1-np.power(beta1, num_updates))\n",
        "          m_b_c = m_b/(1-np.power(beta1, num_updates))\n",
        "          v_w_c = v_w/(1-np.power(beta2, num_updates))\n",
        "          v_b_c = v_b/(1-np.power(beta2, num_updates))          \n",
        "          self.w -= (eta / np.sqrt(v_w_c) + eps) * m_w_c\n",
        "          self.b -= (eta / np.sqrt(v_b_c) + eps) * m_b_c\n",
        "          self.append_log()\n",
        "\n",
        "  def append_log(self):\n",
        "    self.w_h.append(self.w)\n",
        "    self.b_h.append(self.b)\n",
        "    self.e_h.append(self.error(self.X, self.Y)) # Calc. current error for current w,b since not passing"
      ],
      "execution_count": 0,
      "outputs": []
    },
    {
      "cell_type": "markdown",
      "metadata": {
        "id": "VeWW7QBe716i",
        "colab_type": "text"
      },
      "source": [
        "#GD"
      ]
    },
    {
      "cell_type": "code",
      "metadata": {
        "id": "sb72Ayh3nD_j",
        "colab_type": "code",
        "colab": {}
      },
      "source": [
        "X = np.asarray([0.5, 2.5])\n",
        "Y = np.asarray([0.2,0.9])\n",
        "\n",
        "algo = \"GD\"\n",
        "\n",
        "# deterministic, not random\n",
        "w_init = -2\n",
        "b_init = -2\n",
        "\n",
        "epochs = 1000\n",
        "eta = 1 # learning rate\n",
        "\n",
        "w_min = -7\n",
        "w_max = 5\n",
        "\n",
        "b_min = -5\n",
        "b_max = 5\n",
        "\n",
        "animation_frames = 20\n",
        "plot_3d = True\n",
        "plot_2d = False"
      ],
      "execution_count": 0,
      "outputs": []
    },
    {
      "cell_type": "code",
      "metadata": {
        "id": "D1Ojtfo_n02y",
        "colab_type": "code",
        "colab": {
          "base_uri": "https://localhost:8080/",
          "height": 265
        },
        "outputId": "a6a33ff8-931c-4c05-f021-b5fe39584aaf"
      },
      "source": [
        "sn = SN(w_init, b_init, algo)\n",
        "sn.fit(X, Y, epochs = epochs, eta = eta)\n",
        "plt.plot(sn.e_h,'r')\n",
        "plt.plot(sn.w_h,'b')\n",
        "plt.plot(sn.b_h,'g')\n",
        "plt.show()"
      ],
      "execution_count": 45,
      "outputs": [
        {
          "output_type": "display_data",
          "data": {
            "image/png": "[encoded data removed]",
            "text/plain": [
              "<Figure size 432x288 with 1 Axes>"
            ]
          },
          "metadata": {
            "tags": [],
            "needs_background": "light"
          }
        }
      ]
    },
    {
      "cell_type": "markdown",
      "metadata": {
        "id": "-v7cakwoth_H",
        "colab_type": "text"
      },
      "source": [
        "Error (red) going close to zero after dropping"
      ]
    },
    {
      "cell_type": "code",
      "metadata": {
        "id": "VXmj_QojuZLs",
        "colab_type": "code",
        "colab": {
          "base_uri": "https://localhost:8080/",
          "height": 267
        },
        "outputId": "aec00d33-c350-40c6-9023-b3684cf4fd61"
      },
      "source": [
        "X = np.asarray([0.5, 2.5])\n",
        "Y = np.asarray([0.2,0.9])\n",
        "\n",
        "algo = \"GD\"\n",
        "\n",
        "# deterministic, not random\n",
        "w_init = -4\n",
        "b_init = 0\n",
        "\n",
        "epochs = 10000\n",
        "eta = 1 # learning rate\n",
        "\n",
        "w_min = -7\n",
        "w_max = 5\n",
        "\n",
        "b_min = -5\n",
        "b_max = 5\n",
        "\n",
        "animation_frames = 20\n",
        "plot_3d = True\n",
        "plot_2d = False\n",
        "\n",
        "\n",
        "sn = SN(w_init, b_init, algo)\n",
        "sn.fit(X, Y, epochs = epochs, eta = eta)\n",
        "plt.plot(sn.e_h,'r')\n",
        "plt.plot(sn.w_h,'b')\n",
        "plt.plot(sn.b_h,'g')\n",
        "plt.show()"
      ],
      "execution_count": 46,
      "outputs": [
        {
          "output_type": "display_data",
          "data": {
            "image/png": "[encoded data removed]",
            "text/plain": [
              "<Figure size 432x288 with 1 Axes>"
            ]
          },
          "metadata": {
            "tags": [],
            "needs_background": "light"
          }
        }
      ]
    },
    {
      "cell_type": "code",
      "metadata": {
        "id": "6GCW402gsix2",
        "colab_type": "code",
        "colab": {}
      },
      "source": [
        ""
      ],
      "execution_count": 0,
      "outputs": []
    },
    {
      "cell_type": "markdown",
      "metadata": {
        "id": "8U0fSXizyuvu",
        "colab_type": "text"
      },
      "source": [
        "# Momentum Based GD"
      ]
    },
    {
      "cell_type": "markdown",
      "metadata": {
        "id": "p19XhBF99DZ8",
        "colab_type": "text"
      },
      "source": [
        "Moves fast where gradient remains consistent and cancel out in places where gradient is variable\n"
      ]
    },
    {
      "cell_type": "code",
      "metadata": {
        "id": "MSWM76ldyzKi",
        "colab_type": "code",
        "colab": {
          "base_uri": "https://localhost:8080/",
          "height": 265
        },
        "outputId": "e2b614e3-599e-4845-f954-ab1899c1486c"
      },
      "source": [
        "X = np.asarray([0.5, 2.5])\n",
        "Y = np.asarray([0.2,0.9])\n",
        "\n",
        "algo = \"Momentum\"\n",
        "\n",
        "# deterministic, not random\n",
        "w_init = -4\n",
        "b_init = 0\n",
        "\n",
        "epochs = 1000\n",
        "eta = 1 # learning rate\n",
        "\n",
        "w_min = -7\n",
        "w_max = 5\n",
        "\n",
        "b_min = -5\n",
        "b_max = 5\n",
        "\n",
        "animation_frames = 20\n",
        "plot_3d = True\n",
        "plot_2d = False\n",
        "\n",
        "\n",
        "sn = SN(w_init, b_init, algo)\n",
        "sn.fit(X, Y, epochs = epochs, eta = eta)\n",
        "plt.plot(sn.e_h,'r')\n",
        "plt.plot(sn.w_h,'b')\n",
        "plt.plot(sn.b_h,'g')\n",
        "plt.show()"
      ],
      "execution_count": 47,
      "outputs": [
        {
          "output_type": "display_data",
          "data": {
            "image/png": "[encoded data removed]",
            "text/plain": [
              "<Figure size 432x288 with 1 Axes>"
            ]
          },
          "metadata": {
            "tags": [],
            "needs_background": "light"
          }
        }
      ]
    },
    {
      "cell_type": "markdown",
      "metadata": {
        "id": "PGkKceJr0ym4",
        "colab_type": "text"
      },
      "source": [
        "Very rapid changes in loss. Doesn't take as many epochs to cross flat surface"
      ]
    },
    {
      "cell_type": "markdown",
      "metadata": {
        "id": "HfiecQMJ0-2B",
        "colab_type": "text"
      },
      "source": [
        "**Notice GD (plot above this) took 10000 epochs to do the very same thing Momentum took only 1000 epochs for.**"
      ]
    },
    {
      "cell_type": "code",
      "metadata": {
        "id": "fdzcKFRpy4AX",
        "colab_type": "code",
        "colab": {
          "base_uri": "https://localhost:8080/",
          "height": 265
        },
        "outputId": "bfe98e6e-0d01-4c12-af1d-2e0569501fa1"
      },
      "source": [
        "X = np.asarray([0.5, 2.5])\n",
        "Y = np.asarray([0.2,0.9])\n",
        "\n",
        "algo = \"Momentum\"\n",
        "\n",
        "# deterministic, not random\n",
        "w_init = 2.1\n",
        "b_init = 4.0\n",
        "\n",
        "epochs = 100\n",
        "eta = 1 # learning rate\n",
        "\n",
        "w_min = -7\n",
        "w_max = 5\n",
        "\n",
        "b_min = -5\n",
        "b_max = 5\n",
        "\n",
        "animation_frames = 20\n",
        "plot_3d = True\n",
        "plot_2d = False\n",
        "\n",
        "\n",
        "sn = SN(w_init, b_init, algo)\n",
        "sn.fit(X, Y, epochs = epochs, eta = eta)\n",
        "plt.plot(sn.e_h,'r')\n",
        "plt.plot(sn.w_h,'b')\n",
        "plt.plot(sn.b_h,'g')\n",
        "plt.show()"
      ],
      "execution_count": 48,
      "outputs": [
        {
          "output_type": "display_data",
          "data": {
            "image/png": "[encoded data removed]",
            "text/plain": [
              "<Figure size 432x288 with 1 Axes>"
            ]
          },
          "metadata": {
            "tags": [],
            "needs_background": "light"
          }
        }
      ]
    },
    {
      "cell_type": "markdown",
      "metadata": {
        "id": "7FGS1aM_1VIL",
        "colab_type": "text"
      },
      "source": [
        "# NAG"
      ]
    },
    {
      "cell_type": "markdown",
      "metadata": {
        "id": "ScOsk54k9t_D",
        "colab_type": "text"
      },
      "source": [
        "Gradient not computed at current point but after taking one step. Add the first part, then find gradient, then add that part instead of adding both parts together"
      ]
    },
    {
      "cell_type": "code",
      "metadata": {
        "id": "vIY7QyTq1V5U",
        "colab_type": "code",
        "colab": {
          "base_uri": "https://localhost:8080/",
          "height": 265
        },
        "outputId": "94757b96-f5f1-47ee-ad39-5994375c1fe2"
      },
      "source": [
        "X = np.asarray([0.5, 2.5])\n",
        "Y = np.asarray([0.2,0.9])\n",
        "\n",
        "algo = \"NAG\"\n",
        "\n",
        "# deterministic, not random\n",
        "w_init = 2.1\n",
        "b_init = 4.0\n",
        "\n",
        "epochs = 1000\n",
        "eta = 1 # learning rate\n",
        "\n",
        "w_min = -7\n",
        "w_max = 5\n",
        "\n",
        "b_min = -5\n",
        "b_max = 5\n",
        "\n",
        "gamma = 0.8 # Acceleration rate\n",
        "\n",
        "animation_frames = 20\n",
        "plot_3d = True\n",
        "plot_2d = False\n",
        "\n",
        "\n",
        "sn = SN(w_init, b_init, algo)\n",
        "sn.fit(X, Y, epochs = epochs, eta = eta, gamma = gamma)\n",
        "plt.plot(sn.e_h,'r')\n",
        "plt.plot(sn.w_h,'b')\n",
        "plt.plot(sn.b_h,'g')\n",
        "plt.show()"
      ],
      "execution_count": 49,
      "outputs": [
        {
          "output_type": "display_data",
          "data": {
            "image/png": "[encoded data removed]",
            "text/plain": [
              "<Figure size 432x288 with 1 Axes>"
            ]
          },
          "metadata": {
            "tags": [],
            "needs_background": "light"
          }
        }
      ]
    },
    {
      "cell_type": "code",
      "metadata": {
        "id": "lBZ_rSth22ob",
        "colab_type": "code",
        "colab": {}
      },
      "source": [
        ""
      ],
      "execution_count": 0,
      "outputs": []
    },
    {
      "cell_type": "markdown",
      "metadata": {
        "id": "OFqjivzV61qW",
        "colab_type": "text"
      },
      "source": [
        "# Mini-batch GD"
      ]
    },
    {
      "cell_type": "code",
      "metadata": {
        "id": "aMsgFb-163U-",
        "colab_type": "code",
        "colab": {
          "base_uri": "https://localhost:8080/",
          "height": 265
        },
        "outputId": "98806970-ed62-49ad-b462-9b2cbd9ac2cc"
      },
      "source": [
        "X = np.asarray([3.5, 0.35, 3.2, -2.0, 1.5, -0.5])\n",
        "Y = np.asarray([0.5, 0.50, 0.5, 0.5, 0.3])\n",
        "\n",
        "algo = \"MiniBatch\"\n",
        "\n",
        "# deterministic, not random\n",
        "w_init = 2.1\n",
        "b_init = 4.0\n",
        "\n",
        "epochs = 200\n",
        "eta = 5 # learning rate\n",
        "\n",
        "w_min = -7\n",
        "w_max = 5\n",
        "\n",
        "b_min = -5\n",
        "b_max = 5\n",
        "\n",
        "mini_batch_size = 1\n",
        "\n",
        "animation_frames = 20\n",
        "plot_3d = True\n",
        "plot_2d = False\n",
        "\n",
        "\n",
        "sn = SN(w_init, b_init, algo)\n",
        "sn.fit(X, Y, epochs = epochs, eta = eta, mini_batch_size = mini_batch_size)\n",
        "plt.plot(sn.e_h,'r')\n",
        "plt.plot(sn.w_h,'b')\n",
        "plt.plot(sn.b_h,'g')\n",
        "plt.show()"
      ],
      "execution_count": 50,
      "outputs": [
        {
          "output_type": "display_data",
          "data": {
            "image/png": "[encoded data removed]",
            "text/plain": [
              "<Figure size 432x288 with 1 Axes>"
            ]
          },
          "metadata": {
            "tags": [],
            "needs_background": "light"
          }
        }
      ]
    },
    {
      "cell_type": "markdown",
      "metadata": {
        "id": "SxAz7-oZ8dyq",
        "colab_type": "text"
      },
      "source": [
        "Very high oscillations, too many updates - stochastic GD"
      ]
    },
    {
      "cell_type": "code",
      "metadata": {
        "id": "T864gpfO8Rb3",
        "colab_type": "code",
        "colab": {
          "base_uri": "https://localhost:8080/",
          "height": 265
        },
        "outputId": "57caba51-8bd7-43ae-fd86-6e7610b0cc03"
      },
      "source": [
        "X = np.asarray([3.5, 0.35, 3.2, -2.0, 1.5, -0.5])\n",
        "Y = np.asarray([0.5, 0.50, 0.5, 0.5, 0.3])\n",
        "\n",
        "algo = \"MiniBatch\"\n",
        "\n",
        "# deterministic, not random\n",
        "w_init = 2.1\n",
        "b_init = 4.0\n",
        "\n",
        "epochs = 200\n",
        "eta = 5 # learning rate\n",
        "\n",
        "w_min = -7\n",
        "w_max = 5\n",
        "\n",
        "b_min = -5\n",
        "b_max = 5\n",
        "\n",
        "mini_batch_size = 5\n",
        "\n",
        "animation_frames = 20\n",
        "plot_3d = True\n",
        "plot_2d = False\n",
        "\n",
        "\n",
        "sn = SN(w_init, b_init, algo)\n",
        "sn.fit(X, Y, epochs = epochs, eta = eta, mini_batch_size = mini_batch_size)\n",
        "plt.plot(sn.e_h,'r')\n",
        "plt.plot(sn.w_h,'b')\n",
        "plt.plot(sn.b_h,'g')\n",
        "plt.show()"
      ],
      "execution_count": 51,
      "outputs": [
        {
          "output_type": "display_data",
          "data": {
            "image/png": "[encoded data removed]",
            "text/plain": [
              "<Figure size 432x288 with 1 Axes>"
            ]
          },
          "metadata": {
            "tags": [],
            "needs_background": "light"
          }
        }
      ]
    },
    {
      "cell_type": "markdown",
      "metadata": {
        "id": "HtfiJf3C8YTM",
        "colab_type": "text"
      },
      "source": [
        "Still some oscillations, but fewer oscillations since fewer updates"
      ]
    },
    {
      "cell_type": "code",
      "metadata": {
        "id": "JtyErJMA7Z3W",
        "colab_type": "code",
        "colab": {
          "base_uri": "https://localhost:8080/",
          "height": 265
        },
        "outputId": "9d879238-32b3-4637-f9f1-7fb3152aa64c"
      },
      "source": [
        "X = np.asarray([3.5, 0.35, 3.2, -2.0, 1.5, -0.5])\n",
        "Y = np.asarray([0.5, 0.50, 0.5, 0.5, 0.3])\n",
        "\n",
        "algo = \"MiniBatch\"\n",
        "\n",
        "# deterministic, not random\n",
        "w_init = 2.1\n",
        "b_init = 4.0\n",
        "\n",
        "epochs = 200\n",
        "eta = 5 # learning rate\n",
        "\n",
        "w_min = -7\n",
        "w_max = 5\n",
        "\n",
        "b_min = -5\n",
        "b_max = 5\n",
        "\n",
        "mini_batch_size = 100\n",
        "\n",
        "animation_frames = 20\n",
        "plot_3d = True\n",
        "plot_2d = False\n",
        "\n",
        "\n",
        "sn = SN(w_init, b_init, algo)\n",
        "sn.fit(X, Y, epochs = epochs, eta = eta, mini_batch_size = mini_batch_size)\n",
        "plt.plot(sn.e_h,'r')\n",
        "plt.plot(sn.w_h,'b')\n",
        "plt.plot(sn.b_h,'g')\n",
        "plt.show()"
      ],
      "execution_count": 52,
      "outputs": [
        {
          "output_type": "display_data",
          "data": {
            "image/png": "[encoded data removed]",
            "text/plain": [
              "<Figure size 432x288 with 1 Axes>"
            ]
          },
          "metadata": {
            "tags": [],
            "needs_background": "light"
          }
        }
      ]
    },
    {
      "cell_type": "markdown",
      "metadata": {
        "id": "AAmSqTyz8BC5",
        "colab_type": "text"
      },
      "source": [
        "**Note way way lesser oscillations than stochastic GD (mini-batch-size = 1)**"
      ]
    },
    {
      "cell_type": "code",
      "metadata": {
        "id": "aSQDYKcf7lFO",
        "colab_type": "code",
        "colab": {}
      },
      "source": [
        ""
      ],
      "execution_count": 0,
      "outputs": []
    },
    {
      "cell_type": "markdown",
      "metadata": {
        "id": "arqa5zae8yI4",
        "colab_type": "text"
      },
      "source": [
        "# Adagrad"
      ]
    },
    {
      "cell_type": "code",
      "metadata": {
        "id": "yF_LtSdp8zzO",
        "colab_type": "code",
        "colab": {
          "base_uri": "https://localhost:8080/",
          "height": 303
        },
        "outputId": "6a2c0a1c-4ebb-4323-94d0-e2e769217e2e"
      },
      "source": [
        "X = np.asarray([3.5, 0.35, 3.2, -2.0, 1.5, -0.5])\n",
        "Y = np.asarray([0.5, 0.50, 0.5, 0.5, 0.3])\n",
        "\n",
        "algo = \"AdaGrad\"\n",
        "\n",
        "# deterministic, not random\n",
        "w_init = -6\n",
        "b_init = 4.0\n",
        "\n",
        "epochs = 200\n",
        "eta = 0.5 # learning rate\n",
        "eps = 1e-8\n",
        "\n",
        "w_min = -7\n",
        "w_max = 5\n",
        "\n",
        "b_min = -7\n",
        "b_max = 5\n",
        "\n",
        "\n",
        "animation_frames = 20\n",
        "plot_3d = True\n",
        "plot_2d = False\n",
        "\n",
        "\n",
        "sn = SN(w_init, b_init, algo)\n",
        "sn.fit(X, Y, epochs = epochs, eta = eta)\n",
        "plt.plot(sn.e_h,'r')\n",
        "plt.plot(sn.w_h,'b')\n",
        "plt.plot(sn.b_h,'g')\n",
        "plt.show()"
      ],
      "execution_count": 55,
      "outputs": [
        {
          "output_type": "stream",
          "text": [
            "/usr/local/lib/python3.6/dist-packages/ipykernel_launcher.py:20: RuntimeWarning: overflow encountered in exp\n"
          ],
          "name": "stderr"
        },
        {
          "output_type": "display_data",
          "data": {
            "image/png": "[encoded data removed]",
            "text/plain": [
              "<Figure size 432x288 with 1 Axes>"
            ]
          },
          "metadata": {
            "tags": [],
            "needs_background": "light"
          }
        }
      ]
    },
    {
      "cell_type": "code",
      "metadata": {
        "id": "--6yw89M-bJr",
        "colab_type": "code",
        "colab": {
          "base_uri": "https://localhost:8080/",
          "height": 303
        },
        "outputId": "4dd240d4-f9a9-406d-b439-a12cc45ffd7a"
      },
      "source": [
        "X = np.asarray([3.5, 0.35, 3.2, -2.0, 1.5, -0.5])\n",
        "Y = np.asarray([0.5, 0.50, 0.5, 0.5, 0.3])\n",
        "\n",
        "algo = \"AdaGrad\"\n",
        "\n",
        "# deterministic, not random\n",
        "w_init = -6\n",
        "b_init = 4.0\n",
        "\n",
        "epochs = 200\n",
        "gamma = 0.9\n",
        "eta = 0.1 # learning rate\n",
        "eps = 1e-8\n",
        "\n",
        "w_min = -7\n",
        "w_max = 5\n",
        "\n",
        "b_min = -7\n",
        "b_max = 5\n",
        "\n",
        "\n",
        "animation_frames = 20\n",
        "plot_3d = True\n",
        "plot_2d = False\n",
        "\n",
        "\n",
        "sn = SN(w_init, b_init, algo)\n",
        "sn.fit(X, Y, epochs = epochs, eta = eta, gamma = gamma)\n",
        "plt.plot(sn.e_h,'r')\n",
        "plt.plot(sn.w_h,'b')\n",
        "plt.plot(sn.b_h,'g')\n",
        "plt.show()"
      ],
      "execution_count": 62,
      "outputs": [
        {
          "output_type": "stream",
          "text": [
            "/usr/local/lib/python3.6/dist-packages/ipykernel_launcher.py:20: RuntimeWarning: overflow encountered in exp\n"
          ],
          "name": "stderr"
        },
        {
          "output_type": "display_data",
          "data": {
            "image/png": "[encoded data removed]",
            "text/plain": [
              "<Figure size 432x288 with 1 Axes>"
            ]
          },
          "metadata": {
            "tags": [],
            "needs_background": "light"
          }
        }
      ]
    },
    {
      "cell_type": "code",
      "metadata": {
        "id": "aXUL-cUZBhRs",
        "colab_type": "code",
        "colab": {}
      },
      "source": [
        ""
      ],
      "execution_count": 0,
      "outputs": []
    },
    {
      "cell_type": "markdown",
      "metadata": {
        "id": "74VvBRNSAwAg",
        "colab_type": "text"
      },
      "source": [
        "# RMSProp"
      ]
    },
    {
      "cell_type": "code",
      "metadata": {
        "id": "mUqEJam1AyB0",
        "colab_type": "code",
        "colab": {
          "base_uri": "https://localhost:8080/",
          "height": 265
        },
        "outputId": "9b35a106-16d4-4181-8933-41ba9577d3f4"
      },
      "source": [
        "X = np.asarray([3.5, 0.35, 3.2, -2.0, 1.5, -0.5])\n",
        "Y = np.asarray([0.5, 0.50, 0.5, 0.5, 0.3])\n",
        "\n",
        "algo = \"RMSProp\"\n",
        "\n",
        "# deterministic, not random\n",
        "w_init = -6\n",
        "b_init = 4.0\n",
        "\n",
        "epochs = 200\n",
        "gamma = 0.9\n",
        "eta = 0.1 # learning rate\n",
        "eps = 1e-8\n",
        "\n",
        "w_min = -7\n",
        "w_max = 5\n",
        "\n",
        "b_min = -7\n",
        "b_max = 5\n",
        "\n",
        "\n",
        "animation_frames = 20\n",
        "plot_3d = True\n",
        "plot_2d = False\n",
        "\n",
        "\n",
        "sn = SN(w_init, b_init, algo)\n",
        "sn.fit(X, Y, epochs = epochs, eta = eta, gamma = gamma)\n",
        "plt.plot(sn.e_h,'r')\n",
        "plt.plot(sn.w_h,'b')\n",
        "plt.plot(sn.b_h,'g')\n",
        "plt.show()"
      ],
      "execution_count": 67,
      "outputs": [
        {
          "output_type": "display_data",
          "data": {
            "image/png": "[encoded data removed]",
            "text/plain": [
              "<Figure size 432x288 with 1 Axes>"
            ]
          },
          "metadata": {
            "tags": [],
            "needs_background": "light"
          }
        }
      ]
    },
    {
      "cell_type": "markdown",
      "metadata": {
        "id": "UfKGhRhlBlRs",
        "colab_type": "text"
      },
      "source": [
        "Note how different from Adagrad, doesn't saturate; supports lower learning rates"
      ]
    },
    {
      "cell_type": "code",
      "metadata": {
        "id": "D5lQL9AeBDnZ",
        "colab_type": "code",
        "colab": {
          "base_uri": "https://localhost:8080/",
          "height": 265
        },
        "outputId": "958eb76e-8130-45c5-93c3-d9fb4ea9a7a7"
      },
      "source": [
        "X = np.asarray([3.5, 0.35, 3.2, -2.0, 1.5, -0.5])\n",
        "Y = np.asarray([0.5, 0.50, 0.5, 0.5, 0.3])\n",
        "\n",
        "algo = \"RMSProp\"\n",
        "\n",
        "# deterministic, not random\n",
        "w_init = -6\n",
        "b_init = 4.0\n",
        "\n",
        "epochs = 200\n",
        "gamma = 0.9\n",
        "eta = 0.5 # learning rate\n",
        "eps = 1e-8\n",
        "\n",
        "w_min = -7\n",
        "w_max = 5\n",
        "\n",
        "b_min = -7\n",
        "b_max = 5\n",
        "\n",
        "\n",
        "animation_frames = 20\n",
        "plot_3d = True\n",
        "plot_2d = False\n",
        "\n",
        "\n",
        "sn = SN(w_init, b_init, algo)\n",
        "sn.fit(X, Y, epochs = epochs, eta = eta, gamma = gamma)\n",
        "plt.plot(sn.e_h,'r')\n",
        "plt.plot(sn.w_h,'b')\n",
        "plt.plot(sn.b_h,'g')\n",
        "plt.show()"
      ],
      "execution_count": 66,
      "outputs": [
        {
          "output_type": "display_data",
          "data": {
            "image/png": "[encoded data removed]",
            "text/plain": [
              "<Figure size 432x288 with 1 Axes>"
            ]
          },
          "metadata": {
            "tags": [],
            "needs_background": "light"
          }
        }
      ]
    },
    {
      "cell_type": "markdown",
      "metadata": {
        "id": "NIGBZ0YRCdqO",
        "colab_type": "text"
      },
      "source": [
        "But bad if learning rates are higher - too many oscillations"
      ]
    },
    {
      "cell_type": "markdown",
      "metadata": {
        "id": "8hohjxfjBplu",
        "colab_type": "text"
      },
      "source": [
        "# Adam"
      ]
    },
    {
      "cell_type": "code",
      "metadata": {
        "id": "e9tsCI7NBqoW",
        "colab_type": "code",
        "colab": {
          "base_uri": "https://localhost:8080/",
          "height": 265
        },
        "outputId": "63c0a156-479f-4fc6-f505-360a79c2d80f"
      },
      "source": [
        "X = np.asarray([3.5, 0.35, 3.2, -2.0, 1.5, -0.5])\n",
        "Y = np.asarray([0.5, 0.50, 0.5, 0.5, 0.3])\n",
        "\n",
        "algo = \"Adam\"\n",
        "\n",
        "# deterministic, not random\n",
        "w_init = -6\n",
        "b_init = 4.0\n",
        "\n",
        "epochs = 200\n",
        "gamma = 0.9\n",
        "eta = 0.5 # learning rate\n",
        "eps = 1e-8\n",
        "\n",
        "w_min = -7\n",
        "w_max = 5\n",
        "\n",
        "b_min = -7\n",
        "b_max = 5\n",
        "\n",
        "\n",
        "animation_frames = 20\n",
        "plot_3d = True\n",
        "plot_2d = False\n",
        "\n",
        "\n",
        "sn = SN(w_init, b_init, algo)\n",
        "sn.fit(X, Y, epochs = epochs, eta = eta, gamma = gamma)\n",
        "plt.plot(sn.e_h,'r')\n",
        "plt.plot(sn.w_h,'b')\n",
        "plt.plot(sn.b_h,'g')\n",
        "plt.show()"
      ],
      "execution_count": 73,
      "outputs": [
        {
          "output_type": "display_data",
          "data": {
            "image/png": "[encoded data removed]",
            "text/plain": [
              "<Figure size 432x288 with 1 Axes>"
            ]
          },
          "metadata": {
            "tags": [],
            "needs_background": "light"
          }
        }
      ]
    },
    {
      "cell_type": "code",
      "metadata": {
        "id": "WxGZtl3_EXIT",
        "colab_type": "code",
        "colab": {}
      },
      "source": [
        ""
      ],
      "execution_count": 0,
      "outputs": []
    }
  ]
}