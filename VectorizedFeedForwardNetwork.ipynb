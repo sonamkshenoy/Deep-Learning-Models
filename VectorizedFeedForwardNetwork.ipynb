{
  "nbformat": 4,
  "nbformat_minor": 0,
  "metadata": {
    "colab": {
      "name": "VectorizedFeedForwardNetwork.ipynb",
      "provenance": [],
      "collapsed_sections": [
        "RTqDVdIHjswN",
        "OGNILxsZUXrc",
        "2NKqY1LUyk71",
        "McHZY8UFU5qR"
      ],
      "authorship_tag": "ABX9TyO0mhOcX2QVY5TuZg32gnu2"
    },
    "kernelspec": {
      "name": "python3",
      "display_name": "Python 3"
    },
    "widgets": {
      "application/vnd.jupyter.widget-state+json": {
        "f7a4f64de1224a14baa5feebf6e5a866": {
          "model_module": "@jupyter-widgets/controls",
          "model_name": "HBoxModel",
          "state": {
            "_view_name": "HBoxView",
            "_dom_classes": [],
            "_model_name": "HBoxModel",
            "_view_module": "@jupyter-widgets/controls",
            "_model_module_version": "1.5.0",
            "_view_count": null,
            "_view_module_version": "1.5.0",
            "box_style": "",
            "layout": "IPY_MODEL_3a9532b943ec45c79452dab4ddb948ff",
            "_model_module": "@jupyter-widgets/controls",
            "children": [
              "IPY_MODEL_7a0db43800b243648c7489eaf1cc590f",
              "IPY_MODEL_6b0a48e1eae54bb3a74e34bd00a01773"
            ]
          }
        },
        "3a9532b943ec45c79452dab4ddb948ff": {
          "model_module": "@jupyter-widgets/base",
          "model_name": "LayoutModel",
          "state": {
            "_view_name": "LayoutView",
            "grid_template_rows": null,
            "right": null,
            "justify_content": null,
            "_view_module": "@jupyter-widgets/base",
            "overflow": null,
            "_model_module_version": "1.2.0",
            "_view_count": null,
            "flex_flow": null,
            "width": null,
            "min_width": null,
            "border": null,
            "align_items": null,
            "bottom": null,
            "_model_module": "@jupyter-widgets/base",
            "top": null,
            "grid_column": null,
            "overflow_y": null,
            "overflow_x": null,
            "grid_auto_flow": null,
            "grid_area": null,
            "grid_template_columns": null,
            "flex": null,
            "_model_name": "LayoutModel",
            "justify_items": null,
            "grid_row": null,
            "max_height": null,
            "align_content": null,
            "visibility": null,
            "align_self": null,
            "height": null,
            "min_height": null,
            "padding": null,
            "grid_auto_rows": null,
            "grid_gap": null,
            "max_width": null,
            "order": null,
            "_view_module_version": "1.2.0",
            "grid_template_areas": null,
            "object_position": null,
            "object_fit": null,
            "grid_auto_columns": null,
            "margin": null,
            "display": null,
            "left": null
          }
        },
        "7a0db43800b243648c7489eaf1cc590f": {
          "model_module": "@jupyter-widgets/controls",
          "model_name": "IntProgressModel",
          "state": {
            "_view_name": "ProgressView",
            "style": "IPY_MODEL_49e61c807fec458a96f3dc559b7855ca",
            "_dom_classes": [],
            "description": "100%",
            "_model_name": "IntProgressModel",
            "bar_style": "success",
            "max": 2000,
            "_view_module": "@jupyter-widgets/controls",
            "_model_module_version": "1.5.0",
            "value": 2000,
            "_view_count": null,
            "_view_module_version": "1.5.0",
            "orientation": "horizontal",
            "min": 0,
            "description_tooltip": null,
            "_model_module": "@jupyter-widgets/controls",
            "layout": "IPY_MODEL_fe0e156ac6c54b3d811381159117a074"
          }
        },
        "6b0a48e1eae54bb3a74e34bd00a01773": {
          "model_module": "@jupyter-widgets/controls",
          "model_name": "HTMLModel",
          "state": {
            "_view_name": "HTMLView",
            "style": "IPY_MODEL_9b6a6f1b0f714d6bb0f99dc9eb669fdb",
            "_dom_classes": [],
            "description": "",
            "_model_name": "HTMLModel",
            "placeholder": "​",
            "_view_module": "@jupyter-widgets/controls",
            "_model_module_version": "1.5.0",
            "value": " 2000/2000 [01:08&lt;00:00, 29.32epoch/s]",
            "_view_count": null,
            "_view_module_version": "1.5.0",
            "description_tooltip": null,
            "_model_module": "@jupyter-widgets/controls",
            "layout": "IPY_MODEL_7964e55f896c44b98700e3fde3039b14"
          }
        },
        "49e61c807fec458a96f3dc559b7855ca": {
          "model_module": "@jupyter-widgets/controls",
          "model_name": "ProgressStyleModel",
          "state": {
            "_view_name": "StyleView",
            "_model_name": "ProgressStyleModel",
            "description_width": "initial",
            "_view_module": "@jupyter-widgets/base",
            "_model_module_version": "1.5.0",
            "_view_count": null,
            "_view_module_version": "1.2.0",
            "bar_color": null,
            "_model_module": "@jupyter-widgets/controls"
          }
        },
        "fe0e156ac6c54b3d811381159117a074": {
          "model_module": "@jupyter-widgets/base",
          "model_name": "LayoutModel",
          "state": {
            "_view_name": "LayoutView",
            "grid_template_rows": null,
            "right": null,
            "justify_content": null,
            "_view_module": "@jupyter-widgets/base",
            "overflow": null,
            "_model_module_version": "1.2.0",
            "_view_count": null,
            "flex_flow": null,
            "width": null,
            "min_width": null,
            "border": null,
            "align_items": null,
            "bottom": null,
            "_model_module": "@jupyter-widgets/base",
            "top": null,
            "grid_column": null,
            "overflow_y": null,
            "overflow_x": null,
            "grid_auto_flow": null,
            "grid_area": null,
            "grid_template_columns": null,
            "flex": null,
            "_model_name": "LayoutModel",
            "justify_items": null,
            "grid_row": null,
            "max_height": null,
            "align_content": null,
            "visibility": null,
            "align_self": null,
            "height": null,
            "min_height": null,
            "padding": null,
            "grid_auto_rows": null,
            "grid_gap": null,
            "max_width": null,
            "order": null,
            "_view_module_version": "1.2.0",
            "grid_template_areas": null,
            "object_position": null,
            "object_fit": null,
            "grid_auto_columns": null,
            "margin": null,
            "display": null,
            "left": null
          }
        },
        "9b6a6f1b0f714d6bb0f99dc9eb669fdb": {
          "model_module": "@jupyter-widgets/controls",
          "model_name": "DescriptionStyleModel",
          "state": {
            "_view_name": "StyleView",
            "_model_name": "DescriptionStyleModel",
            "description_width": "",
            "_view_module": "@jupyter-widgets/base",
            "_model_module_version": "1.5.0",
            "_view_count": null,
            "_view_module_version": "1.2.0",
            "_model_module": "@jupyter-widgets/controls"
          }
        },
        "7964e55f896c44b98700e3fde3039b14": {
          "model_module": "@jupyter-widgets/base",
          "model_name": "LayoutModel",
          "state": {
            "_view_name": "LayoutView",
            "grid_template_rows": null,
            "right": null,
            "justify_content": null,
            "_view_module": "@jupyter-widgets/base",
            "overflow": null,
            "_model_module_version": "1.2.0",
            "_view_count": null,
            "flex_flow": null,
            "width": null,
            "min_width": null,
            "border": null,
            "align_items": null,
            "bottom": null,
            "_model_module": "@jupyter-widgets/base",
            "top": null,
            "grid_column": null,
            "overflow_y": null,
            "overflow_x": null,
            "grid_auto_flow": null,
            "grid_area": null,
            "grid_template_columns": null,
            "flex": null,
            "_model_name": "LayoutModel",
            "justify_items": null,
            "grid_row": null,
            "max_height": null,
            "align_content": null,
            "visibility": null,
            "align_self": null,
            "height": null,
            "min_height": null,
            "padding": null,
            "grid_auto_rows": null,
            "grid_gap": null,
            "max_width": null,
            "order": null,
            "_view_module_version": "1.2.0",
            "grid_template_areas": null,
            "object_position": null,
            "object_fit": null,
            "grid_auto_columns": null,
            "margin": null,
            "display": null,
            "left": null
          }
        },
        "e33d086bca6341929d8d3f446298684a": {
          "model_module": "@jupyter-widgets/controls",
          "model_name": "HBoxModel",
          "state": {
            "_view_name": "HBoxView",
            "_dom_classes": [],
            "_model_name": "HBoxModel",
            "_view_module": "@jupyter-widgets/controls",
            "_model_module_version": "1.5.0",
            "_view_count": null,
            "_view_module_version": "1.5.0",
            "box_style": "",
            "layout": "IPY_MODEL_bb05cd4a949d48b9bfb66d3dccec8bf4",
            "_model_module": "@jupyter-widgets/controls",
            "children": [
              "IPY_MODEL_c72ed0c3c50345aaac680a86f689d955",
              "IPY_MODEL_685de5eb6b5c4a98812e067d4b29edf4"
            ]
          }
        },
        "bb05cd4a949d48b9bfb66d3dccec8bf4": {
          "model_module": "@jupyter-widgets/base",
          "model_name": "LayoutModel",
          "state": {
            "_view_name": "LayoutView",
            "grid_template_rows": null,
            "right": null,
            "justify_content": null,
            "_view_module": "@jupyter-widgets/base",
            "overflow": null,
            "_model_module_version": "1.2.0",
            "_view_count": null,
            "flex_flow": null,
            "width": null,
            "min_width": null,
            "border": null,
            "align_items": null,
            "bottom": null,
            "_model_module": "@jupyter-widgets/base",
            "top": null,
            "grid_column": null,
            "overflow_y": null,
            "overflow_x": null,
            "grid_auto_flow": null,
            "grid_area": null,
            "grid_template_columns": null,
            "flex": null,
            "_model_name": "LayoutModel",
            "justify_items": null,
            "grid_row": null,
            "max_height": null,
            "align_content": null,
            "visibility": null,
            "align_self": null,
            "height": null,
            "min_height": null,
            "padding": null,
            "grid_auto_rows": null,
            "grid_gap": null,
            "max_width": null,
            "order": null,
            "_view_module_version": "1.2.0",
            "grid_template_areas": null,
            "object_position": null,
            "object_fit": null,
            "grid_auto_columns": null,
            "margin": null,
            "display": null,
            "left": null
          }
        },
        "c72ed0c3c50345aaac680a86f689d955": {
          "model_module": "@jupyter-widgets/controls",
          "model_name": "IntProgressModel",
          "state": {
            "_view_name": "ProgressView",
            "style": "IPY_MODEL_da3a5d53467b4ff88546aae817281c4e",
            "_dom_classes": [],
            "description": "100%",
            "_model_name": "IntProgressModel",
            "bar_style": "success",
            "max": 2000,
            "_view_module": "@jupyter-widgets/controls",
            "_model_module_version": "1.5.0",
            "value": 2000,
            "_view_count": null,
            "_view_module_version": "1.5.0",
            "orientation": "horizontal",
            "min": 0,
            "description_tooltip": null,
            "_model_module": "@jupyter-widgets/controls",
            "layout": "IPY_MODEL_1088b2b0e7234931aa9bce80961ebccc"
          }
        },
        "685de5eb6b5c4a98812e067d4b29edf4": {
          "model_module": "@jupyter-widgets/controls",
          "model_name": "HTMLModel",
          "state": {
            "_view_name": "HTMLView",
            "style": "IPY_MODEL_2406d7d52e014755a39c3c489246ba9b",
            "_dom_classes": [],
            "description": "",
            "_model_name": "HTMLModel",
            "placeholder": "​",
            "_view_module": "@jupyter-widgets/controls",
            "_model_module_version": "1.5.0",
            "value": " 2000/2000 [00:24&lt;00:00, 82.00epoch/s]",
            "_view_count": null,
            "_view_module_version": "1.5.0",
            "description_tooltip": null,
            "_model_module": "@jupyter-widgets/controls",
            "layout": "IPY_MODEL_4b911e79c2cb444c8629007bb8273f7f"
          }
        },
        "da3a5d53467b4ff88546aae817281c4e": {
          "model_module": "@jupyter-widgets/controls",
          "model_name": "ProgressStyleModel",
          "state": {
            "_view_name": "StyleView",
            "_model_name": "ProgressStyleModel",
            "description_width": "initial",
            "_view_module": "@jupyter-widgets/base",
            "_model_module_version": "1.5.0",
            "_view_count": null,
            "_view_module_version": "1.2.0",
            "bar_color": null,
            "_model_module": "@jupyter-widgets/controls"
          }
        },
        "1088b2b0e7234931aa9bce80961ebccc": {
          "model_module": "@jupyter-widgets/base",
          "model_name": "LayoutModel",
          "state": {
            "_view_name": "LayoutView",
            "grid_template_rows": null,
            "right": null,
            "justify_content": null,
            "_view_module": "@jupyter-widgets/base",
            "overflow": null,
            "_model_module_version": "1.2.0",
            "_view_count": null,
            "flex_flow": null,
            "width": null,
            "min_width": null,
            "border": null,
            "align_items": null,
            "bottom": null,
            "_model_module": "@jupyter-widgets/base",
            "top": null,
            "grid_column": null,
            "overflow_y": null,
            "overflow_x": null,
            "grid_auto_flow": null,
            "grid_area": null,
            "grid_template_columns": null,
            "flex": null,
            "_model_name": "LayoutModel",
            "justify_items": null,
            "grid_row": null,
            "max_height": null,
            "align_content": null,
            "visibility": null,
            "align_self": null,
            "height": null,
            "min_height": null,
            "padding": null,
            "grid_auto_rows": null,
            "grid_gap": null,
            "max_width": null,
            "order": null,
            "_view_module_version": "1.2.0",
            "grid_template_areas": null,
            "object_position": null,
            "object_fit": null,
            "grid_auto_columns": null,
            "margin": null,
            "display": null,
            "left": null
          }
        },
        "2406d7d52e014755a39c3c489246ba9b": {
          "model_module": "@jupyter-widgets/controls",
          "model_name": "DescriptionStyleModel",
          "state": {
            "_view_name": "StyleView",
            "_model_name": "DescriptionStyleModel",
            "description_width": "",
            "_view_module": "@jupyter-widgets/base",
            "_model_module_version": "1.5.0",
            "_view_count": null,
            "_view_module_version": "1.2.0",
            "_model_module": "@jupyter-widgets/controls"
          }
        },
        "4b911e79c2cb444c8629007bb8273f7f": {
          "model_module": "@jupyter-widgets/base",
          "model_name": "LayoutModel",
          "state": {
            "_view_name": "LayoutView",
            "grid_template_rows": null,
            "right": null,
            "justify_content": null,
            "_view_module": "@jupyter-widgets/base",
            "overflow": null,
            "_model_module_version": "1.2.0",
            "_view_count": null,
            "flex_flow": null,
            "width": null,
            "min_width": null,
            "border": null,
            "align_items": null,
            "bottom": null,
            "_model_module": "@jupyter-widgets/base",
            "top": null,
            "grid_column": null,
            "overflow_y": null,
            "overflow_x": null,
            "grid_auto_flow": null,
            "grid_area": null,
            "grid_template_columns": null,
            "flex": null,
            "_model_name": "LayoutModel",
            "justify_items": null,
            "grid_row": null,
            "max_height": null,
            "align_content": null,
            "visibility": null,
            "align_self": null,
            "height": null,
            "min_height": null,
            "padding": null,
            "grid_auto_rows": null,
            "grid_gap": null,
            "max_width": null,
            "order": null,
            "_view_module_version": "1.2.0",
            "grid_template_areas": null,
            "object_position": null,
            "object_fit": null,
            "grid_auto_columns": null,
            "margin": null,
            "display": null,
            "left": null
          }
        },
        "9246384785434c589142209b5e7d4a7e": {
          "model_module": "@jupyter-widgets/controls",
          "model_name": "HBoxModel",
          "state": {
            "_view_name": "HBoxView",
            "_dom_classes": [],
            "_model_name": "HBoxModel",
            "_view_module": "@jupyter-widgets/controls",
            "_model_module_version": "1.5.0",
            "_view_count": null,
            "_view_module_version": "1.5.0",
            "box_style": "",
            "layout": "IPY_MODEL_c2abfd921916466a9445841a38937af6",
            "_model_module": "@jupyter-widgets/controls",
            "children": [
              "IPY_MODEL_9d01120d03fa4df89d5e2fe2acdf281d",
              "IPY_MODEL_fe237c813fa94ecfb6018d0b2fe7723c"
            ]
          }
        },
        "c2abfd921916466a9445841a38937af6": {
          "model_module": "@jupyter-widgets/base",
          "model_name": "LayoutModel",
          "state": {
            "_view_name": "LayoutView",
            "grid_template_rows": null,
            "right": null,
            "justify_content": null,
            "_view_module": "@jupyter-widgets/base",
            "overflow": null,
            "_model_module_version": "1.2.0",
            "_view_count": null,
            "flex_flow": null,
            "width": null,
            "min_width": null,
            "border": null,
            "align_items": null,
            "bottom": null,
            "_model_module": "@jupyter-widgets/base",
            "top": null,
            "grid_column": null,
            "overflow_y": null,
            "overflow_x": null,
            "grid_auto_flow": null,
            "grid_area": null,
            "grid_template_columns": null,
            "flex": null,
            "_model_name": "LayoutModel",
            "justify_items": null,
            "grid_row": null,
            "max_height": null,
            "align_content": null,
            "visibility": null,
            "align_self": null,
            "height": null,
            "min_height": null,
            "padding": null,
            "grid_auto_rows": null,
            "grid_gap": null,
            "max_width": null,
            "order": null,
            "_view_module_version": "1.2.0",
            "grid_template_areas": null,
            "object_position": null,
            "object_fit": null,
            "grid_auto_columns": null,
            "margin": null,
            "display": null,
            "left": null
          }
        },
        "9d01120d03fa4df89d5e2fe2acdf281d": {
          "model_module": "@jupyter-widgets/controls",
          "model_name": "IntProgressModel",
          "state": {
            "_view_name": "ProgressView",
            "style": "IPY_MODEL_7db2f7f6533341d082e78474348a1499",
            "_dom_classes": [],
            "description": "100%",
            "_model_name": "IntProgressModel",
            "bar_style": "success",
            "max": 200,
            "_view_module": "@jupyter-widgets/controls",
            "_model_module_version": "1.5.0",
            "value": 200,
            "_view_count": null,
            "_view_module_version": "1.5.0",
            "orientation": "horizontal",
            "min": 0,
            "description_tooltip": null,
            "_model_module": "@jupyter-widgets/controls",
            "layout": "IPY_MODEL_7b36d5b4a4854031b034de1e7fc939dd"
          }
        },
        "fe237c813fa94ecfb6018d0b2fe7723c": {
          "model_module": "@jupyter-widgets/controls",
          "model_name": "HTMLModel",
          "state": {
            "_view_name": "HTMLView",
            "style": "IPY_MODEL_3c4a099e19354eb0b5f3f5f4d7a38585",
            "_dom_classes": [],
            "description": "",
            "_model_name": "HTMLModel",
            "placeholder": "​",
            "_view_module": "@jupyter-widgets/controls",
            "_model_module_version": "1.5.0",
            "value": " 200/200 [15:10&lt;00:00,  4.55s/epoch]",
            "_view_count": null,
            "_view_module_version": "1.5.0",
            "description_tooltip": null,
            "_model_module": "@jupyter-widgets/controls",
            "layout": "IPY_MODEL_8cbf55060b414dbca89fbfc8ebeb8d93"
          }
        },
        "7db2f7f6533341d082e78474348a1499": {
          "model_module": "@jupyter-widgets/controls",
          "model_name": "ProgressStyleModel",
          "state": {
            "_view_name": "StyleView",
            "_model_name": "ProgressStyleModel",
            "description_width": "initial",
            "_view_module": "@jupyter-widgets/base",
            "_model_module_version": "1.5.0",
            "_view_count": null,
            "_view_module_version": "1.2.0",
            "bar_color": null,
            "_model_module": "@jupyter-widgets/controls"
          }
        },
        "7b36d5b4a4854031b034de1e7fc939dd": {
          "model_module": "@jupyter-widgets/base",
          "model_name": "LayoutModel",
          "state": {
            "_view_name": "LayoutView",
            "grid_template_rows": null,
            "right": null,
            "justify_content": null,
            "_view_module": "@jupyter-widgets/base",
            "overflow": null,
            "_model_module_version": "1.2.0",
            "_view_count": null,
            "flex_flow": null,
            "width": null,
            "min_width": null,
            "border": null,
            "align_items": null,
            "bottom": null,
            "_model_module": "@jupyter-widgets/base",
            "top": null,
            "grid_column": null,
            "overflow_y": null,
            "overflow_x": null,
            "grid_auto_flow": null,
            "grid_area": null,
            "grid_template_columns": null,
            "flex": null,
            "_model_name": "LayoutModel",
            "justify_items": null,
            "grid_row": null,
            "max_height": null,
            "align_content": null,
            "visibility": null,
            "align_self": null,
            "height": null,
            "min_height": null,
            "padding": null,
            "grid_auto_rows": null,
            "grid_gap": null,
            "max_width": null,
            "order": null,
            "_view_module_version": "1.2.0",
            "grid_template_areas": null,
            "object_position": null,
            "object_fit": null,
            "grid_auto_columns": null,
            "margin": null,
            "display": null,
            "left": null
          }
        },
        "3c4a099e19354eb0b5f3f5f4d7a38585": {
          "model_module": "@jupyter-widgets/controls",
          "model_name": "DescriptionStyleModel",
          "state": {
            "_view_name": "StyleView",
            "_model_name": "DescriptionStyleModel",
            "description_width": "",
            "_view_module": "@jupyter-widgets/base",
            "_model_module_version": "1.5.0",
            "_view_count": null,
            "_view_module_version": "1.2.0",
            "_model_module": "@jupyter-widgets/controls"
          }
        },
        "8cbf55060b414dbca89fbfc8ebeb8d93": {
          "model_module": "@jupyter-widgets/base",
          "model_name": "LayoutModel",
          "state": {
            "_view_name": "LayoutView",
            "grid_template_rows": null,
            "right": null,
            "justify_content": null,
            "_view_module": "@jupyter-widgets/base",
            "overflow": null,
            "_model_module_version": "1.2.0",
            "_view_count": null,
            "flex_flow": null,
            "width": null,
            "min_width": null,
            "border": null,
            "align_items": null,
            "bottom": null,
            "_model_module": "@jupyter-widgets/base",
            "top": null,
            "grid_column": null,
            "overflow_y": null,
            "overflow_x": null,
            "grid_auto_flow": null,
            "grid_area": null,
            "grid_template_columns": null,
            "flex": null,
            "_model_name": "LayoutModel",
            "justify_items": null,
            "grid_row": null,
            "max_height": null,
            "align_content": null,
            "visibility": null,
            "align_self": null,
            "height": null,
            "min_height": null,
            "padding": null,
            "grid_auto_rows": null,
            "grid_gap": null,
            "max_width": null,
            "order": null,
            "_view_module_version": "1.2.0",
            "grid_template_areas": null,
            "object_position": null,
            "object_fit": null,
            "grid_auto_columns": null,
            "margin": null,
            "display": null,
            "left": null
          }
        },
        "1247c0545c3846cdb22fadbf2d5943ae": {
          "model_module": "@jupyter-widgets/controls",
          "model_name": "HBoxModel",
          "state": {
            "_view_name": "HBoxView",
            "_dom_classes": [],
            "_model_name": "HBoxModel",
            "_view_module": "@jupyter-widgets/controls",
            "_model_module_version": "1.5.0",
            "_view_count": null,
            "_view_module_version": "1.5.0",
            "box_style": "",
            "layout": "IPY_MODEL_b8e5de7014734f56abc3e99352986715",
            "_model_module": "@jupyter-widgets/controls",
            "children": [
              "IPY_MODEL_46b5207d1f8c4377bf43c77c53fe9bad",
              "IPY_MODEL_0f23f1cb37e14f8db9b7f0d8ab8dca99"
            ]
          }
        },
        "b8e5de7014734f56abc3e99352986715": {
          "model_module": "@jupyter-widgets/base",
          "model_name": "LayoutModel",
          "state": {
            "_view_name": "LayoutView",
            "grid_template_rows": null,
            "right": null,
            "justify_content": null,
            "_view_module": "@jupyter-widgets/base",
            "overflow": null,
            "_model_module_version": "1.2.0",
            "_view_count": null,
            "flex_flow": null,
            "width": null,
            "min_width": null,
            "border": null,
            "align_items": null,
            "bottom": null,
            "_model_module": "@jupyter-widgets/base",
            "top": null,
            "grid_column": null,
            "overflow_y": null,
            "overflow_x": null,
            "grid_auto_flow": null,
            "grid_area": null,
            "grid_template_columns": null,
            "flex": null,
            "_model_name": "LayoutModel",
            "justify_items": null,
            "grid_row": null,
            "max_height": null,
            "align_content": null,
            "visibility": null,
            "align_self": null,
            "height": null,
            "min_height": null,
            "padding": null,
            "grid_auto_rows": null,
            "grid_gap": null,
            "max_width": null,
            "order": null,
            "_view_module_version": "1.2.0",
            "grid_template_areas": null,
            "object_position": null,
            "object_fit": null,
            "grid_auto_columns": null,
            "margin": null,
            "display": null,
            "left": null
          }
        },
        "46b5207d1f8c4377bf43c77c53fe9bad": {
          "model_module": "@jupyter-widgets/controls",
          "model_name": "IntProgressModel",
          "state": {
            "_view_name": "ProgressView",
            "style": "IPY_MODEL_06500ed0d7024808be897bb55449617a",
            "_dom_classes": [],
            "description": "100%",
            "_model_name": "IntProgressModel",
            "bar_style": "success",
            "max": 2000,
            "_view_module": "@jupyter-widgets/controls",
            "_model_module_version": "1.5.0",
            "value": 2000,
            "_view_count": null,
            "_view_module_version": "1.5.0",
            "orientation": "horizontal",
            "min": 0,
            "description_tooltip": null,
            "_model_module": "@jupyter-widgets/controls",
            "layout": "IPY_MODEL_f98df90929904c459104657efc96c802"
          }
        },
        "0f23f1cb37e14f8db9b7f0d8ab8dca99": {
          "model_module": "@jupyter-widgets/controls",
          "model_name": "HTMLModel",
          "state": {
            "_view_name": "HTMLView",
            "style": "IPY_MODEL_3dac532d83e544359cac57aab87485ee",
            "_dom_classes": [],
            "description": "",
            "_model_name": "HTMLModel",
            "placeholder": "​",
            "_view_module": "@jupyter-widgets/controls",
            "_model_module_version": "1.5.0",
            "value": " 2000/2000 [03:05&lt;00:00, 10.77epoch/s]",
            "_view_count": null,
            "_view_module_version": "1.5.0",
            "description_tooltip": null,
            "_model_module": "@jupyter-widgets/controls",
            "layout": "IPY_MODEL_037f95ce7757447ca35b9a5d2f67d7d8"
          }
        },
        "06500ed0d7024808be897bb55449617a": {
          "model_module": "@jupyter-widgets/controls",
          "model_name": "ProgressStyleModel",
          "state": {
            "_view_name": "StyleView",
            "_model_name": "ProgressStyleModel",
            "description_width": "initial",
            "_view_module": "@jupyter-widgets/base",
            "_model_module_version": "1.5.0",
            "_view_count": null,
            "_view_module_version": "1.2.0",
            "bar_color": null,
            "_model_module": "@jupyter-widgets/controls"
          }
        },
        "f98df90929904c459104657efc96c802": {
          "model_module": "@jupyter-widgets/base",
          "model_name": "LayoutModel",
          "state": {
            "_view_name": "LayoutView",
            "grid_template_rows": null,
            "right": null,
            "justify_content": null,
            "_view_module": "@jupyter-widgets/base",
            "overflow": null,
            "_model_module_version": "1.2.0",
            "_view_count": null,
            "flex_flow": null,
            "width": null,
            "min_width": null,
            "border": null,
            "align_items": null,
            "bottom": null,
            "_model_module": "@jupyter-widgets/base",
            "top": null,
            "grid_column": null,
            "overflow_y": null,
            "overflow_x": null,
            "grid_auto_flow": null,
            "grid_area": null,
            "grid_template_columns": null,
            "flex": null,
            "_model_name": "LayoutModel",
            "justify_items": null,
            "grid_row": null,
            "max_height": null,
            "align_content": null,
            "visibility": null,
            "align_self": null,
            "height": null,
            "min_height": null,
            "padding": null,
            "grid_auto_rows": null,
            "grid_gap": null,
            "max_width": null,
            "order": null,
            "_view_module_version": "1.2.0",
            "grid_template_areas": null,
            "object_position": null,
            "object_fit": null,
            "grid_auto_columns": null,
            "margin": null,
            "display": null,
            "left": null
          }
        },
        "3dac532d83e544359cac57aab87485ee": {
          "model_module": "@jupyter-widgets/controls",
          "model_name": "DescriptionStyleModel",
          "state": {
            "_view_name": "StyleView",
            "_model_name": "DescriptionStyleModel",
            "description_width": "",
            "_view_module": "@jupyter-widgets/base",
            "_model_module_version": "1.5.0",
            "_view_count": null,
            "_view_module_version": "1.2.0",
            "_model_module": "@jupyter-widgets/controls"
          }
        },
        "037f95ce7757447ca35b9a5d2f67d7d8": {
          "model_module": "@jupyter-widgets/base",
          "model_name": "LayoutModel",
          "state": {
            "_view_name": "LayoutView",
            "grid_template_rows": null,
            "right": null,
            "justify_content": null,
            "_view_module": "@jupyter-widgets/base",
            "overflow": null,
            "_model_module_version": "1.2.0",
            "_view_count": null,
            "flex_flow": null,
            "width": null,
            "min_width": null,
            "border": null,
            "align_items": null,
            "bottom": null,
            "_model_module": "@jupyter-widgets/base",
            "top": null,
            "grid_column": null,
            "overflow_y": null,
            "overflow_x": null,
            "grid_auto_flow": null,
            "grid_area": null,
            "grid_template_columns": null,
            "flex": null,
            "_model_name": "LayoutModel",
            "justify_items": null,
            "grid_row": null,
            "max_height": null,
            "align_content": null,
            "visibility": null,
            "align_self": null,
            "height": null,
            "min_height": null,
            "padding": null,
            "grid_auto_rows": null,
            "grid_gap": null,
            "max_width": null,
            "order": null,
            "_view_module_version": "1.2.0",
            "grid_template_areas": null,
            "object_position": null,
            "object_fit": null,
            "grid_auto_columns": null,
            "margin": null,
            "display": null,
            "left": null
          }
        },
        "4b498a064cf045da8ceec4de7f04a58a": {
          "model_module": "@jupyter-widgets/controls",
          "model_name": "HBoxModel",
          "state": {
            "_view_name": "HBoxView",
            "_dom_classes": [],
            "_model_name": "HBoxModel",
            "_view_module": "@jupyter-widgets/controls",
            "_model_module_version": "1.5.0",
            "_view_count": null,
            "_view_module_version": "1.5.0",
            "box_style": "",
            "layout": "IPY_MODEL_c77c9f9c01b74fd9ae0cc9920793511a",
            "_model_module": "@jupyter-widgets/controls",
            "children": [
              "IPY_MODEL_e34033c984c54bebac6a4e3dbb4f7b45",
              "IPY_MODEL_b518f770b5c7470fb4322ea07604be7e"
            ]
          }
        },
        "c77c9f9c01b74fd9ae0cc9920793511a": {
          "model_module": "@jupyter-widgets/base",
          "model_name": "LayoutModel",
          "state": {
            "_view_name": "LayoutView",
            "grid_template_rows": null,
            "right": null,
            "justify_content": null,
            "_view_module": "@jupyter-widgets/base",
            "overflow": null,
            "_model_module_version": "1.2.0",
            "_view_count": null,
            "flex_flow": null,
            "width": null,
            "min_width": null,
            "border": null,
            "align_items": null,
            "bottom": null,
            "_model_module": "@jupyter-widgets/base",
            "top": null,
            "grid_column": null,
            "overflow_y": null,
            "overflow_x": null,
            "grid_auto_flow": null,
            "grid_area": null,
            "grid_template_columns": null,
            "flex": null,
            "_model_name": "LayoutModel",
            "justify_items": null,
            "grid_row": null,
            "max_height": null,
            "align_content": null,
            "visibility": null,
            "align_self": null,
            "height": null,
            "min_height": null,
            "padding": null,
            "grid_auto_rows": null,
            "grid_gap": null,
            "max_width": null,
            "order": null,
            "_view_module_version": "1.2.0",
            "grid_template_areas": null,
            "object_position": null,
            "object_fit": null,
            "grid_auto_columns": null,
            "margin": null,
            "display": null,
            "left": null
          }
        },
        "e34033c984c54bebac6a4e3dbb4f7b45": {
          "model_module": "@jupyter-widgets/controls",
          "model_name": "IntProgressModel",
          "state": {
            "_view_name": "ProgressView",
            "style": "IPY_MODEL_e802cda1583242a58b282e6d11981cf1",
            "_dom_classes": [],
            "description": "100%",
            "_model_name": "IntProgressModel",
            "bar_style": "success",
            "max": 2000,
            "_view_module": "@jupyter-widgets/controls",
            "_model_module_version": "1.5.0",
            "value": 2000,
            "_view_count": null,
            "_view_module_version": "1.5.0",
            "orientation": "horizontal",
            "min": 0,
            "description_tooltip": null,
            "_model_module": "@jupyter-widgets/controls",
            "layout": "IPY_MODEL_b4cf5560010a4cd8b3f6fafe77b613fb"
          }
        },
        "b518f770b5c7470fb4322ea07604be7e": {
          "model_module": "@jupyter-widgets/controls",
          "model_name": "HTMLModel",
          "state": {
            "_view_name": "HTMLView",
            "style": "IPY_MODEL_e354be8cf89c4af5969ca08762b76196",
            "_dom_classes": [],
            "description": "",
            "_model_name": "HTMLModel",
            "placeholder": "​",
            "_view_module": "@jupyter-widgets/controls",
            "_model_module_version": "1.5.0",
            "value": " 2000/2000 [01:08&lt;00:00, 29.40epoch/s]",
            "_view_count": null,
            "_view_module_version": "1.5.0",
            "description_tooltip": null,
            "_model_module": "@jupyter-widgets/controls",
            "layout": "IPY_MODEL_f1b1a1b57a904e78abbb449c74c8c701"
          }
        },
        "e802cda1583242a58b282e6d11981cf1": {
          "model_module": "@jupyter-widgets/controls",
          "model_name": "ProgressStyleModel",
          "state": {
            "_view_name": "StyleView",
            "_model_name": "ProgressStyleModel",
            "description_width": "initial",
            "_view_module": "@jupyter-widgets/base",
            "_model_module_version": "1.5.0",
            "_view_count": null,
            "_view_module_version": "1.2.0",
            "bar_color": null,
            "_model_module": "@jupyter-widgets/controls"
          }
        },
        "b4cf5560010a4cd8b3f6fafe77b613fb": {
          "model_module": "@jupyter-widgets/base",
          "model_name": "LayoutModel",
          "state": {
            "_view_name": "LayoutView",
            "grid_template_rows": null,
            "right": null,
            "justify_content": null,
            "_view_module": "@jupyter-widgets/base",
            "overflow": null,
            "_model_module_version": "1.2.0",
            "_view_count": null,
            "flex_flow": null,
            "width": null,
            "min_width": null,
            "border": null,
            "align_items": null,
            "bottom": null,
            "_model_module": "@jupyter-widgets/base",
            "top": null,
            "grid_column": null,
            "overflow_y": null,
            "overflow_x": null,
            "grid_auto_flow": null,
            "grid_area": null,
            "grid_template_columns": null,
            "flex": null,
            "_model_name": "LayoutModel",
            "justify_items": null,
            "grid_row": null,
            "max_height": null,
            "align_content": null,
            "visibility": null,
            "align_self": null,
            "height": null,
            "min_height": null,
            "padding": null,
            "grid_auto_rows": null,
            "grid_gap": null,
            "max_width": null,
            "order": null,
            "_view_module_version": "1.2.0",
            "grid_template_areas": null,
            "object_position": null,
            "object_fit": null,
            "grid_auto_columns": null,
            "margin": null,
            "display": null,
            "left": null
          }
        },
        "e354be8cf89c4af5969ca08762b76196": {
          "model_module": "@jupyter-widgets/controls",
          "model_name": "DescriptionStyleModel",
          "state": {
            "_view_name": "StyleView",
            "_model_name": "DescriptionStyleModel",
            "description_width": "",
            "_view_module": "@jupyter-widgets/base",
            "_model_module_version": "1.5.0",
            "_view_count": null,
            "_view_module_version": "1.2.0",
            "_model_module": "@jupyter-widgets/controls"
          }
        },
        "f1b1a1b57a904e78abbb449c74c8c701": {
          "model_module": "@jupyter-widgets/base",
          "model_name": "LayoutModel",
          "state": {
            "_view_name": "LayoutView",
            "grid_template_rows": null,
            "right": null,
            "justify_content": null,
            "_view_module": "@jupyter-widgets/base",
            "overflow": null,
            "_model_module_version": "1.2.0",
            "_view_count": null,
            "flex_flow": null,
            "width": null,
            "min_width": null,
            "border": null,
            "align_items": null,
            "bottom": null,
            "_model_module": "@jupyter-widgets/base",
            "top": null,
            "grid_column": null,
            "overflow_y": null,
            "overflow_x": null,
            "grid_auto_flow": null,
            "grid_area": null,
            "grid_template_columns": null,
            "flex": null,
            "_model_name": "LayoutModel",
            "justify_items": null,
            "grid_row": null,
            "max_height": null,
            "align_content": null,
            "visibility": null,
            "align_self": null,
            "height": null,
            "min_height": null,
            "padding": null,
            "grid_auto_rows": null,
            "grid_gap": null,
            "max_width": null,
            "order": null,
            "_view_module_version": "1.2.0",
            "grid_template_areas": null,
            "object_position": null,
            "object_fit": null,
            "grid_auto_columns": null,
            "margin": null,
            "display": null,
            "left": null
          }
        },
        "e250035ff1504418aab1120526c5737c": {
          "model_module": "@jupyter-widgets/controls",
          "model_name": "HBoxModel",
          "state": {
            "_view_name": "HBoxView",
            "_dom_classes": [],
            "_model_name": "HBoxModel",
            "_view_module": "@jupyter-widgets/controls",
            "_model_module_version": "1.5.0",
            "_view_count": null,
            "_view_module_version": "1.5.0",
            "box_style": "",
            "layout": "IPY_MODEL_e7ec814ea48346489351d5d412576194",
            "_model_module": "@jupyter-widgets/controls",
            "children": [
              "IPY_MODEL_76180872d0e3461ebd067fce73094d82",
              "IPY_MODEL_76684515df744f4396938976cdaefdc2"
            ]
          }
        },
        "e7ec814ea48346489351d5d412576194": {
          "model_module": "@jupyter-widgets/base",
          "model_name": "LayoutModel",
          "state": {
            "_view_name": "LayoutView",
            "grid_template_rows": null,
            "right": null,
            "justify_content": null,
            "_view_module": "@jupyter-widgets/base",
            "overflow": null,
            "_model_module_version": "1.2.0",
            "_view_count": null,
            "flex_flow": null,
            "width": null,
            "min_width": null,
            "border": null,
            "align_items": null,
            "bottom": null,
            "_model_module": "@jupyter-widgets/base",
            "top": null,
            "grid_column": null,
            "overflow_y": null,
            "overflow_x": null,
            "grid_auto_flow": null,
            "grid_area": null,
            "grid_template_columns": null,
            "flex": null,
            "_model_name": "LayoutModel",
            "justify_items": null,
            "grid_row": null,
            "max_height": null,
            "align_content": null,
            "visibility": null,
            "align_self": null,
            "height": null,
            "min_height": null,
            "padding": null,
            "grid_auto_rows": null,
            "grid_gap": null,
            "max_width": null,
            "order": null,
            "_view_module_version": "1.2.0",
            "grid_template_areas": null,
            "object_position": null,
            "object_fit": null,
            "grid_auto_columns": null,
            "margin": null,
            "display": null,
            "left": null
          }
        },
        "76180872d0e3461ebd067fce73094d82": {
          "model_module": "@jupyter-widgets/controls",
          "model_name": "IntProgressModel",
          "state": {
            "_view_name": "ProgressView",
            "style": "IPY_MODEL_e1084ff982384cdba22e20edde309de3",
            "_dom_classes": [],
            "description": "100%",
            "_model_name": "IntProgressModel",
            "bar_style": "success",
            "max": 2000,
            "_view_module": "@jupyter-widgets/controls",
            "_model_module_version": "1.5.0",
            "value": 2000,
            "_view_count": null,
            "_view_module_version": "1.5.0",
            "orientation": "horizontal",
            "min": 0,
            "description_tooltip": null,
            "_model_module": "@jupyter-widgets/controls",
            "layout": "IPY_MODEL_794056265d3a4d80824a87d8412d4536"
          }
        },
        "76684515df744f4396938976cdaefdc2": {
          "model_module": "@jupyter-widgets/controls",
          "model_name": "HTMLModel",
          "state": {
            "_view_name": "HTMLView",
            "style": "IPY_MODEL_98c504c2c515404b945e892aeb98994f",
            "_dom_classes": [],
            "description": "",
            "_model_name": "HTMLModel",
            "placeholder": "​",
            "_view_module": "@jupyter-widgets/controls",
            "_model_module_version": "1.5.0",
            "value": " 2000/2000 [00:24&lt;00:00, 81.89epoch/s]",
            "_view_count": null,
            "_view_module_version": "1.5.0",
            "description_tooltip": null,
            "_model_module": "@jupyter-widgets/controls",
            "layout": "IPY_MODEL_c7a7051a9a124d178514841373b7510d"
          }
        },
        "e1084ff982384cdba22e20edde309de3": {
          "model_module": "@jupyter-widgets/controls",
          "model_name": "ProgressStyleModel",
          "state": {
            "_view_name": "StyleView",
            "_model_name": "ProgressStyleModel",
            "description_width": "initial",
            "_view_module": "@jupyter-widgets/base",
            "_model_module_version": "1.5.0",
            "_view_count": null,
            "_view_module_version": "1.2.0",
            "bar_color": null,
            "_model_module": "@jupyter-widgets/controls"
          }
        },
        "794056265d3a4d80824a87d8412d4536": {
          "model_module": "@jupyter-widgets/base",
          "model_name": "LayoutModel",
          "state": {
            "_view_name": "LayoutView",
            "grid_template_rows": null,
            "right": null,
            "justify_content": null,
            "_view_module": "@jupyter-widgets/base",
            "overflow": null,
            "_model_module_version": "1.2.0",
            "_view_count": null,
            "flex_flow": null,
            "width": null,
            "min_width": null,
            "border": null,
            "align_items": null,
            "bottom": null,
            "_model_module": "@jupyter-widgets/base",
            "top": null,
            "grid_column": null,
            "overflow_y": null,
            "overflow_x": null,
            "grid_auto_flow": null,
            "grid_area": null,
            "grid_template_columns": null,
            "flex": null,
            "_model_name": "LayoutModel",
            "justify_items": null,
            "grid_row": null,
            "max_height": null,
            "align_content": null,
            "visibility": null,
            "align_self": null,
            "height": null,
            "min_height": null,
            "padding": null,
            "grid_auto_rows": null,
            "grid_gap": null,
            "max_width": null,
            "order": null,
            "_view_module_version": "1.2.0",
            "grid_template_areas": null,
            "object_position": null,
            "object_fit": null,
            "grid_auto_columns": null,
            "margin": null,
            "display": null,
            "left": null
          }
        },
        "98c504c2c515404b945e892aeb98994f": {
          "model_module": "@jupyter-widgets/controls",
          "model_name": "DescriptionStyleModel",
          "state": {
            "_view_name": "StyleView",
            "_model_name": "DescriptionStyleModel",
            "description_width": "",
            "_view_module": "@jupyter-widgets/base",
            "_model_module_version": "1.5.0",
            "_view_count": null,
            "_view_module_version": "1.2.0",
            "_model_module": "@jupyter-widgets/controls"
          }
        },
        "c7a7051a9a124d178514841373b7510d": {
          "model_module": "@jupyter-widgets/base",
          "model_name": "LayoutModel",
          "state": {
            "_view_name": "LayoutView",
            "grid_template_rows": null,
            "right": null,
            "justify_content": null,
            "_view_module": "@jupyter-widgets/base",
            "overflow": null,
            "_model_module_version": "1.2.0",
            "_view_count": null,
            "flex_flow": null,
            "width": null,
            "min_width": null,
            "border": null,
            "align_items": null,
            "bottom": null,
            "_model_module": "@jupyter-widgets/base",
            "top": null,
            "grid_column": null,
            "overflow_y": null,
            "overflow_x": null,
            "grid_auto_flow": null,
            "grid_area": null,
            "grid_template_columns": null,
            "flex": null,
            "_model_name": "LayoutModel",
            "justify_items": null,
            "grid_row": null,
            "max_height": null,
            "align_content": null,
            "visibility": null,
            "align_self": null,
            "height": null,
            "min_height": null,
            "padding": null,
            "grid_auto_rows": null,
            "grid_gap": null,
            "max_width": null,
            "order": null,
            "_view_module_version": "1.2.0",
            "grid_template_areas": null,
            "object_position": null,
            "object_fit": null,
            "grid_auto_columns": null,
            "margin": null,
            "display": null,
            "left": null
          }
        }
      }
    }
  },
  "cells": [
    {
      "cell_type": "markdown",
      "metadata": {
        "id": "RTqDVdIHjswN",
        "colab_type": "text"
      },
      "source": [
        "### Outline\n",
        "1. Why vectorization\n",
        "2. Vectorisation examples\n",
        "3. Scalar class -recap\n",
        "4. Class with vectorised weights (first convert weights of scalar class to vector)\n",
        "5. Class with vectorised weights and inputs (then convert inputs of scalar class to vector too)\n",
        "6. Exercise"
      ]
    },
    {
      "cell_type": "code",
      "metadata": {
        "id": "fZsEF9Cvjkw9",
        "colab_type": "code",
        "colab": {}
      },
      "source": [
        "import numpy as np\n",
        "import pandas as pd\n",
        "import time\n",
        "import matplotlib.pyplot as plt\n",
        "import matplotlib.colors\n",
        "from sklearn.model_selection import train_test_split\n",
        "from sklearn.metrics import accuracy_score, mean_squared_error, log_loss\n",
        "from tqdm import tqdm_notebook\n",
        "import seaborn as sns\n",
        "import imageio\n",
        "from IPython.display import HTML\n",
        "\n",
        "from sklearn.preprocessing import  OneHotEncoder\n",
        "from sklearn.datasets import make_blobs\n",
        "\n",
        "my_cmap = matplotlib.colors.LinearSegmentedColormap.from_list(\"\",[\"red\",\"yellow\",\"green\"])\n",
        "np.random.seed(0)"
      ],
      "execution_count": 0,
      "outputs": []
    },
    {
      "cell_type": "code",
      "metadata": {
        "id": "JabGhZSUvo38",
        "colab_type": "code",
        "colab": {}
      },
      "source": [
        ""
      ],
      "execution_count": 0,
      "outputs": []
    },
    {
      "cell_type": "markdown",
      "metadata": {
        "id": "OGNILxsZUXrc",
        "colab_type": "text"
      },
      "source": [
        "# Generate Data"
      ]
    },
    {
      "cell_type": "code",
      "metadata": {
        "id": "qRwQvWCoUZym",
        "colab_type": "code",
        "outputId": "89400c24-5600-4f7b-e3a8-9ce080567f5e",
        "colab": {
          "base_uri": "https://localhost:8080/",
          "height": 35
        }
      },
      "source": [
        "data, labels = make_blobs(n_samples = 1000, centers = 4, n_features = 2, random_state=0)\n",
        "\n",
        "print(data.shape, labels.shape)"
      ],
      "execution_count": 44,
      "outputs": [
        {
          "output_type": "stream",
          "text": [
            "(1000, 2) (1000,)\n"
          ],
          "name": "stdout"
        }
      ]
    },
    {
      "cell_type": "code",
      "metadata": {
        "id": "jEmZUi-TVSpo",
        "colab_type": "code",
        "outputId": "0d4de7e7-2e58-47ec-e739-0597a7eb7810",
        "colab": {
          "base_uri": "https://localhost:8080/",
          "height": 265
        }
      },
      "source": [
        "plt.scatter(data[:,0], data[:,1], c=labels, cmap = my_cmap)\n",
        "plt.show()"
      ],
      "execution_count": 45,
      "outputs": [
        {
          "output_type": "display_data",
          "data": {
            "image/png": "[encoded data removed]",
            "text/plain": [
              "<Figure size 432x288 with 1 Axes>"
            ]
          },
          "metadata": {
            "tags": [],
            "needs_background": "light"
          }
        }
      ]
    },
    {
      "cell_type": "code",
      "metadata": {
        "id": "AGWkfUS5yrN9",
        "colab_type": "code",
        "colab": {}
      },
      "source": [
        ""
      ],
      "execution_count": 0,
      "outputs": []
    },
    {
      "cell_type": "markdown",
      "metadata": {
        "id": "2NKqY1LUyk71",
        "colab_type": "text"
      },
      "source": [
        "# Multi class Classification"
      ]
    },
    {
      "cell_type": "code",
      "metadata": {
        "id": "Vzz7WA8_3BpO",
        "colab_type": "code",
        "outputId": "9bb8c620-f8c1-4611-8130-dc82a4e31ed6",
        "colab": {
          "base_uri": "https://localhost:8080/",
          "height": 35
        }
      },
      "source": [
        "X_train, X_val, Y_train, Y_val = train_test_split(data, labels, stratify = labels, random_state = 0)\n",
        "print(X_train.shape, X_val.shape, labels.shape)"
      ],
      "execution_count": 55,
      "outputs": [
        {
          "output_type": "stream",
          "text": [
            "(750, 2) (250, 2) (1000,)\n"
          ],
          "name": "stdout"
        }
      ]
    },
    {
      "cell_type": "code",
      "metadata": {
        "id": "rsAhQvVM3Za5",
        "colab_type": "code",
        "outputId": "93e7cb59-0cd3-4556-c46e-9267c3aefec6",
        "colab": {
          "base_uri": "https://localhost:8080/",
          "height": 35
        }
      },
      "source": [
        "enc = OneHotEncoder()\n",
        "y_OH_train = enc.fit_transform(np.expand_dims(Y_train,1)).toarray()\n",
        "y_OH_val = enc.fit_transform(np.expand_dims(Y_val,1)).toarray()\n",
        "print(y_OH_train.shape, y_OH_val.shape)"
      ],
      "execution_count": 56,
      "outputs": [
        {
          "output_type": "stream",
          "text": [
            "(750, 4) (250, 4)\n"
          ],
          "name": "stdout"
        }
      ]
    },
    {
      "cell_type": "markdown",
      "metadata": {
        "id": "tCCyEuVvz3sW",
        "colab_type": "text"
      },
      "source": [
        "Again 2 neurons in first hidden layer and 4 neurons in output layer."
      ]
    },
    {
      "cell_type": "code",
      "metadata": {
        "id": "wqxHJRuNzm3V",
        "colab_type": "code",
        "outputId": "0196f3d7-9eb9-4c34-870a-bdb7570e8eed",
        "colab": {
          "base_uri": "https://localhost:8080/",
          "height": 90
        }
      },
      "source": [
        "# W1 : 4 weights coming to first layer, 8 weights coming to second layer\n",
        "W1 = np.random.randn(2,2)\n",
        "W2 = np.random.randn(2,4)\n",
        "print(W1)\n",
        "print(W2)"
      ],
      "execution_count": 48,
      "outputs": [
        {
          "output_type": "stream",
          "text": [
            "[[ 1.23029068  1.20237985]\n",
            " [-0.38732682 -0.30230275]]\n",
            "[[-1.04855297 -1.42001794 -1.70627019  1.9507754 ]\n",
            " [-0.50965218 -0.4380743  -1.25279536  0.77749036]]\n"
          ],
          "name": "stdout"
        }
      ]
    },
    {
      "cell_type": "code",
      "metadata": {
        "id": "ki170LebzwNg",
        "colab_type": "code",
        "colab": {}
      },
      "source": [
        ""
      ],
      "execution_count": 0,
      "outputs": []
    },
    {
      "cell_type": "markdown",
      "metadata": {
        "id": "Fh9EeUFO0_1J",
        "colab_type": "text"
      },
      "source": [
        "# Weight Vectorised Version"
      ]
    },
    {
      "cell_type": "code",
      "metadata": {
        "id": "YOIK_r3q1ChG",
        "colab_type": "code",
        "colab": {}
      },
      "source": [
        "class FF_MultiClass_WeightVectorised:\n",
        "\n",
        "  def __init__(self, W1, W2):\n",
        "\n",
        "    # Deep copy so either doesn't affect each other\n",
        "    self.W1 = W1.copy()\n",
        "    self.W2 = W2.copy()\n",
        "\n",
        "    # B2 contains biases for each neuron of second layer in one variable!\n",
        "    self.B1 = np.zeros((1,2))\n",
        "    self.B2 = np.zeros((1,4))\n",
        "\n",
        "  def sigmoid(self, x):\n",
        "    return 1.0/(1.0 + np.exp(-x))\n",
        "\n",
        "  def softmax(self, x):\n",
        "    exps = np.exp(x)\n",
        "    return exps / np.sum(exps)\n",
        "\n",
        "  # much shorter in vectorised version\n",
        "  def forward_pass(self, x):\n",
        "    # Convert to row\n",
        "    # When playing with vectors i.e. tensors, always keep record of dimensions! Else for higher dimensions, we'll be choosing the wrong matrices to be multiplied\n",
        "\n",
        "    x = x.reshape(1, -1) # (1, 2) for a single x (record)\n",
        "\n",
        "    # np.multiply does point-wise multiplication while matmul does row*col (the normal multiplication)\n",
        "    self.A1 = np.matmul(x, self.W1)+self.B1 # (1,2) * (2,2) = (1,2)\n",
        "    \n",
        "    # np.exp getting broadcasted to all elements, thus same vector size returned\n",
        "    self.H1 = self.sigmoid(self.A1) # (1,2)\n",
        "    self.A2 = np.matmul(self.H1, self.W2) + self.B2 # (1,2) * (2,4) = (1,4)\n",
        "    \n",
        "    # Like np.exp, since we have defined sigmoid function, we have used np.sum and np.exp which can support vectorization by performing operation individually on each of them\n",
        "    self.H2 = self.sigmoid(self.A2) # (1,4)\n",
        "    return self.H2\n",
        "\n",
        "  # grad (partial derivative) of sigmoid function\n",
        "  def grad_sigmoid(self, x):\n",
        "    return x*(1-x)\n",
        "\n",
        "  def grad(self, x, y):\n",
        "    self.forward_pass(x)\n",
        "    x = x.reshape(1, -1) # (1, 2)\n",
        "    y = y.reshape(1, -1) # (1, 4)\n",
        "\n",
        "    # Basically going backwards using the estimated parameters (estimated during forward pass)\n",
        "    self.dA2 = self.H2 - y # -(y-y') # (1, 4)\n",
        "    \n",
        "    self.dW2 = np.matmul(self.H1.T , self.dA2) # (2,1) * (1,4) = (2,4)\n",
        "    self.dB2 = self.dA2 # (1,4)\n",
        "\n",
        "    self.dH1 = np.matmul(self.dA2, (self.W2).T) # (1, 4) * (4, 2) = (1,2)\n",
        "    # Pointwise mulitplication! \n",
        "    self.dA1 = np.multiply(self.dH1, self.grad_sigmoid(self.H1)) # (1,2) * (1,2) = (1,2)\n",
        "\n",
        "    self.dW1 = np.matmul(x.T, self.dA1) # (2,1) * (1,2) = (2,2)\n",
        "    self.dB1 = self.dA1 # (1,2)\n",
        "\n",
        "    # Note all derivatives have the same dimensions as their original ones\n",
        "\n",
        "  def fit(self, X, Y, epochs = 1, learning_rate = 1, display_loss = False):\n",
        "    if display_loss:\n",
        "      loss = {}\n",
        "\n",
        "    for i in tqdm_notebook(range(epochs), total = epochs, unit=\"epoch\"):\n",
        "      dW1 = np.zeros((2,2))\n",
        "      dW2 = np.zeros((2,4))\n",
        "      dB1 = np.zeros((1,2))\n",
        "      dB2 = np.zeros((1,4))\n",
        "\n",
        "      for x, y in zip(X, Y):\n",
        "        self.grad(x, y)\n",
        "        # grad internally calls forward pass as well\n",
        "        dW1 += self.dW1\n",
        "        dW2 += self.dW2\n",
        "        dB1 += self.dB1\n",
        "        dB2 += self.dB2\n",
        "\n",
        "      m = X.shape[0]\n",
        "\n",
        "      self.W1 -= learning_rate * (dW1/m)\n",
        "      self.W2 -= learning_rate * (dW2/m)\n",
        "      self.B1 -= learning_rate * (dB1/m)\n",
        "      self.B2 -= learning_rate * (dB2/m)\n",
        "\n",
        "      if display_loss:\n",
        "        Y_pred = self.predict(X)\n",
        "        loss[i] = log_loss(np.argmax(Y, axis = 1), Y_pred)\n",
        "\n",
        "    if(display_loss):\n",
        "      plt.plot(np.array(list(loss.values())))\n",
        "      plt.xlabel(\"Epochs\")\n",
        "      plt.ylabel(\"Log loss\")\n",
        "      plt.show()\n",
        "\n",
        "  def predict(self,X):\n",
        "    Y_pred = []\n",
        "    for x in X:\n",
        "      # Once model is trained and you have all the params (wt, b) ready, you will get the predicted answer directly in one forward pass since all wts have been finalised, nothing more to do\n",
        "      y_pred = self.forward_pass(x)\n",
        "      Y_pred.append(y_pred)\n",
        "    return np.array(Y_pred).squeeze()\n",
        "\n",
        "\n",
        "\n",
        "\n",
        "  "
      ],
      "execution_count": 0,
      "outputs": []
    },
    {
      "cell_type": "code",
      "metadata": {
        "id": "WG81i8aw1v6C",
        "colab_type": "code",
        "colab": {}
      },
      "source": [
        ""
      ],
      "execution_count": 0,
      "outputs": []
    },
    {
      "cell_type": "markdown",
      "metadata": {
        "id": "-x59I6vY9mdS",
        "colab_type": "text"
      },
      "source": [
        "# Input Weight Vectorised Version"
      ]
    },
    {
      "cell_type": "markdown",
      "metadata": {
        "id": "0G2_SRJlNFY-",
        "colab_type": "text"
      },
      "source": [
        "Note that:\n",
        "X and Y parameters that are passed to the (fit function have the input and output columns respectively. Thus X is nx2 (n records and 2 input features/columns) and Y is nx4 (4 output classes/columns corresponding to each of the n records).  \n",
        "\n",
        "Previously the for loop in fit function extracted each record in the X and Y as x and y where x was 1x2 and y was 1x4. So passing each record individually and then finding the gradient for each and adding to final gradient.  \n",
        "\n",
        "This time vectorise even that, i.e. instead of passing one by one, remove the entire for-loop and calculate all at once."
      ]
    },
    {
      "cell_type": "code",
      "metadata": {
        "colab_type": "code",
        "id": "LsDTQIazNDjd",
        "colab": {}
      },
      "source": [
        "class FF_MultiClass_InputWeightVectorised:\n",
        "\n",
        "  def __init__(self, W1, W2):\n",
        "\n",
        "    self.W1 = W1.copy()\n",
        "    self.W2 = W2.copy()\n",
        "    self.B1 = np.zeros((1,2))\n",
        "    self.B2 = np.zeros((1,4))\n",
        "\n",
        "  def sigmoid(self, x):\n",
        "    return 1.0/(1.0 + np.exp(-x))\n",
        "\n",
        "  def softmax(self, x):\n",
        "    exps = np.exp(x)\n",
        "    return exps / np.sum(exps)\n",
        "\n",
        "  # Note small x to capital X => supporting vector of inputs this time\n",
        "  def forward_pass(self, X):\n",
        "    # Also removed the shaping thus\n",
        "    self.A1 = np.matmul(X, self.W1)+self.B1 # (N,2) * (2,2) = (N,2)\n",
        "    self.H1 = self.sigmoid(self.A1) # (N,2)\n",
        "    self.A2 = np.matmul(self.H1, self.W2) + self.B2 # (N,2) * (2,4) = (N,4)\n",
        "    self.H2 = self.sigmoid(self.A2) # (N,4)\n",
        "    return self.H2\n",
        "\n",
        "  # capital X here too\n",
        "  def grad_sigmoid(self, X):\n",
        "    return X*(1-X)\n",
        "\n",
        "  # capital X and Y here again (vector)\n",
        "  def grad(self, X, Y):\n",
        "    self.forward_pass(X)\n",
        "   \n",
        "    # removed the reshaping\n",
        "\n",
        "    # Basically going backwards using the estimated parameters (estimated during forward pass)\n",
        "    self.dA2 = self.H2 - Y # -(y-y') # (N, 4) both\n",
        "    \n",
        "\n",
        "    # Note that dims of dW1, dW2 remain constant. Not going to depend on number of inputs for these parameters since N is the inner dimension \n",
        "    # AND what's happening along the inner dimensions is summation. THUS, the summation that you used to do in the fit function now happens in the matrix multiplication itself\n",
        "    # Similarly dB1 and dB2 we are summing up all records to get constant dimension regardless of number of input records\n",
        "    self.dW2 = np.matmul(self.H1.T , self.dA2) # (2,N) * (N,4) = (2,4)\n",
        "    self.dB2 = self.dA2.copy() # (N,4)\n",
        "    self.dB2 = np.sum(self.dB2, axis=0).reshape(1,-1) # (1, 4)\n",
        "    # axis = 0 => across dim = 0 i.e. rows i.e. along col i.e. summing for each record\n",
        "\n",
        "    self.dH1 = np.matmul(self.dA2, self.W2.T) # (N, 4) * (4, 2) = (N,2)\n",
        "    # Pointwise mulitplication! \n",
        "    self.dA1 = np.multiply(self.dH1, self.grad_sigmoid(self.H1)) # (N,2) .* (N,2) = (N,2)\n",
        "\n",
        "    self.dW1 = np.matmul(X.T, self.dA1) # (2,N) * (N,2) = (2,2)\n",
        "    self.dB1 = self.dA1.copy() # Deep copy, else even dA1 changes in the next step # (N,2)\n",
        "    self.dB1 = np.sum(self.dB1, axis = 0).reshape(1, -1) # (1,2)\n",
        "    # reshaping to 1 row, as many cols as original\n",
        "\n",
        "    # Note all derivatives have the same dimensions as their original ones\n",
        "\n",
        "  def fit(self, X, Y, epochs = 1, learning_rate = 1, display_loss = False):\n",
        "    if display_loss:\n",
        "      loss = {}\n",
        "\n",
        "    for i in tqdm_notebook(range(epochs), total = epochs, unit=\"epoch\"):\n",
        "      # Note the major change\n",
        "      self.grad(X, Y) # X -> (N,2), Y -> (N,4)\n",
        "\n",
        "      # grad -> passes the entire vector X to -> forward pass (note dims there) -> \n",
        "      \n",
        "      # No more need to care about vectors since forward pass finishes one epoch (calculating parameters in forward pass and gradients in back prop. Only thing left is to update using the derivatives so far calculated)\n",
        "      m = X.shape[0]\n",
        "\n",
        "      # Directly multiply with self.dW1 which already contains the sum of derivatives for all records (unlike dW1 before)\n",
        "      self.W1 -= learning_rate * (self.dW1/m)\n",
        "      self.W2 -= learning_rate * (self.dW2/m)\n",
        "      self.B1 -= learning_rate * (self.dB1/m)\n",
        "      self.B2 -= learning_rate * (self.dB2/m)\n",
        "\n",
        "      if display_loss:\n",
        "        Y_pred = self.predict(X)\n",
        "        loss[i] = log_loss(np.argmax(Y, axis = 1), Y_pred)\n",
        "\n",
        "    if(display_loss):\n",
        "      plt.plot(np.array(list(loss.values())))\n",
        "      plt.xlabel(\"Epochs\")\n",
        "      plt.ylabel(\"Log loss\")\n",
        "      plt.show()\n",
        "\n",
        "  def predict(self,X):\n",
        "    Y_pred = []\n",
        "    for x in X:\n",
        "      # Once model is trained and you have all the params (wt, b) ready, you will get the predicted answer directly in one forward pass since all wts have been finalised, nothing more to do\n",
        "      y_pred = self.forward_pass(x)\n",
        "      Y_pred.append(y_pred)\n",
        "    return np.array(Y_pred).squeeze() "
      ],
      "execution_count": 0,
      "outputs": []
    },
    {
      "cell_type": "code",
      "metadata": {
        "id": "jEPUdMutU5Ow",
        "colab_type": "code",
        "colab": {}
      },
      "source": [
        ""
      ],
      "execution_count": 0,
      "outputs": []
    },
    {
      "cell_type": "markdown",
      "metadata": {
        "id": "McHZY8UFU5qR",
        "colab_type": "text"
      },
      "source": [
        "# Scalar Version"
      ]
    },
    {
      "cell_type": "code",
      "metadata": {
        "id": "8I7WPRADU9mJ",
        "colab_type": "code",
        "colab": {}
      },
      "source": [
        "class FFSN_MultiClassScalar:\n",
        "  # Using vectors throughout to simplify computations\n",
        "\n",
        "  def __init__(self): # hidden_sizes, comma separated values of number of neurons in each hidden layer\n",
        "\n",
        "    self.w1 = np.random.randn()\n",
        "    self.w2 = np.random.randn()\n",
        "    self.w3 = np.random.randn()\n",
        "    self.w4 = np.random.randn()\n",
        "    self.w5= np.random.randn()\n",
        "    self.w6 = np.random.randn()\n",
        "    self.w7 = np.random.randn()\n",
        "    self.w8 = np.random.randn()\n",
        "    self.w9 = np.random.randn()\n",
        "    self.w10 = np.random.randn()\n",
        "    self.w11 = np.random.randn()\n",
        "    self.w12 = np.random.randn()\n",
        "    self.b1 = 0\n",
        "    self.b2 = 0\n",
        "    self.b3 = 0\n",
        "    self.b4 = 0\n",
        "    self.b5 = 0\n",
        "    self.b6 = 0\n",
        "\n",
        "    \n",
        "  def sigmoid(self,x):\n",
        "      return 1.0/(1.0+np.exp(-x))\n",
        "\n",
        "  def forward_pass(self,x):\n",
        "      # input layer \n",
        "      self.x1, self.x2 = x\n",
        "\n",
        "      # hidden layer\n",
        "      self.a1 = self.w1*self.x1 + self.w2*self.x2 + self.b1\n",
        "      self.h1 = self.sigmoid(self.a1)\n",
        "      self.a2 = self.w3*self.x1 + self.w4*self.x2 + self.b2\n",
        "      self.h2 = self.sigmoid(self.a2)\n",
        "\n",
        "      # output layer\n",
        "      self.a3 = self.w5*self.h1 + self.w6*self.h2 + self.b3\n",
        "      self.a4 = self.w7*self.h1 + self.w8*self.h2 + self.b3\n",
        "      self.a5 = self.w9*self.h1 + self.w10*self.h2 + self.b3\n",
        "      self.a6 = self.w11*self.h1 + self.w12*self.h2 + self.b3\n",
        "\n",
        "      # Softmax\n",
        "      sum_exps = np.sum([np.exp(self.a3),np.exp(self.a4),np.exp(self.a5),np.exp(self.a6)])\n",
        "\n",
        "      self.h3 = np.exp(self.a3)/sum_exps\n",
        "      self.h4 = np.exp(self.a4)/sum_exps\n",
        "      self.h5 = np.exp(self.a5)/sum_exps\n",
        "      self.h6 = np.exp(self.a6)/sum_exps\n",
        "\n",
        "\n",
        "      # return probability(output) corresponding to each label/class\n",
        "      return np.array([self.h3,self.h4,self.h5,self.h6])\n",
        "\n",
        "\n",
        "  def grad(self,x,y):\n",
        "      self.forward_pass(x)\n",
        "      # Splittng the actual output (thus getting the \"one hot encoding\")\n",
        "      self.y1, self.y2, self.y3, self.y4 = np.array(y)\n",
        "\n",
        "      # Using self.dw's since they then belong to the class, don't have to return the array of so many parameters (easy way to return)\n",
        "\n",
        "      # Output layer\n",
        "      # Chain rule when applied to softmax function so just -(y-y') (not sigmoid unlike binary classification where derivative was y'(1-y'))\n",
        "      self.dw5 = (self.h3-self.y1)*self.h1 \n",
        "      self.dw6 = (self.h3-self.y1)*self.h2\n",
        "      self.db3 = (self.h3-self.y1)\n",
        "\n",
        "      self.dw7 = (self.h4-self.y2)*self.h1\n",
        "      self.dw8 = (self.h4-self.y2)*self.h2\n",
        "      self.db4 = (self.h4-self.y2)\n",
        "\n",
        "      self.dw9 = (self.h5-self.y3)*self.h1 # x(input) is h1\n",
        "      self.dw10 = (self.h5-self.y3)*self.h2\n",
        "      self.db5 = (self.h5-self.y3)\n",
        "\n",
        "      self.dw11 = (self.h6-self.y4)*self.h1 # x(input) is h1\n",
        "      self.dw12 = (self.h6-self.y4)*self.h2\n",
        "      self.db6 = (self.h6-self.y4)\n",
        "\n",
        "      # First hidden layer\n",
        "      # This time compute dh1 since h1 depends on many terms (all h3,h4,h5,h6), so apply chain rule to each\n",
        "      self.dh1 = (self.h3-self.y1)*(self.w5) + (self.h4-self.y2)*(self.w7) + (self.h5-self.y3)*(self.w9) + (self.h6-self.y4)*(self.w11)\n",
        "      # use dh1 - easier\n",
        "      self.dw1 = self.dh1*self.h1*(1-self.h1)*self.x1\n",
        "      self.dw2 = self.dh1*self.h1*(1-self.h1)*self.x2\n",
        "      self.db1 = self.dh1*self.h1*(1-self.h1)\n",
        "\n",
        "      self.dh2 = (self.h3-self.y1)*(self.w6) + (self.h4-self.y2)*(self.w8) + (self.h5-self.y3)*(self.w10) + (self.h6-self.y4)*(self.w12)\n",
        "      self.dw3 = self.dh2*self.h2*(1-self.h2)*self.x1\n",
        "      self.dw4 = self.dh2*self.h2*(1-self.h2)*self.x2\n",
        "      self.db2 = self.dh2*self.h2*(1-self.h2)\n",
        "  \n",
        "\n",
        "  def fit(self, X, Y, epochs = 1, learning_rate = 1, initialise = True, display_loss = True):\n",
        "\n",
        "    if display_loss:\n",
        "      loss = {}\n",
        "\n",
        "    for i in tqdm_notebook(range(epochs), total = epochs, unit = \"epoch\"):\n",
        "      dw1, dw2, dw3, dw4, dw5, dw6, dw7, dw8, dw9, dw10, dw11, dw12, db1, db2, db3, db4, db5, db6 = [0]*18\n",
        "\n",
        "      for x,y in zip(X,Y):\n",
        "        self.grad(x,y)\n",
        "        # accumulating values for each input, i.e. appending to the list for each value\n",
        "        dw1 += self.dw1\n",
        "        dw2 += self.dw2\n",
        "        dw3 += self.dw3\n",
        "        dw4 += self.dw4\n",
        "        dw5 += self.dw5\n",
        "        dw6 += self.dw6\n",
        "        dw7 += self.dw7\n",
        "        dw8 += self.dw8\n",
        "        dw9 += self.dw9\n",
        "        dw10 += self.dw10\n",
        "        dw11 += self.dw11\n",
        "        dw12 += self.dw12\n",
        "        db1 += self.db1\n",
        "        db2 += self.db2\n",
        "        db3 += self.db3\n",
        "        db4 += self.db4\n",
        "        db5 += self.db5\n",
        "        db6 += self.db6\n",
        "\n",
        "\n",
        "\n",
        "      m = X.shape[1] \n",
        "\n",
        "      self.w1 -= learning_rate * dw1 / m\n",
        "      self.w2 -= learning_rate * dw2 / m\n",
        "      self.w3 -= learning_rate * dw3 / m\n",
        "      self.w4 -= learning_rate * dw4 / m\n",
        "      self.w5 -= learning_rate * dw5 / m\n",
        "      self.w6 -= learning_rate * dw6 / m\n",
        "      self.w7 -= learning_rate * dw7 / m\n",
        "      self.w8 -= learning_rate * dw8 / m\n",
        "      self.w9 -= learning_rate * dw9 / m\n",
        "      self.w10 -= learning_rate * dw10 / m\n",
        "      self.w11 -= learning_rate * dw11 / m\n",
        "      self.w12 -= learning_rate * dw12 / m\n",
        "      self.b1 -= learning_rate * db1 / m\n",
        "      self.b2 -= learning_rate * db2 / m\n",
        "      self.b3 -= learning_rate * db3 / m\n",
        "      self.b4 -= learning_rate * db4 / m\n",
        "      self.b5 -= learning_rate * db5 / m\n",
        "      self.b6 -= learning_rate * db6 / m\n",
        "\n",
        "      if(display_loss):\n",
        "        Y_pred = self.predict(X)\n",
        "        loss[i] = mean_squared_error(Y, Y_pred)\n",
        "\n",
        "\n",
        "    if display_loss:\n",
        "      plt.plot(np.array(list(loss.values())))\n",
        "      plt.xlabel(\"Epochs\")\n",
        "      plt.ylabel(\"Mean Squared Error\")\n",
        "      plt.show()\n",
        "\n",
        "\n",
        "\n",
        "    # Finally, predict\n",
        "  def predict(self, X):\n",
        "      Y_pred = []\n",
        "      for x in X: \n",
        "        y_pred = self.forward_pass(x) # Predict output on each \"pair\" of inputs (of the two features)\n",
        "        Y_pred.append(y_pred)\n",
        "      return np.array(Y_pred)\n"
      ],
      "execution_count": 0,
      "outputs": []
    },
    {
      "cell_type": "code",
      "metadata": {
        "id": "dtaGctYvVGjT",
        "colab_type": "code",
        "colab": {}
      },
      "source": [
        ""
      ],
      "execution_count": 0,
      "outputs": []
    },
    {
      "cell_type": "markdown",
      "metadata": {
        "id": "QlCi6G84VKqZ",
        "colab_type": "text"
      },
      "source": [
        "# Rerun of the three versions "
      ]
    },
    {
      "cell_type": "code",
      "metadata": {
        "id": "Wti5HlCbgN7Y",
        "colab_type": "code",
        "colab": {
          "base_uri": "https://localhost:8080/",
          "height": 366,
          "referenced_widgets": [
            "f7a4f64de1224a14baa5feebf6e5a866",
            "3a9532b943ec45c79452dab4ddb948ff",
            "7a0db43800b243648c7489eaf1cc590f",
            "6b0a48e1eae54bb3a74e34bd00a01773",
            "49e61c807fec458a96f3dc559b7855ca",
            "fe0e156ac6c54b3d811381159117a074",
            "9b6a6f1b0f714d6bb0f99dc9eb669fdb",
            "7964e55f896c44b98700e3fde3039b14"
          ]
        },
        "outputId": "3becf047-a1ec-48b2-8d3b-cb59614e0f5f"
      },
      "source": [
        "ffsn_multiclass = FF_MultiClass_WeightVectorised(W1, W2)\n",
        "ffsn_multiclass.fit(X_train, y_OH_train, epochs = 2000, learning_rate = 0.5, display_loss=True)\n",
        "# Wasn't learning at all. Loss = 1.8 initially and flat decrease. \n",
        "# Realised that due to too small learning_rate. So don't give too small (0.001)."
      ],
      "execution_count": 116,
      "outputs": [
        {
          "output_type": "stream",
          "text": [
            "/usr/local/lib/python3.6/dist-packages/ipykernel_launcher.py:66: TqdmDeprecationWarning: This function will be removed in tqdm==5.0.0\n",
            "Please use `tqdm.notebook.tqdm` instead of `tqdm.tqdm_notebook`\n"
          ],
          "name": "stderr"
        },
        {
          "output_type": "display_data",
          "data": {
            "application/vnd.jupyter.widget-view+json": {
              "model_id": "f7a4f64de1224a14baa5feebf6e5a866",
              "version_minor": 0,
              "version_major": 2
            },
            "text/plain": [
              "HBox(children=(IntProgress(value=0, max=2000), HTML(value='')))"
            ]
          },
          "metadata": {
            "tags": []
          }
        },
        {
          "output_type": "stream",
          "text": [
            "\n"
          ],
          "name": "stdout"
        },
        {
          "output_type": "display_data",
          "data": {
            "image/png": "[encoded data removed]",
            "text/plain": [
              "<Figure size 432x288 with 1 Axes>"
            ]
          },
          "metadata": {
            "tags": [],
            "needs_background": "light"
          }
        }
      ]
    },
    {
      "cell_type": "code",
      "metadata": {
        "id": "IKclER_0jcOP",
        "colab_type": "code",
        "colab": {
          "base_uri": "https://localhost:8080/",
          "height": 366,
          "referenced_widgets": [
            "e33d086bca6341929d8d3f446298684a",
            "bb05cd4a949d48b9bfb66d3dccec8bf4",
            "c72ed0c3c50345aaac680a86f689d955",
            "685de5eb6b5c4a98812e067d4b29edf4",
            "da3a5d53467b4ff88546aae817281c4e",
            "1088b2b0e7234931aa9bce80961ebccc",
            "2406d7d52e014755a39c3c489246ba9b",
            "4b911e79c2cb444c8629007bb8273f7f"
          ]
        },
        "outputId": "e1153757-9a49-4286-e184-8db613cee46c"
      },
      "source": [
        "ffsn_multiclass = FF_MultiClass_InputWeightVectorised(W1, W2)\n",
        "ffsn_multiclass.fit(X_train, y_OH_train, epochs = 2000, learning_rate = 0.5, display_loss=True)\n",
        "# Wasn't learning at all. Loss = 1.8 initially and flat decrease. \n",
        "# Realised that due to too small learning_rate. So don't give too small (0.001)."
      ],
      "execution_count": 117,
      "outputs": [
        {
          "output_type": "stream",
          "text": [
            "/usr/local/lib/python3.6/dist-packages/ipykernel_launcher.py:63: TqdmDeprecationWarning: This function will be removed in tqdm==5.0.0\n",
            "Please use `tqdm.notebook.tqdm` instead of `tqdm.tqdm_notebook`\n"
          ],
          "name": "stderr"
        },
        {
          "output_type": "display_data",
          "data": {
            "application/vnd.jupyter.widget-view+json": {
              "model_id": "e33d086bca6341929d8d3f446298684a",
              "version_minor": 0,
              "version_major": 2
            },
            "text/plain": [
              "HBox(children=(IntProgress(value=0, max=2000), HTML(value='')))"
            ]
          },
          "metadata": {
            "tags": []
          }
        },
        {
          "output_type": "stream",
          "text": [
            "\n"
          ],
          "name": "stdout"
        },
        {
          "output_type": "display_data",
          "data": {
            "image/png": "[encoded data removed]",
            "text/plain": [
              "<Figure size 432x288 with 1 Axes>"
            ]
          },
          "metadata": {
            "tags": [],
            "needs_background": "light"
          }
        }
      ]
    },
    {
      "cell_type": "code",
      "metadata": {
        "id": "ufyRCcJOnvdx",
        "colab_type": "code",
        "colab": {
          "base_uri": "https://localhost:8080/",
          "height": 53
        },
        "outputId": "48702175-b5f6-4869-f521-74c570c31d6a"
      },
      "source": [
        "Y_pred_train = ffsn_multiclass.predict(X_train) # forward pass\n",
        "Y_pred_train_value = np.argmax(Y_pred_train,1)\n",
        "\n",
        "Y_pred_val = ffsn_multiclass.predict(X_val)\n",
        "Y_pred_val_value = np.argmax(Y_pred_val,1)\n",
        "                         \n",
        "accuracy_train = accuracy_score(Y_pred_train_value, Y_train)\n",
        "accuracy_val = accuracy_score(Y_pred_val_value, Y_val)\n",
        "\n",
        "# round to two digits\n",
        "print(\"Training accuracy\", round(accuracy_train,2))\n",
        "print(\"Validation accuracy\", round(accuracy_val, 2))"
      ],
      "execution_count": 120,
      "outputs": [
        {
          "output_type": "stream",
          "text": [
            "Training accuracy 0.86\n",
            "Validation accuracy 0.86\n"
          ],
          "name": "stdout"
        }
      ]
    },
    {
      "cell_type": "code",
      "metadata": {
        "id": "KnCCHJ-woCYU",
        "colab_type": "code",
        "colab": {
          "base_uri": "https://localhost:8080/",
          "height": 283
        },
        "outputId": "22b207f4-6a3a-4d38-d61a-520d5b450a9f"
      },
      "source": [
        "plt.scatter(X_train[:,0], X_train[:,1], c=Y_pred_train_value, cmap = my_cmap, s = 15*(np.abs(Y_pred_train_value-Y_train)+.2))"
      ],
      "execution_count": 122,
      "outputs": [
        {
          "output_type": "execute_result",
          "data": {
            "text/plain": [
              "<matplotlib.collections.PathCollection at 0x7f8cca9d36a0>"
            ]
          },
          "metadata": {
            "tags": []
          },
          "execution_count": 122
        },
        {
          "output_type": "display_data",
          "data": {
            "image/png": "[encoded data removed]",
            "text/plain": [
              "<Figure size 432x288 with 1 Axes>"
            ]
          },
          "metadata": {
            "tags": [],
            "needs_background": "light"
          }
        }
      ]
    },
    {
      "cell_type": "markdown",
      "metadata": {
        "id": "m0lEOeOYokvx",
        "colab_type": "text"
      },
      "source": [
        "### Note that input-weight vectorised model couldn't predict properly only at the intersections. Else really good prediction!"
      ]
    },
    {
      "cell_type": "code",
      "metadata": {
        "id": "er9UIGRoWdK3",
        "colab_type": "code",
        "colab": {
          "base_uri": "https://localhost:8080/",
          "height": 366,
          "referenced_widgets": [
            "9246384785434c589142209b5e7d4a7e",
            "c2abfd921916466a9445841a38937af6",
            "9d01120d03fa4df89d5e2fe2acdf281d",
            "fe237c813fa94ecfb6018d0b2fe7723c",
            "7db2f7f6533341d082e78474348a1499",
            "7b36d5b4a4854031b034de1e7fc939dd",
            "3c4a099e19354eb0b5f3f5f4d7a38585",
            "8cbf55060b414dbca89fbfc8ebeb8d93"
          ]
        },
        "outputId": "4a4a1c70-487a-4ea2-fe1a-db601e03a025"
      },
      "source": [
        "ffsn_multiclass = FFSN_MultiClassScalar()\n",
        "\n",
        "# Was getting a bad error. Realised had passed Y_train instead of y_OH_train\n",
        "# Loss significantly reduced on 1000, 0.1 -> 2000, 0.01 . Also note how loss gradually decreases unlike the irregular rise and fall\n",
        "ffsn_multiclass.fit(X_train, y_OH_train, epochs = 200, learning_rate = 0.001, display_loss=True)"
      ],
      "execution_count": 77,
      "outputs": [
        {
          "output_type": "stream",
          "text": [
            "/usr/local/lib/python3.6/dist-packages/ipykernel_launcher.py:102: TqdmDeprecationWarning: This function will be removed in tqdm==5.0.0\n",
            "Please use `tqdm.notebook.tqdm` instead of `tqdm.tqdm_notebook`\n"
          ],
          "name": "stderr"
        },
        {
          "output_type": "display_data",
          "data": {
            "application/vnd.jupyter.widget-view+json": {
              "model_id": "9246384785434c589142209b5e7d4a7e",
              "version_minor": 0,
              "version_major": 2
            },
            "text/plain": [
              "HBox(children=(IntProgress(value=0, max=200), HTML(value='')))"
            ]
          },
          "metadata": {
            "tags": []
          }
        },
        {
          "output_type": "stream",
          "text": [
            "\n"
          ],
          "name": "stdout"
        },
        {
          "output_type": "display_data",
          "data": {
            "image/png": "[encoded data removed]",
            "text/plain": [
              "<Figure size 432x288 with 1 Axes>"
            ]
          },
          "metadata": {
            "tags": [],
            "needs_background": "light"
          }
        }
      ]
    },
    {
      "cell_type": "markdown",
      "metadata": {
        "id": "OhY67BqCmybL",
        "colab_type": "text"
      },
      "source": [
        "# Comparison of the three versions "
      ]
    },
    {
      "cell_type": "code",
      "metadata": {
        "id": "Wfzer-AiVNrZ",
        "colab_type": "code",
        "colab": {
          "base_uri": "https://localhost:8080/",
          "height": 1000,
          "referenced_widgets": [
            "1247c0545c3846cdb22fadbf2d5943ae",
            "b8e5de7014734f56abc3e99352986715",
            "46b5207d1f8c4377bf43c77c53fe9bad",
            "0f23f1cb37e14f8db9b7f0d8ab8dca99",
            "06500ed0d7024808be897bb55449617a",
            "f98df90929904c459104657efc96c802",
            "3dac532d83e544359cac57aab87485ee",
            "037f95ce7757447ca35b9a5d2f67d7d8",
            "4b498a064cf045da8ceec4de7f04a58a",
            "c77c9f9c01b74fd9ae0cc9920793511a",
            "e34033c984c54bebac6a4e3dbb4f7b45",
            "b518f770b5c7470fb4322ea07604be7e",
            "e802cda1583242a58b282e6d11981cf1",
            "b4cf5560010a4cd8b3f6fafe77b613fb",
            "e354be8cf89c4af5969ca08762b76196",
            "f1b1a1b57a904e78abbb449c74c8c701",
            "e250035ff1504418aab1120526c5737c",
            "e7ec814ea48346489351d5d412576194",
            "76180872d0e3461ebd067fce73094d82",
            "76684515df744f4396938976cdaefdc2",
            "e1084ff982384cdba22e20edde309de3",
            "794056265d3a4d80824a87d8412d4536",
            "98c504c2c515404b945e892aeb98994f",
            "c7a7051a9a124d178514841373b7510d"
          ]
        },
        "outputId": "3734ff77-5aaf-4302-82ea-7b4edcd48b6d"
      },
      "source": [
        "models_init = [FFSN_MultiClassScalar(), FF_MultiClass_WeightVectorised(W1,W2), FF_MultiClass_InputWeightVectorised(W1,W2)]\n",
        "models = []\n",
        "\n",
        "for idx, model in enumerate(models_init, start=1):\n",
        "  tic = time.time()\n",
        "  model.fit(X_train, y_OH_train, epochs = 2000, learning_rate = 0.01, display_loss = True)\n",
        "  models.append(model) # Store the trained model for subsequent use\n",
        "  toc = time.time()\n",
        "  print(\"Time taken by model {} : {}\".format(idx, toc-tic))\n",
        "\n",
        "# Was getting error \"Overflow encountered in exp\" error several times. Later realised that it was due to the large learning rate. So reduced it.\n",
        "# So giving both high and low is wrong"
      ],
      "execution_count": 114,
      "outputs": [
        {
          "output_type": "stream",
          "text": [
            "/usr/local/lib/python3.6/dist-packages/ipykernel_launcher.py:102: TqdmDeprecationWarning: This function will be removed in tqdm==5.0.0\n",
            "Please use `tqdm.notebook.tqdm` instead of `tqdm.tqdm_notebook`\n"
          ],
          "name": "stderr"
        },
        {
          "output_type": "display_data",
          "data": {
            "application/vnd.jupyter.widget-view+json": {
              "model_id": "1247c0545c3846cdb22fadbf2d5943ae",
              "version_minor": 0,
              "version_major": 2
            },
            "text/plain": [
              "HBox(children=(IntProgress(value=0, max=2000), HTML(value='')))"
            ]
          },
          "metadata": {
            "tags": []
          }
        },
        {
          "output_type": "stream",
          "text": [
            "\n"
          ],
          "name": "stdout"
        },
        {
          "output_type": "display_data",
          "data": {
            "image/png": "[encoded data removed]",
            "text/plain": [
              "<Figure size 432x288 with 1 Axes>"
            ]
          },
          "metadata": {
            "tags": [],
            "needs_background": "light"
          }
        },
        {
          "output_type": "stream",
          "text": [
            "Time taken by model 1 : 185.88987350463867\n"
          ],
          "name": "stdout"
        },
        {
          "output_type": "stream",
          "text": [
            "/usr/local/lib/python3.6/dist-packages/ipykernel_launcher.py:66: TqdmDeprecationWarning: This function will be removed in tqdm==5.0.0\n",
            "Please use `tqdm.notebook.tqdm` instead of `tqdm.tqdm_notebook`\n"
          ],
          "name": "stderr"
        },
        {
          "output_type": "display_data",
          "data": {
            "application/vnd.jupyter.widget-view+json": {
              "model_id": "4b498a064cf045da8ceec4de7f04a58a",
              "version_minor": 0,
              "version_major": 2
            },
            "text/plain": [
              "HBox(children=(IntProgress(value=0, max=2000), HTML(value='')))"
            ]
          },
          "metadata": {
            "tags": []
          }
        },
        {
          "output_type": "stream",
          "text": [
            "\n"
          ],
          "name": "stdout"
        },
        {
          "output_type": "display_data",
          "data": {
            "image/png": "[encoded data removed]",
            "text/plain": [
              "<Figure size 432x288 with 1 Axes>"
            ]
          },
          "metadata": {
            "tags": [],
            "needs_background": "light"
          }
        },
        {
          "output_type": "stream",
          "text": [
            "Time taken by model 2 : 68.16367077827454\n"
          ],
          "name": "stdout"
        },
        {
          "output_type": "stream",
          "text": [
            "/usr/local/lib/python3.6/dist-packages/ipykernel_launcher.py:63: TqdmDeprecationWarning: This function will be removed in tqdm==5.0.0\n",
            "Please use `tqdm.notebook.tqdm` instead of `tqdm.tqdm_notebook`\n"
          ],
          "name": "stderr"
        },
        {
          "output_type": "display_data",
          "data": {
            "application/vnd.jupyter.widget-view+json": {
              "model_id": "e250035ff1504418aab1120526c5737c",
              "version_minor": 0,
              "version_major": 2
            },
            "text/plain": [
              "HBox(children=(IntProgress(value=0, max=2000), HTML(value='')))"
            ]
          },
          "metadata": {
            "tags": []
          }
        },
        {
          "output_type": "stream",
          "text": [
            "\n"
          ],
          "name": "stdout"
        },
        {
          "output_type": "display_data",
          "data": {
            "image/png": "[encoded data removed]",
            "text/plain": [
              "<Figure size 432x288 with 1 Axes>"
            ]
          },
          "metadata": {
            "tags": [],
            "needs_background": "light"
          }
        },
        {
          "output_type": "stream",
          "text": [
            "Time taken by model 3 : 24.573914289474487\n"
          ],
          "name": "stdout"
        }
      ]
    },
    {
      "cell_type": "markdown",
      "metadata": {
        "id": "N9MAYVzPmH2w",
        "colab_type": "text"
      },
      "source": [
        "### Note the drastic increase in number of epochs per second and the significant decrease in the total time taken as the model is changed from scalar to vector."
      ]
    },
    {
      "cell_type": "code",
      "metadata": {
        "id": "FeF0qMteci5z",
        "colab_type": "code",
        "colab": {}
      },
      "source": [
        ""
      ],
      "execution_count": 0,
      "outputs": []
    }
  ]
}